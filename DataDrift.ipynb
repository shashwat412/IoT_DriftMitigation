{
  "nbformat": 4,
  "nbformat_minor": 0,
  "metadata": {
    "colab": {
      "provenance": []
    },
    "kernelspec": {
      "name": "python3",
      "display_name": "Python 3"
    },
    "language_info": {
      "name": "python"
    }
  },
  "cells": [
    {
      "cell_type": "code",
      "execution_count": null,
      "metadata": {
        "id": "bRMd2X1FQ0FZ"
      },
      "outputs": [],
      "source": [
        "import numpy as np \n",
        "import pandas as pd"
      ]
    },
    {
      "cell_type": "code",
      "source": [
        "import os\n",
        "for dirname, _, filenames in os.walk('kaggle kernels output drsachingupta/drift-concept-on-electricity-dataset -p /path/to/dest'):\n",
        "    for filename in filenames:\n",
        "        print(os.path.join(dirname, filename))"
      ],
      "metadata": {
        "id": "uwqw2xTvQ3GO"
      },
      "execution_count": null,
      "outputs": []
    },
    {
      "cell_type": "code",
      "source": [
        "import seaborn as sns\n",
        "import matplotlib.pyplot as plt\n",
        "plt.rcParams.update({'font.size': 14})"
      ],
      "metadata": {
        "id": "hv_-xpyjQ9sx"
      },
      "execution_count": null,
      "outputs": []
    },
    {
      "cell_type": "code",
      "source": [
        "import re\n",
        "\n",
        "import plotly.express as px\n",
        "import plotly.graph_objects as go\n",
        "from plotly.subplots import make_subplots\n",
        "\n",
        "import warnings\n",
        "warnings.filterwarnings(\"ignore\")"
      ],
      "metadata": {
        "id": "ZGWO62oXREpR"
      },
      "execution_count": null,
      "outputs": []
    },
    {
      "cell_type": "code",
      "source": [
        "electricity_info = pd.read_csv(\"/content/electricity.csv\")"
      ],
      "metadata": {
        "id": "NVIYq4OxRGxr"
      },
      "execution_count": null,
      "outputs": []
    },
    {
      "cell_type": "code",
      "source": [
        "electricity_info.head()"
      ],
      "metadata": {
        "colab": {
          "base_uri": "https://localhost:8080/",
          "height": 206
        },
        "id": "Je_jDxJeRgaP",
        "outputId": "d7753754-413f-4bb8-9683-138b17d5638c"
      },
      "execution_count": null,
      "outputs": [
        {
          "output_type": "execute_result",
          "data": {
            "text/plain": [
              "   date  day    period  nswprice  nswdemand  vicprice  vicdemand  transfer  \\\n",
              "0   0.0    2  0.000000  0.056443   0.439155  0.003467   0.422915  0.414912   \n",
              "1   0.0    2  0.021277  0.051699   0.415055  0.003467   0.422915  0.414912   \n",
              "2   0.0    2  0.042553  0.051489   0.385004  0.003467   0.422915  0.414912   \n",
              "3   0.0    2  0.063830  0.045485   0.314639  0.003467   0.422915  0.414912   \n",
              "4   0.0    2  0.085106  0.042482   0.251116  0.003467   0.422915  0.414912   \n",
              "\n",
              "  class  \n",
              "0    UP  \n",
              "1    UP  \n",
              "2    UP  \n",
              "3    UP  \n",
              "4  DOWN  "
            ],
            "text/html": [
              "\n",
              "  <div id=\"df-fced96ef-e62f-4b28-a95f-36a026579028\">\n",
              "    <div class=\"colab-df-container\">\n",
              "      <div>\n",
              "<style scoped>\n",
              "    .dataframe tbody tr th:only-of-type {\n",
              "        vertical-align: middle;\n",
              "    }\n",
              "\n",
              "    .dataframe tbody tr th {\n",
              "        vertical-align: top;\n",
              "    }\n",
              "\n",
              "    .dataframe thead th {\n",
              "        text-align: right;\n",
              "    }\n",
              "</style>\n",
              "<table border=\"1\" class=\"dataframe\">\n",
              "  <thead>\n",
              "    <tr style=\"text-align: right;\">\n",
              "      <th></th>\n",
              "      <th>date</th>\n",
              "      <th>day</th>\n",
              "      <th>period</th>\n",
              "      <th>nswprice</th>\n",
              "      <th>nswdemand</th>\n",
              "      <th>vicprice</th>\n",
              "      <th>vicdemand</th>\n",
              "      <th>transfer</th>\n",
              "      <th>class</th>\n",
              "    </tr>\n",
              "  </thead>\n",
              "  <tbody>\n",
              "    <tr>\n",
              "      <th>0</th>\n",
              "      <td>0.0</td>\n",
              "      <td>2</td>\n",
              "      <td>0.000000</td>\n",
              "      <td>0.056443</td>\n",
              "      <td>0.439155</td>\n",
              "      <td>0.003467</td>\n",
              "      <td>0.422915</td>\n",
              "      <td>0.414912</td>\n",
              "      <td>UP</td>\n",
              "    </tr>\n",
              "    <tr>\n",
              "      <th>1</th>\n",
              "      <td>0.0</td>\n",
              "      <td>2</td>\n",
              "      <td>0.021277</td>\n",
              "      <td>0.051699</td>\n",
              "      <td>0.415055</td>\n",
              "      <td>0.003467</td>\n",
              "      <td>0.422915</td>\n",
              "      <td>0.414912</td>\n",
              "      <td>UP</td>\n",
              "    </tr>\n",
              "    <tr>\n",
              "      <th>2</th>\n",
              "      <td>0.0</td>\n",
              "      <td>2</td>\n",
              "      <td>0.042553</td>\n",
              "      <td>0.051489</td>\n",
              "      <td>0.385004</td>\n",
              "      <td>0.003467</td>\n",
              "      <td>0.422915</td>\n",
              "      <td>0.414912</td>\n",
              "      <td>UP</td>\n",
              "    </tr>\n",
              "    <tr>\n",
              "      <th>3</th>\n",
              "      <td>0.0</td>\n",
              "      <td>2</td>\n",
              "      <td>0.063830</td>\n",
              "      <td>0.045485</td>\n",
              "      <td>0.314639</td>\n",
              "      <td>0.003467</td>\n",
              "      <td>0.422915</td>\n",
              "      <td>0.414912</td>\n",
              "      <td>UP</td>\n",
              "    </tr>\n",
              "    <tr>\n",
              "      <th>4</th>\n",
              "      <td>0.0</td>\n",
              "      <td>2</td>\n",
              "      <td>0.085106</td>\n",
              "      <td>0.042482</td>\n",
              "      <td>0.251116</td>\n",
              "      <td>0.003467</td>\n",
              "      <td>0.422915</td>\n",
              "      <td>0.414912</td>\n",
              "      <td>DOWN</td>\n",
              "    </tr>\n",
              "  </tbody>\n",
              "</table>\n",
              "</div>\n",
              "      <button class=\"colab-df-convert\" onclick=\"convertToInteractive('df-fced96ef-e62f-4b28-a95f-36a026579028')\"\n",
              "              title=\"Convert this dataframe to an interactive table.\"\n",
              "              style=\"display:none;\">\n",
              "        \n",
              "  <svg xmlns=\"http://www.w3.org/2000/svg\" height=\"24px\"viewBox=\"0 0 24 24\"\n",
              "       width=\"24px\">\n",
              "    <path d=\"M0 0h24v24H0V0z\" fill=\"none\"/>\n",
              "    <path d=\"M18.56 5.44l.94 2.06.94-2.06 2.06-.94-2.06-.94-.94-2.06-.94 2.06-2.06.94zm-11 1L8.5 8.5l.94-2.06 2.06-.94-2.06-.94L8.5 2.5l-.94 2.06-2.06.94zm10 10l.94 2.06.94-2.06 2.06-.94-2.06-.94-.94-2.06-.94 2.06-2.06.94z\"/><path d=\"M17.41 7.96l-1.37-1.37c-.4-.4-.92-.59-1.43-.59-.52 0-1.04.2-1.43.59L10.3 9.45l-7.72 7.72c-.78.78-.78 2.05 0 2.83L4 21.41c.39.39.9.59 1.41.59.51 0 1.02-.2 1.41-.59l7.78-7.78 2.81-2.81c.8-.78.8-2.07 0-2.86zM5.41 20L4 18.59l7.72-7.72 1.47 1.35L5.41 20z\"/>\n",
              "  </svg>\n",
              "      </button>\n",
              "      \n",
              "  <style>\n",
              "    .colab-df-container {\n",
              "      display:flex;\n",
              "      flex-wrap:wrap;\n",
              "      gap: 12px;\n",
              "    }\n",
              "\n",
              "    .colab-df-convert {\n",
              "      background-color: #E8F0FE;\n",
              "      border: none;\n",
              "      border-radius: 50%;\n",
              "      cursor: pointer;\n",
              "      display: none;\n",
              "      fill: #1967D2;\n",
              "      height: 32px;\n",
              "      padding: 0 0 0 0;\n",
              "      width: 32px;\n",
              "    }\n",
              "\n",
              "    .colab-df-convert:hover {\n",
              "      background-color: #E2EBFA;\n",
              "      box-shadow: 0px 1px 2px rgba(60, 64, 67, 0.3), 0px 1px 3px 1px rgba(60, 64, 67, 0.15);\n",
              "      fill: #174EA6;\n",
              "    }\n",
              "\n",
              "    [theme=dark] .colab-df-convert {\n",
              "      background-color: #3B4455;\n",
              "      fill: #D2E3FC;\n",
              "    }\n",
              "\n",
              "    [theme=dark] .colab-df-convert:hover {\n",
              "      background-color: #434B5C;\n",
              "      box-shadow: 0px 1px 3px 1px rgba(0, 0, 0, 0.15);\n",
              "      filter: drop-shadow(0px 1px 2px rgba(0, 0, 0, 0.3));\n",
              "      fill: #FFFFFF;\n",
              "    }\n",
              "  </style>\n",
              "\n",
              "      <script>\n",
              "        const buttonEl =\n",
              "          document.querySelector('#df-fced96ef-e62f-4b28-a95f-36a026579028 button.colab-df-convert');\n",
              "        buttonEl.style.display =\n",
              "          google.colab.kernel.accessAllowed ? 'block' : 'none';\n",
              "\n",
              "        async function convertToInteractive(key) {\n",
              "          const element = document.querySelector('#df-fced96ef-e62f-4b28-a95f-36a026579028');\n",
              "          const dataTable =\n",
              "            await google.colab.kernel.invokeFunction('convertToInteractive',\n",
              "                                                     [key], {});\n",
              "          if (!dataTable) return;\n",
              "\n",
              "          const docLinkHtml = 'Like what you see? Visit the ' +\n",
              "            '<a target=\"_blank\" href=https://colab.research.google.com/notebooks/data_table.ipynb>data table notebook</a>'\n",
              "            + ' to learn more about interactive tables.';\n",
              "          element.innerHTML = '';\n",
              "          dataTable['output_type'] = 'display_data';\n",
              "          await google.colab.output.renderOutput(dataTable, element);\n",
              "          const docLink = document.createElement('div');\n",
              "          docLink.innerHTML = docLinkHtml;\n",
              "          element.appendChild(docLink);\n",
              "        }\n",
              "      </script>\n",
              "    </div>\n",
              "  </div>\n",
              "  "
            ]
          },
          "metadata": {},
          "execution_count": 13
        }
      ]
    },
    {
      "cell_type": "code",
      "source": [
        "electricity_info[\"class_code\"] = np.where(electricity_info[\"class\"].str.contains(\"UP\"), 1, 0)"
      ],
      "metadata": {
        "id": "JKdcefqTUoN9"
      },
      "execution_count": null,
      "outputs": []
    },
    {
      "cell_type": "code",
      "source": [
        "electricity_info.describe()"
      ],
      "metadata": {
        "colab": {
          "base_uri": "https://localhost:8080/",
          "height": 300
        },
        "id": "FYAXy20ZUr7n",
        "outputId": "a0f08105-de7c-403e-af50-1d4d622b9e20"
      },
      "execution_count": null,
      "outputs": [
        {
          "output_type": "execute_result",
          "data": {
            "text/plain": [
              "               date           day        period      nswprice     nswdemand  \\\n",
              "count  45312.000000  45312.000000  45312.000000  45312.000000  45312.000000   \n",
              "mean       0.499080      4.003178      0.500000      0.057868      0.425418   \n",
              "std        0.340308      1.998695      0.294756      0.039991      0.163323   \n",
              "min        0.000000      1.000000      0.000000      0.000000      0.000000   \n",
              "25%        0.031934      2.000000      0.250000      0.035127      0.309134   \n",
              "50%        0.456329      4.000000      0.500000      0.048652      0.443693   \n",
              "75%        0.880547      6.000000      0.750000      0.074336      0.536001   \n",
              "max        1.000000      7.000000      1.000000      1.000000      1.000000   \n",
              "\n",
              "           vicprice     vicdemand      transfer    class_code  \n",
              "count  45312.000000  45312.000000  45312.000000  45312.000000  \n",
              "mean       0.003467      0.422915      0.500526      0.424545  \n",
              "std        0.010213      0.120965      0.153373      0.494279  \n",
              "min        0.000000      0.000000      0.000000      0.000000  \n",
              "25%        0.002277      0.372346      0.414912      0.000000  \n",
              "50%        0.003467      0.422915      0.414912      0.000000  \n",
              "75%        0.003467      0.469252      0.605702      1.000000  \n",
              "max        1.000000      1.000000      1.000000      1.000000  "
            ],
            "text/html": [
              "\n",
              "  <div id=\"df-56a98bd4-4dcc-4ea3-a64e-dd81e7376d4d\">\n",
              "    <div class=\"colab-df-container\">\n",
              "      <div>\n",
              "<style scoped>\n",
              "    .dataframe tbody tr th:only-of-type {\n",
              "        vertical-align: middle;\n",
              "    }\n",
              "\n",
              "    .dataframe tbody tr th {\n",
              "        vertical-align: top;\n",
              "    }\n",
              "\n",
              "    .dataframe thead th {\n",
              "        text-align: right;\n",
              "    }\n",
              "</style>\n",
              "<table border=\"1\" class=\"dataframe\">\n",
              "  <thead>\n",
              "    <tr style=\"text-align: right;\">\n",
              "      <th></th>\n",
              "      <th>date</th>\n",
              "      <th>day</th>\n",
              "      <th>period</th>\n",
              "      <th>nswprice</th>\n",
              "      <th>nswdemand</th>\n",
              "      <th>vicprice</th>\n",
              "      <th>vicdemand</th>\n",
              "      <th>transfer</th>\n",
              "      <th>class_code</th>\n",
              "    </tr>\n",
              "  </thead>\n",
              "  <tbody>\n",
              "    <tr>\n",
              "      <th>count</th>\n",
              "      <td>45312.000000</td>\n",
              "      <td>45312.000000</td>\n",
              "      <td>45312.000000</td>\n",
              "      <td>45312.000000</td>\n",
              "      <td>45312.000000</td>\n",
              "      <td>45312.000000</td>\n",
              "      <td>45312.000000</td>\n",
              "      <td>45312.000000</td>\n",
              "      <td>45312.000000</td>\n",
              "    </tr>\n",
              "    <tr>\n",
              "      <th>mean</th>\n",
              "      <td>0.499080</td>\n",
              "      <td>4.003178</td>\n",
              "      <td>0.500000</td>\n",
              "      <td>0.057868</td>\n",
              "      <td>0.425418</td>\n",
              "      <td>0.003467</td>\n",
              "      <td>0.422915</td>\n",
              "      <td>0.500526</td>\n",
              "      <td>0.424545</td>\n",
              "    </tr>\n",
              "    <tr>\n",
              "      <th>std</th>\n",
              "      <td>0.340308</td>\n",
              "      <td>1.998695</td>\n",
              "      <td>0.294756</td>\n",
              "      <td>0.039991</td>\n",
              "      <td>0.163323</td>\n",
              "      <td>0.010213</td>\n",
              "      <td>0.120965</td>\n",
              "      <td>0.153373</td>\n",
              "      <td>0.494279</td>\n",
              "    </tr>\n",
              "    <tr>\n",
              "      <th>min</th>\n",
              "      <td>0.000000</td>\n",
              "      <td>1.000000</td>\n",
              "      <td>0.000000</td>\n",
              "      <td>0.000000</td>\n",
              "      <td>0.000000</td>\n",
              "      <td>0.000000</td>\n",
              "      <td>0.000000</td>\n",
              "      <td>0.000000</td>\n",
              "      <td>0.000000</td>\n",
              "    </tr>\n",
              "    <tr>\n",
              "      <th>25%</th>\n",
              "      <td>0.031934</td>\n",
              "      <td>2.000000</td>\n",
              "      <td>0.250000</td>\n",
              "      <td>0.035127</td>\n",
              "      <td>0.309134</td>\n",
              "      <td>0.002277</td>\n",
              "      <td>0.372346</td>\n",
              "      <td>0.414912</td>\n",
              "      <td>0.000000</td>\n",
              "    </tr>\n",
              "    <tr>\n",
              "      <th>50%</th>\n",
              "      <td>0.456329</td>\n",
              "      <td>4.000000</td>\n",
              "      <td>0.500000</td>\n",
              "      <td>0.048652</td>\n",
              "      <td>0.443693</td>\n",
              "      <td>0.003467</td>\n",
              "      <td>0.422915</td>\n",
              "      <td>0.414912</td>\n",
              "      <td>0.000000</td>\n",
              "    </tr>\n",
              "    <tr>\n",
              "      <th>75%</th>\n",
              "      <td>0.880547</td>\n",
              "      <td>6.000000</td>\n",
              "      <td>0.750000</td>\n",
              "      <td>0.074336</td>\n",
              "      <td>0.536001</td>\n",
              "      <td>0.003467</td>\n",
              "      <td>0.469252</td>\n",
              "      <td>0.605702</td>\n",
              "      <td>1.000000</td>\n",
              "    </tr>\n",
              "    <tr>\n",
              "      <th>max</th>\n",
              "      <td>1.000000</td>\n",
              "      <td>7.000000</td>\n",
              "      <td>1.000000</td>\n",
              "      <td>1.000000</td>\n",
              "      <td>1.000000</td>\n",
              "      <td>1.000000</td>\n",
              "      <td>1.000000</td>\n",
              "      <td>1.000000</td>\n",
              "      <td>1.000000</td>\n",
              "    </tr>\n",
              "  </tbody>\n",
              "</table>\n",
              "</div>\n",
              "      <button class=\"colab-df-convert\" onclick=\"convertToInteractive('df-56a98bd4-4dcc-4ea3-a64e-dd81e7376d4d')\"\n",
              "              title=\"Convert this dataframe to an interactive table.\"\n",
              "              style=\"display:none;\">\n",
              "        \n",
              "  <svg xmlns=\"http://www.w3.org/2000/svg\" height=\"24px\"viewBox=\"0 0 24 24\"\n",
              "       width=\"24px\">\n",
              "    <path d=\"M0 0h24v24H0V0z\" fill=\"none\"/>\n",
              "    <path d=\"M18.56 5.44l.94 2.06.94-2.06 2.06-.94-2.06-.94-.94-2.06-.94 2.06-2.06.94zm-11 1L8.5 8.5l.94-2.06 2.06-.94-2.06-.94L8.5 2.5l-.94 2.06-2.06.94zm10 10l.94 2.06.94-2.06 2.06-.94-2.06-.94-.94-2.06-.94 2.06-2.06.94z\"/><path d=\"M17.41 7.96l-1.37-1.37c-.4-.4-.92-.59-1.43-.59-.52 0-1.04.2-1.43.59L10.3 9.45l-7.72 7.72c-.78.78-.78 2.05 0 2.83L4 21.41c.39.39.9.59 1.41.59.51 0 1.02-.2 1.41-.59l7.78-7.78 2.81-2.81c.8-.78.8-2.07 0-2.86zM5.41 20L4 18.59l7.72-7.72 1.47 1.35L5.41 20z\"/>\n",
              "  </svg>\n",
              "      </button>\n",
              "      \n",
              "  <style>\n",
              "    .colab-df-container {\n",
              "      display:flex;\n",
              "      flex-wrap:wrap;\n",
              "      gap: 12px;\n",
              "    }\n",
              "\n",
              "    .colab-df-convert {\n",
              "      background-color: #E8F0FE;\n",
              "      border: none;\n",
              "      border-radius: 50%;\n",
              "      cursor: pointer;\n",
              "      display: none;\n",
              "      fill: #1967D2;\n",
              "      height: 32px;\n",
              "      padding: 0 0 0 0;\n",
              "      width: 32px;\n",
              "    }\n",
              "\n",
              "    .colab-df-convert:hover {\n",
              "      background-color: #E2EBFA;\n",
              "      box-shadow: 0px 1px 2px rgba(60, 64, 67, 0.3), 0px 1px 3px 1px rgba(60, 64, 67, 0.15);\n",
              "      fill: #174EA6;\n",
              "    }\n",
              "\n",
              "    [theme=dark] .colab-df-convert {\n",
              "      background-color: #3B4455;\n",
              "      fill: #D2E3FC;\n",
              "    }\n",
              "\n",
              "    [theme=dark] .colab-df-convert:hover {\n",
              "      background-color: #434B5C;\n",
              "      box-shadow: 0px 1px 3px 1px rgba(0, 0, 0, 0.15);\n",
              "      filter: drop-shadow(0px 1px 2px rgba(0, 0, 0, 0.3));\n",
              "      fill: #FFFFFF;\n",
              "    }\n",
              "  </style>\n",
              "\n",
              "      <script>\n",
              "        const buttonEl =\n",
              "          document.querySelector('#df-56a98bd4-4dcc-4ea3-a64e-dd81e7376d4d button.colab-df-convert');\n",
              "        buttonEl.style.display =\n",
              "          google.colab.kernel.accessAllowed ? 'block' : 'none';\n",
              "\n",
              "        async function convertToInteractive(key) {\n",
              "          const element = document.querySelector('#df-56a98bd4-4dcc-4ea3-a64e-dd81e7376d4d');\n",
              "          const dataTable =\n",
              "            await google.colab.kernel.invokeFunction('convertToInteractive',\n",
              "                                                     [key], {});\n",
              "          if (!dataTable) return;\n",
              "\n",
              "          const docLinkHtml = 'Like what you see? Visit the ' +\n",
              "            '<a target=\"_blank\" href=https://colab.research.google.com/notebooks/data_table.ipynb>data table notebook</a>'\n",
              "            + ' to learn more about interactive tables.';\n",
              "          element.innerHTML = '';\n",
              "          dataTable['output_type'] = 'display_data';\n",
              "          await google.colab.output.renderOutput(dataTable, element);\n",
              "          const docLink = document.createElement('div');\n",
              "          docLink.innerHTML = docLinkHtml;\n",
              "          element.appendChild(docLink);\n",
              "        }\n",
              "      </script>\n",
              "    </div>\n",
              "  </div>\n",
              "  "
            ]
          },
          "metadata": {},
          "execution_count": 15
        }
      ]
    },
    {
      "cell_type": "code",
      "source": [
        "!pip install -U scikit-multiflow"
      ],
      "metadata": {
        "colab": {
          "base_uri": "https://localhost:8080/"
        },
        "id": "n8lSvVKnUt38",
        "outputId": "b9fd06da-1512-4d60-ed86-8ae2617e2ce8"
      },
      "execution_count": null,
      "outputs": [
        {
          "output_type": "stream",
          "name": "stdout",
          "text": [
            "Looking in indexes: https://pypi.org/simple, https://us-python.pkg.dev/colab-wheels/public/simple/\n",
            "Requirement already satisfied: scikit-multiflow in /usr/local/lib/python3.7/dist-packages (0.5.3)\n",
            "Requirement already satisfied: numpy>=1.14.0 in /usr/local/lib/python3.7/dist-packages (from scikit-multiflow) (1.21.6)\n",
            "Requirement already satisfied: pandas>=0.25.3 in /usr/local/lib/python3.7/dist-packages (from scikit-multiflow) (1.3.5)\n",
            "Requirement already satisfied: scipy>=1.0.0 in /usr/local/lib/python3.7/dist-packages (from scikit-multiflow) (1.7.3)\n",
            "Requirement already satisfied: scikit-learn>=0.20 in /usr/local/lib/python3.7/dist-packages (from scikit-multiflow) (1.0.2)\n",
            "Requirement already satisfied: matplotlib>=2.0.0 in /usr/local/lib/python3.7/dist-packages (from scikit-multiflow) (3.2.2)\n",
            "Requirement already satisfied: sortedcontainers>=1.5.7 in /usr/local/lib/python3.7/dist-packages (from scikit-multiflow) (2.4.0)\n",
            "Requirement already satisfied: cycler>=0.10 in /usr/local/lib/python3.7/dist-packages (from matplotlib>=2.0.0->scikit-multiflow) (0.11.0)\n",
            "Requirement already satisfied: kiwisolver>=1.0.1 in /usr/local/lib/python3.7/dist-packages (from matplotlib>=2.0.0->scikit-multiflow) (1.4.3)\n",
            "Requirement already satisfied: python-dateutil>=2.1 in /usr/local/lib/python3.7/dist-packages (from matplotlib>=2.0.0->scikit-multiflow) (2.8.2)\n",
            "Requirement already satisfied: pyparsing!=2.0.4,!=2.1.2,!=2.1.6,>=2.0.1 in /usr/local/lib/python3.7/dist-packages (from matplotlib>=2.0.0->scikit-multiflow) (3.0.9)\n",
            "Requirement already satisfied: typing-extensions in /usr/local/lib/python3.7/dist-packages (from kiwisolver>=1.0.1->matplotlib>=2.0.0->scikit-multiflow) (4.1.1)\n",
            "Requirement already satisfied: pytz>=2017.3 in /usr/local/lib/python3.7/dist-packages (from pandas>=0.25.3->scikit-multiflow) (2022.1)\n",
            "Requirement already satisfied: six>=1.5 in /usr/local/lib/python3.7/dist-packages (from python-dateutil>=2.1->matplotlib>=2.0.0->scikit-multiflow) (1.15.0)\n",
            "Requirement already satisfied: joblib>=0.11 in /usr/local/lib/python3.7/dist-packages (from scikit-learn>=0.20->scikit-multiflow) (1.1.0)\n",
            "Requirement already satisfied: threadpoolctl>=2.0.0 in /usr/local/lib/python3.7/dist-packages (from scikit-learn>=0.20->scikit-multiflow) (3.1.0)\n"
          ]
        }
      ]
    },
    {
      "cell_type": "code",
      "source": [
        "from skmultiflow.drift_detection.adwin import ADWIN\n",
        " \n",
        "adwin = ADWIN()"
      ],
      "metadata": {
        "id": "KeKbsK_bUxK7"
      },
      "execution_count": null,
      "outputs": []
    },
    {
      "cell_type": "code",
      "source": [
        "data_stream = electricity_info[\"class_code\"]"
      ],
      "metadata": {
        "id": "dNBFHbKlU_x-"
      },
      "execution_count": null,
      "outputs": []
    },
    {
      "cell_type": "code",
      "source": [
        "previous_variance = 0\n",
        "for i in range(45312):\n",
        "    adwin.add_element(data_stream[i])\n",
        "    if adwin.detected_change():\n",
        "        print(\"Change detected in value {}, at index {}\".format(data_stream[i], i))\n",
        "        print(\"Current variance: {}. Previous variance {}\".format(adwin.variance, previous_variance))\n",
        "    previous_variance = adwin.variance"
      ],
      "metadata": {
        "colab": {
          "base_uri": "https://localhost:8080/"
        },
        "id": "dw9ygMg0VCVV",
        "outputId": "bfd27012-952a-450e-f2d2-cb1848985ee4"
      },
      "execution_count": null,
      "outputs": [
        {
          "output_type": "stream",
          "name": "stdout",
          "text": [
            "Change detected in value 0, at index 1151\n",
            "Current variance: 0.49012756347656283. Previous variance 0.24750434216157763\n",
            "Change detected in value 0, at index 1183\n",
            "Current variance: 0.5140907118055559. Previous variance 0.4757778027905813\n",
            "Change detected in value 1, at index 1599\n",
            "Current variance: 0.41001892089843756. Previous variance 0.3672716012296745\n",
            "Change detected in value 1, at index 2239\n",
            "Current variance: 0.39999201268325646. Previous variance 0.3353314779539203\n",
            "Change detected in value 1, at index 2271\n",
            "Current variance: 0.4384460729453629. Previous variance 0.39580366476621126\n",
            "Change detected in value 0, at index 2303\n",
            "Current variance: 0.5556972887389058. Previous variance 0.43634938480105717\n",
            "Change detected in value 1, at index 4031\n",
            "Current variance: 0.4235420227050788. Previous variance 0.34153959950788637\n",
            "Change detected in value 1, at index 4159\n",
            "Current variance: 0.6197464367574909. Previous variance 0.4121921026555695\n",
            "Change detected in value 1, at index 4223\n",
            "Current variance: 0.7892770734212814. Previous variance 0.6011715466270404\n",
            "Change detected in value 0, at index 4319\n",
            "Current variance: 0.8189678209653364. Previous variance 0.7403362718463679\n",
            "Change detected in value 0, at index 4543\n",
            "Current variance: 0.8912849426269553. Previous variance 0.7257177367024075\n",
            "Change detected in value 1, at index 4895\n",
            "Current variance: 0.8710182158801039. Previous variance 0.719229475206613\n",
            "Change detected in value 0, at index 5535\n",
            "Current variance: 0.7442834179775927. Previous variance 0.6405570350493418\n",
            "Change detected in value 1, at index 8063\n",
            "Current variance: 0.4969990678267038. Previous variance 0.43677540559362465\n",
            "Change detected in value 0, at index 8127\n",
            "Current variance: 0.5703959994845907. Previous variance 0.4927568251899698\n",
            "Change detected in value 1, at index 9247\n",
            "Current variance: 0.543313565173084. Previous variance 0.48537408325820847\n",
            "Change detected in value 1, at index 10079\n",
            "Current variance: 0.549993765624998. Previous variance 0.48936306039490424\n",
            "Change detected in value 0, at index 11263\n",
            "Current variance: 0.5951692515717454. Previous variance 0.48123549628782386\n",
            "Change detected in value 0, at index 11455\n",
            "Current variance: 0.6543537733289927. Previous variance 0.5800064187026484\n",
            "Change detected in value 0, at index 11519\n",
            "Current variance: 0.7429060808659101. Previous variance 0.6477236337086459\n",
            "Change detected in value 1, at index 16063\n",
            "Current variance: 0.5263031382619588. Previous variance 0.4600002489632993\n",
            "Change detected in value 0, at index 16319\n",
            "Current variance: 0.5993562274508993. Previous variance 0.5164425336700578\n",
            "Change detected in value 0, at index 18975\n",
            "Current variance: 0.7461480093986008. Previous variance 0.490296884262499\n",
            "Change detected in value 0, at index 19903\n",
            "Current variance: 1.4498259226481094. Previous variance 0.678452820880849\n",
            "Change detected in value 1, at index 20159\n",
            "Current variance: 1.5999119656145053. Previous variance 1.3589389689725717\n",
            "Change detected in value 0, at index 25023\n",
            "Current variance: 1.2161509195963534. Previous variance 0.7365383192872837\n",
            "Change detected in value 1, at index 34271\n",
            "Current variance: 0.6638446268019512. Previous variance 0.5669766975951728\n",
            "Change detected in value 1, at index 40895\n",
            "Current variance: 0.9170659065246596. Previous variance 0.5124953862482065\n",
            "Change detected in value 1, at index 41055\n",
            "Current variance: 1.127920133649191. Previous variance 0.9072011435841546\n",
            "Change detected in value 1, at index 41215\n",
            "Current variance: 1.4609915407343668. Previous variance 1.1116600961609793\n",
            "Change detected in value 1, at index 41375\n",
            "Current variance: 1.6897227260044656. Previous variance 1.432176251436568\n",
            "Change detected in value 0, at index 42943\n",
            "Current variance: 1.6004463566674119. Previous variance 1.3749188211798367\n"
          ]
        }
      ]
    },
    {
      "cell_type": "code",
      "source": [
        "import matplotlib.pyplot as plt\n",
        "from matplotlib import gridspec"
      ],
      "metadata": {
        "id": "zBbwMkXeVGiq"
      },
      "execution_count": null,
      "outputs": []
    },
    {
      "cell_type": "code",
      "source": [
        "def plot_data(data_stream, drifts=None):\n",
        "    fig = plt.figure(figsize=(14,3), tight_layout=True)\n",
        "    gs = gridspec.GridSpec(1, 2, width_ratios=[3, 1])\n",
        "    ax1, ax2 = plt.subplot(gs[0]), plt.subplot(gs[1])\n",
        "    ax1.grid()\n",
        "    ax1.plot(data_stream, label='Stream')\n",
        "    ax2.grid(axis='y')\n",
        "    ax2.hist(data_stream, label=r'$data_stream$')\n",
        "    if drifts is not None:\n",
        "        for drift_detected in drifts:\n",
        "            ax1.axvline(drift_detected, color='red')\n",
        "    plt.show()\n",
        "\n",
        "plot_data(data_stream)"
      ],
      "metadata": {
        "colab": {
          "base_uri": "https://localhost:8080/",
          "height": 217
        },
        "id": "OJx4pVt8VmtY",
        "outputId": "62be2019-67a3-473e-f22a-f6d86d8661ba"
      },
      "execution_count": null,
      "outputs": [
        {
          "output_type": "display_data",
          "data": {
            "text/plain": [
              "<Figure size 1008x216 with 2 Axes>"
            ],
            "image/png": "[encoded data removed]"
          },
          "metadata": {
            "needs_background": "light"
          }
        }
      ]
    },
    {
      "cell_type": "code",
      "source": [
        "!pip install river"
      ],
      "metadata": {
        "colab": {
          "base_uri": "https://localhost:8080/"
        },
        "id": "fg2Mf2uEWPcH",
        "outputId": "dd79effb-04fe-4107-c583-4448e230de6c"
      },
      "execution_count": null,
      "outputs": [
        {
          "output_type": "stream",
          "name": "stdout",
          "text": [
            "Looking in indexes: https://pypi.org/simple, https://us-python.pkg.dev/colab-wheels/public/simple/\n",
            "Collecting river\n",
            "  Downloading river-0.10.1-cp37-cp37m-manylinux_2_5_x86_64.manylinux1_x86_64.manylinux_2_17_x86_64.manylinux2014_x86_64.whl (2.0 MB)\n",
            "\u001b[K     |████████████████████████████████| 2.0 MB 7.3 MB/s \n",
            "\u001b[?25hRequirement already satisfied: numpy>=1.20.0 in /usr/local/lib/python3.7/dist-packages (from river) (1.21.6)\n",
            "Requirement already satisfied: pandas>=1.0.1 in /usr/local/lib/python3.7/dist-packages (from river) (1.3.5)\n",
            "Requirement already satisfied: scipy>=1.4.1 in /usr/local/lib/python3.7/dist-packages (from river) (1.7.3)\n",
            "Requirement already satisfied: pytz>=2017.3 in /usr/local/lib/python3.7/dist-packages (from pandas>=1.0.1->river) (2022.1)\n",
            "Requirement already satisfied: python-dateutil>=2.7.3 in /usr/local/lib/python3.7/dist-packages (from pandas>=1.0.1->river) (2.8.2)\n",
            "Requirement already satisfied: six>=1.5 in /usr/local/lib/python3.7/dist-packages (from python-dateutil>=2.7.3->pandas>=1.0.1->river) (1.15.0)\n",
            "Installing collected packages: river\n",
            "Successfully installed river-0.10.1\n"
          ]
        }
      ]
    },
    {
      "cell_type": "code",
      "source": [
        "import river\n",
        "from river import drift\n",
        "\n",
        "drift_detector = drift.ADWIN()\n",
        "drifts = []\n",
        "\n",
        "for i, val in enumerate(data_stream):\n",
        "    drift_detector.update(val)   # Data is processed one sample at a time\n",
        "    if drift_detector.change_detected:\n",
        "        # The drift detector indicates after each sample if there is a drift in the data\n",
        "        print(f'Change detected at index {i}')\n",
        "        drifts.append(i)\n",
        "        drift_detector.reset()   # As a best practice, we reset the detector\n",
        "\n",
        "plot_data(data_stream, drifts)"
      ],
      "metadata": {
        "colab": {
          "base_uri": "https://localhost:8080/",
          "height": 1000
        },
        "id": "QS62yrrdVpp9",
        "outputId": "0ff146b3-55be-4ee7-b247-e87f2736919f"
      },
      "execution_count": null,
      "outputs": [
        {
          "output_type": "stream",
          "name": "stdout",
          "text": [
            "Change detected at index 1151\n",
            "Change detected at index 1855\n",
            "Change detected at index 3199\n",
            "Change detected at index 3583\n",
            "Change detected at index 4095\n",
            "Change detected at index 4543\n",
            "Change detected at index 5535\n",
            "Change detected at index 6559\n",
            "Change detected at index 6911\n",
            "Change detected at index 7039\n",
            "Change detected at index 7391\n",
            "Change detected at index 8383\n",
            "Change detected at index 8799\n",
            "Change detected at index 9055\n",
            "Change detected at index 9535\n",
            "Change detected at index 9951\n",
            "Change detected at index 10399\n",
            "Change detected at index 10879\n",
            "Change detected at index 11167\n",
            "Change detected at index 11615\n",
            "Change detected at index 11871\n",
            "Change detected at index 12255\n",
            "Change detected at index 12799\n",
            "Change detected at index 13599\n",
            "Change detected at index 14175\n",
            "Change detected at index 15007\n",
            "Change detected at index 15391\n",
            "Change detected at index 15999\n",
            "Change detected at index 16255\n",
            "Change detected at index 16447\n",
            "Change detected at index 16767\n",
            "Change detected at index 17311\n",
            "Change detected at index 18175\n",
            "Change detected at index 19199\n",
            "Change detected at index 19807\n",
            "Change detected at index 20415\n",
            "Change detected at index 20543\n",
            "Change detected at index 20927\n",
            "Change detected at index 22207\n",
            "Change detected at index 23103\n",
            "Change detected at index 23231\n",
            "Change detected at index 23679\n",
            "Change detected at index 23935\n",
            "Change detected at index 24159\n",
            "Change detected at index 24447\n",
            "Change detected at index 24959\n",
            "Change detected at index 25343\n",
            "Change detected at index 25663\n",
            "Change detected at index 26495\n",
            "Change detected at index 26655\n",
            "Change detected at index 27167\n",
            "Change detected at index 27455\n",
            "Change detected at index 27711\n",
            "Change detected at index 27935\n",
            "Change detected at index 29983\n",
            "Change detected at index 30431\n",
            "Change detected at index 31327\n",
            "Change detected at index 31615\n",
            "Change detected at index 31871\n",
            "Change detected at index 32127\n",
            "Change detected at index 32671\n",
            "Change detected at index 33887\n",
            "Change detected at index 34111\n",
            "Change detected at index 34431\n",
            "Change detected at index 34911\n",
            "Change detected at index 35935\n",
            "Change detected at index 36671\n",
            "Change detected at index 37567\n",
            "Change detected at index 37759\n",
            "Change detected at index 38687\n",
            "Change detected at index 39583\n",
            "Change detected at index 40735\n",
            "Change detected at index 43167\n",
            "Change detected at index 43359\n",
            "Change detected at index 44095\n",
            "Change detected at index 44383\n",
            "Change detected at index 45279\n"
          ]
        },
        {
          "output_type": "display_data",
          "data": {
            "text/plain": [
              "<Figure size 1008x216 with 2 Axes>"
            ],
            "image/png": "[encoded data removed]"
          },
          "metadata": {
            "needs_background": "light"
          }
        }
      ]
    },
    {
      "cell_type": "code",
      "source": [
        "data_stream2 = electricity_info[\"nswprice\"]"
      ],
      "metadata": {
        "id": "BqcAjHtoVtVB"
      },
      "execution_count": null,
      "outputs": []
    },
    {
      "cell_type": "code",
      "source": [
        "def plot_data(data_stream2, drifts=None):\n",
        "    fig = plt.figure(figsize=(20,6), tight_layout=True)\n",
        "    gs = gridspec.GridSpec(1, 2, width_ratios=[3, 1])\n",
        "    ax1, ax2 = plt.subplot(gs[0]), plt.subplot(gs[1])\n",
        "    ax1.grid()\n",
        "    ax1.plot(data_stream2, label='Stream')\n",
        "    ax2.grid(axis='y')\n",
        "    ax2.hist(data_stream2, label=r'$data_stream2$')\n",
        "    if drifts is not None:\n",
        "        for drift_detected in drifts:\n",
        "            ax1.axvline(drift_detected, color='red')\n",
        "    plt.show()\n",
        "\n",
        "plot_data(data_stream2)"
      ],
      "metadata": {
        "colab": {
          "base_uri": "https://localhost:8080/",
          "height": 433
        },
        "id": "_D7LBOJtWZPe",
        "outputId": "f04f4b7b-15ea-40d2-fed7-fe38249e9e63"
      },
      "execution_count": null,
      "outputs": [
        {
          "output_type": "display_data",
          "data": {
            "text/plain": [
              "<Figure size 1440x432 with 2 Axes>"
            ],
            "image/png": "[encoded data removed]"
          },
          "metadata": {
            "needs_background": "light"
          }
        }
      ]
    },
    {
      "cell_type": "code",
      "source": [
        "from river import drift\n",
        "\n",
        "drift_detector = drift.ADWIN()\n",
        "drifts = []\n",
        "\n",
        "for i, val in enumerate(data_stream2):\n",
        "    drift_detector.update(val)   # Data is processed one sample at a time\n",
        "    if drift_detector.change_detected:\n",
        "        # The drift detector indicates after each sample if there is a drift in the data\n",
        "        print(f'Change detected at index {i}')\n",
        "        drifts.append(i)\n",
        "        drift_detector.reset()   # As a best practice, we reset the detector\n",
        "\n",
        "plot_data(data_stream2, drifts)"
      ],
      "metadata": {
        "colab": {
          "base_uri": "https://localhost:8080/",
          "height": 624
        },
        "id": "htHOHZ5xWbcM",
        "outputId": "5955c9e7-23c6-43b3-df8d-dda2271b77ce"
      },
      "execution_count": null,
      "outputs": [
        {
          "output_type": "stream",
          "name": "stdout",
          "text": [
            "Change detected at index 1023\n",
            "Change detected at index 2815\n",
            "Change detected at index 4863\n",
            "Change detected at index 8895\n",
            "Change detected at index 15615\n",
            "Change detected at index 19423\n",
            "Change detected at index 27359\n",
            "Change detected at index 35967\n",
            "Change detected at index 37247\n",
            "Change detected at index 38527\n",
            "Change detected at index 43327\n"
          ]
        },
        {
          "output_type": "display_data",
          "data": {
            "text/plain": [
              "<Figure size 1440x432 with 2 Axes>"
            ],
            "image/png": "[encoded data removed]"
          },
          "metadata": {
            "needs_background": "light"
          }
        }
      ]
    },
    {
      "cell_type": "code",
      "source": [
        "previous_variance = 0\n",
        "for i in range(45312):\n",
        "    adwin.add_element(data_stream2[i])\n",
        "    if adwin.detected_change():\n",
        "        print(\"Change detected in value {}, at index {}\".format(data_stream2[i], i))\n",
        "        print(\"Current variance: {}. Previous variance {}\".format(adwin.variance, previous_variance))\n",
        "    previous_variance = adwin.variance"
      ],
      "metadata": {
        "colab": {
          "base_uri": "https://localhost:8080/"
        },
        "id": "wvbnSl_TWfSn",
        "outputId": "fd259fc2-cacf-4ee1-d153-eea48ea76538"
      },
      "execution_count": null,
      "outputs": [
        {
          "output_type": "stream",
          "name": "stdout",
          "text": [
            "Change detected in value 0.128438, at index 703\n",
            "Current variance: 2.038567179115401. Previous variance 1.1398825230798497\n",
            "Change detected in value 0.043683, at index 1567\n",
            "Current variance: 3.0383491900062825. Previous variance 1.757712890913879\n",
            "Change detected in value 0.07878, at index 1727\n",
            "Current variance: 3.385552993402376. Previous variance 2.9049150733670728\n",
            "Change detected in value 0.120001, at index 1823\n",
            "Current variance: 3.9056389822785733. Previous variance 3.2844254093123166\n",
            "Change detected in value 0.075417, at index 2751\n",
            "Current variance: 3.3658967500799633. Previous variance 2.8983109289984483\n",
            "Change detected in value 0.050498, at index 8991\n",
            "Current variance: 1.2440074565956076. Previous variance 1.1116327185034316\n",
            "Change detected in value 0.303951, at index 37567\n",
            "Current variance: 0.31629903216425487. Previous variance 0.281196784674299\n"
          ]
        }
      ]
    }
  ]
}