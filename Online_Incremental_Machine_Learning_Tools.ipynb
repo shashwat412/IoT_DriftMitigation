{
  "nbformat": 4,
  "nbformat_minor": 0,
  "metadata": {
    "colab": {
      "provenance": []
    },
    "kernelspec": {
      "name": "python3",
      "display_name": "Python 3"
    },
    "language_info": {
      "name": "python"
    }
  },
  "cells": [
    {
      "cell_type": "code",
      "execution_count": null,
      "metadata": {
        "id": "hvP2ggth6wVu"
      },
      "outputs": [],
      "source": [
        "import pandas as pd"
      ]
    },
    {
      "cell_type": "code",
      "source": [
        "!pip install river\n",
        "!pip install creme\n",
        "!pip install scikit-multiflow"
      ],
      "metadata": {
        "colab": {
          "base_uri": "https://localhost:8080/"
        },
        "id": "yvuPUuci7tZz",
        "outputId": "93618085-2eea-43f0-f6c7-a0e87329acf5"
      },
      "execution_count": null,
      "outputs": [
        {
          "output_type": "stream",
          "name": "stdout",
          "text": [
            "Looking in indexes: https://pypi.org/simple, https://us-python.pkg.dev/colab-wheels/public/simple/\n",
            "Collecting river\n",
            "  Downloading river-0.10.1-cp37-cp37m-manylinux_2_5_x86_64.manylinux1_x86_64.manylinux_2_17_x86_64.manylinux2014_x86_64.whl (2.0 MB)\n",
            "\u001b[K     |████████████████████████████████| 2.0 MB 5.0 MB/s \n",
            "\u001b[?25hRequirement already satisfied: pandas>=1.0.1 in /usr/local/lib/python3.7/dist-packages (from river) (1.3.5)\n",
            "Requirement already satisfied: numpy>=1.20.0 in /usr/local/lib/python3.7/dist-packages (from river) (1.21.6)\n",
            "Requirement already satisfied: scipy>=1.4.1 in /usr/local/lib/python3.7/dist-packages (from river) (1.7.3)\n",
            "Requirement already satisfied: python-dateutil>=2.7.3 in /usr/local/lib/python3.7/dist-packages (from pandas>=1.0.1->river) (2.8.2)\n",
            "Requirement already satisfied: pytz>=2017.3 in /usr/local/lib/python3.7/dist-packages (from pandas>=1.0.1->river) (2022.1)\n",
            "Requirement already satisfied: six>=1.5 in /usr/local/lib/python3.7/dist-packages (from python-dateutil>=2.7.3->pandas>=1.0.1->river) (1.15.0)\n",
            "Installing collected packages: river\n",
            "Successfully installed river-0.10.1\n",
            "Looking in indexes: https://pypi.org/simple, https://us-python.pkg.dev/colab-wheels/public/simple/\n",
            "Collecting creme\n",
            "  Downloading creme-0.6.1-cp37-cp37m-manylinux2010_x86_64.whl (1.1 MB)\n",
            "\u001b[K     |████████████████████████████████| 1.1 MB 5.1 MB/s \n",
            "\u001b[?25hRequirement already satisfied: pandas>=1.0.1 in /usr/local/lib/python3.7/dist-packages (from creme) (1.3.5)\n",
            "Requirement already satisfied: numpy>=1.18.1 in /usr/local/lib/python3.7/dist-packages (from creme) (1.21.6)\n",
            "Collecting mmh3==2.5.1\n",
            "  Downloading mmh3-2.5.1.tar.gz (9.8 kB)\n",
            "Requirement already satisfied: scipy>=1.4.1 in /usr/local/lib/python3.7/dist-packages (from creme) (1.7.3)\n",
            "Requirement already satisfied: python-dateutil>=2.7.3 in /usr/local/lib/python3.7/dist-packages (from pandas>=1.0.1->creme) (2.8.2)\n",
            "Requirement already satisfied: pytz>=2017.3 in /usr/local/lib/python3.7/dist-packages (from pandas>=1.0.1->creme) (2022.1)\n",
            "Requirement already satisfied: six>=1.5 in /usr/local/lib/python3.7/dist-packages (from python-dateutil>=2.7.3->pandas>=1.0.1->creme) (1.15.0)\n",
            "Building wheels for collected packages: mmh3\n",
            "  Building wheel for mmh3 (setup.py) ... \u001b[?25l\u001b[?25hdone\n",
            "  Created wheel for mmh3: filename=mmh3-2.5.1-cp37-cp37m-linux_x86_64.whl size=39659 sha256=c58339bba730c86086f4d9dc6e001c2448847df2ea2f6959200f09fab6ac2135\n",
            "  Stored in directory: /root/.cache/pip/wheels/ae/45/25/90e097a519143b2dca74cd93a056894a965f27908103e01799\n",
            "Successfully built mmh3\n",
            "Installing collected packages: mmh3, creme\n",
            "Successfully installed creme-0.6.1 mmh3-2.5.1\n",
            "Looking in indexes: https://pypi.org/simple, https://us-python.pkg.dev/colab-wheels/public/simple/\n",
            "Collecting scikit-multiflow\n",
            "  Downloading scikit_multiflow-0.5.3-cp37-cp37m-manylinux2010_x86_64.whl (1.1 MB)\n",
            "\u001b[K     |████████████████████████████████| 1.1 MB 5.3 MB/s \n",
            "\u001b[?25hRequirement already satisfied: sortedcontainers>=1.5.7 in /usr/local/lib/python3.7/dist-packages (from scikit-multiflow) (2.4.0)\n",
            "Requirement already satisfied: numpy>=1.14.0 in /usr/local/lib/python3.7/dist-packages (from scikit-multiflow) (1.21.6)\n",
            "Requirement already satisfied: scikit-learn>=0.20 in /usr/local/lib/python3.7/dist-packages (from scikit-multiflow) (1.0.2)\n",
            "Requirement already satisfied: matplotlib>=2.0.0 in /usr/local/lib/python3.7/dist-packages (from scikit-multiflow) (3.2.2)\n",
            "Requirement already satisfied: pandas>=0.25.3 in /usr/local/lib/python3.7/dist-packages (from scikit-multiflow) (1.3.5)\n",
            "Requirement already satisfied: scipy>=1.0.0 in /usr/local/lib/python3.7/dist-packages (from scikit-multiflow) (1.7.3)\n",
            "Requirement already satisfied: pyparsing!=2.0.4,!=2.1.2,!=2.1.6,>=2.0.1 in /usr/local/lib/python3.7/dist-packages (from matplotlib>=2.0.0->scikit-multiflow) (3.0.9)\n",
            "Requirement already satisfied: cycler>=0.10 in /usr/local/lib/python3.7/dist-packages (from matplotlib>=2.0.0->scikit-multiflow) (0.11.0)\n",
            "Requirement already satisfied: python-dateutil>=2.1 in /usr/local/lib/python3.7/dist-packages (from matplotlib>=2.0.0->scikit-multiflow) (2.8.2)\n",
            "Requirement already satisfied: kiwisolver>=1.0.1 in /usr/local/lib/python3.7/dist-packages (from matplotlib>=2.0.0->scikit-multiflow) (1.4.3)\n",
            "Requirement already satisfied: typing-extensions in /usr/local/lib/python3.7/dist-packages (from kiwisolver>=1.0.1->matplotlib>=2.0.0->scikit-multiflow) (4.1.1)\n",
            "Requirement already satisfied: pytz>=2017.3 in /usr/local/lib/python3.7/dist-packages (from pandas>=0.25.3->scikit-multiflow) (2022.1)\n",
            "Requirement already satisfied: six>=1.5 in /usr/local/lib/python3.7/dist-packages (from python-dateutil>=2.1->matplotlib>=2.0.0->scikit-multiflow) (1.15.0)\n",
            "Requirement already satisfied: threadpoolctl>=2.0.0 in /usr/local/lib/python3.7/dist-packages (from scikit-learn>=0.20->scikit-multiflow) (3.1.0)\n",
            "Requirement already satisfied: joblib>=0.11 in /usr/local/lib/python3.7/dist-packages (from scikit-learn>=0.20->scikit-multiflow) (1.1.0)\n",
            "Installing collected packages: scikit-multiflow\n",
            "Successfully installed scikit-multiflow-0.5.3\n"
          ]
        }
      ]
    },
    {
      "cell_type": "code",
      "source": [
        "import river"
      ],
      "metadata": {
        "id": "rcoBlvEN8jtc"
      },
      "execution_count": null,
      "outputs": []
    },
    {
      "cell_type": "code",
      "source": [
        "dir(river)"
      ],
      "metadata": {
        "colab": {
          "base_uri": "https://localhost:8080/"
        },
        "id": "T9jzXYBP8s-T",
        "outputId": "d282b067-a4f0-4538-8f27-3aa1ac1896a5"
      },
      "execution_count": null,
      "outputs": [
        {
          "output_type": "execute_result",
          "data": {
            "text/plain": [
              "['__all__',\n",
              " '__builtins__',\n",
              " '__cached__',\n",
              " '__doc__',\n",
              " '__file__',\n",
              " '__loader__',\n",
              " '__name__',\n",
              " '__package__',\n",
              " '__path__',\n",
              " '__spec__',\n",
              " '__version__',\n",
              " '_bandit',\n",
              " 'anomaly',\n",
              " 'base',\n",
              " 'cluster',\n",
              " 'compat',\n",
              " 'compose',\n",
              " 'datasets',\n",
              " 'drift',\n",
              " 'dummy',\n",
              " 'ensemble',\n",
              " 'evaluate',\n",
              " 'facto',\n",
              " 'feature_extraction',\n",
              " 'feature_selection',\n",
              " 'imblearn',\n",
              " 'linear_model',\n",
              " 'metrics',\n",
              " 'misc',\n",
              " 'model_selection',\n",
              " 'multiclass',\n",
              " 'multioutput',\n",
              " 'naive_bayes',\n",
              " 'neighbors',\n",
              " 'neural_net',\n",
              " 'optim',\n",
              " 'preprocessing',\n",
              " 'proba',\n",
              " 'reco',\n",
              " 'rules',\n",
              " 'stats',\n",
              " 'stream',\n",
              " 'synth',\n",
              " 'time_series',\n",
              " 'tree',\n",
              " 'utils']"
            ]
          },
          "metadata": {},
          "execution_count": 7
        }
      ]
    },
    {
      "cell_type": "code",
      "source": [
        "# Load Estimators\n",
        "from river.linear_model import LogisticRegression\n",
        "from river.naive_bayes import MultinomialNB\n",
        "from river.feature_extraction import BagOfWords,TFIDF"
      ],
      "metadata": {
        "id": "RG_ILEg48wfE"
      },
      "execution_count": null,
      "outputs": []
    },
    {
      "cell_type": "code",
      "source": [
        "def get_all_attributes(package):\n",
        "    subpackages = []\n",
        "    submodules = []\n",
        "    for i in dir(package):\n",
        "        if str(i) not in [\"__all__\", \"__builtins__\", \"__cached__\", \"__doc__\", \"__file__\", \"__loader__\", \"__name__\", \"__package__\", \"__path__\", \"__pdoc__\", \"__spec__\", \"__version__\"]:\n",
        "            subpackages.append(i)\n",
        "            res = [j for j in dir(eval(\"river.{}\".format(i)))]\n",
        "            submodules.append(res)\n",
        "    df = pd.DataFrame(submodules)\n",
        "    # Transpose\n",
        "    df = df.T\n",
        "    df.columns = subpackages\n",
        "    res_df = df.dropna()\n",
        "    return res_df"
      ],
      "metadata": {
        "id": "EQEjGOrPAwZW"
      },
      "execution_count": null,
      "outputs": []
    },
    {
      "cell_type": "code",
      "source": [
        "river_df = get_all_attributes(river)"
      ],
      "metadata": {
        "id": "_sc3rgfeAy8v"
      },
      "execution_count": null,
      "outputs": []
    },
    {
      "cell_type": "code",
      "source": [
        "river_df"
      ],
      "metadata": {
        "colab": {
          "base_uri": "https://localhost:8080/",
          "height": 550
        },
        "id": "zdHoNkWxA8w0",
        "outputId": "ce326037-acfc-44ea-af2c-05fe7b9e9e2e"
      },
      "execution_count": null,
      "outputs": [
        {
          "output_type": "execute_result",
          "data": {
            "text/plain": [
              "          _bandit              anomaly                   base       cluster  \\\n",
              "0             Arm      AnomalyDetector                   Base     CluStream   \n",
              "1          Bandit  ConstantThresholder             Classifier      DBSTREAM   \n",
              "2    BanditPolicy       HalfSpaceTrees              Clusterer     DenStream   \n",
              "3   EpsilonGreedy          OneClassSVM          DriftDetector        KMeans   \n",
              "4             UCB  QuantileThresholder               Ensemble  STREAMKMeans   \n",
              "5         __all__              __all__              Estimator       __all__   \n",
              "6    __builtins__         __builtins__    MiniBatchClassifier  __builtins__   \n",
              "7      __cached__           __cached__     MiniBatchRegressor    __cached__   \n",
              "8         __doc__              __doc__   MiniBatchTransformer       __doc__   \n",
              "9        __file__             __file__       MultiOutputMixin      __file__   \n",
              "10     __loader__           __loader__              Regressor    __loader__   \n",
              "11       __name__             __name__  SupervisedTransformer      __name__   \n",
              "12    __package__          __package__            Transformer   __package__   \n",
              "\n",
              "                     compat                   compose           datasets  \\\n",
              "0   PyTorch2RiverClassifier                   Discard  AirlinePassengers   \n",
              "1    PyTorch2RiverRegressor           FuncTransformer            Bananas   \n",
              "2       River2SKLClassifier                   Grouper              Bikes   \n",
              "3        River2SKLClusterer                  Pipeline       ChickWeights   \n",
              "4        River2SKLRegressor                  Prefixer         CreditCard   \n",
              "5      River2SKLTransformer                   Renamer              Elec2   \n",
              "6       SKL2RiverClassifier                    Select               HTTP   \n",
              "7        SKL2RiverRegressor                SelectType              Higgs   \n",
              "8                   __all__                  Suffixer      ImageSegments   \n",
              "9           __annotations__  TargetTransformRegressor            Insects   \n",
              "10             __builtins__        TransformerProduct          Keystroke   \n",
              "11               __cached__          TransformerUnion       MaliciousURL   \n",
              "12                  __doc__                   __all__      MovieLens100K   \n",
              "\n",
              "           drift               dummy                        ensemble  ...  \\\n",
              "0          ADWIN  NoChangeClassifier          ADWINBaggingClassifier  ...   \n",
              "1            DDM     PriorClassifier              AdaBoostClassifier  ...   \n",
              "2           EDDM  StatisticRegressor  AdaptiveRandomForestClassifier  ...   \n",
              "3         HDDM_A             __all__   AdaptiveRandomForestRegressor  ...   \n",
              "4         HDDM_W        __builtins__               BaggingClassifier  ...   \n",
              "5          KSWIN          __cached__                BaggingRegressor  ...   \n",
              "6    PageHinkley             __doc__                    EWARegressor  ...   \n",
              "7        __all__            __file__     LeveragingBaggingClassifier  ...   \n",
              "8   __builtins__          __loader__                   SRPClassifier  ...   \n",
              "9     __cached__            __name__                    SRPRegressor  ...   \n",
              "10       __doc__         __package__              StackingClassifier  ...   \n",
              "11      __file__            __spec__                VotingClassifier  ...   \n",
              "12    __loader__                base                         __all__  ...   \n",
              "\n",
              "             preprocessing         proba          reco         rules  \\\n",
              "0   AdaptiveStandardScaler      Gaussian      Baseline       AMRules   \n",
              "1                Binarizer   Multinomial      BiasedMF       __all__   \n",
              "2            FeatureHasher       __all__        FunkMF  __builtins__   \n",
              "3                      LDA  __builtins__  RandomNormal    __cached__   \n",
              "4             MaxAbsScaler    __cached__        Ranker       __doc__   \n",
              "5             MinMaxScaler       __doc__       __all__      __file__   \n",
              "6               Normalizer      __file__  __builtins__    __loader__   \n",
              "7            OneHotEncoder    __loader__    __cached__      __name__   \n",
              "8              PredClipper      __name__       __doc__   __package__   \n",
              "9          PreviousImputer   __package__      __file__      __path__   \n",
              "10            RobustScaler      __path__    __loader__      __spec__   \n",
              "11          StandardScaler      __spec__      __name__       amrules   \n",
              "12             StatImputer          base   __package__          base   \n",
              "\n",
              "           stats        stream               synth        time_series  \\\n",
              "0         AbsMax         Cache             Agrawal         Forecaster   \n",
              "1       AutoCorr       __all__         AnomalySine  ForecastingMetric   \n",
              "2   BayesianMean  __builtins__  ConceptDriftStream        HoltWinters   \n",
              "3      Bivariate    __cached__            Friedman      HorizonMetric   \n",
              "4          Count       __doc__       FriedmanDrift           SNARIMAX   \n",
              "5            Cov      __file__          Hyperplane            __all__   \n",
              "6         EWMean    __loader__                 LED       __builtins__   \n",
              "7          EWVar      __name__            LEDDrift         __cached__   \n",
              "8        Entropy   __package__             Logical            __doc__   \n",
              "9            IQR      __path__               Mixed           __file__   \n",
              "10      Kurtosis      __spec__                  Mv         __loader__   \n",
              "11          Link         cache            Planes2D           __name__   \n",
              "12           MAD     iter_arff           RandomRBF        __package__   \n",
              "\n",
              "                                       tree             utils  \n",
              "0       ExtremelyFastDecisionTreeClassifier      SortedWindow  \n",
              "1           HoeffdingAdaptiveTreeClassifier        VectorDict  \n",
              "2            HoeffdingAdaptiveTreeRegressor           __all__  \n",
              "3                   HoeffdingTreeClassifier      __builtins__  \n",
              "4                    HoeffdingTreeRegressor        __cached__  \n",
              "5   LabelCombinationHoeffdingTreeClassifier           __doc__  \n",
              "6                             SGTClassifier          __file__  \n",
              "7                              SGTRegressor        __loader__  \n",
              "8                                   __all__          __name__  \n",
              "9                              __builtins__       __package__  \n",
              "10                               __cached__          __path__  \n",
              "11                                  __doc__          __spec__  \n",
              "12                                 __file__  context_managers  \n",
              "\n",
              "[13 rows x 35 columns]"
            ],
            "text/html": [
              "\n",
              "  <div id=\"df-d95ed831-e76a-4a7e-ad85-7884db86fb6a\">\n",
              "    <div class=\"colab-df-container\">\n",
              "      <div>\n",
              "<style scoped>\n",
              "    .dataframe tbody tr th:only-of-type {\n",
              "        vertical-align: middle;\n",
              "    }\n",
              "\n",
              "    .dataframe tbody tr th {\n",
              "        vertical-align: top;\n",
              "    }\n",
              "\n",
              "    .dataframe thead th {\n",
              "        text-align: right;\n",
              "    }\n",
              "</style>\n",
              "<table border=\"1\" class=\"dataframe\">\n",
              "  <thead>\n",
              "    <tr style=\"text-align: right;\">\n",
              "      <th></th>\n",
              "      <th>_bandit</th>\n",
              "      <th>anomaly</th>\n",
              "      <th>base</th>\n",
              "      <th>cluster</th>\n",
              "      <th>compat</th>\n",
              "      <th>compose</th>\n",
              "      <th>datasets</th>\n",
              "      <th>drift</th>\n",
              "      <th>dummy</th>\n",
              "      <th>ensemble</th>\n",
              "      <th>...</th>\n",
              "      <th>preprocessing</th>\n",
              "      <th>proba</th>\n",
              "      <th>reco</th>\n",
              "      <th>rules</th>\n",
              "      <th>stats</th>\n",
              "      <th>stream</th>\n",
              "      <th>synth</th>\n",
              "      <th>time_series</th>\n",
              "      <th>tree</th>\n",
              "      <th>utils</th>\n",
              "    </tr>\n",
              "  </thead>\n",
              "  <tbody>\n",
              "    <tr>\n",
              "      <th>0</th>\n",
              "      <td>Arm</td>\n",
              "      <td>AnomalyDetector</td>\n",
              "      <td>Base</td>\n",
              "      <td>CluStream</td>\n",
              "      <td>PyTorch2RiverClassifier</td>\n",
              "      <td>Discard</td>\n",
              "      <td>AirlinePassengers</td>\n",
              "      <td>ADWIN</td>\n",
              "      <td>NoChangeClassifier</td>\n",
              "      <td>ADWINBaggingClassifier</td>\n",
              "      <td>...</td>\n",
              "      <td>AdaptiveStandardScaler</td>\n",
              "      <td>Gaussian</td>\n",
              "      <td>Baseline</td>\n",
              "      <td>AMRules</td>\n",
              "      <td>AbsMax</td>\n",
              "      <td>Cache</td>\n",
              "      <td>Agrawal</td>\n",
              "      <td>Forecaster</td>\n",
              "      <td>ExtremelyFastDecisionTreeClassifier</td>\n",
              "      <td>SortedWindow</td>\n",
              "    </tr>\n",
              "    <tr>\n",
              "      <th>1</th>\n",
              "      <td>Bandit</td>\n",
              "      <td>ConstantThresholder</td>\n",
              "      <td>Classifier</td>\n",
              "      <td>DBSTREAM</td>\n",
              "      <td>PyTorch2RiverRegressor</td>\n",
              "      <td>FuncTransformer</td>\n",
              "      <td>Bananas</td>\n",
              "      <td>DDM</td>\n",
              "      <td>PriorClassifier</td>\n",
              "      <td>AdaBoostClassifier</td>\n",
              "      <td>...</td>\n",
              "      <td>Binarizer</td>\n",
              "      <td>Multinomial</td>\n",
              "      <td>BiasedMF</td>\n",
              "      <td>__all__</td>\n",
              "      <td>AutoCorr</td>\n",
              "      <td>__all__</td>\n",
              "      <td>AnomalySine</td>\n",
              "      <td>ForecastingMetric</td>\n",
              "      <td>HoeffdingAdaptiveTreeClassifier</td>\n",
              "      <td>VectorDict</td>\n",
              "    </tr>\n",
              "    <tr>\n",
              "      <th>2</th>\n",
              "      <td>BanditPolicy</td>\n",
              "      <td>HalfSpaceTrees</td>\n",
              "      <td>Clusterer</td>\n",
              "      <td>DenStream</td>\n",
              "      <td>River2SKLClassifier</td>\n",
              "      <td>Grouper</td>\n",
              "      <td>Bikes</td>\n",
              "      <td>EDDM</td>\n",
              "      <td>StatisticRegressor</td>\n",
              "      <td>AdaptiveRandomForestClassifier</td>\n",
              "      <td>...</td>\n",
              "      <td>FeatureHasher</td>\n",
              "      <td>__all__</td>\n",
              "      <td>FunkMF</td>\n",
              "      <td>__builtins__</td>\n",
              "      <td>BayesianMean</td>\n",
              "      <td>__builtins__</td>\n",
              "      <td>ConceptDriftStream</td>\n",
              "      <td>HoltWinters</td>\n",
              "      <td>HoeffdingAdaptiveTreeRegressor</td>\n",
              "      <td>__all__</td>\n",
              "    </tr>\n",
              "    <tr>\n",
              "      <th>3</th>\n",
              "      <td>EpsilonGreedy</td>\n",
              "      <td>OneClassSVM</td>\n",
              "      <td>DriftDetector</td>\n",
              "      <td>KMeans</td>\n",
              "      <td>River2SKLClusterer</td>\n",
              "      <td>Pipeline</td>\n",
              "      <td>ChickWeights</td>\n",
              "      <td>HDDM_A</td>\n",
              "      <td>__all__</td>\n",
              "      <td>AdaptiveRandomForestRegressor</td>\n",
              "      <td>...</td>\n",
              "      <td>LDA</td>\n",
              "      <td>__builtins__</td>\n",
              "      <td>RandomNormal</td>\n",
              "      <td>__cached__</td>\n",
              "      <td>Bivariate</td>\n",
              "      <td>__cached__</td>\n",
              "      <td>Friedman</td>\n",
              "      <td>HorizonMetric</td>\n",
              "      <td>HoeffdingTreeClassifier</td>\n",
              "      <td>__builtins__</td>\n",
              "    </tr>\n",
              "    <tr>\n",
              "      <th>4</th>\n",
              "      <td>UCB</td>\n",
              "      <td>QuantileThresholder</td>\n",
              "      <td>Ensemble</td>\n",
              "      <td>STREAMKMeans</td>\n",
              "      <td>River2SKLRegressor</td>\n",
              "      <td>Prefixer</td>\n",
              "      <td>CreditCard</td>\n",
              "      <td>HDDM_W</td>\n",
              "      <td>__builtins__</td>\n",
              "      <td>BaggingClassifier</td>\n",
              "      <td>...</td>\n",
              "      <td>MaxAbsScaler</td>\n",
              "      <td>__cached__</td>\n",
              "      <td>Ranker</td>\n",
              "      <td>__doc__</td>\n",
              "      <td>Count</td>\n",
              "      <td>__doc__</td>\n",
              "      <td>FriedmanDrift</td>\n",
              "      <td>SNARIMAX</td>\n",
              "      <td>HoeffdingTreeRegressor</td>\n",
              "      <td>__cached__</td>\n",
              "    </tr>\n",
              "    <tr>\n",
              "      <th>5</th>\n",
              "      <td>__all__</td>\n",
              "      <td>__all__</td>\n",
              "      <td>Estimator</td>\n",
              "      <td>__all__</td>\n",
              "      <td>River2SKLTransformer</td>\n",
              "      <td>Renamer</td>\n",
              "      <td>Elec2</td>\n",
              "      <td>KSWIN</td>\n",
              "      <td>__cached__</td>\n",
              "      <td>BaggingRegressor</td>\n",
              "      <td>...</td>\n",
              "      <td>MinMaxScaler</td>\n",
              "      <td>__doc__</td>\n",
              "      <td>__all__</td>\n",
              "      <td>__file__</td>\n",
              "      <td>Cov</td>\n",
              "      <td>__file__</td>\n",
              "      <td>Hyperplane</td>\n",
              "      <td>__all__</td>\n",
              "      <td>LabelCombinationHoeffdingTreeClassifier</td>\n",
              "      <td>__doc__</td>\n",
              "    </tr>\n",
              "    <tr>\n",
              "      <th>6</th>\n",
              "      <td>__builtins__</td>\n",
              "      <td>__builtins__</td>\n",
              "      <td>MiniBatchClassifier</td>\n",
              "      <td>__builtins__</td>\n",
              "      <td>SKL2RiverClassifier</td>\n",
              "      <td>Select</td>\n",
              "      <td>HTTP</td>\n",
              "      <td>PageHinkley</td>\n",
              "      <td>__doc__</td>\n",
              "      <td>EWARegressor</td>\n",
              "      <td>...</td>\n",
              "      <td>Normalizer</td>\n",
              "      <td>__file__</td>\n",
              "      <td>__builtins__</td>\n",
              "      <td>__loader__</td>\n",
              "      <td>EWMean</td>\n",
              "      <td>__loader__</td>\n",
              "      <td>LED</td>\n",
              "      <td>__builtins__</td>\n",
              "      <td>SGTClassifier</td>\n",
              "      <td>__file__</td>\n",
              "    </tr>\n",
              "    <tr>\n",
              "      <th>7</th>\n",
              "      <td>__cached__</td>\n",
              "      <td>__cached__</td>\n",
              "      <td>MiniBatchRegressor</td>\n",
              "      <td>__cached__</td>\n",
              "      <td>SKL2RiverRegressor</td>\n",
              "      <td>SelectType</td>\n",
              "      <td>Higgs</td>\n",
              "      <td>__all__</td>\n",
              "      <td>__file__</td>\n",
              "      <td>LeveragingBaggingClassifier</td>\n",
              "      <td>...</td>\n",
              "      <td>OneHotEncoder</td>\n",
              "      <td>__loader__</td>\n",
              "      <td>__cached__</td>\n",
              "      <td>__name__</td>\n",
              "      <td>EWVar</td>\n",
              "      <td>__name__</td>\n",
              "      <td>LEDDrift</td>\n",
              "      <td>__cached__</td>\n",
              "      <td>SGTRegressor</td>\n",
              "      <td>__loader__</td>\n",
              "    </tr>\n",
              "    <tr>\n",
              "      <th>8</th>\n",
              "      <td>__doc__</td>\n",
              "      <td>__doc__</td>\n",
              "      <td>MiniBatchTransformer</td>\n",
              "      <td>__doc__</td>\n",
              "      <td>__all__</td>\n",
              "      <td>Suffixer</td>\n",
              "      <td>ImageSegments</td>\n",
              "      <td>__builtins__</td>\n",
              "      <td>__loader__</td>\n",
              "      <td>SRPClassifier</td>\n",
              "      <td>...</td>\n",
              "      <td>PredClipper</td>\n",
              "      <td>__name__</td>\n",
              "      <td>__doc__</td>\n",
              "      <td>__package__</td>\n",
              "      <td>Entropy</td>\n",
              "      <td>__package__</td>\n",
              "      <td>Logical</td>\n",
              "      <td>__doc__</td>\n",
              "      <td>__all__</td>\n",
              "      <td>__name__</td>\n",
              "    </tr>\n",
              "    <tr>\n",
              "      <th>9</th>\n",
              "      <td>__file__</td>\n",
              "      <td>__file__</td>\n",
              "      <td>MultiOutputMixin</td>\n",
              "      <td>__file__</td>\n",
              "      <td>__annotations__</td>\n",
              "      <td>TargetTransformRegressor</td>\n",
              "      <td>Insects</td>\n",
              "      <td>__cached__</td>\n",
              "      <td>__name__</td>\n",
              "      <td>SRPRegressor</td>\n",
              "      <td>...</td>\n",
              "      <td>PreviousImputer</td>\n",
              "      <td>__package__</td>\n",
              "      <td>__file__</td>\n",
              "      <td>__path__</td>\n",
              "      <td>IQR</td>\n",
              "      <td>__path__</td>\n",
              "      <td>Mixed</td>\n",
              "      <td>__file__</td>\n",
              "      <td>__builtins__</td>\n",
              "      <td>__package__</td>\n",
              "    </tr>\n",
              "    <tr>\n",
              "      <th>10</th>\n",
              "      <td>__loader__</td>\n",
              "      <td>__loader__</td>\n",
              "      <td>Regressor</td>\n",
              "      <td>__loader__</td>\n",
              "      <td>__builtins__</td>\n",
              "      <td>TransformerProduct</td>\n",
              "      <td>Keystroke</td>\n",
              "      <td>__doc__</td>\n",
              "      <td>__package__</td>\n",
              "      <td>StackingClassifier</td>\n",
              "      <td>...</td>\n",
              "      <td>RobustScaler</td>\n",
              "      <td>__path__</td>\n",
              "      <td>__loader__</td>\n",
              "      <td>__spec__</td>\n",
              "      <td>Kurtosis</td>\n",
              "      <td>__spec__</td>\n",
              "      <td>Mv</td>\n",
              "      <td>__loader__</td>\n",
              "      <td>__cached__</td>\n",
              "      <td>__path__</td>\n",
              "    </tr>\n",
              "    <tr>\n",
              "      <th>11</th>\n",
              "      <td>__name__</td>\n",
              "      <td>__name__</td>\n",
              "      <td>SupervisedTransformer</td>\n",
              "      <td>__name__</td>\n",
              "      <td>__cached__</td>\n",
              "      <td>TransformerUnion</td>\n",
              "      <td>MaliciousURL</td>\n",
              "      <td>__file__</td>\n",
              "      <td>__spec__</td>\n",
              "      <td>VotingClassifier</td>\n",
              "      <td>...</td>\n",
              "      <td>StandardScaler</td>\n",
              "      <td>__spec__</td>\n",
              "      <td>__name__</td>\n",
              "      <td>amrules</td>\n",
              "      <td>Link</td>\n",
              "      <td>cache</td>\n",
              "      <td>Planes2D</td>\n",
              "      <td>__name__</td>\n",
              "      <td>__doc__</td>\n",
              "      <td>__spec__</td>\n",
              "    </tr>\n",
              "    <tr>\n",
              "      <th>12</th>\n",
              "      <td>__package__</td>\n",
              "      <td>__package__</td>\n",
              "      <td>Transformer</td>\n",
              "      <td>__package__</td>\n",
              "      <td>__doc__</td>\n",
              "      <td>__all__</td>\n",
              "      <td>MovieLens100K</td>\n",
              "      <td>__loader__</td>\n",
              "      <td>base</td>\n",
              "      <td>__all__</td>\n",
              "      <td>...</td>\n",
              "      <td>StatImputer</td>\n",
              "      <td>base</td>\n",
              "      <td>__package__</td>\n",
              "      <td>base</td>\n",
              "      <td>MAD</td>\n",
              "      <td>iter_arff</td>\n",
              "      <td>RandomRBF</td>\n",
              "      <td>__package__</td>\n",
              "      <td>__file__</td>\n",
              "      <td>context_managers</td>\n",
              "    </tr>\n",
              "  </tbody>\n",
              "</table>\n",
              "<p>13 rows × 35 columns</p>\n",
              "</div>\n",
              "      <button class=\"colab-df-convert\" onclick=\"convertToInteractive('df-d95ed831-e76a-4a7e-ad85-7884db86fb6a')\"\n",
              "              title=\"Convert this dataframe to an interactive table.\"\n",
              "              style=\"display:none;\">\n",
              "        \n",
              "  <svg xmlns=\"http://www.w3.org/2000/svg\" height=\"24px\"viewBox=\"0 0 24 24\"\n",
              "       width=\"24px\">\n",
              "    <path d=\"M0 0h24v24H0V0z\" fill=\"none\"/>\n",
              "    <path d=\"M18.56 5.44l.94 2.06.94-2.06 2.06-.94-2.06-.94-.94-2.06-.94 2.06-2.06.94zm-11 1L8.5 8.5l.94-2.06 2.06-.94-2.06-.94L8.5 2.5l-.94 2.06-2.06.94zm10 10l.94 2.06.94-2.06 2.06-.94-2.06-.94-.94-2.06-.94 2.06-2.06.94z\"/><path d=\"M17.41 7.96l-1.37-1.37c-.4-.4-.92-.59-1.43-.59-.52 0-1.04.2-1.43.59L10.3 9.45l-7.72 7.72c-.78.78-.78 2.05 0 2.83L4 21.41c.39.39.9.59 1.41.59.51 0 1.02-.2 1.41-.59l7.78-7.78 2.81-2.81c.8-.78.8-2.07 0-2.86zM5.41 20L4 18.59l7.72-7.72 1.47 1.35L5.41 20z\"/>\n",
              "  </svg>\n",
              "      </button>\n",
              "      \n",
              "  <style>\n",
              "    .colab-df-container {\n",
              "      display:flex;\n",
              "      flex-wrap:wrap;\n",
              "      gap: 12px;\n",
              "    }\n",
              "\n",
              "    .colab-df-convert {\n",
              "      background-color: #E8F0FE;\n",
              "      border: none;\n",
              "      border-radius: 50%;\n",
              "      cursor: pointer;\n",
              "      display: none;\n",
              "      fill: #1967D2;\n",
              "      height: 32px;\n",
              "      padding: 0 0 0 0;\n",
              "      width: 32px;\n",
              "    }\n",
              "\n",
              "    .colab-df-convert:hover {\n",
              "      background-color: #E2EBFA;\n",
              "      box-shadow: 0px 1px 2px rgba(60, 64, 67, 0.3), 0px 1px 3px 1px rgba(60, 64, 67, 0.15);\n",
              "      fill: #174EA6;\n",
              "    }\n",
              "\n",
              "    [theme=dark] .colab-df-convert {\n",
              "      background-color: #3B4455;\n",
              "      fill: #D2E3FC;\n",
              "    }\n",
              "\n",
              "    [theme=dark] .colab-df-convert:hover {\n",
              "      background-color: #434B5C;\n",
              "      box-shadow: 0px 1px 3px 1px rgba(0, 0, 0, 0.15);\n",
              "      filter: drop-shadow(0px 1px 2px rgba(0, 0, 0, 0.3));\n",
              "      fill: #FFFFFF;\n",
              "    }\n",
              "  </style>\n",
              "\n",
              "      <script>\n",
              "        const buttonEl =\n",
              "          document.querySelector('#df-d95ed831-e76a-4a7e-ad85-7884db86fb6a button.colab-df-convert');\n",
              "        buttonEl.style.display =\n",
              "          google.colab.kernel.accessAllowed ? 'block' : 'none';\n",
              "\n",
              "        async function convertToInteractive(key) {\n",
              "          const element = document.querySelector('#df-d95ed831-e76a-4a7e-ad85-7884db86fb6a');\n",
              "          const dataTable =\n",
              "            await google.colab.kernel.invokeFunction('convertToInteractive',\n",
              "                                                     [key], {});\n",
              "          if (!dataTable) return;\n",
              "\n",
              "          const docLinkHtml = 'Like what you see? Visit the ' +\n",
              "            '<a target=\"_blank\" href=https://colab.research.google.com/notebooks/data_table.ipynb>data table notebook</a>'\n",
              "            + ' to learn more about interactive tables.';\n",
              "          element.innerHTML = '';\n",
              "          dataTable['output_type'] = 'display_data';\n",
              "          await google.colab.output.renderOutput(dataTable, element);\n",
              "          const docLink = document.createElement('div');\n",
              "          docLink.innerHTML = docLinkHtml;\n",
              "          element.appendChild(docLink);\n",
              "        }\n",
              "      </script>\n",
              "    </div>\n",
              "  </div>\n",
              "  "
            ]
          },
          "metadata": {},
          "execution_count": 11
        }
      ]
    },
    {
      "cell_type": "code",
      "source": [
        "### Data: Predict if a text if hardware or software related\n",
        "data = [(\"my unit test failed\",\"software\"),\n",
        "(\"tried the program, but it was buggy\",\"software\"),\n",
        "(\"i need a new power supply\",\"hardware\"),\n",
        "(\"the drive has a 2TB capacity\",\"hardware\"),\n",
        "(\"unit-tests\",\"software\"),\n",
        "(\"program\",\"software\"),\n",
        "(\"power supply\",\"hardware\"),\n",
        "(\"drive\",\"hardware\"),\n",
        "(\"it needs more memory\",\"hardware\"),\n",
        "(\"check the API\",\"software\"),\n",
        "(\"design the API\",\"software\"),\n",
        "(\"they need more CPU\",\"hardware\"),\n",
        "(\"code\",\"software\"),\n",
        "(\"i found some bugs in the code\",\"software\"),\n",
        "(\"i swapped the memory\",\"hardware\"),\n",
        "(\"i tested the code\",\"software\")]\n",
        "\n",
        "test_data = [('he writes code daily','software'), \n",
        "             ('the disk is faulty','hardware'), \n",
        "             (\"refactor the code\",\"software\"),\n",
        "             ('no empty space on the drive','hardware')]"
      ],
      "metadata": {
        "id": "HXPN22V5BTCv"
      },
      "execution_count": null,
      "outputs": []
    },
    {
      "cell_type": "markdown",
      "source": [
        "**Text classification**\n",
        "*   vectorized the text\n",
        "  *   CountVectorizer/ BagOfWords\n",
        "  *   TFIDF \n",
        "*   build model on the go\n",
        "\n"
      ],
      "metadata": {
        "id": "ISkhrFvfF8rn"
      }
    },
    {
      "cell_type": "code",
      "source": [
        "    #  Make a Pipeline\n",
        "from river.compose import Pipeline"
      ],
      "metadata": {
        "id": "A0834ED5F01O"
      },
      "execution_count": null,
      "outputs": []
    },
    {
      "cell_type": "code",
      "source": [
        "pipe_nb = Pipeline(('vectorizer',BagOfWords(lowercase=True)),('nb',MultinomialNB()))"
      ],
      "metadata": {
        "id": "w43QTLWDGt_o"
      },
      "execution_count": null,
      "outputs": []
    },
    {
      "cell_type": "code",
      "source": [
        "### Visualize the Pipeline\n",
        "pipe_nb"
      ],
      "metadata": {
        "colab": {
          "base_uri": "https://localhost:8080/",
          "height": 158
        },
        "id": "EUZSpX8MGvzm",
        "outputId": "5f01dce9-ddf4-4272-db13-d7b8284c2e91"
      },
      "execution_count": null,
      "outputs": [
        {
          "output_type": "execute_result",
          "data": {
            "text/plain": [
              "Pipeline (\n",
              "  BagOfWords (\n",
              "    on=None\n",
              "    strip_accents=True\n",
              "    lowercase=True\n",
              "    preprocessor=None\n",
              "    tokenizer=<built-in method findall of re.Pattern object at 0x7f047077d1d0>\n",
              "    ngram_range=(1, 1)\n",
              "  ),\n",
              "  MultinomialNB (\n",
              "    alpha=1.\n",
              "  )\n",
              ")"
            ],
            "text/html": [
              "<div><div class=\"component pipeline\"><details class=\"component estimator\"><summary><pre class=\"estimator-name\">BagOfWords</pre></summary><code class=\"estimator-params\">\n",
              "{'lowercase': True,\n",
              " 'ngram_range': (1, 1),\n",
              " 'on': None,\n",
              " 'preprocessor': None,\n",
              " 'processing_steps': [&lt;function strip_accents_unicode at 0x7f04707cf950&gt;,\n",
              "                      &lt;method 'lower' of 'str' objects&gt;,\n",
              "                      &lt;built-in method findall of re.Pattern object at 0x7f047077d1d0&gt;],\n",
              " 'strip_accents': True,\n",
              " 'tokenizer': &lt;built-in method findall of re.Pattern object at 0x7f047077d1d0&gt;}\n",
              "\n",
              "</code></details><details class=\"component estimator\"><summary><pre class=\"estimator-name\">MultinomialNB</pre></summary><code class=\"estimator-params\">\n",
              "{'alpha': 1.0,\n",
              " 'class_counts': Counter(),\n",
              " 'class_totals': Counter(),\n",
              " 'feature_counts': defaultdict(&lt;class 'collections.Counter'&gt;, {})}\n",
              "\n",
              "</code></details></div><style scoped>\n",
              ".estimator {\n",
              "    padding: 1em;\n",
              "    border-style: solid;\n",
              "    background: white;\n",
              "}\n",
              "\n",
              ".pipeline {\n",
              "    display: flex;\n",
              "    flex-direction: column;\n",
              "    align-items: center;\n",
              "    background: linear-gradient(#000, #000) no-repeat center / 3px 100%;\n",
              "}\n",
              "\n",
              ".union {\n",
              "    display: flex;\n",
              "    flex-direction: row;\n",
              "    align-items: center;\n",
              "    justify-content: center;\n",
              "    padding: 1em;\n",
              "    border-style: solid;\n",
              "    background: white\n",
              "}\n",
              "\n",
              ".wrapper {\n",
              "    display: flex;\n",
              "    flex-direction: column;\n",
              "    align-items: center;\n",
              "    justify-content: center;\n",
              "    padding: 1em;\n",
              "    border-style: solid;\n",
              "    background: white;\n",
              "}\n",
              "\n",
              ".wrapper > .estimator {\n",
              "    margin-top: 1em;\n",
              "}\n",
              "\n",
              "/* Vertical spacing between steps */\n",
              "\n",
              ".component + .component {\n",
              "    margin-top: 2em;\n",
              "}\n",
              "\n",
              ".union > .estimator {\n",
              "    margin-top: 0;\n",
              "}\n",
              "\n",
              ".union > .pipeline {\n",
              "    margin-top: 0;\n",
              "}\n",
              "\n",
              "/* Spacing within a union of estimators */\n",
              "\n",
              ".union > .component + .component {\n",
              "    margin-left: 1em;\n",
              "}\n",
              "\n",
              "/* Typography */\n",
              "\n",
              ".estimator-params {\n",
              "    display: block;\n",
              "    white-space: pre-wrap;\n",
              "    font-size: 120%;\n",
              "    margin-bottom: -1em;\n",
              "}\n",
              "\n",
              ".estimator > code,\n",
              ".wrapper > details > code {\n",
              "    background-color: white !important;\n",
              "}\n",
              "\n",
              ".estimator-name {\n",
              "    display: inline;\n",
              "    margin: 0;\n",
              "    font-size: 130%;\n",
              "}\n",
              "\n",
              "/* Toggle */\n",
              "\n",
              "summary {\n",
              "    display: flex;\n",
              "    align-items:center;\n",
              "    cursor: pointer;\n",
              "}\n",
              "\n",
              "summary > div {\n",
              "    width: 100%;\n",
              "}\n",
              "</style></div>"
            ]
          },
          "metadata": {},
          "execution_count": 15
        }
      ]
    },
    {
      "cell_type": "code",
      "source": [
        "  # Get steps\n",
        "pipe_nb.steps"
      ],
      "metadata": {
        "colab": {
          "base_uri": "https://localhost:8080/"
        },
        "id": "YVujw1esGxYw",
        "outputId": "2a5e11a5-d481-43cb-f27c-c77531dde3f3"
      },
      "execution_count": null,
      "outputs": [
        {
          "output_type": "execute_result",
          "data": {
            "text/plain": [
              "OrderedDict([('vectorizer', BagOfWords (\n",
              "                on=None\n",
              "                strip_accents=True\n",
              "                lowercase=True\n",
              "                preprocessor=None\n",
              "                tokenizer=<built-in method findall of re.Pattern object at 0x7f047077d1d0>\n",
              "                ngram_range=(1, 1)\n",
              "              )), ('nb', MultinomialNB (\n",
              "                alpha=1.\n",
              "              ))])"
            ]
          },
          "metadata": {},
          "execution_count": 16
        }
      ]
    },
    {
      "cell_type": "code",
      "source": [
        "# Fit on our data\n",
        "# Learn one at a time\n",
        "# learn_one(for river)/ fit_one(for creme)\n",
        "# predict_one\n",
        "\n",
        "for text,label in data:\n",
        "#     print(label)\n",
        "    pipe_nb = pipe_nb.learn_one(text,label)"
      ],
      "metadata": {
        "id": "9ZcBTCtXG2YJ"
      },
      "execution_count": null,
      "outputs": []
    },
    {
      "cell_type": "code",
      "source": [
        "pipe_nb"
      ],
      "metadata": {
        "colab": {
          "base_uri": "https://localhost:8080/",
          "height": 158
        },
        "id": "xk2xApsJG4ND",
        "outputId": "232507f7-1a72-425d-9e03-50c11469875e"
      },
      "execution_count": null,
      "outputs": [
        {
          "output_type": "execute_result",
          "data": {
            "text/plain": [
              "Pipeline (\n",
              "  BagOfWords (\n",
              "    on=None\n",
              "    strip_accents=True\n",
              "    lowercase=True\n",
              "    preprocessor=None\n",
              "    tokenizer=<built-in method findall of re.Pattern object at 0x7f047077d1d0>\n",
              "    ngram_range=(1, 1)\n",
              "  ),\n",
              "  MultinomialNB (\n",
              "    alpha=1.\n",
              "  )\n",
              ")"
            ],
            "text/html": [
              "<div><div class=\"component pipeline\"><details class=\"component estimator\"><summary><pre class=\"estimator-name\">BagOfWords</pre></summary><code class=\"estimator-params\">\n",
              "{'lowercase': True,\n",
              " 'ngram_range': (1, 1),\n",
              " 'on': None,\n",
              " 'preprocessor': None,\n",
              " 'processing_steps': [&lt;function strip_accents_unicode at 0x7f04707cf950&gt;,\n",
              "                      &lt;method 'lower' of 'str' objects&gt;,\n",
              "                      &lt;built-in method findall of re.Pattern object at 0x7f047077d1d0&gt;],\n",
              " 'strip_accents': True,\n",
              " 'tokenizer': &lt;built-in method findall of re.Pattern object at 0x7f047077d1d0&gt;}\n",
              "\n",
              "</code></details><details class=\"component estimator\"><summary><pre class=\"estimator-name\">MultinomialNB</pre></summary><code class=\"estimator-params\">\n",
              "{'alpha': 1.0,\n",
              " 'class_counts': Counter({'software': 9, 'hardware': 7}),\n",
              " 'class_totals': Counter({'software': 30, 'hardware': 23}),\n",
              " 'feature_counts': defaultdict(&lt;class 'collections.Counter'&gt;,\n",
              "                               {'2tb': Counter({'hardware': 1}),\n",
              "                                'api': Counter({'software': 2}),\n",
              "                                'buggy': Counter({'software': 1}),\n",
              "                                'bugs': Counter({'software': 1}),\n",
              "                                'but': Counter({'software': 1}),\n",
              "                                'capacity': Counter({'hardware': 1}),\n",
              "                                'check': Counter({'software': 1}),\n",
              "                                'code': Counter({'software': 3}),\n",
              "                                'cpu': Counter({'hardware': 1}),\n",
              "                                'design': Counter({'software': 1}),\n",
              "                                'drive': Counter({'hardware': 2}),\n",
              "                                'failed': Counter({'software': 1}),\n",
              "                                'found': Counter({'software': 1}),\n",
              "                                'has': Counter({'hardware': 1}),\n",
              "                                'in': Counter({'software': 1}),\n",
              "                                'it': Counter({'software': 1, 'hardware': 1}),\n",
              "                                'memory': Counter({'hardware': 2}),\n",
              "                                'more': Counter({'hardware': 2}),\n",
              "                                'my': Counter({'software': 1}),\n",
              "                                'need': Counter({'hardware': 2}),\n",
              "                                'needs': Counter({'hardware': 1}),\n",
              "                                'new': Counter({'hardware': 1}),\n",
              "                                'power': Counter({'hardware': 2}),\n",
              "                                'program': Counter({'software': 2}),\n",
              "                                'some': Counter({'software': 1}),\n",
              "                                'supply': Counter({'hardware': 2}),\n",
              "                                'swapped': Counter({'hardware': 1}),\n",
              "                                'test': Counter({'software': 1}),\n",
              "                                'tested': Counter({'software': 1}),\n",
              "                                'tests': Counter({'software': 1}),\n",
              "                                'the': Counter({'software': 5, 'hardware': 2}),\n",
              "                                'they': Counter({'hardware': 1}),\n",
              "                                'tried': Counter({'software': 1}),\n",
              "                                'unit': Counter({'software': 2}),\n",
              "                                'was': Counter({'software': 1})})}\n",
              "\n",
              "</code></details></div><style scoped>\n",
              ".estimator {\n",
              "    padding: 1em;\n",
              "    border-style: solid;\n",
              "    background: white;\n",
              "}\n",
              "\n",
              ".pipeline {\n",
              "    display: flex;\n",
              "    flex-direction: column;\n",
              "    align-items: center;\n",
              "    background: linear-gradient(#000, #000) no-repeat center / 3px 100%;\n",
              "}\n",
              "\n",
              ".union {\n",
              "    display: flex;\n",
              "    flex-direction: row;\n",
              "    align-items: center;\n",
              "    justify-content: center;\n",
              "    padding: 1em;\n",
              "    border-style: solid;\n",
              "    background: white\n",
              "}\n",
              "\n",
              ".wrapper {\n",
              "    display: flex;\n",
              "    flex-direction: column;\n",
              "    align-items: center;\n",
              "    justify-content: center;\n",
              "    padding: 1em;\n",
              "    border-style: solid;\n",
              "    background: white;\n",
              "}\n",
              "\n",
              ".wrapper > .estimator {\n",
              "    margin-top: 1em;\n",
              "}\n",
              "\n",
              "/* Vertical spacing between steps */\n",
              "\n",
              ".component + .component {\n",
              "    margin-top: 2em;\n",
              "}\n",
              "\n",
              ".union > .estimator {\n",
              "    margin-top: 0;\n",
              "}\n",
              "\n",
              ".union > .pipeline {\n",
              "    margin-top: 0;\n",
              "}\n",
              "\n",
              "/* Spacing within a union of estimators */\n",
              "\n",
              ".union > .component + .component {\n",
              "    margin-left: 1em;\n",
              "}\n",
              "\n",
              "/* Typography */\n",
              "\n",
              ".estimator-params {\n",
              "    display: block;\n",
              "    white-space: pre-wrap;\n",
              "    font-size: 120%;\n",
              "    margin-bottom: -1em;\n",
              "}\n",
              "\n",
              ".estimator > code,\n",
              ".wrapper > details > code {\n",
              "    background-color: white !important;\n",
              "}\n",
              "\n",
              ".estimator-name {\n",
              "    display: inline;\n",
              "    margin: 0;\n",
              "    font-size: 130%;\n",
              "}\n",
              "\n",
              "/* Toggle */\n",
              "\n",
              "summary {\n",
              "    display: flex;\n",
              "    align-items:center;\n",
              "    cursor: pointer;\n",
              "}\n",
              "\n",
              "summary > div {\n",
              "    width: 100%;\n",
              "}\n",
              "</style></div>"
            ]
          },
          "metadata": {},
          "execution_count": 18
        }
      ]
    },
    {
      "cell_type": "code",
      "source": [
        "# Make Prediction\n",
        "pipe_nb.predict_one(\"I built an API\")"
      ],
      "metadata": {
        "colab": {
          "base_uri": "https://localhost:8080/",
          "height": 35
        },
        "id": "YuceM2ymG55K",
        "outputId": "1bdc29d5-df21-4f7b-fc00-207ac28035ed"
      },
      "execution_count": null,
      "outputs": [
        {
          "output_type": "execute_result",
          "data": {
            "text/plain": [
              "'software'"
            ],
            "application/vnd.google.colaboratory.intrinsic+json": {
              "type": "string"
            }
          },
          "metadata": {},
          "execution_count": 19
        }
      ]
    },
    {
      "cell_type": "code",
      "source": [
        "# Make Prediction\n",
        "pipe_nb.predict_proba_one(\"I built an API\")"
      ],
      "metadata": {
        "colab": {
          "base_uri": "https://localhost:8080/"
        },
        "id": "csWiXygmG8j2",
        "outputId": "b048730d-09fe-4975-8225-9700b87f0952"
      },
      "execution_count": null,
      "outputs": [
        {
          "output_type": "execute_result",
          "data": {
            "text/plain": [
              "{'hardware': 0.2673530356243093, 'software': 0.732646964375691}"
            ]
          },
          "metadata": {},
          "execution_count": 20
        }
      ]
    },
    {
      "cell_type": "code",
      "source": [
        "# Other \n",
        "pipe_nb.predict_one(\"the hard drive  in the computer is damaged\")"
      ],
      "metadata": {
        "colab": {
          "base_uri": "https://localhost:8080/",
          "height": 35
        },
        "id": "5oyL7ilALV1M",
        "outputId": "a1368965-3f45-4c03-fdcf-ffac86e27de8"
      },
      "execution_count": null,
      "outputs": [
        {
          "output_type": "execute_result",
          "data": {
            "text/plain": [
              "'software'"
            ],
            "application/vnd.google.colaboratory.intrinsic+json": {
              "type": "string"
            }
          },
          "metadata": {},
          "execution_count": 21
        }
      ]
    },
    {
      "cell_type": "code",
      "source": [
        "# Prediction Proba\n",
        "# Other \n",
        "pipe_nb.predict_proba_one(\"the hard drive  in the computer is damaged\")"
      ],
      "metadata": {
        "colab": {
          "base_uri": "https://localhost:8080/"
        },
        "id": "czq9_vB9LXxZ",
        "outputId": "5c1146b3-956e-4dea-fdbb-692ad0cbcc73"
      },
      "execution_count": null,
      "outputs": [
        {
          "output_type": "execute_result",
          "data": {
            "text/plain": [
              "{'hardware': 0.4205320629536237, 'software': 0.5794679370463756}"
            ]
          },
          "metadata": {},
          "execution_count": 22
        }
      ]
    },
    {
      "cell_type": "markdown",
      "source": [
        "### Evaluate & Classification\n",
        "+ Accuracy\n",
        "+ Precision/F1,Recall on a prediction"
      ],
      "metadata": {
        "id": "B1PjnMoPLg28"
      }
    },
    {
      "cell_type": "code",
      "source": [
        "test_data"
      ],
      "metadata": {
        "colab": {
          "base_uri": "https://localhost:8080/"
        },
        "id": "0_rn0c3vLZYB",
        "outputId": "1d3680e9-6ff6-4564-b952-f7dc942289b6"
      },
      "execution_count": null,
      "outputs": [
        {
          "output_type": "execute_result",
          "data": {
            "text/plain": [
              "[('he writes code daily', 'software'),\n",
              " ('the disk is faulty', 'hardware'),\n",
              " ('refactor the code', 'software'),\n",
              " ('no empty space on the drive', 'hardware')]"
            ]
          },
          "metadata": {},
          "execution_count": 24
        }
      ]
    },
    {
      "cell_type": "code",
      "source": [
        "y_pred = []\n",
        "for x,y in test_data:\n",
        "    print(x)\n",
        "    res = pipe_nb.predict_one(x)\n",
        "    y_pred.append(res)"
      ],
      "metadata": {
        "colab": {
          "base_uri": "https://localhost:8080/"
        },
        "id": "XXTKP4n2LcNk",
        "outputId": "c92deb55-2bad-4a26-de78-afab6e2fc838"
      },
      "execution_count": null,
      "outputs": [
        {
          "output_type": "stream",
          "name": "stdout",
          "text": [
            "he writes code daily\n",
            "the disk is faulty\n",
            "refactor the code\n",
            "no empty space on the drive\n"
          ]
        }
      ]
    },
    {
      "cell_type": "code",
      "source": [
        "# Classification\n",
        "from river.metrics import ClassificationReport"
      ],
      "metadata": {
        "id": "lv1D-CbLLnMe"
      },
      "execution_count": null,
      "outputs": []
    },
    {
      "cell_type": "code",
      "source": [
        "report = ClassificationReport()"
      ],
      "metadata": {
        "id": "hJC6jaCWLnow"
      },
      "execution_count": null,
      "outputs": []
    },
    {
      "cell_type": "code",
      "source": [
        "# Get y_true/y_test\n",
        "y_pred = []\n",
        "y_test = []\n",
        "for x,y in test_data:\n",
        "    print(x)\n",
        "    res = pipe_nb.predict_one(x)\n",
        "    y_pred.append(res)\n",
        "    y_test.append(y)"
      ],
      "metadata": {
        "colab": {
          "base_uri": "https://localhost:8080/"
        },
        "id": "d9D9YLgrLo0B",
        "outputId": "fee17ee5-a940-4797-b028-b238ac17e41f"
      },
      "execution_count": null,
      "outputs": [
        {
          "output_type": "stream",
          "name": "stdout",
          "text": [
            "he writes code daily\n",
            "the disk is faulty\n",
            "refactor the code\n",
            "no empty space on the drive\n"
          ]
        }
      ]
    },
    {
      "cell_type": "code",
      "source": [
        "print(y_test)\n",
        "print(y_pred)"
      ],
      "metadata": {
        "colab": {
          "base_uri": "https://localhost:8080/"
        },
        "id": "Ixl5qRAgLqZW",
        "outputId": "ff7599a2-dcf1-42f4-a8af-24360f548432"
      },
      "execution_count": null,
      "outputs": [
        {
          "output_type": "stream",
          "name": "stdout",
          "text": [
            "['software', 'hardware', 'software', 'hardware']\n",
            "['software', 'software', 'software', 'hardware']\n"
          ]
        }
      ]
    },
    {
      "cell_type": "code",
      "source": [
        "for yt,yp in zip(y_test,y_pred):\n",
        "    report = report.update(yt,yp)"
      ],
      "metadata": {
        "id": "b7SC3cTrLrom"
      },
      "execution_count": null,
      "outputs": []
    },
    {
      "cell_type": "code",
      "source": [
        "report"
      ],
      "metadata": {
        "colab": {
          "base_uri": "https://localhost:8080/"
        },
        "id": "-ioWOyexMBhT",
        "outputId": "4cd5dcaf-b09d-40cb-e9c6-9c04655950f8"
      },
      "execution_count": null,
      "outputs": [
        {
          "output_type": "execute_result",
          "data": {
            "text/plain": [
              "           Precision   Recall    F1       Support  \n",
              "                                                   \n",
              "hardware     100.00%    50.00%   66.67%         2  \n",
              "software      66.67%   100.00%   80.00%         2  \n",
              "                                                   \n",
              "   Macro      83.33%    75.00%   73.33%            \n",
              "   Micro      75.00%    75.00%   75.00%            \n",
              "Weighted      83.33%    75.00%   73.33%            \n",
              "\n",
              "                  75.00% accuracy                  "
            ]
          },
          "metadata": {},
          "execution_count": 31
        }
      ]
    },
    {
      "cell_type": "code",
      "source": [
        "# Update the Model on the test data & Check Accuracy\n",
        "metric = river.metrics.Accuracy()\n",
        "for text,label in test_data:\n",
        "#     print(label)\n",
        "    y_pred_before = pipe_nb.predict_one(text)\n",
        "    metric = metric.update(label,y_pred_before)\n",
        "    # Has already learnt the pattern\n",
        "    pipe_nb = pipe_nb.learn_one(text,label)"
      ],
      "metadata": {
        "id": "l2D4cdZCMB07"
      },
      "execution_count": null,
      "outputs": []
    },
    {
      "cell_type": "code",
      "source": [
        "  metric"
      ],
      "metadata": {
        "colab": {
          "base_uri": "https://localhost:8080/"
        },
        "id": "O1KEz_0aMD3C",
        "outputId": "c08795a7-95cd-4553-d162-7a6feb7dc02f"
      },
      "execution_count": null,
      "outputs": [
        {
          "output_type": "execute_result",
          "data": {
            "text/plain": [
              "Accuracy: 75.00%"
            ]
          },
          "metadata": {},
          "execution_count": 33
        }
      ]
    },
    {
      "cell_type": "code",
      "source": [
        "# Update the Model & Check Accuracy\n",
        "# On the train data: 100%\n",
        "metric2 = river.metrics.Accuracy()\n",
        "for text,label in data:\n",
        "#     print(label)\n",
        "    y_pred_before = pipe_nb.predict_one(text)\n",
        "    metric2 = metric2.update(label,y_pred_before)\n",
        "    pipe_nb = pipe_nb.learn_one(text,label)"
      ],
      "metadata": {
        "id": "4-zqohO_MF13"
      },
      "execution_count": null,
      "outputs": []
    },
    {
      "cell_type": "code",
      "source": [
        "metric2"
      ],
      "metadata": {
        "colab": {
          "base_uri": "https://localhost:8080/"
        },
        "id": "wfrWCOclMMUf",
        "outputId": "1a34471e-2539-429c-fb1c-907f1bec1bc6"
      },
      "execution_count": null,
      "outputs": [
        {
          "output_type": "execute_result",
          "data": {
            "text/plain": [
              "Accuracy: 100.00%"
            ]
          },
          "metadata": {},
          "execution_count": 35
        }
      ]
    },
    {
      "cell_type": "code",
      "source": [
        "  "
      ],
      "metadata": {
        "id": "jUpcgXGnMRba"
      },
      "execution_count": null,
      "outputs": []
    }
  ]
}