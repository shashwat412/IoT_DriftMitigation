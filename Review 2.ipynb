{
  "nbformat": 4,
  "nbformat_minor": 0,
  "metadata": {
    "colab": {
      "provenance": []
    },
    "kernelspec": {
      "name": "python3",
      "display_name": "Python 3"
    },
    "language_info": {
      "name": "python"
    }
  },
  "cells": [
    {
      "cell_type": "markdown",
      "source": [
        "# Old Things"
      ],
      "metadata": {
        "id": "IYra5ynXNY0-"
      }
    },
    {
      "cell_type": "code",
      "execution_count": null,
      "metadata": {
        "id": "8Gj0lnETMD23"
      },
      "outputs": [],
      "source": [
        "import pandas as pd\n",
        "import numpy as np"
      ]
    },
    {
      "cell_type": "code",
      "source": [
        "from google.colab import drive\n",
        "drive.mount('/content/drive')"
      ],
      "metadata": {
        "colab": {
          "base_uri": "https://localhost:8080/"
        },
        "id": "0xxgMAp3MHu_",
        "outputId": "5b398301-1215-4090-e41a-b9dbfc3f53a1"
      },
      "execution_count": null,
      "outputs": [
        {
          "output_type": "stream",
          "name": "stdout",
          "text": [
            "Drive already mounted at /content/drive; to attempt to forcibly remount, call drive.mount(\"/content/drive\", force_remount=True).\n"
          ]
        }
      ]
    },
    {
      "cell_type": "code",
      "source": [
        "df=pd.read_csv(\"/content/drive/MyDrive/data.csv\",delimiter=',')"
      ],
      "metadata": {
        "id": "85xn2BlZMJj2"
      },
      "execution_count": null,
      "outputs": []
    },
    {
      "cell_type": "code",
      "source": [
        "df.head(5)"
      ],
      "metadata": {
        "colab": {
          "base_uri": "https://localhost:8080/",
          "height": 352
        },
        "id": "XWuT7p38MNU-",
        "outputId": "b24f6e3d-7533-4448-f202-6b937b32473e"
      },
      "execution_count": null,
      "outputs": [
        {
          "output_type": "execute_result",
          "data": {
            "text/plain": [
              "   Unnamed: 0   Destination Port   Flow Duration   Total Fwd Packets  \\\n",
              "0           0              54865               3                   2   \n",
              "1           1              55054             109                   1   \n",
              "2           2              55055              52                   1   \n",
              "3           3              46236              34                   1   \n",
              "4           4              54863               3                   2   \n",
              "\n",
              "    Total Backward Packets  Total Length of Fwd Packets  \\\n",
              "0                        0                           12   \n",
              "1                        1                            6   \n",
              "2                        1                            6   \n",
              "3                        1                            6   \n",
              "4                        0                           12   \n",
              "\n",
              "    Total Length of Bwd Packets   Fwd Packet Length Max  \\\n",
              "0                             0                       6   \n",
              "1                             6                       6   \n",
              "2                             6                       6   \n",
              "3                             6                       6   \n",
              "4                             0                       6   \n",
              "\n",
              "    Fwd Packet Length Min   Fwd Packet Length Mean  ...  \\\n",
              "0                       6                      6.0  ...   \n",
              "1                       6                      6.0  ...   \n",
              "2                       6                      6.0  ...   \n",
              "3                       6                      6.0  ...   \n",
              "4                       6                      6.0  ...   \n",
              "\n",
              "    min_seg_size_forward  Active Mean   Active Std   Active Max   Active Min  \\\n",
              "0                     20          0.0          0.0            0            0   \n",
              "1                     20          0.0          0.0            0            0   \n",
              "2                     20          0.0          0.0            0            0   \n",
              "3                     20          0.0          0.0            0            0   \n",
              "4                     20          0.0          0.0            0            0   \n",
              "\n",
              "   Idle Mean   Idle Std   Idle Max   Idle Min   Label  \n",
              "0        0.0        0.0          0          0  BENIGN  \n",
              "1        0.0        0.0          0          0  BENIGN  \n",
              "2        0.0        0.0          0          0  BENIGN  \n",
              "3        0.0        0.0          0          0  BENIGN  \n",
              "4        0.0        0.0          0          0  BENIGN  \n",
              "\n",
              "[5 rows x 80 columns]"
            ],
            "text/html": [
              "\n",
              "  <div id=\"df-56563597-80ab-46cd-8479-3b77e1e50767\">\n",
              "    <div class=\"colab-df-container\">\n",
              "      <div>\n",
              "<style scoped>\n",
              "    .dataframe tbody tr th:only-of-type {\n",
              "        vertical-align: middle;\n",
              "    }\n",
              "\n",
              "    .dataframe tbody tr th {\n",
              "        vertical-align: top;\n",
              "    }\n",
              "\n",
              "    .dataframe thead th {\n",
              "        text-align: right;\n",
              "    }\n",
              "</style>\n",
              "<table border=\"1\" class=\"dataframe\">\n",
              "  <thead>\n",
              "    <tr style=\"text-align: right;\">\n",
              "      <th></th>\n",
              "      <th>Unnamed: 0</th>\n",
              "      <th>Destination Port</th>\n",
              "      <th>Flow Duration</th>\n",
              "      <th>Total Fwd Packets</th>\n",
              "      <th>Total Backward Packets</th>\n",
              "      <th>Total Length of Fwd Packets</th>\n",
              "      <th>Total Length of Bwd Packets</th>\n",
              "      <th>Fwd Packet Length Max</th>\n",
              "      <th>Fwd Packet Length Min</th>\n",
              "      <th>Fwd Packet Length Mean</th>\n",
              "      <th>...</th>\n",
              "      <th>min_seg_size_forward</th>\n",
              "      <th>Active Mean</th>\n",
              "      <th>Active Std</th>\n",
              "      <th>Active Max</th>\n",
              "      <th>Active Min</th>\n",
              "      <th>Idle Mean</th>\n",
              "      <th>Idle Std</th>\n",
              "      <th>Idle Max</th>\n",
              "      <th>Idle Min</th>\n",
              "      <th>Label</th>\n",
              "    </tr>\n",
              "  </thead>\n",
              "  <tbody>\n",
              "    <tr>\n",
              "      <th>0</th>\n",
              "      <td>0</td>\n",
              "      <td>54865</td>\n",
              "      <td>3</td>\n",
              "      <td>2</td>\n",
              "      <td>0</td>\n",
              "      <td>12</td>\n",
              "      <td>0</td>\n",
              "      <td>6</td>\n",
              "      <td>6</td>\n",
              "      <td>6.0</td>\n",
              "      <td>...</td>\n",
              "      <td>20</td>\n",
              "      <td>0.0</td>\n",
              "      <td>0.0</td>\n",
              "      <td>0</td>\n",
              "      <td>0</td>\n",
              "      <td>0.0</td>\n",
              "      <td>0.0</td>\n",
              "      <td>0</td>\n",
              "      <td>0</td>\n",
              "      <td>BENIGN</td>\n",
              "    </tr>\n",
              "    <tr>\n",
              "      <th>1</th>\n",
              "      <td>1</td>\n",
              "      <td>55054</td>\n",
              "      <td>109</td>\n",
              "      <td>1</td>\n",
              "      <td>1</td>\n",
              "      <td>6</td>\n",
              "      <td>6</td>\n",
              "      <td>6</td>\n",
              "      <td>6</td>\n",
              "      <td>6.0</td>\n",
              "      <td>...</td>\n",
              "      <td>20</td>\n",
              "      <td>0.0</td>\n",
              "      <td>0.0</td>\n",
              "      <td>0</td>\n",
              "      <td>0</td>\n",
              "      <td>0.0</td>\n",
              "      <td>0.0</td>\n",
              "      <td>0</td>\n",
              "      <td>0</td>\n",
              "      <td>BENIGN</td>\n",
              "    </tr>\n",
              "    <tr>\n",
              "      <th>2</th>\n",
              "      <td>2</td>\n",
              "      <td>55055</td>\n",
              "      <td>52</td>\n",
              "      <td>1</td>\n",
              "      <td>1</td>\n",
              "      <td>6</td>\n",
              "      <td>6</td>\n",
              "      <td>6</td>\n",
              "      <td>6</td>\n",
              "      <td>6.0</td>\n",
              "      <td>...</td>\n",
              "      <td>20</td>\n",
              "      <td>0.0</td>\n",
              "      <td>0.0</td>\n",
              "      <td>0</td>\n",
              "      <td>0</td>\n",
              "      <td>0.0</td>\n",
              "      <td>0.0</td>\n",
              "      <td>0</td>\n",
              "      <td>0</td>\n",
              "      <td>BENIGN</td>\n",
              "    </tr>\n",
              "    <tr>\n",
              "      <th>3</th>\n",
              "      <td>3</td>\n",
              "      <td>46236</td>\n",
              "      <td>34</td>\n",
              "      <td>1</td>\n",
              "      <td>1</td>\n",
              "      <td>6</td>\n",
              "      <td>6</td>\n",
              "      <td>6</td>\n",
              "      <td>6</td>\n",
              "      <td>6.0</td>\n",
              "      <td>...</td>\n",
              "      <td>20</td>\n",
              "      <td>0.0</td>\n",
              "      <td>0.0</td>\n",
              "      <td>0</td>\n",
              "      <td>0</td>\n",
              "      <td>0.0</td>\n",
              "      <td>0.0</td>\n",
              "      <td>0</td>\n",
              "      <td>0</td>\n",
              "      <td>BENIGN</td>\n",
              "    </tr>\n",
              "    <tr>\n",
              "      <th>4</th>\n",
              "      <td>4</td>\n",
              "      <td>54863</td>\n",
              "      <td>3</td>\n",
              "      <td>2</td>\n",
              "      <td>0</td>\n",
              "      <td>12</td>\n",
              "      <td>0</td>\n",
              "      <td>6</td>\n",
              "      <td>6</td>\n",
              "      <td>6.0</td>\n",
              "      <td>...</td>\n",
              "      <td>20</td>\n",
              "      <td>0.0</td>\n",
              "      <td>0.0</td>\n",
              "      <td>0</td>\n",
              "      <td>0</td>\n",
              "      <td>0.0</td>\n",
              "      <td>0.0</td>\n",
              "      <td>0</td>\n",
              "      <td>0</td>\n",
              "      <td>BENIGN</td>\n",
              "    </tr>\n",
              "  </tbody>\n",
              "</table>\n",
              "<p>5 rows × 80 columns</p>\n",
              "</div>\n",
              "      <button class=\"colab-df-convert\" onclick=\"convertToInteractive('df-56563597-80ab-46cd-8479-3b77e1e50767')\"\n",
              "              title=\"Convert this dataframe to an interactive table.\"\n",
              "              style=\"display:none;\">\n",
              "        \n",
              "  <svg xmlns=\"http://www.w3.org/2000/svg\" height=\"24px\"viewBox=\"0 0 24 24\"\n",
              "       width=\"24px\">\n",
              "    <path d=\"M0 0h24v24H0V0z\" fill=\"none\"/>\n",
              "    <path d=\"M18.56 5.44l.94 2.06.94-2.06 2.06-.94-2.06-.94-.94-2.06-.94 2.06-2.06.94zm-11 1L8.5 8.5l.94-2.06 2.06-.94-2.06-.94L8.5 2.5l-.94 2.06-2.06.94zm10 10l.94 2.06.94-2.06 2.06-.94-2.06-.94-.94-2.06-.94 2.06-2.06.94z\"/><path d=\"M17.41 7.96l-1.37-1.37c-.4-.4-.92-.59-1.43-.59-.52 0-1.04.2-1.43.59L10.3 9.45l-7.72 7.72c-.78.78-.78 2.05 0 2.83L4 21.41c.39.39.9.59 1.41.59.51 0 1.02-.2 1.41-.59l7.78-7.78 2.81-2.81c.8-.78.8-2.07 0-2.86zM5.41 20L4 18.59l7.72-7.72 1.47 1.35L5.41 20z\"/>\n",
              "  </svg>\n",
              "      </button>\n",
              "      \n",
              "  <style>\n",
              "    .colab-df-container {\n",
              "      display:flex;\n",
              "      flex-wrap:wrap;\n",
              "      gap: 12px;\n",
              "    }\n",
              "\n",
              "    .colab-df-convert {\n",
              "      background-color: #E8F0FE;\n",
              "      border: none;\n",
              "      border-radius: 50%;\n",
              "      cursor: pointer;\n",
              "      display: none;\n",
              "      fill: #1967D2;\n",
              "      height: 32px;\n",
              "      padding: 0 0 0 0;\n",
              "      width: 32px;\n",
              "    }\n",
              "\n",
              "    .colab-df-convert:hover {\n",
              "      background-color: #E2EBFA;\n",
              "      box-shadow: 0px 1px 2px rgba(60, 64, 67, 0.3), 0px 1px 3px 1px rgba(60, 64, 67, 0.15);\n",
              "      fill: #174EA6;\n",
              "    }\n",
              "\n",
              "    [theme=dark] .colab-df-convert {\n",
              "      background-color: #3B4455;\n",
              "      fill: #D2E3FC;\n",
              "    }\n",
              "\n",
              "    [theme=dark] .colab-df-convert:hover {\n",
              "      background-color: #434B5C;\n",
              "      box-shadow: 0px 1px 3px 1px rgba(0, 0, 0, 0.15);\n",
              "      filter: drop-shadow(0px 1px 2px rgba(0, 0, 0, 0.3));\n",
              "      fill: #FFFFFF;\n",
              "    }\n",
              "  </style>\n",
              "\n",
              "      <script>\n",
              "        const buttonEl =\n",
              "          document.querySelector('#df-56563597-80ab-46cd-8479-3b77e1e50767 button.colab-df-convert');\n",
              "        buttonEl.style.display =\n",
              "          google.colab.kernel.accessAllowed ? 'block' : 'none';\n",
              "\n",
              "        async function convertToInteractive(key) {\n",
              "          const element = document.querySelector('#df-56563597-80ab-46cd-8479-3b77e1e50767');\n",
              "          const dataTable =\n",
              "            await google.colab.kernel.invokeFunction('convertToInteractive',\n",
              "                                                     [key], {});\n",
              "          if (!dataTable) return;\n",
              "\n",
              "          const docLinkHtml = 'Like what you see? Visit the ' +\n",
              "            '<a target=\"_blank\" href=https://colab.research.google.com/notebooks/data_table.ipynb>data table notebook</a>'\n",
              "            + ' to learn more about interactive tables.';\n",
              "          element.innerHTML = '';\n",
              "          dataTable['output_type'] = 'display_data';\n",
              "          await google.colab.output.renderOutput(dataTable, element);\n",
              "          const docLink = document.createElement('div');\n",
              "          docLink.innerHTML = docLinkHtml;\n",
              "          element.appendChild(docLink);\n",
              "        }\n",
              "      </script>\n",
              "    </div>\n",
              "  </div>\n",
              "  "
            ]
          },
          "metadata": {},
          "execution_count": 5
        }
      ]
    },
    {
      "cell_type": "code",
      "source": [
        "df.columns = [c.replace(' ', '') for c in df.columns]\n",
        "df.columns"
      ],
      "metadata": {
        "colab": {
          "base_uri": "https://localhost:8080/"
        },
        "id": "4pskbnwAMNam",
        "outputId": "9271c391-ed82-4325-a3f0-c452fabf4146"
      },
      "execution_count": null,
      "outputs": [
        {
          "output_type": "execute_result",
          "data": {
            "text/plain": [
              "Index(['Unnamed:0', 'DestinationPort', 'FlowDuration', 'TotalFwdPackets',\n",
              "       'TotalBackwardPackets', 'TotalLengthofFwdPackets',\n",
              "       'TotalLengthofBwdPackets', 'FwdPacketLengthMax', 'FwdPacketLengthMin',\n",
              "       'FwdPacketLengthMean', 'FwdPacketLengthStd', 'BwdPacketLengthMax',\n",
              "       'BwdPacketLengthMin', 'BwdPacketLengthMean', 'BwdPacketLengthStd',\n",
              "       'FlowBytes/s', 'FlowPackets/s', 'FlowIATMean', 'FlowIATStd',\n",
              "       'FlowIATMax', 'FlowIATMin', 'FwdIATTotal', 'FwdIATMean', 'FwdIATStd',\n",
              "       'FwdIATMax', 'FwdIATMin', 'BwdIATTotal', 'BwdIATMean', 'BwdIATStd',\n",
              "       'BwdIATMax', 'BwdIATMin', 'FwdPSHFlags', 'BwdPSHFlags', 'FwdURGFlags',\n",
              "       'BwdURGFlags', 'FwdHeaderLength', 'BwdHeaderLength', 'FwdPackets/s',\n",
              "       'BwdPackets/s', 'MinPacketLength', 'MaxPacketLength',\n",
              "       'PacketLengthMean', 'PacketLengthStd', 'PacketLengthVariance',\n",
              "       'FINFlagCount', 'SYNFlagCount', 'RSTFlagCount', 'PSHFlagCount',\n",
              "       'ACKFlagCount', 'URGFlagCount', 'CWEFlagCount', 'ECEFlagCount',\n",
              "       'Down/UpRatio', 'AveragePacketSize', 'AvgFwdSegmentSize',\n",
              "       'AvgBwdSegmentSize', 'FwdHeaderLength.1', 'FwdAvgBytes/Bulk',\n",
              "       'FwdAvgPackets/Bulk', 'FwdAvgBulkRate', 'BwdAvgBytes/Bulk',\n",
              "       'BwdAvgPackets/Bulk', 'BwdAvgBulkRate', 'SubflowFwdPackets',\n",
              "       'SubflowFwdBytes', 'SubflowBwdPackets', 'SubflowBwdBytes',\n",
              "       'Init_Win_bytes_forward', 'Init_Win_bytes_backward', 'act_data_pkt_fwd',\n",
              "       'min_seg_size_forward', 'ActiveMean', 'ActiveStd', 'ActiveMax',\n",
              "       'ActiveMin', 'IdleMean', 'IdleStd', 'IdleMax', 'IdleMin', 'Label'],\n",
              "      dtype='object')"
            ]
          },
          "metadata": {},
          "execution_count": 6
        }
      ]
    },
    {
      "cell_type": "code",
      "source": [
        "def func1(x):\n",
        "    if(x==\"BENIGN\"):\n",
        "        x=0;\n",
        "    else:\n",
        "        x=1;\n",
        "    return x;\n",
        "\n",
        "df.iloc[:,-1]=df.iloc[:,-1].apply(func1)\n",
        "df.head(5)"
      ],
      "metadata": {
        "colab": {
          "base_uri": "https://localhost:8080/",
          "height": 299
        },
        "id": "qKeVGdXAMSBO",
        "outputId": "54837e7a-0256-4122-ce72-af71e1533ebd"
      },
      "execution_count": null,
      "outputs": [
        {
          "output_type": "execute_result",
          "data": {
            "text/plain": [
              "   Unnamed:0  DestinationPort  FlowDuration  TotalFwdPackets  \\\n",
              "0          0            54865             3                2   \n",
              "1          1            55054           109                1   \n",
              "2          2            55055            52                1   \n",
              "3          3            46236            34                1   \n",
              "4          4            54863             3                2   \n",
              "\n",
              "   TotalBackwardPackets  TotalLengthofFwdPackets  TotalLengthofBwdPackets  \\\n",
              "0                     0                       12                        0   \n",
              "1                     1                        6                        6   \n",
              "2                     1                        6                        6   \n",
              "3                     1                        6                        6   \n",
              "4                     0                       12                        0   \n",
              "\n",
              "   FwdPacketLengthMax  FwdPacketLengthMin  FwdPacketLengthMean  ...  \\\n",
              "0                   6                   6                  6.0  ...   \n",
              "1                   6                   6                  6.0  ...   \n",
              "2                   6                   6                  6.0  ...   \n",
              "3                   6                   6                  6.0  ...   \n",
              "4                   6                   6                  6.0  ...   \n",
              "\n",
              "   min_seg_size_forward  ActiveMean  ActiveStd  ActiveMax  ActiveMin  \\\n",
              "0                    20         0.0        0.0          0          0   \n",
              "1                    20         0.0        0.0          0          0   \n",
              "2                    20         0.0        0.0          0          0   \n",
              "3                    20         0.0        0.0          0          0   \n",
              "4                    20         0.0        0.0          0          0   \n",
              "\n",
              "   IdleMean  IdleStd  IdleMax  IdleMin  Label  \n",
              "0       0.0      0.0        0        0      0  \n",
              "1       0.0      0.0        0        0      0  \n",
              "2       0.0      0.0        0        0      0  \n",
              "3       0.0      0.0        0        0      0  \n",
              "4       0.0      0.0        0        0      0  \n",
              "\n",
              "[5 rows x 80 columns]"
            ],
            "text/html": [
              "\n",
              "  <div id=\"df-54cf075f-7bf1-4435-9657-3f475192197f\">\n",
              "    <div class=\"colab-df-container\">\n",
              "      <div>\n",
              "<style scoped>\n",
              "    .dataframe tbody tr th:only-of-type {\n",
              "        vertical-align: middle;\n",
              "    }\n",
              "\n",
              "    .dataframe tbody tr th {\n",
              "        vertical-align: top;\n",
              "    }\n",
              "\n",
              "    .dataframe thead th {\n",
              "        text-align: right;\n",
              "    }\n",
              "</style>\n",
              "<table border=\"1\" class=\"dataframe\">\n",
              "  <thead>\n",
              "    <tr style=\"text-align: right;\">\n",
              "      <th></th>\n",
              "      <th>Unnamed:0</th>\n",
              "      <th>DestinationPort</th>\n",
              "      <th>FlowDuration</th>\n",
              "      <th>TotalFwdPackets</th>\n",
              "      <th>TotalBackwardPackets</th>\n",
              "      <th>TotalLengthofFwdPackets</th>\n",
              "      <th>TotalLengthofBwdPackets</th>\n",
              "      <th>FwdPacketLengthMax</th>\n",
              "      <th>FwdPacketLengthMin</th>\n",
              "      <th>FwdPacketLengthMean</th>\n",
              "      <th>...</th>\n",
              "      <th>min_seg_size_forward</th>\n",
              "      <th>ActiveMean</th>\n",
              "      <th>ActiveStd</th>\n",
              "      <th>ActiveMax</th>\n",
              "      <th>ActiveMin</th>\n",
              "      <th>IdleMean</th>\n",
              "      <th>IdleStd</th>\n",
              "      <th>IdleMax</th>\n",
              "      <th>IdleMin</th>\n",
              "      <th>Label</th>\n",
              "    </tr>\n",
              "  </thead>\n",
              "  <tbody>\n",
              "    <tr>\n",
              "      <th>0</th>\n",
              "      <td>0</td>\n",
              "      <td>54865</td>\n",
              "      <td>3</td>\n",
              "      <td>2</td>\n",
              "      <td>0</td>\n",
              "      <td>12</td>\n",
              "      <td>0</td>\n",
              "      <td>6</td>\n",
              "      <td>6</td>\n",
              "      <td>6.0</td>\n",
              "      <td>...</td>\n",
              "      <td>20</td>\n",
              "      <td>0.0</td>\n",
              "      <td>0.0</td>\n",
              "      <td>0</td>\n",
              "      <td>0</td>\n",
              "      <td>0.0</td>\n",
              "      <td>0.0</td>\n",
              "      <td>0</td>\n",
              "      <td>0</td>\n",
              "      <td>0</td>\n",
              "    </tr>\n",
              "    <tr>\n",
              "      <th>1</th>\n",
              "      <td>1</td>\n",
              "      <td>55054</td>\n",
              "      <td>109</td>\n",
              "      <td>1</td>\n",
              "      <td>1</td>\n",
              "      <td>6</td>\n",
              "      <td>6</td>\n",
              "      <td>6</td>\n",
              "      <td>6</td>\n",
              "      <td>6.0</td>\n",
              "      <td>...</td>\n",
              "      <td>20</td>\n",
              "      <td>0.0</td>\n",
              "      <td>0.0</td>\n",
              "      <td>0</td>\n",
              "      <td>0</td>\n",
              "      <td>0.0</td>\n",
              "      <td>0.0</td>\n",
              "      <td>0</td>\n",
              "      <td>0</td>\n",
              "      <td>0</td>\n",
              "    </tr>\n",
              "    <tr>\n",
              "      <th>2</th>\n",
              "      <td>2</td>\n",
              "      <td>55055</td>\n",
              "      <td>52</td>\n",
              "      <td>1</td>\n",
              "      <td>1</td>\n",
              "      <td>6</td>\n",
              "      <td>6</td>\n",
              "      <td>6</td>\n",
              "      <td>6</td>\n",
              "      <td>6.0</td>\n",
              "      <td>...</td>\n",
              "      <td>20</td>\n",
              "      <td>0.0</td>\n",
              "      <td>0.0</td>\n",
              "      <td>0</td>\n",
              "      <td>0</td>\n",
              "      <td>0.0</td>\n",
              "      <td>0.0</td>\n",
              "      <td>0</td>\n",
              "      <td>0</td>\n",
              "      <td>0</td>\n",
              "    </tr>\n",
              "    <tr>\n",
              "      <th>3</th>\n",
              "      <td>3</td>\n",
              "      <td>46236</td>\n",
              "      <td>34</td>\n",
              "      <td>1</td>\n",
              "      <td>1</td>\n",
              "      <td>6</td>\n",
              "      <td>6</td>\n",
              "      <td>6</td>\n",
              "      <td>6</td>\n",
              "      <td>6.0</td>\n",
              "      <td>...</td>\n",
              "      <td>20</td>\n",
              "      <td>0.0</td>\n",
              "      <td>0.0</td>\n",
              "      <td>0</td>\n",
              "      <td>0</td>\n",
              "      <td>0.0</td>\n",
              "      <td>0.0</td>\n",
              "      <td>0</td>\n",
              "      <td>0</td>\n",
              "      <td>0</td>\n",
              "    </tr>\n",
              "    <tr>\n",
              "      <th>4</th>\n",
              "      <td>4</td>\n",
              "      <td>54863</td>\n",
              "      <td>3</td>\n",
              "      <td>2</td>\n",
              "      <td>0</td>\n",
              "      <td>12</td>\n",
              "      <td>0</td>\n",
              "      <td>6</td>\n",
              "      <td>6</td>\n",
              "      <td>6.0</td>\n",
              "      <td>...</td>\n",
              "      <td>20</td>\n",
              "      <td>0.0</td>\n",
              "      <td>0.0</td>\n",
              "      <td>0</td>\n",
              "      <td>0</td>\n",
              "      <td>0.0</td>\n",
              "      <td>0.0</td>\n",
              "      <td>0</td>\n",
              "      <td>0</td>\n",
              "      <td>0</td>\n",
              "    </tr>\n",
              "  </tbody>\n",
              "</table>\n",
              "<p>5 rows × 80 columns</p>\n",
              "</div>\n",
              "      <button class=\"colab-df-convert\" onclick=\"convertToInteractive('df-54cf075f-7bf1-4435-9657-3f475192197f')\"\n",
              "              title=\"Convert this dataframe to an interactive table.\"\n",
              "              style=\"display:none;\">\n",
              "        \n",
              "  <svg xmlns=\"http://www.w3.org/2000/svg\" height=\"24px\"viewBox=\"0 0 24 24\"\n",
              "       width=\"24px\">\n",
              "    <path d=\"M0 0h24v24H0V0z\" fill=\"none\"/>\n",
              "    <path d=\"M18.56 5.44l.94 2.06.94-2.06 2.06-.94-2.06-.94-.94-2.06-.94 2.06-2.06.94zm-11 1L8.5 8.5l.94-2.06 2.06-.94-2.06-.94L8.5 2.5l-.94 2.06-2.06.94zm10 10l.94 2.06.94-2.06 2.06-.94-2.06-.94-.94-2.06-.94 2.06-2.06.94z\"/><path d=\"M17.41 7.96l-1.37-1.37c-.4-.4-.92-.59-1.43-.59-.52 0-1.04.2-1.43.59L10.3 9.45l-7.72 7.72c-.78.78-.78 2.05 0 2.83L4 21.41c.39.39.9.59 1.41.59.51 0 1.02-.2 1.41-.59l7.78-7.78 2.81-2.81c.8-.78.8-2.07 0-2.86zM5.41 20L4 18.59l7.72-7.72 1.47 1.35L5.41 20z\"/>\n",
              "  </svg>\n",
              "      </button>\n",
              "      \n",
              "  <style>\n",
              "    .colab-df-container {\n",
              "      display:flex;\n",
              "      flex-wrap:wrap;\n",
              "      gap: 12px;\n",
              "    }\n",
              "\n",
              "    .colab-df-convert {\n",
              "      background-color: #E8F0FE;\n",
              "      border: none;\n",
              "      border-radius: 50%;\n",
              "      cursor: pointer;\n",
              "      display: none;\n",
              "      fill: #1967D2;\n",
              "      height: 32px;\n",
              "      padding: 0 0 0 0;\n",
              "      width: 32px;\n",
              "    }\n",
              "\n",
              "    .colab-df-convert:hover {\n",
              "      background-color: #E2EBFA;\n",
              "      box-shadow: 0px 1px 2px rgba(60, 64, 67, 0.3), 0px 1px 3px 1px rgba(60, 64, 67, 0.15);\n",
              "      fill: #174EA6;\n",
              "    }\n",
              "\n",
              "    [theme=dark] .colab-df-convert {\n",
              "      background-color: #3B4455;\n",
              "      fill: #D2E3FC;\n",
              "    }\n",
              "\n",
              "    [theme=dark] .colab-df-convert:hover {\n",
              "      background-color: #434B5C;\n",
              "      box-shadow: 0px 1px 3px 1px rgba(0, 0, 0, 0.15);\n",
              "      filter: drop-shadow(0px 1px 2px rgba(0, 0, 0, 0.3));\n",
              "      fill: #FFFFFF;\n",
              "    }\n",
              "  </style>\n",
              "\n",
              "      <script>\n",
              "        const buttonEl =\n",
              "          document.querySelector('#df-54cf075f-7bf1-4435-9657-3f475192197f button.colab-df-convert');\n",
              "        buttonEl.style.display =\n",
              "          google.colab.kernel.accessAllowed ? 'block' : 'none';\n",
              "\n",
              "        async function convertToInteractive(key) {\n",
              "          const element = document.querySelector('#df-54cf075f-7bf1-4435-9657-3f475192197f');\n",
              "          const dataTable =\n",
              "            await google.colab.kernel.invokeFunction('convertToInteractive',\n",
              "                                                     [key], {});\n",
              "          if (!dataTable) return;\n",
              "\n",
              "          const docLinkHtml = 'Like what you see? Visit the ' +\n",
              "            '<a target=\"_blank\" href=https://colab.research.google.com/notebooks/data_table.ipynb>data table notebook</a>'\n",
              "            + ' to learn more about interactive tables.';\n",
              "          element.innerHTML = '';\n",
              "          dataTable['output_type'] = 'display_data';\n",
              "          await google.colab.output.renderOutput(dataTable, element);\n",
              "          const docLink = document.createElement('div');\n",
              "          docLink.innerHTML = docLinkHtml;\n",
              "          element.appendChild(docLink);\n",
              "        }\n",
              "      </script>\n",
              "    </div>\n",
              "  </div>\n",
              "  "
            ]
          },
          "metadata": {},
          "execution_count": 7
        }
      ]
    },
    {
      "cell_type": "code",
      "source": [
        "df.drop('Unnamed:0', inplace=True, axis=1)"
      ],
      "metadata": {
        "id": "urZoQ4nGMaRe"
      },
      "execution_count": null,
      "outputs": []
    },
    {
      "cell_type": "code",
      "source": [
        "df.head(5)"
      ],
      "metadata": {
        "colab": {
          "base_uri": "https://localhost:8080/",
          "height": 299
        },
        "id": "jKjcJyCrMm8O",
        "outputId": "dba64a7c-f112-4d90-eb6a-3d58fba78e9a"
      },
      "execution_count": null,
      "outputs": [
        {
          "output_type": "execute_result",
          "data": {
            "text/plain": [
              "   DestinationPort  FlowDuration  TotalFwdPackets  TotalBackwardPackets  \\\n",
              "0            54865             3                2                     0   \n",
              "1            55054           109                1                     1   \n",
              "2            55055            52                1                     1   \n",
              "3            46236            34                1                     1   \n",
              "4            54863             3                2                     0   \n",
              "\n",
              "   TotalLengthofFwdPackets  TotalLengthofBwdPackets  FwdPacketLengthMax  \\\n",
              "0                       12                        0                   6   \n",
              "1                        6                        6                   6   \n",
              "2                        6                        6                   6   \n",
              "3                        6                        6                   6   \n",
              "4                       12                        0                   6   \n",
              "\n",
              "   FwdPacketLengthMin  FwdPacketLengthMean  FwdPacketLengthStd  ...  \\\n",
              "0                   6                  6.0                 0.0  ...   \n",
              "1                   6                  6.0                 0.0  ...   \n",
              "2                   6                  6.0                 0.0  ...   \n",
              "3                   6                  6.0                 0.0  ...   \n",
              "4                   6                  6.0                 0.0  ...   \n",
              "\n",
              "   min_seg_size_forward  ActiveMean  ActiveStd  ActiveMax  ActiveMin  \\\n",
              "0                    20         0.0        0.0          0          0   \n",
              "1                    20         0.0        0.0          0          0   \n",
              "2                    20         0.0        0.0          0          0   \n",
              "3                    20         0.0        0.0          0          0   \n",
              "4                    20         0.0        0.0          0          0   \n",
              "\n",
              "   IdleMean  IdleStd  IdleMax  IdleMin  Label  \n",
              "0       0.0      0.0        0        0      0  \n",
              "1       0.0      0.0        0        0      0  \n",
              "2       0.0      0.0        0        0      0  \n",
              "3       0.0      0.0        0        0      0  \n",
              "4       0.0      0.0        0        0      0  \n",
              "\n",
              "[5 rows x 79 columns]"
            ],
            "text/html": [
              "\n",
              "  <div id=\"df-351b2b3b-69e0-42bd-a140-f22a0dfb4aa0\">\n",
              "    <div class=\"colab-df-container\">\n",
              "      <div>\n",
              "<style scoped>\n",
              "    .dataframe tbody tr th:only-of-type {\n",
              "        vertical-align: middle;\n",
              "    }\n",
              "\n",
              "    .dataframe tbody tr th {\n",
              "        vertical-align: top;\n",
              "    }\n",
              "\n",
              "    .dataframe thead th {\n",
              "        text-align: right;\n",
              "    }\n",
              "</style>\n",
              "<table border=\"1\" class=\"dataframe\">\n",
              "  <thead>\n",
              "    <tr style=\"text-align: right;\">\n",
              "      <th></th>\n",
              "      <th>DestinationPort</th>\n",
              "      <th>FlowDuration</th>\n",
              "      <th>TotalFwdPackets</th>\n",
              "      <th>TotalBackwardPackets</th>\n",
              "      <th>TotalLengthofFwdPackets</th>\n",
              "      <th>TotalLengthofBwdPackets</th>\n",
              "      <th>FwdPacketLengthMax</th>\n",
              "      <th>FwdPacketLengthMin</th>\n",
              "      <th>FwdPacketLengthMean</th>\n",
              "      <th>FwdPacketLengthStd</th>\n",
              "      <th>...</th>\n",
              "      <th>min_seg_size_forward</th>\n",
              "      <th>ActiveMean</th>\n",
              "      <th>ActiveStd</th>\n",
              "      <th>ActiveMax</th>\n",
              "      <th>ActiveMin</th>\n",
              "      <th>IdleMean</th>\n",
              "      <th>IdleStd</th>\n",
              "      <th>IdleMax</th>\n",
              "      <th>IdleMin</th>\n",
              "      <th>Label</th>\n",
              "    </tr>\n",
              "  </thead>\n",
              "  <tbody>\n",
              "    <tr>\n",
              "      <th>0</th>\n",
              "      <td>54865</td>\n",
              "      <td>3</td>\n",
              "      <td>2</td>\n",
              "      <td>0</td>\n",
              "      <td>12</td>\n",
              "      <td>0</td>\n",
              "      <td>6</td>\n",
              "      <td>6</td>\n",
              "      <td>6.0</td>\n",
              "      <td>0.0</td>\n",
              "      <td>...</td>\n",
              "      <td>20</td>\n",
              "      <td>0.0</td>\n",
              "      <td>0.0</td>\n",
              "      <td>0</td>\n",
              "      <td>0</td>\n",
              "      <td>0.0</td>\n",
              "      <td>0.0</td>\n",
              "      <td>0</td>\n",
              "      <td>0</td>\n",
              "      <td>0</td>\n",
              "    </tr>\n",
              "    <tr>\n",
              "      <th>1</th>\n",
              "      <td>55054</td>\n",
              "      <td>109</td>\n",
              "      <td>1</td>\n",
              "      <td>1</td>\n",
              "      <td>6</td>\n",
              "      <td>6</td>\n",
              "      <td>6</td>\n",
              "      <td>6</td>\n",
              "      <td>6.0</td>\n",
              "      <td>0.0</td>\n",
              "      <td>...</td>\n",
              "      <td>20</td>\n",
              "      <td>0.0</td>\n",
              "      <td>0.0</td>\n",
              "      <td>0</td>\n",
              "      <td>0</td>\n",
              "      <td>0.0</td>\n",
              "      <td>0.0</td>\n",
              "      <td>0</td>\n",
              "      <td>0</td>\n",
              "      <td>0</td>\n",
              "    </tr>\n",
              "    <tr>\n",
              "      <th>2</th>\n",
              "      <td>55055</td>\n",
              "      <td>52</td>\n",
              "      <td>1</td>\n",
              "      <td>1</td>\n",
              "      <td>6</td>\n",
              "      <td>6</td>\n",
              "      <td>6</td>\n",
              "      <td>6</td>\n",
              "      <td>6.0</td>\n",
              "      <td>0.0</td>\n",
              "      <td>...</td>\n",
              "      <td>20</td>\n",
              "      <td>0.0</td>\n",
              "      <td>0.0</td>\n",
              "      <td>0</td>\n",
              "      <td>0</td>\n",
              "      <td>0.0</td>\n",
              "      <td>0.0</td>\n",
              "      <td>0</td>\n",
              "      <td>0</td>\n",
              "      <td>0</td>\n",
              "    </tr>\n",
              "    <tr>\n",
              "      <th>3</th>\n",
              "      <td>46236</td>\n",
              "      <td>34</td>\n",
              "      <td>1</td>\n",
              "      <td>1</td>\n",
              "      <td>6</td>\n",
              "      <td>6</td>\n",
              "      <td>6</td>\n",
              "      <td>6</td>\n",
              "      <td>6.0</td>\n",
              "      <td>0.0</td>\n",
              "      <td>...</td>\n",
              "      <td>20</td>\n",
              "      <td>0.0</td>\n",
              "      <td>0.0</td>\n",
              "      <td>0</td>\n",
              "      <td>0</td>\n",
              "      <td>0.0</td>\n",
              "      <td>0.0</td>\n",
              "      <td>0</td>\n",
              "      <td>0</td>\n",
              "      <td>0</td>\n",
              "    </tr>\n",
              "    <tr>\n",
              "      <th>4</th>\n",
              "      <td>54863</td>\n",
              "      <td>3</td>\n",
              "      <td>2</td>\n",
              "      <td>0</td>\n",
              "      <td>12</td>\n",
              "      <td>0</td>\n",
              "      <td>6</td>\n",
              "      <td>6</td>\n",
              "      <td>6.0</td>\n",
              "      <td>0.0</td>\n",
              "      <td>...</td>\n",
              "      <td>20</td>\n",
              "      <td>0.0</td>\n",
              "      <td>0.0</td>\n",
              "      <td>0</td>\n",
              "      <td>0</td>\n",
              "      <td>0.0</td>\n",
              "      <td>0.0</td>\n",
              "      <td>0</td>\n",
              "      <td>0</td>\n",
              "      <td>0</td>\n",
              "    </tr>\n",
              "  </tbody>\n",
              "</table>\n",
              "<p>5 rows × 79 columns</p>\n",
              "</div>\n",
              "      <button class=\"colab-df-convert\" onclick=\"convertToInteractive('df-351b2b3b-69e0-42bd-a140-f22a0dfb4aa0')\"\n",
              "              title=\"Convert this dataframe to an interactive table.\"\n",
              "              style=\"display:none;\">\n",
              "        \n",
              "  <svg xmlns=\"http://www.w3.org/2000/svg\" height=\"24px\"viewBox=\"0 0 24 24\"\n",
              "       width=\"24px\">\n",
              "    <path d=\"M0 0h24v24H0V0z\" fill=\"none\"/>\n",
              "    <path d=\"M18.56 5.44l.94 2.06.94-2.06 2.06-.94-2.06-.94-.94-2.06-.94 2.06-2.06.94zm-11 1L8.5 8.5l.94-2.06 2.06-.94-2.06-.94L8.5 2.5l-.94 2.06-2.06.94zm10 10l.94 2.06.94-2.06 2.06-.94-2.06-.94-.94-2.06-.94 2.06-2.06.94z\"/><path d=\"M17.41 7.96l-1.37-1.37c-.4-.4-.92-.59-1.43-.59-.52 0-1.04.2-1.43.59L10.3 9.45l-7.72 7.72c-.78.78-.78 2.05 0 2.83L4 21.41c.39.39.9.59 1.41.59.51 0 1.02-.2 1.41-.59l7.78-7.78 2.81-2.81c.8-.78.8-2.07 0-2.86zM5.41 20L4 18.59l7.72-7.72 1.47 1.35L5.41 20z\"/>\n",
              "  </svg>\n",
              "      </button>\n",
              "      \n",
              "  <style>\n",
              "    .colab-df-container {\n",
              "      display:flex;\n",
              "      flex-wrap:wrap;\n",
              "      gap: 12px;\n",
              "    }\n",
              "\n",
              "    .colab-df-convert {\n",
              "      background-color: #E8F0FE;\n",
              "      border: none;\n",
              "      border-radius: 50%;\n",
              "      cursor: pointer;\n",
              "      display: none;\n",
              "      fill: #1967D2;\n",
              "      height: 32px;\n",
              "      padding: 0 0 0 0;\n",
              "      width: 32px;\n",
              "    }\n",
              "\n",
              "    .colab-df-convert:hover {\n",
              "      background-color: #E2EBFA;\n",
              "      box-shadow: 0px 1px 2px rgba(60, 64, 67, 0.3), 0px 1px 3px 1px rgba(60, 64, 67, 0.15);\n",
              "      fill: #174EA6;\n",
              "    }\n",
              "\n",
              "    [theme=dark] .colab-df-convert {\n",
              "      background-color: #3B4455;\n",
              "      fill: #D2E3FC;\n",
              "    }\n",
              "\n",
              "    [theme=dark] .colab-df-convert:hover {\n",
              "      background-color: #434B5C;\n",
              "      box-shadow: 0px 1px 3px 1px rgba(0, 0, 0, 0.15);\n",
              "      filter: drop-shadow(0px 1px 2px rgba(0, 0, 0, 0.3));\n",
              "      fill: #FFFFFF;\n",
              "    }\n",
              "  </style>\n",
              "\n",
              "      <script>\n",
              "        const buttonEl =\n",
              "          document.querySelector('#df-351b2b3b-69e0-42bd-a140-f22a0dfb4aa0 button.colab-df-convert');\n",
              "        buttonEl.style.display =\n",
              "          google.colab.kernel.accessAllowed ? 'block' : 'none';\n",
              "\n",
              "        async function convertToInteractive(key) {\n",
              "          const element = document.querySelector('#df-351b2b3b-69e0-42bd-a140-f22a0dfb4aa0');\n",
              "          const dataTable =\n",
              "            await google.colab.kernel.invokeFunction('convertToInteractive',\n",
              "                                                     [key], {});\n",
              "          if (!dataTable) return;\n",
              "\n",
              "          const docLinkHtml = 'Like what you see? Visit the ' +\n",
              "            '<a target=\"_blank\" href=https://colab.research.google.com/notebooks/data_table.ipynb>data table notebook</a>'\n",
              "            + ' to learn more about interactive tables.';\n",
              "          element.innerHTML = '';\n",
              "          dataTable['output_type'] = 'display_data';\n",
              "          await google.colab.output.renderOutput(dataTable, element);\n",
              "          const docLink = document.createElement('div');\n",
              "          docLink.innerHTML = docLinkHtml;\n",
              "          element.appendChild(docLink);\n",
              "        }\n",
              "      </script>\n",
              "    </div>\n",
              "  </div>\n",
              "  "
            ]
          },
          "metadata": {},
          "execution_count": 9
        }
      ]
    },
    {
      "cell_type": "code",
      "source": [
        "with pd.option_context('mode.use_inf_as_na', True):\n",
        "    df.dropna(inplace=True)\n",
        "\n",
        "df.head(5)"
      ],
      "metadata": {
        "colab": {
          "base_uri": "https://localhost:8080/"
        },
        "id": "OF23HG3TMol2",
        "outputId": "ad3e7bf3-aa0b-4015-dd0b-752f193c91e8"
      },
      "execution_count": null,
      "outputs": [
        {
          "output_type": "execute_result",
          "data": {
            "text/plain": [
              "   DestinationPort  FlowDuration  TotalFwdPackets  TotalBackwardPackets  \\\n",
              "0            54865             3                2                     0   \n",
              "1            55054           109                1                     1   \n",
              "2            55055            52                1                     1   \n",
              "3            46236            34                1                     1   \n",
              "4            54863             3                2                     0   \n",
              "\n",
              "   TotalLengthofFwdPackets  TotalLengthofBwdPackets  FwdPacketLengthMax  \\\n",
              "0                       12                        0                   6   \n",
              "1                        6                        6                   6   \n",
              "2                        6                        6                   6   \n",
              "3                        6                        6                   6   \n",
              "4                       12                        0                   6   \n",
              "\n",
              "   FwdPacketLengthMin  FwdPacketLengthMean  FwdPacketLengthStd  ...  \\\n",
              "0                   6                  6.0                 0.0  ...   \n",
              "1                   6                  6.0                 0.0  ...   \n",
              "2                   6                  6.0                 0.0  ...   \n",
              "3                   6                  6.0                 0.0  ...   \n",
              "4                   6                  6.0                 0.0  ...   \n",
              "\n",
              "   min_seg_size_forward  ActiveMean  ActiveStd  ActiveMax  ActiveMin  \\\n",
              "0                    20         0.0        0.0          0          0   \n",
              "1                    20         0.0        0.0          0          0   \n",
              "2                    20         0.0        0.0          0          0   \n",
              "3                    20         0.0        0.0          0          0   \n",
              "4                    20         0.0        0.0          0          0   \n",
              "\n",
              "   IdleMean  IdleStd  IdleMax  IdleMin  Label  \n",
              "0       0.0      0.0        0        0      0  \n",
              "1       0.0      0.0        0        0      0  \n",
              "2       0.0      0.0        0        0      0  \n",
              "3       0.0      0.0        0        0      0  \n",
              "4       0.0      0.0        0        0      0  \n",
              "\n",
              "[5 rows x 79 columns]"
            ],
            "text/html": [
              "\n",
              "  <div id=\"df-ea1ea812-8e15-4cca-b9ac-d8bac9a6396a\">\n",
              "    <div class=\"colab-df-container\">\n",
              "      <div>\n",
              "<style scoped>\n",
              "    .dataframe tbody tr th:only-of-type {\n",
              "        vertical-align: middle;\n",
              "    }\n",
              "\n",
              "    .dataframe tbody tr th {\n",
              "        vertical-align: top;\n",
              "    }\n",
              "\n",
              "    .dataframe thead th {\n",
              "        text-align: right;\n",
              "    }\n",
              "</style>\n",
              "<table border=\"1\" class=\"dataframe\">\n",
              "  <thead>\n",
              "    <tr style=\"text-align: right;\">\n",
              "      <th></th>\n",
              "      <th>DestinationPort</th>\n",
              "      <th>FlowDuration</th>\n",
              "      <th>TotalFwdPackets</th>\n",
              "      <th>TotalBackwardPackets</th>\n",
              "      <th>TotalLengthofFwdPackets</th>\n",
              "      <th>TotalLengthofBwdPackets</th>\n",
              "      <th>FwdPacketLengthMax</th>\n",
              "      <th>FwdPacketLengthMin</th>\n",
              "      <th>FwdPacketLengthMean</th>\n",
              "      <th>FwdPacketLengthStd</th>\n",
              "      <th>...</th>\n",
              "      <th>min_seg_size_forward</th>\n",
              "      <th>ActiveMean</th>\n",
              "      <th>ActiveStd</th>\n",
              "      <th>ActiveMax</th>\n",
              "      <th>ActiveMin</th>\n",
              "      <th>IdleMean</th>\n",
              "      <th>IdleStd</th>\n",
              "      <th>IdleMax</th>\n",
              "      <th>IdleMin</th>\n",
              "      <th>Label</th>\n",
              "    </tr>\n",
              "  </thead>\n",
              "  <tbody>\n",
              "    <tr>\n",
              "      <th>0</th>\n",
              "      <td>54865</td>\n",
              "      <td>3</td>\n",
              "      <td>2</td>\n",
              "      <td>0</td>\n",
              "      <td>12</td>\n",
              "      <td>0</td>\n",
              "      <td>6</td>\n",
              "      <td>6</td>\n",
              "      <td>6.0</td>\n",
              "      <td>0.0</td>\n",
              "      <td>...</td>\n",
              "      <td>20</td>\n",
              "      <td>0.0</td>\n",
              "      <td>0.0</td>\n",
              "      <td>0</td>\n",
              "      <td>0</td>\n",
              "      <td>0.0</td>\n",
              "      <td>0.0</td>\n",
              "      <td>0</td>\n",
              "      <td>0</td>\n",
              "      <td>0</td>\n",
              "    </tr>\n",
              "    <tr>\n",
              "      <th>1</th>\n",
              "      <td>55054</td>\n",
              "      <td>109</td>\n",
              "      <td>1</td>\n",
              "      <td>1</td>\n",
              "      <td>6</td>\n",
              "      <td>6</td>\n",
              "      <td>6</td>\n",
              "      <td>6</td>\n",
              "      <td>6.0</td>\n",
              "      <td>0.0</td>\n",
              "      <td>...</td>\n",
              "      <td>20</td>\n",
              "      <td>0.0</td>\n",
              "      <td>0.0</td>\n",
              "      <td>0</td>\n",
              "      <td>0</td>\n",
              "      <td>0.0</td>\n",
              "      <td>0.0</td>\n",
              "      <td>0</td>\n",
              "      <td>0</td>\n",
              "      <td>0</td>\n",
              "    </tr>\n",
              "    <tr>\n",
              "      <th>2</th>\n",
              "      <td>55055</td>\n",
              "      <td>52</td>\n",
              "      <td>1</td>\n",
              "      <td>1</td>\n",
              "      <td>6</td>\n",
              "      <td>6</td>\n",
              "      <td>6</td>\n",
              "      <td>6</td>\n",
              "      <td>6.0</td>\n",
              "      <td>0.0</td>\n",
              "      <td>...</td>\n",
              "      <td>20</td>\n",
              "      <td>0.0</td>\n",
              "      <td>0.0</td>\n",
              "      <td>0</td>\n",
              "      <td>0</td>\n",
              "      <td>0.0</td>\n",
              "      <td>0.0</td>\n",
              "      <td>0</td>\n",
              "      <td>0</td>\n",
              "      <td>0</td>\n",
              "    </tr>\n",
              "    <tr>\n",
              "      <th>3</th>\n",
              "      <td>46236</td>\n",
              "      <td>34</td>\n",
              "      <td>1</td>\n",
              "      <td>1</td>\n",
              "      <td>6</td>\n",
              "      <td>6</td>\n",
              "      <td>6</td>\n",
              "      <td>6</td>\n",
              "      <td>6.0</td>\n",
              "      <td>0.0</td>\n",
              "      <td>...</td>\n",
              "      <td>20</td>\n",
              "      <td>0.0</td>\n",
              "      <td>0.0</td>\n",
              "      <td>0</td>\n",
              "      <td>0</td>\n",
              "      <td>0.0</td>\n",
              "      <td>0.0</td>\n",
              "      <td>0</td>\n",
              "      <td>0</td>\n",
              "      <td>0</td>\n",
              "    </tr>\n",
              "    <tr>\n",
              "      <th>4</th>\n",
              "      <td>54863</td>\n",
              "      <td>3</td>\n",
              "      <td>2</td>\n",
              "      <td>0</td>\n",
              "      <td>12</td>\n",
              "      <td>0</td>\n",
              "      <td>6</td>\n",
              "      <td>6</td>\n",
              "      <td>6.0</td>\n",
              "      <td>0.0</td>\n",
              "      <td>...</td>\n",
              "      <td>20</td>\n",
              "      <td>0.0</td>\n",
              "      <td>0.0</td>\n",
              "      <td>0</td>\n",
              "      <td>0</td>\n",
              "      <td>0.0</td>\n",
              "      <td>0.0</td>\n",
              "      <td>0</td>\n",
              "      <td>0</td>\n",
              "      <td>0</td>\n",
              "    </tr>\n",
              "  </tbody>\n",
              "</table>\n",
              "<p>5 rows × 79 columns</p>\n",
              "</div>\n",
              "      <button class=\"colab-df-convert\" onclick=\"convertToInteractive('df-ea1ea812-8e15-4cca-b9ac-d8bac9a6396a')\"\n",
              "              title=\"Convert this dataframe to an interactive table.\"\n",
              "              style=\"display:none;\">\n",
              "        \n",
              "  <svg xmlns=\"http://www.w3.org/2000/svg\" height=\"24px\"viewBox=\"0 0 24 24\"\n",
              "       width=\"24px\">\n",
              "    <path d=\"M0 0h24v24H0V0z\" fill=\"none\"/>\n",
              "    <path d=\"M18.56 5.44l.94 2.06.94-2.06 2.06-.94-2.06-.94-.94-2.06-.94 2.06-2.06.94zm-11 1L8.5 8.5l.94-2.06 2.06-.94-2.06-.94L8.5 2.5l-.94 2.06-2.06.94zm10 10l.94 2.06.94-2.06 2.06-.94-2.06-.94-.94-2.06-.94 2.06-2.06.94z\"/><path d=\"M17.41 7.96l-1.37-1.37c-.4-.4-.92-.59-1.43-.59-.52 0-1.04.2-1.43.59L10.3 9.45l-7.72 7.72c-.78.78-.78 2.05 0 2.83L4 21.41c.39.39.9.59 1.41.59.51 0 1.02-.2 1.41-.59l7.78-7.78 2.81-2.81c.8-.78.8-2.07 0-2.86zM5.41 20L4 18.59l7.72-7.72 1.47 1.35L5.41 20z\"/>\n",
              "  </svg>\n",
              "      </button>\n",
              "      \n",
              "  <style>\n",
              "    .colab-df-container {\n",
              "      display:flex;\n",
              "      flex-wrap:wrap;\n",
              "      gap: 12px;\n",
              "    }\n",
              "\n",
              "    .colab-df-convert {\n",
              "      background-color: #E8F0FE;\n",
              "      border: none;\n",
              "      border-radius: 50%;\n",
              "      cursor: pointer;\n",
              "      display: none;\n",
              "      fill: #1967D2;\n",
              "      height: 32px;\n",
              "      padding: 0 0 0 0;\n",
              "      width: 32px;\n",
              "    }\n",
              "\n",
              "    .colab-df-convert:hover {\n",
              "      background-color: #E2EBFA;\n",
              "      box-shadow: 0px 1px 2px rgba(60, 64, 67, 0.3), 0px 1px 3px 1px rgba(60, 64, 67, 0.15);\n",
              "      fill: #174EA6;\n",
              "    }\n",
              "\n",
              "    [theme=dark] .colab-df-convert {\n",
              "      background-color: #3B4455;\n",
              "      fill: #D2E3FC;\n",
              "    }\n",
              "\n",
              "    [theme=dark] .colab-df-convert:hover {\n",
              "      background-color: #434B5C;\n",
              "      box-shadow: 0px 1px 3px 1px rgba(0, 0, 0, 0.15);\n",
              "      filter: drop-shadow(0px 1px 2px rgba(0, 0, 0, 0.3));\n",
              "      fill: #FFFFFF;\n",
              "    }\n",
              "  </style>\n",
              "\n",
              "      <script>\n",
              "        const buttonEl =\n",
              "          document.querySelector('#df-ea1ea812-8e15-4cca-b9ac-d8bac9a6396a button.colab-df-convert');\n",
              "        buttonEl.style.display =\n",
              "          google.colab.kernel.accessAllowed ? 'block' : 'none';\n",
              "\n",
              "        async function convertToInteractive(key) {\n",
              "          const element = document.querySelector('#df-ea1ea812-8e15-4cca-b9ac-d8bac9a6396a');\n",
              "          const dataTable =\n",
              "            await google.colab.kernel.invokeFunction('convertToInteractive',\n",
              "                                                     [key], {});\n",
              "          if (!dataTable) return;\n",
              "\n",
              "          const docLinkHtml = 'Like what you see? Visit the ' +\n",
              "            '<a target=\"_blank\" href=https://colab.research.google.com/notebooks/data_table.ipynb>data table notebook</a>'\n",
              "            + ' to learn more about interactive tables.';\n",
              "          element.innerHTML = '';\n",
              "          dataTable['output_type'] = 'display_data';\n",
              "          await google.colab.output.renderOutput(dataTable, element);\n",
              "          const docLink = document.createElement('div');\n",
              "          docLink.innerHTML = docLinkHtml;\n",
              "          element.appendChild(docLink);\n",
              "        }\n",
              "      </script>\n",
              "    </div>\n",
              "  </div>\n",
              "  "
            ]
          },
          "metadata": {},
          "execution_count": 10
        }
      ]
    },
    {
      "cell_type": "code",
      "source": [
        "df.isnull().values.any()"
      ],
      "metadata": {
        "colab": {
          "base_uri": "https://localhost:8080/"
        },
        "id": "rWWT9F2xMrhZ",
        "outputId": "ff83fa9b-44bc-48f4-f96e-e32d83307e05"
      },
      "execution_count": null,
      "outputs": [
        {
          "output_type": "execute_result",
          "data": {
            "text/plain": [
              "False"
            ]
          },
          "metadata": {},
          "execution_count": 11
        }
      ]
    },
    {
      "cell_type": "code",
      "source": [
        "df=df.dropna()\n",
        "np.any(np.isnan(df))"
      ],
      "metadata": {
        "colab": {
          "base_uri": "https://localhost:8080/"
        },
        "id": "4MU70LM1MuL-",
        "outputId": "4e390483-a0d7-4d4f-c369-852117f05ff5"
      },
      "execution_count": null,
      "outputs": [
        {
          "output_type": "execute_result",
          "data": {
            "text/plain": [
              "False"
            ]
          },
          "metadata": {},
          "execution_count": 12
        }
      ]
    },
    {
      "cell_type": "code",
      "source": [
        "df.isnull().sum()"
      ],
      "metadata": {
        "colab": {
          "base_uri": "https://localhost:8080/"
        },
        "id": "svLldD5MM1Y-",
        "outputId": "af3f3c74-ff52-43ac-bf6c-b069ee7d1881"
      },
      "execution_count": null,
      "outputs": [
        {
          "output_type": "execute_result",
          "data": {
            "text/plain": [
              "DestinationPort            0\n",
              "FlowDuration               0\n",
              "TotalFwdPackets            0\n",
              "TotalBackwardPackets       0\n",
              "TotalLengthofFwdPackets    0\n",
              "                          ..\n",
              "IdleMean                   0\n",
              "IdleStd                    0\n",
              "IdleMax                    0\n",
              "IdleMin                    0\n",
              "Label                      0\n",
              "Length: 79, dtype: int64"
            ]
          },
          "metadata": {},
          "execution_count": 13
        }
      ]
    },
    {
      "cell_type": "code",
      "source": [
        "np.isinf(df).values.sum()"
      ],
      "metadata": {
        "colab": {
          "base_uri": "https://localhost:8080/"
        },
        "id": "IlwDaAz4M3B2",
        "outputId": "75bb8102-1f7c-418c-c4e2-fa477195df65"
      },
      "execution_count": null,
      "outputs": [
        {
          "output_type": "execute_result",
          "data": {
            "text/plain": [
              "0"
            ]
          },
          "metadata": {},
          "execution_count": 14
        }
      ]
    },
    {
      "cell_type": "code",
      "source": [
        "df.shape"
      ],
      "metadata": {
        "colab": {
          "base_uri": "https://localhost:8080/"
        },
        "id": "tNV2vaUcM46u",
        "outputId": "2d179b48-bf67-406f-c01a-75f2554b28d3"
      },
      "execution_count": null,
      "outputs": [
        {
          "output_type": "execute_result",
          "data": {
            "text/plain": [
              "(751650, 79)"
            ]
          },
          "metadata": {},
          "execution_count": 15
        }
      ]
    },
    {
      "cell_type": "markdown",
      "metadata": {
        "id": "4gUDSIQyYP3t"
      },
      "source": [
        "# **Systematic Sampling**"
      ]
    },
    {
      "cell_type": "code",
      "execution_count": null,
      "metadata": {
        "colab": {
          "base_uri": "https://localhost:8080/",
          "height": 488
        },
        "id": "THCewkPETb7j",
        "outputId": "61780856-a3ae-4384-fb03-d344d2fbfef9"
      },
      "outputs": [
        {
          "output_type": "execute_result",
          "data": {
            "text/plain": [
              "        DestinationPort  FlowDuration  TotalFwdPackets  TotalBackwardPackets  \\\n",
              "0                 54865             3                2                     0   \n",
              "8                  9282             4                2                     0   \n",
              "16                53524           154                1                     1   \n",
              "24                55277             4                2                     0   \n",
              "32                55156             3                2                     0   \n",
              "...                 ...           ...              ...                   ...   \n",
              "752141               80      97460166                6                     6   \n",
              "752149               80      97523772                8                     6   \n",
              "752157               80      98096898                9                     6   \n",
              "752165               80      98303181                6                     8   \n",
              "752173               80      97467193                7                     6   \n",
              "\n",
              "        TotalLengthofFwdPackets  TotalLengthofBwdPackets  FwdPacketLengthMax  \\\n",
              "0                            12                        0                   6   \n",
              "8                            12                        0                   6   \n",
              "16                            0                        0                   0   \n",
              "24                           12                        0                   6   \n",
              "32                           37                        0                  31   \n",
              "...                         ...                      ...                 ...   \n",
              "752141                      376                    11595                 376   \n",
              "752149                      380                    11595                 374   \n",
              "752157                      373                    11595                 373   \n",
              "752165                      369                    11595                 351   \n",
              "752173                      367                    11595                 367   \n",
              "\n",
              "        FwdPacketLengthMin  FwdPacketLengthMean  FwdPacketLengthStd  ...  \\\n",
              "0                        6             6.000000            0.000000  ...   \n",
              "8                        6             6.000000            0.000000  ...   \n",
              "16                       0             0.000000            0.000000  ...   \n",
              "24                       6             6.000000            0.000000  ...   \n",
              "32                       6            18.500000           17.677670  ...   \n",
              "...                    ...                  ...                 ...  ...   \n",
              "752141                   0            62.666667          153.501357  ...   \n",
              "752149                   0            47.500000          131.942628  ...   \n",
              "752157                   0            41.444444          124.333333  ...   \n",
              "752165                   0            61.500000          141.855913  ...   \n",
              "752173                   0            52.428571          138.712962  ...   \n",
              "\n",
              "        min_seg_size_forward  ActiveMean  ActiveStd  ActiveMax  ActiveMin  \\\n",
              "0                         20         0.0        0.0          0          0   \n",
              "8                         20         0.0        0.0          0          0   \n",
              "16                        32         0.0        0.0          0          0   \n",
              "24                        20         0.0        0.0          0          0   \n",
              "32                        20         0.0        0.0          0          0   \n",
              "...                      ...         ...        ...        ...        ...   \n",
              "752141                    32       445.0        0.0        445        445   \n",
              "752149                    20       992.0        0.0        992        992   \n",
              "752157                    32      1033.0        0.0       1033       1033   \n",
              "752165                    20     10993.0        0.0      10993      10993   \n",
              "752173                    32       433.0        0.0        433        433   \n",
              "\n",
              "          IdleMean  IdleStd   IdleMax   IdleMin  Label  \n",
              "0              0.0      0.0         0         0      0  \n",
              "8              0.0      0.0         0         0      0  \n",
              "16             0.0      0.0         0         0      0  \n",
              "24             0.0      0.0         0         0      0  \n",
              "32             0.0      0.0         0         0      0  \n",
              "...            ...      ...       ...       ...    ...  \n",
              "752141  97500000.0      0.0  97500000  97500000      1  \n",
              "752149  97500000.0      0.0  97500000  97500000      1  \n",
              "752157  98100000.0      0.0  98100000  98100000      1  \n",
              "752165  98300000.0      0.0  98300000  98300000      1  \n",
              "752173  97400000.0      0.0  97400000  97400000      1  \n",
              "\n",
              "[93957 rows x 79 columns]"
            ],
            "text/html": [
              "\n",
              "  <div id=\"df-711f1043-ebfc-439f-849a-805596d59ae7\">\n",
              "    <div class=\"colab-df-container\">\n",
              "      <div>\n",
              "<style scoped>\n",
              "    .dataframe tbody tr th:only-of-type {\n",
              "        vertical-align: middle;\n",
              "    }\n",
              "\n",
              "    .dataframe tbody tr th {\n",
              "        vertical-align: top;\n",
              "    }\n",
              "\n",
              "    .dataframe thead th {\n",
              "        text-align: right;\n",
              "    }\n",
              "</style>\n",
              "<table border=\"1\" class=\"dataframe\">\n",
              "  <thead>\n",
              "    <tr style=\"text-align: right;\">\n",
              "      <th></th>\n",
              "      <th>DestinationPort</th>\n",
              "      <th>FlowDuration</th>\n",
              "      <th>TotalFwdPackets</th>\n",
              "      <th>TotalBackwardPackets</th>\n",
              "      <th>TotalLengthofFwdPackets</th>\n",
              "      <th>TotalLengthofBwdPackets</th>\n",
              "      <th>FwdPacketLengthMax</th>\n",
              "      <th>FwdPacketLengthMin</th>\n",
              "      <th>FwdPacketLengthMean</th>\n",
              "      <th>FwdPacketLengthStd</th>\n",
              "      <th>...</th>\n",
              "      <th>min_seg_size_forward</th>\n",
              "      <th>ActiveMean</th>\n",
              "      <th>ActiveStd</th>\n",
              "      <th>ActiveMax</th>\n",
              "      <th>ActiveMin</th>\n",
              "      <th>IdleMean</th>\n",
              "      <th>IdleStd</th>\n",
              "      <th>IdleMax</th>\n",
              "      <th>IdleMin</th>\n",
              "      <th>Label</th>\n",
              "    </tr>\n",
              "  </thead>\n",
              "  <tbody>\n",
              "    <tr>\n",
              "      <th>0</th>\n",
              "      <td>54865</td>\n",
              "      <td>3</td>\n",
              "      <td>2</td>\n",
              "      <td>0</td>\n",
              "      <td>12</td>\n",
              "      <td>0</td>\n",
              "      <td>6</td>\n",
              "      <td>6</td>\n",
              "      <td>6.000000</td>\n",
              "      <td>0.000000</td>\n",
              "      <td>...</td>\n",
              "      <td>20</td>\n",
              "      <td>0.0</td>\n",
              "      <td>0.0</td>\n",
              "      <td>0</td>\n",
              "      <td>0</td>\n",
              "      <td>0.0</td>\n",
              "      <td>0.0</td>\n",
              "      <td>0</td>\n",
              "      <td>0</td>\n",
              "      <td>0</td>\n",
              "    </tr>\n",
              "    <tr>\n",
              "      <th>8</th>\n",
              "      <td>9282</td>\n",
              "      <td>4</td>\n",
              "      <td>2</td>\n",
              "      <td>0</td>\n",
              "      <td>12</td>\n",
              "      <td>0</td>\n",
              "      <td>6</td>\n",
              "      <td>6</td>\n",
              "      <td>6.000000</td>\n",
              "      <td>0.000000</td>\n",
              "      <td>...</td>\n",
              "      <td>20</td>\n",
              "      <td>0.0</td>\n",
              "      <td>0.0</td>\n",
              "      <td>0</td>\n",
              "      <td>0</td>\n",
              "      <td>0.0</td>\n",
              "      <td>0.0</td>\n",
              "      <td>0</td>\n",
              "      <td>0</td>\n",
              "      <td>0</td>\n",
              "    </tr>\n",
              "    <tr>\n",
              "      <th>16</th>\n",
              "      <td>53524</td>\n",
              "      <td>154</td>\n",
              "      <td>1</td>\n",
              "      <td>1</td>\n",
              "      <td>0</td>\n",
              "      <td>0</td>\n",
              "      <td>0</td>\n",
              "      <td>0</td>\n",
              "      <td>0.000000</td>\n",
              "      <td>0.000000</td>\n",
              "      <td>...</td>\n",
              "      <td>32</td>\n",
              "      <td>0.0</td>\n",
              "      <td>0.0</td>\n",
              "      <td>0</td>\n",
              "      <td>0</td>\n",
              "      <td>0.0</td>\n",
              "      <td>0.0</td>\n",
              "      <td>0</td>\n",
              "      <td>0</td>\n",
              "      <td>0</td>\n",
              "    </tr>\n",
              "    <tr>\n",
              "      <th>24</th>\n",
              "      <td>55277</td>\n",
              "      <td>4</td>\n",
              "      <td>2</td>\n",
              "      <td>0</td>\n",
              "      <td>12</td>\n",
              "      <td>0</td>\n",
              "      <td>6</td>\n",
              "      <td>6</td>\n",
              "      <td>6.000000</td>\n",
              "      <td>0.000000</td>\n",
              "      <td>...</td>\n",
              "      <td>20</td>\n",
              "      <td>0.0</td>\n",
              "      <td>0.0</td>\n",
              "      <td>0</td>\n",
              "      <td>0</td>\n",
              "      <td>0.0</td>\n",
              "      <td>0.0</td>\n",
              "      <td>0</td>\n",
              "      <td>0</td>\n",
              "      <td>0</td>\n",
              "    </tr>\n",
              "    <tr>\n",
              "      <th>32</th>\n",
              "      <td>55156</td>\n",
              "      <td>3</td>\n",
              "      <td>2</td>\n",
              "      <td>0</td>\n",
              "      <td>37</td>\n",
              "      <td>0</td>\n",
              "      <td>31</td>\n",
              "      <td>6</td>\n",
              "      <td>18.500000</td>\n",
              "      <td>17.677670</td>\n",
              "      <td>...</td>\n",
              "      <td>20</td>\n",
              "      <td>0.0</td>\n",
              "      <td>0.0</td>\n",
              "      <td>0</td>\n",
              "      <td>0</td>\n",
              "      <td>0.0</td>\n",
              "      <td>0.0</td>\n",
              "      <td>0</td>\n",
              "      <td>0</td>\n",
              "      <td>0</td>\n",
              "    </tr>\n",
              "    <tr>\n",
              "      <th>...</th>\n",
              "      <td>...</td>\n",
              "      <td>...</td>\n",
              "      <td>...</td>\n",
              "      <td>...</td>\n",
              "      <td>...</td>\n",
              "      <td>...</td>\n",
              "      <td>...</td>\n",
              "      <td>...</td>\n",
              "      <td>...</td>\n",
              "      <td>...</td>\n",
              "      <td>...</td>\n",
              "      <td>...</td>\n",
              "      <td>...</td>\n",
              "      <td>...</td>\n",
              "      <td>...</td>\n",
              "      <td>...</td>\n",
              "      <td>...</td>\n",
              "      <td>...</td>\n",
              "      <td>...</td>\n",
              "      <td>...</td>\n",
              "      <td>...</td>\n",
              "    </tr>\n",
              "    <tr>\n",
              "      <th>752141</th>\n",
              "      <td>80</td>\n",
              "      <td>97460166</td>\n",
              "      <td>6</td>\n",
              "      <td>6</td>\n",
              "      <td>376</td>\n",
              "      <td>11595</td>\n",
              "      <td>376</td>\n",
              "      <td>0</td>\n",
              "      <td>62.666667</td>\n",
              "      <td>153.501357</td>\n",
              "      <td>...</td>\n",
              "      <td>32</td>\n",
              "      <td>445.0</td>\n",
              "      <td>0.0</td>\n",
              "      <td>445</td>\n",
              "      <td>445</td>\n",
              "      <td>97500000.0</td>\n",
              "      <td>0.0</td>\n",
              "      <td>97500000</td>\n",
              "      <td>97500000</td>\n",
              "      <td>1</td>\n",
              "    </tr>\n",
              "    <tr>\n",
              "      <th>752149</th>\n",
              "      <td>80</td>\n",
              "      <td>97523772</td>\n",
              "      <td>8</td>\n",
              "      <td>6</td>\n",
              "      <td>380</td>\n",
              "      <td>11595</td>\n",
              "      <td>374</td>\n",
              "      <td>0</td>\n",
              "      <td>47.500000</td>\n",
              "      <td>131.942628</td>\n",
              "      <td>...</td>\n",
              "      <td>20</td>\n",
              "      <td>992.0</td>\n",
              "      <td>0.0</td>\n",
              "      <td>992</td>\n",
              "      <td>992</td>\n",
              "      <td>97500000.0</td>\n",
              "      <td>0.0</td>\n",
              "      <td>97500000</td>\n",
              "      <td>97500000</td>\n",
              "      <td>1</td>\n",
              "    </tr>\n",
              "    <tr>\n",
              "      <th>752157</th>\n",
              "      <td>80</td>\n",
              "      <td>98096898</td>\n",
              "      <td>9</td>\n",
              "      <td>6</td>\n",
              "      <td>373</td>\n",
              "      <td>11595</td>\n",
              "      <td>373</td>\n",
              "      <td>0</td>\n",
              "      <td>41.444444</td>\n",
              "      <td>124.333333</td>\n",
              "      <td>...</td>\n",
              "      <td>32</td>\n",
              "      <td>1033.0</td>\n",
              "      <td>0.0</td>\n",
              "      <td>1033</td>\n",
              "      <td>1033</td>\n",
              "      <td>98100000.0</td>\n",
              "      <td>0.0</td>\n",
              "      <td>98100000</td>\n",
              "      <td>98100000</td>\n",
              "      <td>1</td>\n",
              "    </tr>\n",
              "    <tr>\n",
              "      <th>752165</th>\n",
              "      <td>80</td>\n",
              "      <td>98303181</td>\n",
              "      <td>6</td>\n",
              "      <td>8</td>\n",
              "      <td>369</td>\n",
              "      <td>11595</td>\n",
              "      <td>351</td>\n",
              "      <td>0</td>\n",
              "      <td>61.500000</td>\n",
              "      <td>141.855913</td>\n",
              "      <td>...</td>\n",
              "      <td>20</td>\n",
              "      <td>10993.0</td>\n",
              "      <td>0.0</td>\n",
              "      <td>10993</td>\n",
              "      <td>10993</td>\n",
              "      <td>98300000.0</td>\n",
              "      <td>0.0</td>\n",
              "      <td>98300000</td>\n",
              "      <td>98300000</td>\n",
              "      <td>1</td>\n",
              "    </tr>\n",
              "    <tr>\n",
              "      <th>752173</th>\n",
              "      <td>80</td>\n",
              "      <td>97467193</td>\n",
              "      <td>7</td>\n",
              "      <td>6</td>\n",
              "      <td>367</td>\n",
              "      <td>11595</td>\n",
              "      <td>367</td>\n",
              "      <td>0</td>\n",
              "      <td>52.428571</td>\n",
              "      <td>138.712962</td>\n",
              "      <td>...</td>\n",
              "      <td>32</td>\n",
              "      <td>433.0</td>\n",
              "      <td>0.0</td>\n",
              "      <td>433</td>\n",
              "      <td>433</td>\n",
              "      <td>97400000.0</td>\n",
              "      <td>0.0</td>\n",
              "      <td>97400000</td>\n",
              "      <td>97400000</td>\n",
              "      <td>1</td>\n",
              "    </tr>\n",
              "  </tbody>\n",
              "</table>\n",
              "<p>93957 rows × 79 columns</p>\n",
              "</div>\n",
              "      <button class=\"colab-df-convert\" onclick=\"convertToInteractive('df-711f1043-ebfc-439f-849a-805596d59ae7')\"\n",
              "              title=\"Convert this dataframe to an interactive table.\"\n",
              "              style=\"display:none;\">\n",
              "        \n",
              "  <svg xmlns=\"http://www.w3.org/2000/svg\" height=\"24px\"viewBox=\"0 0 24 24\"\n",
              "       width=\"24px\">\n",
              "    <path d=\"M0 0h24v24H0V0z\" fill=\"none\"/>\n",
              "    <path d=\"M18.56 5.44l.94 2.06.94-2.06 2.06-.94-2.06-.94-.94-2.06-.94 2.06-2.06.94zm-11 1L8.5 8.5l.94-2.06 2.06-.94-2.06-.94L8.5 2.5l-.94 2.06-2.06.94zm10 10l.94 2.06.94-2.06 2.06-.94-2.06-.94-.94-2.06-.94 2.06-2.06.94z\"/><path d=\"M17.41 7.96l-1.37-1.37c-.4-.4-.92-.59-1.43-.59-.52 0-1.04.2-1.43.59L10.3 9.45l-7.72 7.72c-.78.78-.78 2.05 0 2.83L4 21.41c.39.39.9.59 1.41.59.51 0 1.02-.2 1.41-.59l7.78-7.78 2.81-2.81c.8-.78.8-2.07 0-2.86zM5.41 20L4 18.59l7.72-7.72 1.47 1.35L5.41 20z\"/>\n",
              "  </svg>\n",
              "      </button>\n",
              "      \n",
              "  <style>\n",
              "    .colab-df-container {\n",
              "      display:flex;\n",
              "      flex-wrap:wrap;\n",
              "      gap: 12px;\n",
              "    }\n",
              "\n",
              "    .colab-df-convert {\n",
              "      background-color: #E8F0FE;\n",
              "      border: none;\n",
              "      border-radius: 50%;\n",
              "      cursor: pointer;\n",
              "      display: none;\n",
              "      fill: #1967D2;\n",
              "      height: 32px;\n",
              "      padding: 0 0 0 0;\n",
              "      width: 32px;\n",
              "    }\n",
              "\n",
              "    .colab-df-convert:hover {\n",
              "      background-color: #E2EBFA;\n",
              "      box-shadow: 0px 1px 2px rgba(60, 64, 67, 0.3), 0px 1px 3px 1px rgba(60, 64, 67, 0.15);\n",
              "      fill: #174EA6;\n",
              "    }\n",
              "\n",
              "    [theme=dark] .colab-df-convert {\n",
              "      background-color: #3B4455;\n",
              "      fill: #D2E3FC;\n",
              "    }\n",
              "\n",
              "    [theme=dark] .colab-df-convert:hover {\n",
              "      background-color: #434B5C;\n",
              "      box-shadow: 0px 1px 3px 1px rgba(0, 0, 0, 0.15);\n",
              "      filter: drop-shadow(0px 1px 2px rgba(0, 0, 0, 0.3));\n",
              "      fill: #FFFFFF;\n",
              "    }\n",
              "  </style>\n",
              "\n",
              "      <script>\n",
              "        const buttonEl =\n",
              "          document.querySelector('#df-711f1043-ebfc-439f-849a-805596d59ae7 button.colab-df-convert');\n",
              "        buttonEl.style.display =\n",
              "          google.colab.kernel.accessAllowed ? 'block' : 'none';\n",
              "\n",
              "        async function convertToInteractive(key) {\n",
              "          const element = document.querySelector('#df-711f1043-ebfc-439f-849a-805596d59ae7');\n",
              "          const dataTable =\n",
              "            await google.colab.kernel.invokeFunction('convertToInteractive',\n",
              "                                                     [key], {});\n",
              "          if (!dataTable) return;\n",
              "\n",
              "          const docLinkHtml = 'Like what you see? Visit the ' +\n",
              "            '<a target=\"_blank\" href=https://colab.research.google.com/notebooks/data_table.ipynb>data table notebook</a>'\n",
              "            + ' to learn more about interactive tables.';\n",
              "          element.innerHTML = '';\n",
              "          dataTable['output_type'] = 'display_data';\n",
              "          await google.colab.output.renderOutput(dataTable, element);\n",
              "          const docLink = document.createElement('div');\n",
              "          docLink.innerHTML = docLinkHtml;\n",
              "          element.appendChild(docLink);\n",
              "        }\n",
              "      </script>\n",
              "    </div>\n",
              "  </div>\n",
              "  "
            ]
          },
          "metadata": {},
          "execution_count": 16
        }
      ],
      "source": [
        "def systematic_sampling(df, step):\n",
        "    \n",
        "    indexes = np.arange(0,len(df),step=step)\n",
        "    systematic_sample = df.iloc[indexes]\n",
        "    return systematic_sample\n",
        "    \n",
        "# Obtain a systematic sample and save it in a new variable\n",
        "systematic_sample = systematic_sampling(df, 8)\n",
        "\n",
        "# Save the sample mean in a separate variable\n",
        "systematic_mean = round(systematic_sample['Label'].mean(),3)\n",
        "\n",
        "# View sampled data frame\n",
        "systematic_sample"
      ]
    },
    {
      "cell_type": "code",
      "execution_count": null,
      "metadata": {
        "colab": {
          "base_uri": "https://localhost:8080/"
        },
        "id": "BS71_9C2YC0E",
        "outputId": "20521708-0a62-4a9a-fe9e-8a84fe39cc4a"
      },
      "outputs": [
        {
          "output_type": "execute_result",
          "data": {
            "text/plain": [
              "(93957, 79)"
            ]
          },
          "metadata": {},
          "execution_count": 17
        }
      ],
      "source": [
        "systematic_sample.shape\n"
      ]
    },
    {
      "cell_type": "code",
      "source": [
        "df_smote=systematic_sample"
      ],
      "metadata": {
        "id": "wEQlaDjiURKC"
      },
      "execution_count": null,
      "outputs": []
    },
    {
      "cell_type": "code",
      "source": [
        "X_smote=df.iloc[:,0:78]\n",
        "X_smote.head()"
      ],
      "metadata": {
        "colab": {
          "base_uri": "https://localhost:8080/",
          "height": 299
        },
        "id": "1xOtP1fTU7rI",
        "outputId": "a8f20a0f-5d60-435d-8213-f22413747d5a"
      },
      "execution_count": null,
      "outputs": [
        {
          "output_type": "execute_result",
          "data": {
            "text/plain": [
              "   DestinationPort  FlowDuration  TotalFwdPackets  TotalBackwardPackets  \\\n",
              "0            54865             3                2                     0   \n",
              "1            55054           109                1                     1   \n",
              "2            55055            52                1                     1   \n",
              "3            46236            34                1                     1   \n",
              "4            54863             3                2                     0   \n",
              "\n",
              "   TotalLengthofFwdPackets  TotalLengthofBwdPackets  FwdPacketLengthMax  \\\n",
              "0                       12                        0                   6   \n",
              "1                        6                        6                   6   \n",
              "2                        6                        6                   6   \n",
              "3                        6                        6                   6   \n",
              "4                       12                        0                   6   \n",
              "\n",
              "   FwdPacketLengthMin  FwdPacketLengthMean  FwdPacketLengthStd  ...  \\\n",
              "0                   6                  6.0                 0.0  ...   \n",
              "1                   6                  6.0                 0.0  ...   \n",
              "2                   6                  6.0                 0.0  ...   \n",
              "3                   6                  6.0                 0.0  ...   \n",
              "4                   6                  6.0                 0.0  ...   \n",
              "\n",
              "   act_data_pkt_fwd  min_seg_size_forward  ActiveMean  ActiveStd  ActiveMax  \\\n",
              "0                 1                    20         0.0        0.0          0   \n",
              "1                 0                    20         0.0        0.0          0   \n",
              "2                 0                    20         0.0        0.0          0   \n",
              "3                 0                    20         0.0        0.0          0   \n",
              "4                 1                    20         0.0        0.0          0   \n",
              "\n",
              "   ActiveMin  IdleMean  IdleStd  IdleMax  IdleMin  \n",
              "0          0       0.0      0.0        0        0  \n",
              "1          0       0.0      0.0        0        0  \n",
              "2          0       0.0      0.0        0        0  \n",
              "3          0       0.0      0.0        0        0  \n",
              "4          0       0.0      0.0        0        0  \n",
              "\n",
              "[5 rows x 78 columns]"
            ],
            "text/html": [
              "\n",
              "  <div id=\"df-054502e2-b45a-4327-9f0b-da1c59173f0a\">\n",
              "    <div class=\"colab-df-container\">\n",
              "      <div>\n",
              "<style scoped>\n",
              "    .dataframe tbody tr th:only-of-type {\n",
              "        vertical-align: middle;\n",
              "    }\n",
              "\n",
              "    .dataframe tbody tr th {\n",
              "        vertical-align: top;\n",
              "    }\n",
              "\n",
              "    .dataframe thead th {\n",
              "        text-align: right;\n",
              "    }\n",
              "</style>\n",
              "<table border=\"1\" class=\"dataframe\">\n",
              "  <thead>\n",
              "    <tr style=\"text-align: right;\">\n",
              "      <th></th>\n",
              "      <th>DestinationPort</th>\n",
              "      <th>FlowDuration</th>\n",
              "      <th>TotalFwdPackets</th>\n",
              "      <th>TotalBackwardPackets</th>\n",
              "      <th>TotalLengthofFwdPackets</th>\n",
              "      <th>TotalLengthofBwdPackets</th>\n",
              "      <th>FwdPacketLengthMax</th>\n",
              "      <th>FwdPacketLengthMin</th>\n",
              "      <th>FwdPacketLengthMean</th>\n",
              "      <th>FwdPacketLengthStd</th>\n",
              "      <th>...</th>\n",
              "      <th>act_data_pkt_fwd</th>\n",
              "      <th>min_seg_size_forward</th>\n",
              "      <th>ActiveMean</th>\n",
              "      <th>ActiveStd</th>\n",
              "      <th>ActiveMax</th>\n",
              "      <th>ActiveMin</th>\n",
              "      <th>IdleMean</th>\n",
              "      <th>IdleStd</th>\n",
              "      <th>IdleMax</th>\n",
              "      <th>IdleMin</th>\n",
              "    </tr>\n",
              "  </thead>\n",
              "  <tbody>\n",
              "    <tr>\n",
              "      <th>0</th>\n",
              "      <td>54865</td>\n",
              "      <td>3</td>\n",
              "      <td>2</td>\n",
              "      <td>0</td>\n",
              "      <td>12</td>\n",
              "      <td>0</td>\n",
              "      <td>6</td>\n",
              "      <td>6</td>\n",
              "      <td>6.0</td>\n",
              "      <td>0.0</td>\n",
              "      <td>...</td>\n",
              "      <td>1</td>\n",
              "      <td>20</td>\n",
              "      <td>0.0</td>\n",
              "      <td>0.0</td>\n",
              "      <td>0</td>\n",
              "      <td>0</td>\n",
              "      <td>0.0</td>\n",
              "      <td>0.0</td>\n",
              "      <td>0</td>\n",
              "      <td>0</td>\n",
              "    </tr>\n",
              "    <tr>\n",
              "      <th>1</th>\n",
              "      <td>55054</td>\n",
              "      <td>109</td>\n",
              "      <td>1</td>\n",
              "      <td>1</td>\n",
              "      <td>6</td>\n",
              "      <td>6</td>\n",
              "      <td>6</td>\n",
              "      <td>6</td>\n",
              "      <td>6.0</td>\n",
              "      <td>0.0</td>\n",
              "      <td>...</td>\n",
              "      <td>0</td>\n",
              "      <td>20</td>\n",
              "      <td>0.0</td>\n",
              "      <td>0.0</td>\n",
              "      <td>0</td>\n",
              "      <td>0</td>\n",
              "      <td>0.0</td>\n",
              "      <td>0.0</td>\n",
              "      <td>0</td>\n",
              "      <td>0</td>\n",
              "    </tr>\n",
              "    <tr>\n",
              "      <th>2</th>\n",
              "      <td>55055</td>\n",
              "      <td>52</td>\n",
              "      <td>1</td>\n",
              "      <td>1</td>\n",
              "      <td>6</td>\n",
              "      <td>6</td>\n",
              "      <td>6</td>\n",
              "      <td>6</td>\n",
              "      <td>6.0</td>\n",
              "      <td>0.0</td>\n",
              "      <td>...</td>\n",
              "      <td>0</td>\n",
              "      <td>20</td>\n",
              "      <td>0.0</td>\n",
              "      <td>0.0</td>\n",
              "      <td>0</td>\n",
              "      <td>0</td>\n",
              "      <td>0.0</td>\n",
              "      <td>0.0</td>\n",
              "      <td>0</td>\n",
              "      <td>0</td>\n",
              "    </tr>\n",
              "    <tr>\n",
              "      <th>3</th>\n",
              "      <td>46236</td>\n",
              "      <td>34</td>\n",
              "      <td>1</td>\n",
              "      <td>1</td>\n",
              "      <td>6</td>\n",
              "      <td>6</td>\n",
              "      <td>6</td>\n",
              "      <td>6</td>\n",
              "      <td>6.0</td>\n",
              "      <td>0.0</td>\n",
              "      <td>...</td>\n",
              "      <td>0</td>\n",
              "      <td>20</td>\n",
              "      <td>0.0</td>\n",
              "      <td>0.0</td>\n",
              "      <td>0</td>\n",
              "      <td>0</td>\n",
              "      <td>0.0</td>\n",
              "      <td>0.0</td>\n",
              "      <td>0</td>\n",
              "      <td>0</td>\n",
              "    </tr>\n",
              "    <tr>\n",
              "      <th>4</th>\n",
              "      <td>54863</td>\n",
              "      <td>3</td>\n",
              "      <td>2</td>\n",
              "      <td>0</td>\n",
              "      <td>12</td>\n",
              "      <td>0</td>\n",
              "      <td>6</td>\n",
              "      <td>6</td>\n",
              "      <td>6.0</td>\n",
              "      <td>0.0</td>\n",
              "      <td>...</td>\n",
              "      <td>1</td>\n",
              "      <td>20</td>\n",
              "      <td>0.0</td>\n",
              "      <td>0.0</td>\n",
              "      <td>0</td>\n",
              "      <td>0</td>\n",
              "      <td>0.0</td>\n",
              "      <td>0.0</td>\n",
              "      <td>0</td>\n",
              "      <td>0</td>\n",
              "    </tr>\n",
              "  </tbody>\n",
              "</table>\n",
              "<p>5 rows × 78 columns</p>\n",
              "</div>\n",
              "      <button class=\"colab-df-convert\" onclick=\"convertToInteractive('df-054502e2-b45a-4327-9f0b-da1c59173f0a')\"\n",
              "              title=\"Convert this dataframe to an interactive table.\"\n",
              "              style=\"display:none;\">\n",
              "        \n",
              "  <svg xmlns=\"http://www.w3.org/2000/svg\" height=\"24px\"viewBox=\"0 0 24 24\"\n",
              "       width=\"24px\">\n",
              "    <path d=\"M0 0h24v24H0V0z\" fill=\"none\"/>\n",
              "    <path d=\"M18.56 5.44l.94 2.06.94-2.06 2.06-.94-2.06-.94-.94-2.06-.94 2.06-2.06.94zm-11 1L8.5 8.5l.94-2.06 2.06-.94-2.06-.94L8.5 2.5l-.94 2.06-2.06.94zm10 10l.94 2.06.94-2.06 2.06-.94-2.06-.94-.94-2.06-.94 2.06-2.06.94z\"/><path d=\"M17.41 7.96l-1.37-1.37c-.4-.4-.92-.59-1.43-.59-.52 0-1.04.2-1.43.59L10.3 9.45l-7.72 7.72c-.78.78-.78 2.05 0 2.83L4 21.41c.39.39.9.59 1.41.59.51 0 1.02-.2 1.41-.59l7.78-7.78 2.81-2.81c.8-.78.8-2.07 0-2.86zM5.41 20L4 18.59l7.72-7.72 1.47 1.35L5.41 20z\"/>\n",
              "  </svg>\n",
              "      </button>\n",
              "      \n",
              "  <style>\n",
              "    .colab-df-container {\n",
              "      display:flex;\n",
              "      flex-wrap:wrap;\n",
              "      gap: 12px;\n",
              "    }\n",
              "\n",
              "    .colab-df-convert {\n",
              "      background-color: #E8F0FE;\n",
              "      border: none;\n",
              "      border-radius: 50%;\n",
              "      cursor: pointer;\n",
              "      display: none;\n",
              "      fill: #1967D2;\n",
              "      height: 32px;\n",
              "      padding: 0 0 0 0;\n",
              "      width: 32px;\n",
              "    }\n",
              "\n",
              "    .colab-df-convert:hover {\n",
              "      background-color: #E2EBFA;\n",
              "      box-shadow: 0px 1px 2px rgba(60, 64, 67, 0.3), 0px 1px 3px 1px rgba(60, 64, 67, 0.15);\n",
              "      fill: #174EA6;\n",
              "    }\n",
              "\n",
              "    [theme=dark] .colab-df-convert {\n",
              "      background-color: #3B4455;\n",
              "      fill: #D2E3FC;\n",
              "    }\n",
              "\n",
              "    [theme=dark] .colab-df-convert:hover {\n",
              "      background-color: #434B5C;\n",
              "      box-shadow: 0px 1px 3px 1px rgba(0, 0, 0, 0.15);\n",
              "      filter: drop-shadow(0px 1px 2px rgba(0, 0, 0, 0.3));\n",
              "      fill: #FFFFFF;\n",
              "    }\n",
              "  </style>\n",
              "\n",
              "      <script>\n",
              "        const buttonEl =\n",
              "          document.querySelector('#df-054502e2-b45a-4327-9f0b-da1c59173f0a button.colab-df-convert');\n",
              "        buttonEl.style.display =\n",
              "          google.colab.kernel.accessAllowed ? 'block' : 'none';\n",
              "\n",
              "        async function convertToInteractive(key) {\n",
              "          const element = document.querySelector('#df-054502e2-b45a-4327-9f0b-da1c59173f0a');\n",
              "          const dataTable =\n",
              "            await google.colab.kernel.invokeFunction('convertToInteractive',\n",
              "                                                     [key], {});\n",
              "          if (!dataTable) return;\n",
              "\n",
              "          const docLinkHtml = 'Like what you see? Visit the ' +\n",
              "            '<a target=\"_blank\" href=https://colab.research.google.com/notebooks/data_table.ipynb>data table notebook</a>'\n",
              "            + ' to learn more about interactive tables.';\n",
              "          element.innerHTML = '';\n",
              "          dataTable['output_type'] = 'display_data';\n",
              "          await google.colab.output.renderOutput(dataTable, element);\n",
              "          const docLink = document.createElement('div');\n",
              "          docLink.innerHTML = docLinkHtml;\n",
              "          element.appendChild(docLink);\n",
              "        }\n",
              "      </script>\n",
              "    </div>\n",
              "  </div>\n",
              "  "
            ]
          },
          "metadata": {},
          "execution_count": 19
        }
      ]
    },
    {
      "cell_type": "code",
      "source": [
        "Y_smote=df.iloc[:,-1]\n",
        "Y_smote.head()"
      ],
      "metadata": {
        "colab": {
          "base_uri": "https://localhost:8080/"
        },
        "id": "rB0L_Mf4VJwQ",
        "outputId": "2df897e4-4a7e-4e8e-c1c8-072674b3270c"
      },
      "execution_count": null,
      "outputs": [
        {
          "output_type": "execute_result",
          "data": {
            "text/plain": [
              "0    0\n",
              "1    0\n",
              "2    0\n",
              "3    0\n",
              "4    0\n",
              "Name: Label, dtype: int64"
            ]
          },
          "metadata": {},
          "execution_count": 20
        }
      ]
    },
    {
      "cell_type": "markdown",
      "metadata": {
        "id": "B020QceFAOtS"
      },
      "source": [
        "# Zoofs"
      ]
    },
    {
      "cell_type": "code",
      "execution_count": null,
      "metadata": {
        "colab": {
          "base_uri": "https://localhost:8080/"
        },
        "id": "a76d1b2f",
        "outputId": "1ebd2ac6-261c-4aaa-943a-36305da8c523"
      },
      "outputs": [
        {
          "output_type": "stream",
          "name": "stdout",
          "text": [
            "Looking in indexes: https://pypi.org/simple, https://us-python.pkg.dev/colab-wheels/public/simple/\n",
            "Requirement already satisfied: zoofs in /usr/local/lib/python3.7/dist-packages (0.1.26)\n",
            "Requirement already satisfied: plotly>=5.6.0 in /usr/local/lib/python3.7/dist-packages (from zoofs) (5.11.0)\n",
            "Requirement already satisfied: pandas>=1.3.0 in /usr/local/lib/python3.7/dist-packages (from zoofs) (1.3.5)\n",
            "Requirement already satisfied: colorlog>=6.6.0 in /usr/local/lib/python3.7/dist-packages (from zoofs) (6.7.0)\n",
            "Requirement already satisfied: numpy in /usr/local/lib/python3.7/dist-packages (from zoofs) (1.21.6)\n",
            "Requirement already satisfied: scipy>=1.4.1 in /usr/local/lib/python3.7/dist-packages (from zoofs) (1.7.3)\n",
            "Requirement already satisfied: python-dateutil>=2.7.3 in /usr/local/lib/python3.7/dist-packages (from pandas>=1.3.0->zoofs) (2.8.2)\n",
            "Requirement already satisfied: pytz>=2017.3 in /usr/local/lib/python3.7/dist-packages (from pandas>=1.3.0->zoofs) (2022.6)\n",
            "Requirement already satisfied: tenacity>=6.2.0 in /usr/local/lib/python3.7/dist-packages (from plotly>=5.6.0->zoofs) (8.1.0)\n",
            "Requirement already satisfied: six>=1.5 in /usr/local/lib/python3.7/dist-packages (from python-dateutil>=2.7.3->pandas>=1.3.0->zoofs) (1.15.0)\n"
          ]
        }
      ],
      "source": [
        "pip install zoofs"
      ]
    },
    {
      "cell_type": "code",
      "execution_count": null,
      "metadata": {
        "id": "bUAklq8fN0y3"
      },
      "outputs": [],
      "source": [
        "# Splitting the dataset into the Training set and Test set\n",
        "from sklearn.model_selection import train_test_split\n",
        "Xsmote_Train, Xsmote_Test, Ysmote_Train, Ysmote_Test = train_test_split(X_smote, Y_smote, test_size = 0.25, random_state = 0)"
      ]
    },
    {
      "cell_type": "code",
      "execution_count": null,
      "metadata": {
        "id": "8kxbNLVhPooT"
      },
      "outputs": [],
      "source": [
        "from sklearn.preprocessing import StandardScaler\n",
        "sc_X = StandardScaler()\n",
        "Xsmote_Train = sc_X.fit_transform(Xsmote_Train)\n",
        "Xsmote_Test = sc_X.transform(Xsmote_Test)"
      ]
    },
    {
      "cell_type": "code",
      "execution_count": null,
      "metadata": {
        "id": "egGZiGpcW6B7"
      },
      "outputs": [],
      "source": [
        "Xsmote_Train = pd.DataFrame(Xsmote_Train)\n",
        "Xsmote_Test = pd.DataFrame(Xsmote_Test)\n",
        "Ysmote_Train = pd.Series(Ysmote_Train)\n",
        "Ysmote_Test = pd.Series(Ysmote_Test)"
      ]
    },
    {
      "cell_type": "code",
      "execution_count": null,
      "metadata": {
        "id": "7BMR4yrxe7YM"
      },
      "outputs": [],
      "source": [
        "Xsmote_Train = pd.DataFrame(Xsmote_Train,columns=df.columns)\n",
        "Xsmote_Test = pd.DataFrame(Xsmote_Test,columns=df.columns)\n",
        "Ysmote_Train = pd.Series(Ysmote_Train)\n",
        "Ysmote_Test = pd.Series(Ysmote_Test)"
      ]
    },
    {
      "cell_type": "markdown",
      "metadata": {
        "id": "0eGdaFML7aWk"
      },
      "source": [
        "###PSO###"
      ]
    },
    {
      "cell_type": "code",
      "execution_count": null,
      "metadata": {
        "id": "h2I8nZOTPIi1"
      },
      "outputs": [],
      "source": [
        "from zoofs import ParticleSwarmOptimization"
      ]
    },
    {
      "cell_type": "code",
      "execution_count": null,
      "metadata": {
        "id": "J-wbDc-73cO_",
        "colab": {
          "base_uri": "https://localhost:8080/"
        },
        "outputId": "a01992d8-23dc-4d44-bca4-0440c3b1d4cc"
      },
      "outputs": [
        {
          "output_type": "stream",
          "name": "stderr",
          "text": [
            "\u001b[32m [ 2022-11-15 19:09:09,888 ] \u001b[0mFinished iteration #0 with objective value 0.4111620901191722. Current best value is 0.4111620901191722 \u001b[0m\n",
            "\u001b[32m [ 2022-11-15 19:09:52,973 ] \u001b[0mFinished iteration #1 with objective value 0.4111620901191722. Current best value is 0.4111620901191722 \u001b[0m\n",
            "\u001b[32m [ 2022-11-15 19:10:53,603 ] \u001b[0mFinished iteration #2 with objective value 0.4111620901191722. Current best value is 0.4111620901191722 \u001b[0m\n",
            "\u001b[32m [ 2022-11-15 19:11:42,188 ] \u001b[0mFinished iteration #3 with objective value 0.4111620901191722. Current best value is 0.4111620901191722 \u001b[0m\n",
            "\u001b[32m [ 2022-11-15 19:12:27,675 ] \u001b[0mFinished iteration #4 with objective value 0.4111620901191722. Current best value is 0.4111620901191722 \u001b[0m\n",
            "\u001b[32m [ 2022-11-15 19:13:14,972 ] \u001b[0mFinished iteration #5 with objective value 0.4111620901191722. Current best value is 0.4111620901191722 \u001b[0m\n",
            "\u001b[32m [ 2022-11-15 19:14:06,831 ] \u001b[0mFinished iteration #6 with objective value 0.4111620901191722. Current best value is 0.4111620901191722 \u001b[0m\n",
            "\u001b[32m [ 2022-11-15 19:14:58,131 ] \u001b[0mFinished iteration #7 with objective value 0.4111620901191722. Current best value is 0.4111620901191722 \u001b[0m\n",
            "\u001b[32m [ 2022-11-15 19:15:49,157 ] \u001b[0mFinished iteration #8 with objective value 0.4111620901191722. Current best value is 0.4111620901191722 \u001b[0m\n",
            "\u001b[32m [ 2022-11-15 19:16:49,877 ] \u001b[0mFinished iteration #9 with objective value 0.4111620901191722. Current best value is 0.4111620901191722 \u001b[0m\n"
          ]
        },
        {
          "output_type": "execute_result",
          "data": {
            "text/plain": [
              "['DestinationPort',\n",
              " 'FlowDuration',\n",
              " 'TotalFwdPackets',\n",
              " 'FwdPacketLengthMax',\n",
              " 'FwdPacketLengthMin',\n",
              " 'FwdPacketLengthMean',\n",
              " 'FwdPacketLengthStd',\n",
              " 'BwdPacketLengthMax',\n",
              " 'BwdPacketLengthMean',\n",
              " 'FlowBytes/s',\n",
              " 'FlowIATMean',\n",
              " 'FlowIATMax',\n",
              " 'FlowIATMin',\n",
              " 'FwdIATTotal',\n",
              " 'FwdIATMean',\n",
              " 'FwdIATStd',\n",
              " 'FwdIATMin',\n",
              " 'BwdIATTotal',\n",
              " 'BwdIATMean',\n",
              " 'BwdIATMax',\n",
              " 'BwdIATMin',\n",
              " 'FwdPSHFlags',\n",
              " 'FwdHeaderLength',\n",
              " 'BwdHeaderLength',\n",
              " 'FwdPackets/s',\n",
              " 'PacketLengthMean',\n",
              " 'PacketLengthStd',\n",
              " 'FINFlagCount',\n",
              " 'PSHFlagCount',\n",
              " 'CWEFlagCount',\n",
              " 'ECEFlagCount',\n",
              " 'AveragePacketSize',\n",
              " 'FwdHeaderLength.1',\n",
              " 'FwdAvgPackets/Bulk',\n",
              " 'BwdAvgBulkRate',\n",
              " 'SubflowFwdBytes',\n",
              " 'SubflowBwdPackets',\n",
              " 'SubflowBwdBytes',\n",
              " 'Init_Win_bytes_forward',\n",
              " 'Init_Win_bytes_backward',\n",
              " 'min_seg_size_forward',\n",
              " 'ActiveStd',\n",
              " 'ActiveMin',\n",
              " 'IdleMean',\n",
              " 'IdleMax',\n",
              " 'IdleMin',\n",
              " 'Label']"
            ]
          },
          "metadata": {},
          "execution_count": 27
        }
      ],
      "source": [
        "\n",
        "from sklearn.metrics import log_loss\n",
        "# define your own objective function, make sure the function receives four parameters,\n",
        "#  fit your model and return the objective value ! \n",
        "def objective_function_topass(model,X_train, y_train, X_valid, y_valid):      \n",
        "    model.fit(X_train,y_train)  \n",
        "    P=log_loss(y_valid,model.predict_proba(X_valid))\n",
        "    return P\n",
        "    \n",
        "# import an algorithm !  \n",
        "from zoofs import ParticleSwarmOptimization\n",
        "# create object of algorithm\n",
        "algo_object=ParticleSwarmOptimization(objective_function_topass,n_iteration=10,\n",
        "                                       population_size=20,minimize=True)\n",
        "import lightgbm as lgb\n",
        "lgb_model = lgb.LGBMClassifier()                                       \n",
        "# fit the algorithm\n",
        "algo_object.fit(lgb_model,Xsmote_Train, Ysmote_Train, Xsmote_Test, Ysmote_Test,verbose=True)\n",
        "#plot your results\n"
      ]
    },
    {
      "cell_type": "code",
      "execution_count": null,
      "metadata": {
        "id": "a7wbjZnk7qB8",
        "colab": {
          "base_uri": "https://localhost:8080/",
          "height": 542
        },
        "outputId": "3eac66f9-cd55-4497-b0fe-3247747ee848"
      },
      "outputs": [
        {
          "output_type": "display_data",
          "data": {
            "text/html": [
              "<html>\n",
              "<head><meta charset=\"utf-8\" /></head>\n",
              "<body>\n",
              "    <div>            <script src=\"https://cdnjs.cloudflare.com/ajax/libs/mathjax/2.7.5/MathJax.js?config=TeX-AMS-MML_SVG\"></script><script type=\"text/javascript\">if (window.MathJax && window.MathJax.Hub && window.MathJax.Hub.Config) {window.MathJax.Hub.Config({SVG: {font: \"STIX-Web\"}});}</script>                <script type=\"text/javascript\">window.PlotlyConfig = {MathJaxConfig: 'local'};</script>\n",
              "        <script src=\"https://cdn.plot.ly/plotly-2.16.1.min.js\"></script>                <div id=\"d3dfcb7a-a305-493f-9d55-4252879142de\" class=\"plotly-graph-div\" style=\"height:525px; width:100%;\"></div>            <script type=\"text/javascript\">                                    window.PLOTLYENV=window.PLOTLYENV || {};                                    if (document.getElementById(\"d3dfcb7a-a305-493f-9d55-4252879142de\")) {                    Plotly.newPlot(                        \"d3dfcb7a-a305-493f-9d55-4252879142de\",                        [{\"mode\":\"markers\",\"name\":\"objective_score\",\"x\":[0,1,2,3,4,5,6,7,8,9],\"y\":[0.4111620901191722,0.4111620901191722,0.4111620901191722,0.4111620901191722,0.4111620901191722,0.4111620901191722,0.4111620901191722,0.4111620901191722,0.4111620901191722,0.4111620901191722],\"type\":\"scatter\"},{\"mode\":\"lines+markers\",\"name\":\"best_score\",\"x\":[0,1,2,3,4,5,6,7,8,9],\"y\":[0.4111620901191722,0.4111620901191722,0.4111620901191722,0.4111620901191722,0.4111620901191722,0.4111620901191722,0.4111620901191722,0.4111620901191722,0.4111620901191722,0.4111620901191722],\"type\":\"scatter\"}],                        {\"template\":{\"data\":{\"histogram2dcontour\":[{\"type\":\"histogram2dcontour\",\"colorbar\":{\"outlinewidth\":0,\"ticks\":\"\"},\"colorscale\":[[0.0,\"#0d0887\"],[0.1111111111111111,\"#46039f\"],[0.2222222222222222,\"#7201a8\"],[0.3333333333333333,\"#9c179e\"],[0.4444444444444444,\"#bd3786\"],[0.5555555555555556,\"#d8576b\"],[0.6666666666666666,\"#ed7953\"],[0.7777777777777778,\"#fb9f3a\"],[0.8888888888888888,\"#fdca26\"],[1.0,\"#f0f921\"]]}],\"choropleth\":[{\"type\":\"choropleth\",\"colorbar\":{\"outlinewidth\":0,\"ticks\":\"\"}}],\"histogram2d\":[{\"type\":\"histogram2d\",\"colorbar\":{\"outlinewidth\":0,\"ticks\":\"\"},\"colorscale\":[[0.0,\"#0d0887\"],[0.1111111111111111,\"#46039f\"],[0.2222222222222222,\"#7201a8\"],[0.3333333333333333,\"#9c179e\"],[0.4444444444444444,\"#bd3786\"],[0.5555555555555556,\"#d8576b\"],[0.6666666666666666,\"#ed7953\"],[0.7777777777777778,\"#fb9f3a\"],[0.8888888888888888,\"#fdca26\"],[1.0,\"#f0f921\"]]}],\"heatmap\":[{\"type\":\"heatmap\",\"colorbar\":{\"outlinewidth\":0,\"ticks\":\"\"},\"colorscale\":[[0.0,\"#0d0887\"],[0.1111111111111111,\"#46039f\"],[0.2222222222222222,\"#7201a8\"],[0.3333333333333333,\"#9c179e\"],[0.4444444444444444,\"#bd3786\"],[0.5555555555555556,\"#d8576b\"],[0.6666666666666666,\"#ed7953\"],[0.7777777777777778,\"#fb9f3a\"],[0.8888888888888888,\"#fdca26\"],[1.0,\"#f0f921\"]]}],\"heatmapgl\":[{\"type\":\"heatmapgl\",\"colorbar\":{\"outlinewidth\":0,\"ticks\":\"\"},\"colorscale\":[[0.0,\"#0d0887\"],[0.1111111111111111,\"#46039f\"],[0.2222222222222222,\"#7201a8\"],[0.3333333333333333,\"#9c179e\"],[0.4444444444444444,\"#bd3786\"],[0.5555555555555556,\"#d8576b\"],[0.6666666666666666,\"#ed7953\"],[0.7777777777777778,\"#fb9f3a\"],[0.8888888888888888,\"#fdca26\"],[1.0,\"#f0f921\"]]}],\"contourcarpet\":[{\"type\":\"contourcarpet\",\"colorbar\":{\"outlinewidth\":0,\"ticks\":\"\"}}],\"contour\":[{\"type\":\"contour\",\"colorbar\":{\"outlinewidth\":0,\"ticks\":\"\"},\"colorscale\":[[0.0,\"#0d0887\"],[0.1111111111111111,\"#46039f\"],[0.2222222222222222,\"#7201a8\"],[0.3333333333333333,\"#9c179e\"],[0.4444444444444444,\"#bd3786\"],[0.5555555555555556,\"#d8576b\"],[0.6666666666666666,\"#ed7953\"],[0.7777777777777778,\"#fb9f3a\"],[0.8888888888888888,\"#fdca26\"],[1.0,\"#f0f921\"]]}],\"surface\":[{\"type\":\"surface\",\"colorbar\":{\"outlinewidth\":0,\"ticks\":\"\"},\"colorscale\":[[0.0,\"#0d0887\"],[0.1111111111111111,\"#46039f\"],[0.2222222222222222,\"#7201a8\"],[0.3333333333333333,\"#9c179e\"],[0.4444444444444444,\"#bd3786\"],[0.5555555555555556,\"#d8576b\"],[0.6666666666666666,\"#ed7953\"],[0.7777777777777778,\"#fb9f3a\"],[0.8888888888888888,\"#fdca26\"],[1.0,\"#f0f921\"]]}],\"mesh3d\":[{\"type\":\"mesh3d\",\"colorbar\":{\"outlinewidth\":0,\"ticks\":\"\"}}],\"scatter\":[{\"fillpattern\":{\"fillmode\":\"overlay\",\"size\":10,\"solidity\":0.2},\"type\":\"scatter\"}],\"parcoords\":[{\"type\":\"parcoords\",\"line\":{\"colorbar\":{\"outlinewidth\":0,\"ticks\":\"\"}}}],\"scatterpolargl\":[{\"type\":\"scatterpolargl\",\"marker\":{\"colorbar\":{\"outlinewidth\":0,\"ticks\":\"\"}}}],\"bar\":[{\"error_x\":{\"color\":\"#2a3f5f\"},\"error_y\":{\"color\":\"#2a3f5f\"},\"marker\":{\"line\":{\"color\":\"#E5ECF6\",\"width\":0.5},\"pattern\":{\"fillmode\":\"overlay\",\"size\":10,\"solidity\":0.2}},\"type\":\"bar\"}],\"scattergeo\":[{\"type\":\"scattergeo\",\"marker\":{\"colorbar\":{\"outlinewidth\":0,\"ticks\":\"\"}}}],\"scatterpolar\":[{\"type\":\"scatterpolar\",\"marker\":{\"colorbar\":{\"outlinewidth\":0,\"ticks\":\"\"}}}],\"histogram\":[{\"marker\":{\"pattern\":{\"fillmode\":\"overlay\",\"size\":10,\"solidity\":0.2}},\"type\":\"histogram\"}],\"scattergl\":[{\"type\":\"scattergl\",\"marker\":{\"colorbar\":{\"outlinewidth\":0,\"ticks\":\"\"}}}],\"scatter3d\":[{\"type\":\"scatter3d\",\"line\":{\"colorbar\":{\"outlinewidth\":0,\"ticks\":\"\"}},\"marker\":{\"colorbar\":{\"outlinewidth\":0,\"ticks\":\"\"}}}],\"scattermapbox\":[{\"type\":\"scattermapbox\",\"marker\":{\"colorbar\":{\"outlinewidth\":0,\"ticks\":\"\"}}}],\"scatterternary\":[{\"type\":\"scatterternary\",\"marker\":{\"colorbar\":{\"outlinewidth\":0,\"ticks\":\"\"}}}],\"scattercarpet\":[{\"type\":\"scattercarpet\",\"marker\":{\"colorbar\":{\"outlinewidth\":0,\"ticks\":\"\"}}}],\"carpet\":[{\"aaxis\":{\"endlinecolor\":\"#2a3f5f\",\"gridcolor\":\"white\",\"linecolor\":\"white\",\"minorgridcolor\":\"white\",\"startlinecolor\":\"#2a3f5f\"},\"baxis\":{\"endlinecolor\":\"#2a3f5f\",\"gridcolor\":\"white\",\"linecolor\":\"white\",\"minorgridcolor\":\"white\",\"startlinecolor\":\"#2a3f5f\"},\"type\":\"carpet\"}],\"table\":[{\"cells\":{\"fill\":{\"color\":\"#EBF0F8\"},\"line\":{\"color\":\"white\"}},\"header\":{\"fill\":{\"color\":\"#C8D4E3\"},\"line\":{\"color\":\"white\"}},\"type\":\"table\"}],\"barpolar\":[{\"marker\":{\"line\":{\"color\":\"#E5ECF6\",\"width\":0.5},\"pattern\":{\"fillmode\":\"overlay\",\"size\":10,\"solidity\":0.2}},\"type\":\"barpolar\"}],\"pie\":[{\"automargin\":true,\"type\":\"pie\"}]},\"layout\":{\"autotypenumbers\":\"strict\",\"colorway\":[\"#636efa\",\"#EF553B\",\"#00cc96\",\"#ab63fa\",\"#FFA15A\",\"#19d3f3\",\"#FF6692\",\"#B6E880\",\"#FF97FF\",\"#FECB52\"],\"font\":{\"color\":\"#2a3f5f\"},\"hovermode\":\"closest\",\"hoverlabel\":{\"align\":\"left\"},\"paper_bgcolor\":\"white\",\"plot_bgcolor\":\"#E5ECF6\",\"polar\":{\"bgcolor\":\"#E5ECF6\",\"angularaxis\":{\"gridcolor\":\"white\",\"linecolor\":\"white\",\"ticks\":\"\"},\"radialaxis\":{\"gridcolor\":\"white\",\"linecolor\":\"white\",\"ticks\":\"\"}},\"ternary\":{\"bgcolor\":\"#E5ECF6\",\"aaxis\":{\"gridcolor\":\"white\",\"linecolor\":\"white\",\"ticks\":\"\"},\"baxis\":{\"gridcolor\":\"white\",\"linecolor\":\"white\",\"ticks\":\"\"},\"caxis\":{\"gridcolor\":\"white\",\"linecolor\":\"white\",\"ticks\":\"\"}},\"coloraxis\":{\"colorbar\":{\"outlinewidth\":0,\"ticks\":\"\"}},\"colorscale\":{\"sequential\":[[0.0,\"#0d0887\"],[0.1111111111111111,\"#46039f\"],[0.2222222222222222,\"#7201a8\"],[0.3333333333333333,\"#9c179e\"],[0.4444444444444444,\"#bd3786\"],[0.5555555555555556,\"#d8576b\"],[0.6666666666666666,\"#ed7953\"],[0.7777777777777778,\"#fb9f3a\"],[0.8888888888888888,\"#fdca26\"],[1.0,\"#f0f921\"]],\"sequentialminus\":[[0.0,\"#0d0887\"],[0.1111111111111111,\"#46039f\"],[0.2222222222222222,\"#7201a8\"],[0.3333333333333333,\"#9c179e\"],[0.4444444444444444,\"#bd3786\"],[0.5555555555555556,\"#d8576b\"],[0.6666666666666666,\"#ed7953\"],[0.7777777777777778,\"#fb9f3a\"],[0.8888888888888888,\"#fdca26\"],[1.0,\"#f0f921\"]],\"diverging\":[[0,\"#8e0152\"],[0.1,\"#c51b7d\"],[0.2,\"#de77ae\"],[0.3,\"#f1b6da\"],[0.4,\"#fde0ef\"],[0.5,\"#f7f7f7\"],[0.6,\"#e6f5d0\"],[0.7,\"#b8e186\"],[0.8,\"#7fbc41\"],[0.9,\"#4d9221\"],[1,\"#276419\"]]},\"xaxis\":{\"gridcolor\":\"white\",\"linecolor\":\"white\",\"ticks\":\"\",\"title\":{\"standoff\":15},\"zerolinecolor\":\"white\",\"automargin\":true,\"zerolinewidth\":2},\"yaxis\":{\"gridcolor\":\"white\",\"linecolor\":\"white\",\"ticks\":\"\",\"title\":{\"standoff\":15},\"zerolinecolor\":\"white\",\"automargin\":true,\"zerolinewidth\":2},\"scene\":{\"xaxis\":{\"backgroundcolor\":\"#E5ECF6\",\"gridcolor\":\"white\",\"linecolor\":\"white\",\"showbackground\":true,\"ticks\":\"\",\"zerolinecolor\":\"white\",\"gridwidth\":2},\"yaxis\":{\"backgroundcolor\":\"#E5ECF6\",\"gridcolor\":\"white\",\"linecolor\":\"white\",\"showbackground\":true,\"ticks\":\"\",\"zerolinecolor\":\"white\",\"gridwidth\":2},\"zaxis\":{\"backgroundcolor\":\"#E5ECF6\",\"gridcolor\":\"white\",\"linecolor\":\"white\",\"showbackground\":true,\"ticks\":\"\",\"zerolinecolor\":\"white\",\"gridwidth\":2}},\"shapedefaults\":{\"line\":{\"color\":\"#2a3f5f\"}},\"annotationdefaults\":{\"arrowcolor\":\"#2a3f5f\",\"arrowhead\":0,\"arrowwidth\":1},\"geo\":{\"bgcolor\":\"white\",\"landcolor\":\"#E5ECF6\",\"subunitcolor\":\"white\",\"showland\":true,\"showlakes\":true,\"lakecolor\":\"white\"},\"title\":{\"x\":0.05},\"mapbox\":{\"style\":\"light\"}}},\"xaxis\":{\"title\":{\"text\":\"Iteration\"}},\"yaxis\":{\"title\":{\"text\":\"objective_score\"}},\"title\":{\"text\":\"Optimization History Plot\"}},                        {\"responsive\": true}                    ).then(function(){\n",
              "                            \n",
              "var gd = document.getElementById('d3dfcb7a-a305-493f-9d55-4252879142de');\n",
              "var x = new MutationObserver(function (mutations, observer) {{\n",
              "        var display = window.getComputedStyle(gd).display;\n",
              "        if (!display || display === 'none') {{\n",
              "            console.log([gd, 'removed!']);\n",
              "            Plotly.purge(gd);\n",
              "            observer.disconnect();\n",
              "        }}\n",
              "}});\n",
              "\n",
              "// Listen for the removal of the full notebook cells\n",
              "var notebookContainer = gd.closest('#notebook-container');\n",
              "if (notebookContainer) {{\n",
              "    x.observe(notebookContainer, {childList: true});\n",
              "}}\n",
              "\n",
              "// Listen for the clearing of the current output cell\n",
              "var outputEl = gd.closest('.output');\n",
              "if (outputEl) {{\n",
              "    x.observe(outputEl, {childList: true});\n",
              "}}\n",
              "\n",
              "                        })                };                            </script>        </div>\n",
              "</body>\n",
              "</html>"
            ]
          },
          "metadata": {}
        }
      ],
      "source": [
        "algo_object.plot_history()"
      ]
    },
    {
      "cell_type": "code",
      "execution_count": null,
      "metadata": {
        "id": "Q51Gq2XCDEsV"
      },
      "outputs": [],
      "source": [
        "df_PSO=df_smote[['DestinationPort',\n",
        " 'FlowDuration',\n",
        " 'TotalFwdPackets',\n",
        " 'FwdPacketLengthMax',\n",
        " 'FwdPacketLengthMin',\n",
        " 'FwdPacketLengthMean',\n",
        " 'FwdPacketLengthStd',\n",
        " 'BwdPacketLengthMax',\n",
        " 'BwdPacketLengthMean',\n",
        " 'FlowBytes/s',\n",
        " 'FlowIATMean',\n",
        " 'FlowIATMax',\n",
        " 'FlowIATMin',\n",
        " 'FwdIATTotal',\n",
        " 'FwdIATMean',\n",
        " 'FwdIATStd',\n",
        " 'FwdIATMin',\n",
        " 'BwdIATTotal',\n",
        " 'BwdIATMean',\n",
        " 'BwdIATMax',\n",
        " 'BwdIATMin',\n",
        " 'FwdPSHFlags',\n",
        " 'FwdHeaderLength',\n",
        " 'BwdHeaderLength',\n",
        " 'FwdPackets/s',\n",
        " 'PacketLengthMean',\n",
        " 'PacketLengthStd',\n",
        " 'FINFlagCount',\n",
        " 'PSHFlagCount',\n",
        " 'CWEFlagCount',\n",
        " 'ECEFlagCount',\n",
        " 'AveragePacketSize',\n",
        " 'FwdHeaderLength.1',\n",
        " 'FwdAvgPackets/Bulk',\n",
        " 'BwdAvgBulkRate',\n",
        " 'SubflowFwdBytes',\n",
        " 'SubflowBwdPackets',\n",
        " 'SubflowBwdBytes',\n",
        " 'Init_Win_bytes_forward',\n",
        " 'Init_Win_bytes_backward',\n",
        " 'min_seg_size_forward',\n",
        " 'ActiveStd',\n",
        " 'ActiveMin',\n",
        " 'IdleMean',\n",
        " 'IdleMax',\n",
        " 'IdleMin',\n",
        " 'Label']]"
      ]
    },
    {
      "cell_type": "code",
      "execution_count": null,
      "metadata": {
        "id": "M9H1_c9DMVK5",
        "colab": {
          "base_uri": "https://localhost:8080/",
          "height": 299
        },
        "outputId": "ae82b312-9d01-4473-d662-b0377af1a51c"
      },
      "outputs": [
        {
          "output_type": "execute_result",
          "data": {
            "text/plain": [
              "    DestinationPort  FlowDuration  TotalFwdPackets  FwdPacketLengthMax  \\\n",
              "0             54865             3                2                   6   \n",
              "8              9282             4                2                   6   \n",
              "16            53524           154                1                   0   \n",
              "24            55277             4                2                   6   \n",
              "32            55156             3                2                  31   \n",
              "\n",
              "    FwdPacketLengthMin  FwdPacketLengthMean  FwdPacketLengthStd  \\\n",
              "0                    6                  6.0             0.00000   \n",
              "8                    6                  6.0             0.00000   \n",
              "16                   0                  0.0             0.00000   \n",
              "24                   6                  6.0             0.00000   \n",
              "32                   6                 18.5            17.67767   \n",
              "\n",
              "    BwdPacketLengthMax  BwdPacketLengthMean  FlowBytes/s  ...  \\\n",
              "0                    0                  0.0    4000000.0  ...   \n",
              "8                    0                  0.0    3000000.0  ...   \n",
              "16                   0                  0.0          0.0  ...   \n",
              "24                   0                  0.0    3000000.0  ...   \n",
              "32                   0                  0.0   12300000.0  ...   \n",
              "\n",
              "    SubflowBwdBytes  Init_Win_bytes_forward  Init_Win_bytes_backward  \\\n",
              "0                 0                      33                       -1   \n",
              "8                 0                      32                       -1   \n",
              "16                0                     130                    65535   \n",
              "24                0                   35095                       -1   \n",
              "32                0                      62                       -1   \n",
              "\n",
              "    min_seg_size_forward  ActiveStd  ActiveMin  IdleMean  IdleMax  IdleMin  \\\n",
              "0                     20        0.0          0       0.0        0        0   \n",
              "8                     20        0.0          0       0.0        0        0   \n",
              "16                    32        0.0          0       0.0        0        0   \n",
              "24                    20        0.0          0       0.0        0        0   \n",
              "32                    20        0.0          0       0.0        0        0   \n",
              "\n",
              "    Label  \n",
              "0       0  \n",
              "8       0  \n",
              "16      0  \n",
              "24      0  \n",
              "32      0  \n",
              "\n",
              "[5 rows x 47 columns]"
            ],
            "text/html": [
              "\n",
              "  <div id=\"df-20603d02-a59f-49c2-aaaa-e64c9d2aebdf\">\n",
              "    <div class=\"colab-df-container\">\n",
              "      <div>\n",
              "<style scoped>\n",
              "    .dataframe tbody tr th:only-of-type {\n",
              "        vertical-align: middle;\n",
              "    }\n",
              "\n",
              "    .dataframe tbody tr th {\n",
              "        vertical-align: top;\n",
              "    }\n",
              "\n",
              "    .dataframe thead th {\n",
              "        text-align: right;\n",
              "    }\n",
              "</style>\n",
              "<table border=\"1\" class=\"dataframe\">\n",
              "  <thead>\n",
              "    <tr style=\"text-align: right;\">\n",
              "      <th></th>\n",
              "      <th>DestinationPort</th>\n",
              "      <th>FlowDuration</th>\n",
              "      <th>TotalFwdPackets</th>\n",
              "      <th>FwdPacketLengthMax</th>\n",
              "      <th>FwdPacketLengthMin</th>\n",
              "      <th>FwdPacketLengthMean</th>\n",
              "      <th>FwdPacketLengthStd</th>\n",
              "      <th>BwdPacketLengthMax</th>\n",
              "      <th>BwdPacketLengthMean</th>\n",
              "      <th>FlowBytes/s</th>\n",
              "      <th>...</th>\n",
              "      <th>SubflowBwdBytes</th>\n",
              "      <th>Init_Win_bytes_forward</th>\n",
              "      <th>Init_Win_bytes_backward</th>\n",
              "      <th>min_seg_size_forward</th>\n",
              "      <th>ActiveStd</th>\n",
              "      <th>ActiveMin</th>\n",
              "      <th>IdleMean</th>\n",
              "      <th>IdleMax</th>\n",
              "      <th>IdleMin</th>\n",
              "      <th>Label</th>\n",
              "    </tr>\n",
              "  </thead>\n",
              "  <tbody>\n",
              "    <tr>\n",
              "      <th>0</th>\n",
              "      <td>54865</td>\n",
              "      <td>3</td>\n",
              "      <td>2</td>\n",
              "      <td>6</td>\n",
              "      <td>6</td>\n",
              "      <td>6.0</td>\n",
              "      <td>0.00000</td>\n",
              "      <td>0</td>\n",
              "      <td>0.0</td>\n",
              "      <td>4000000.0</td>\n",
              "      <td>...</td>\n",
              "      <td>0</td>\n",
              "      <td>33</td>\n",
              "      <td>-1</td>\n",
              "      <td>20</td>\n",
              "      <td>0.0</td>\n",
              "      <td>0</td>\n",
              "      <td>0.0</td>\n",
              "      <td>0</td>\n",
              "      <td>0</td>\n",
              "      <td>0</td>\n",
              "    </tr>\n",
              "    <tr>\n",
              "      <th>8</th>\n",
              "      <td>9282</td>\n",
              "      <td>4</td>\n",
              "      <td>2</td>\n",
              "      <td>6</td>\n",
              "      <td>6</td>\n",
              "      <td>6.0</td>\n",
              "      <td>0.00000</td>\n",
              "      <td>0</td>\n",
              "      <td>0.0</td>\n",
              "      <td>3000000.0</td>\n",
              "      <td>...</td>\n",
              "      <td>0</td>\n",
              "      <td>32</td>\n",
              "      <td>-1</td>\n",
              "      <td>20</td>\n",
              "      <td>0.0</td>\n",
              "      <td>0</td>\n",
              "      <td>0.0</td>\n",
              "      <td>0</td>\n",
              "      <td>0</td>\n",
              "      <td>0</td>\n",
              "    </tr>\n",
              "    <tr>\n",
              "      <th>16</th>\n",
              "      <td>53524</td>\n",
              "      <td>154</td>\n",
              "      <td>1</td>\n",
              "      <td>0</td>\n",
              "      <td>0</td>\n",
              "      <td>0.0</td>\n",
              "      <td>0.00000</td>\n",
              "      <td>0</td>\n",
              "      <td>0.0</td>\n",
              "      <td>0.0</td>\n",
              "      <td>...</td>\n",
              "      <td>0</td>\n",
              "      <td>130</td>\n",
              "      <td>65535</td>\n",
              "      <td>32</td>\n",
              "      <td>0.0</td>\n",
              "      <td>0</td>\n",
              "      <td>0.0</td>\n",
              "      <td>0</td>\n",
              "      <td>0</td>\n",
              "      <td>0</td>\n",
              "    </tr>\n",
              "    <tr>\n",
              "      <th>24</th>\n",
              "      <td>55277</td>\n",
              "      <td>4</td>\n",
              "      <td>2</td>\n",
              "      <td>6</td>\n",
              "      <td>6</td>\n",
              "      <td>6.0</td>\n",
              "      <td>0.00000</td>\n",
              "      <td>0</td>\n",
              "      <td>0.0</td>\n",
              "      <td>3000000.0</td>\n",
              "      <td>...</td>\n",
              "      <td>0</td>\n",
              "      <td>35095</td>\n",
              "      <td>-1</td>\n",
              "      <td>20</td>\n",
              "      <td>0.0</td>\n",
              "      <td>0</td>\n",
              "      <td>0.0</td>\n",
              "      <td>0</td>\n",
              "      <td>0</td>\n",
              "      <td>0</td>\n",
              "    </tr>\n",
              "    <tr>\n",
              "      <th>32</th>\n",
              "      <td>55156</td>\n",
              "      <td>3</td>\n",
              "      <td>2</td>\n",
              "      <td>31</td>\n",
              "      <td>6</td>\n",
              "      <td>18.5</td>\n",
              "      <td>17.67767</td>\n",
              "      <td>0</td>\n",
              "      <td>0.0</td>\n",
              "      <td>12300000.0</td>\n",
              "      <td>...</td>\n",
              "      <td>0</td>\n",
              "      <td>62</td>\n",
              "      <td>-1</td>\n",
              "      <td>20</td>\n",
              "      <td>0.0</td>\n",
              "      <td>0</td>\n",
              "      <td>0.0</td>\n",
              "      <td>0</td>\n",
              "      <td>0</td>\n",
              "      <td>0</td>\n",
              "    </tr>\n",
              "  </tbody>\n",
              "</table>\n",
              "<p>5 rows × 47 columns</p>\n",
              "</div>\n",
              "      <button class=\"colab-df-convert\" onclick=\"convertToInteractive('df-20603d02-a59f-49c2-aaaa-e64c9d2aebdf')\"\n",
              "              title=\"Convert this dataframe to an interactive table.\"\n",
              "              style=\"display:none;\">\n",
              "        \n",
              "  <svg xmlns=\"http://www.w3.org/2000/svg\" height=\"24px\"viewBox=\"0 0 24 24\"\n",
              "       width=\"24px\">\n",
              "    <path d=\"M0 0h24v24H0V0z\" fill=\"none\"/>\n",
              "    <path d=\"M18.56 5.44l.94 2.06.94-2.06 2.06-.94-2.06-.94-.94-2.06-.94 2.06-2.06.94zm-11 1L8.5 8.5l.94-2.06 2.06-.94-2.06-.94L8.5 2.5l-.94 2.06-2.06.94zm10 10l.94 2.06.94-2.06 2.06-.94-2.06-.94-.94-2.06-.94 2.06-2.06.94z\"/><path d=\"M17.41 7.96l-1.37-1.37c-.4-.4-.92-.59-1.43-.59-.52 0-1.04.2-1.43.59L10.3 9.45l-7.72 7.72c-.78.78-.78 2.05 0 2.83L4 21.41c.39.39.9.59 1.41.59.51 0 1.02-.2 1.41-.59l7.78-7.78 2.81-2.81c.8-.78.8-2.07 0-2.86zM5.41 20L4 18.59l7.72-7.72 1.47 1.35L5.41 20z\"/>\n",
              "  </svg>\n",
              "      </button>\n",
              "      \n",
              "  <style>\n",
              "    .colab-df-container {\n",
              "      display:flex;\n",
              "      flex-wrap:wrap;\n",
              "      gap: 12px;\n",
              "    }\n",
              "\n",
              "    .colab-df-convert {\n",
              "      background-color: #E8F0FE;\n",
              "      border: none;\n",
              "      border-radius: 50%;\n",
              "      cursor: pointer;\n",
              "      display: none;\n",
              "      fill: #1967D2;\n",
              "      height: 32px;\n",
              "      padding: 0 0 0 0;\n",
              "      width: 32px;\n",
              "    }\n",
              "\n",
              "    .colab-df-convert:hover {\n",
              "      background-color: #E2EBFA;\n",
              "      box-shadow: 0px 1px 2px rgba(60, 64, 67, 0.3), 0px 1px 3px 1px rgba(60, 64, 67, 0.15);\n",
              "      fill: #174EA6;\n",
              "    }\n",
              "\n",
              "    [theme=dark] .colab-df-convert {\n",
              "      background-color: #3B4455;\n",
              "      fill: #D2E3FC;\n",
              "    }\n",
              "\n",
              "    [theme=dark] .colab-df-convert:hover {\n",
              "      background-color: #434B5C;\n",
              "      box-shadow: 0px 1px 3px 1px rgba(0, 0, 0, 0.15);\n",
              "      filter: drop-shadow(0px 1px 2px rgba(0, 0, 0, 0.3));\n",
              "      fill: #FFFFFF;\n",
              "    }\n",
              "  </style>\n",
              "\n",
              "      <script>\n",
              "        const buttonEl =\n",
              "          document.querySelector('#df-20603d02-a59f-49c2-aaaa-e64c9d2aebdf button.colab-df-convert');\n",
              "        buttonEl.style.display =\n",
              "          google.colab.kernel.accessAllowed ? 'block' : 'none';\n",
              "\n",
              "        async function convertToInteractive(key) {\n",
              "          const element = document.querySelector('#df-20603d02-a59f-49c2-aaaa-e64c9d2aebdf');\n",
              "          const dataTable =\n",
              "            await google.colab.kernel.invokeFunction('convertToInteractive',\n",
              "                                                     [key], {});\n",
              "          if (!dataTable) return;\n",
              "\n",
              "          const docLinkHtml = 'Like what you see? Visit the ' +\n",
              "            '<a target=\"_blank\" href=https://colab.research.google.com/notebooks/data_table.ipynb>data table notebook</a>'\n",
              "            + ' to learn more about interactive tables.';\n",
              "          element.innerHTML = '';\n",
              "          dataTable['output_type'] = 'display_data';\n",
              "          await google.colab.output.renderOutput(dataTable, element);\n",
              "          const docLink = document.createElement('div');\n",
              "          docLink.innerHTML = docLinkHtml;\n",
              "          element.appendChild(docLink);\n",
              "        }\n",
              "      </script>\n",
              "    </div>\n",
              "  </div>\n",
              "  "
            ]
          },
          "metadata": {},
          "execution_count": 30
        }
      ],
      "source": [
        "df_PSO.head()"
      ]
    },
    {
      "cell_type": "code",
      "execution_count": null,
      "metadata": {
        "id": "zm8cCM7RMlRs",
        "colab": {
          "base_uri": "https://localhost:8080/"
        },
        "outputId": "1a948b46-0ef8-443b-a6be-bb7e844bb185"
      },
      "outputs": [
        {
          "output_type": "execute_result",
          "data": {
            "text/plain": [
              "(93957, 47)"
            ]
          },
          "metadata": {},
          "execution_count": 31
        }
      ],
      "source": [
        "df_PSO.shape"
      ]
    },
    {
      "cell_type": "code",
      "execution_count": null,
      "metadata": {
        "id": "aRr3iA5jMtYx"
      },
      "outputs": [],
      "source": [
        "Y = df_PSO.iloc[:, -1].values\n",
        "X = df_PSO.iloc[:,0:41].values\n",
        "from sklearn.model_selection import train_test_split\n",
        "X_Train, X_Test, Y_Train, Y_Test = train_test_split(X, Y, test_size = 0.25, random_state = 0)"
      ]
    },
    {
      "cell_type": "code",
      "execution_count": null,
      "metadata": {
        "id": "WxiLrk5oOiv0"
      },
      "outputs": [],
      "source": [
        "# Feature Scaling\n",
        "from sklearn.preprocessing import StandardScaler\n",
        "sc_X = StandardScaler()\n",
        "X_Train = sc_X.fit_transform(X_Train)\n",
        "X_Test = sc_X.transform(X_Test)"
      ]
    },
    {
      "cell_type": "markdown",
      "source": [
        "# Drift Detection using ADWIN"
      ],
      "metadata": {
        "id": "8NBUubkcyFbr"
      }
    },
    {
      "cell_type": "code",
      "execution_count": null,
      "metadata": {
        "id": "bRMd2X1FQ0FZ"
      },
      "outputs": [],
      "source": [
        "import numpy as np \n",
        "import pandas as pd"
      ]
    },
    {
      "cell_type": "code",
      "source": [
        "import seaborn as sns\n",
        "import matplotlib.pyplot as plt\n",
        "plt.rcParams.update({'font.size': 14})"
      ],
      "metadata": {
        "id": "hv_-xpyjQ9sx"
      },
      "execution_count": null,
      "outputs": []
    },
    {
      "cell_type": "code",
      "source": [
        "import re\n",
        "\n",
        "import plotly.express as px\n",
        "import plotly.graph_objects as go\n",
        "from plotly.subplots import make_subplots\n",
        "\n",
        "import warnings\n",
        "warnings.filterwarnings(\"ignore\")"
      ],
      "metadata": {
        "id": "ZGWO62oXREpR"
      },
      "execution_count": null,
      "outputs": []
    },
    {
      "cell_type": "code",
      "source": [
        "!pip install -U scikit-multiflow"
      ],
      "metadata": {
        "colab": {
          "base_uri": "https://localhost:8080/"
        },
        "id": "n8lSvVKnUt38",
        "outputId": "f608dc22-5b9e-4c38-89dc-2582bafbcf2d"
      },
      "execution_count": null,
      "outputs": [
        {
          "output_type": "stream",
          "name": "stdout",
          "text": [
            "Looking in indexes: https://pypi.org/simple, https://us-python.pkg.dev/colab-wheels/public/simple/\n",
            "Requirement already satisfied: scikit-multiflow in /usr/local/lib/python3.7/dist-packages (0.5.3)\n",
            "Requirement already satisfied: sortedcontainers>=1.5.7 in /usr/local/lib/python3.7/dist-packages (from scikit-multiflow) (2.4.0)\n",
            "Requirement already satisfied: numpy>=1.14.0 in /usr/local/lib/python3.7/dist-packages (from scikit-multiflow) (1.21.6)\n",
            "Requirement already satisfied: scikit-learn>=0.20 in /usr/local/lib/python3.7/dist-packages (from scikit-multiflow) (1.0.2)\n",
            "Requirement already satisfied: scipy>=1.0.0 in /usr/local/lib/python3.7/dist-packages (from scikit-multiflow) (1.7.3)\n",
            "Requirement already satisfied: matplotlib>=2.0.0 in /usr/local/lib/python3.7/dist-packages (from scikit-multiflow) (3.2.2)\n",
            "Requirement already satisfied: pandas>=0.25.3 in /usr/local/lib/python3.7/dist-packages (from scikit-multiflow) (1.3.5)\n",
            "Requirement already satisfied: pyparsing!=2.0.4,!=2.1.2,!=2.1.6,>=2.0.1 in /usr/local/lib/python3.7/dist-packages (from matplotlib>=2.0.0->scikit-multiflow) (3.0.9)\n",
            "Requirement already satisfied: python-dateutil>=2.1 in /usr/local/lib/python3.7/dist-packages (from matplotlib>=2.0.0->scikit-multiflow) (2.8.2)\n",
            "Requirement already satisfied: cycler>=0.10 in /usr/local/lib/python3.7/dist-packages (from matplotlib>=2.0.0->scikit-multiflow) (0.11.0)\n",
            "Requirement already satisfied: kiwisolver>=1.0.1 in /usr/local/lib/python3.7/dist-packages (from matplotlib>=2.0.0->scikit-multiflow) (1.4.4)\n",
            "Requirement already satisfied: typing-extensions in /usr/local/lib/python3.7/dist-packages (from kiwisolver>=1.0.1->matplotlib>=2.0.0->scikit-multiflow) (4.1.1)\n",
            "Requirement already satisfied: pytz>=2017.3 in /usr/local/lib/python3.7/dist-packages (from pandas>=0.25.3->scikit-multiflow) (2022.6)\n",
            "Requirement already satisfied: six>=1.5 in /usr/local/lib/python3.7/dist-packages (from python-dateutil>=2.1->matplotlib>=2.0.0->scikit-multiflow) (1.15.0)\n",
            "Requirement already satisfied: joblib>=0.11 in /usr/local/lib/python3.7/dist-packages (from scikit-learn>=0.20->scikit-multiflow) (1.2.0)\n",
            "Requirement already satisfied: threadpoolctl>=2.0.0 in /usr/local/lib/python3.7/dist-packages (from scikit-learn>=0.20->scikit-multiflow) (3.1.0)\n"
          ]
        }
      ]
    },
    {
      "cell_type": "code",
      "source": [
        "from skmultiflow.drift_detection.adwin import ADWIN\n",
        " \n",
        "adwin = ADWIN()"
      ],
      "metadata": {
        "id": "KeKbsK_bUxK7"
      },
      "execution_count": null,
      "outputs": []
    },
    {
      "cell_type": "code",
      "source": [
        "data_stream = df_PSO['Label']"
      ],
      "metadata": {
        "id": "dNBFHbKlU_x-"
      },
      "execution_count": null,
      "outputs": []
    },
    {
      "cell_type": "code",
      "source": [
        "import matplotlib.pyplot as plt\n",
        "from matplotlib import gridspec"
      ],
      "metadata": {
        "id": "zBbwMkXeVGiq"
      },
      "execution_count": null,
      "outputs": []
    },
    {
      "cell_type": "code",
      "source": [
        "def plot_data(data_stream, drifts=None):\n",
        "    fig = plt.figure(figsize=(14,3), tight_layout=True)\n",
        "    gs = gridspec.GridSpec(1, 2, width_ratios=[3, 1])\n",
        "    ax1, ax2 = plt.subplot(gs[0]), plt.subplot(gs[1])\n",
        "    ax1.grid()\n",
        "    ax1.plot(data_stream, label='Stream')\n",
        "    ax2.grid(axis='y')\n",
        "    ax2.hist(data_stream, label=r'$data_stream$')\n",
        "    if drifts is not None:\n",
        "        for drift_detected in drifts:\n",
        "            ax1.axvline(drift_detected, color='red')\n",
        "    plt.show()\n",
        "\n",
        "plot_data(data_stream)"
      ],
      "metadata": {
        "colab": {
          "base_uri": "https://localhost:8080/",
          "height": 217
        },
        "id": "OJx4pVt8VmtY",
        "outputId": "81d8a8c6-3cff-4441-de4d-d574ef5adb9b"
      },
      "execution_count": null,
      "outputs": [
        {
          "output_type": "display_data",
          "data": {
            "text/plain": [
              "<Figure size 1008x216 with 2 Axes>"
            ],
            "image/png": "[encoded data removed]"
          },
          "metadata": {
            "needs_background": "light"
          }
        }
      ]
    },
    {
      "cell_type": "code",
      "source": [
        "!pip install river"
      ],
      "metadata": {
        "colab": {
          "base_uri": "https://localhost:8080/"
        },
        "id": "fg2Mf2uEWPcH",
        "outputId": "7c09ea97-4ba3-45e4-9093-a9dcd237a4c9"
      },
      "execution_count": null,
      "outputs": [
        {
          "output_type": "stream",
          "name": "stdout",
          "text": [
            "Looking in indexes: https://pypi.org/simple, https://us-python.pkg.dev/colab-wheels/public/simple/\n",
            "Requirement already satisfied: river in /usr/local/lib/python3.7/dist-packages (0.10.1)\n",
            "Requirement already satisfied: scipy>=1.4.1 in /usr/local/lib/python3.7/dist-packages (from river) (1.7.3)\n",
            "Requirement already satisfied: pandas>=1.0.1 in /usr/local/lib/python3.7/dist-packages (from river) (1.3.5)\n",
            "Requirement already satisfied: numpy>=1.20.0 in /usr/local/lib/python3.7/dist-packages (from river) (1.21.6)\n",
            "Requirement already satisfied: pytz>=2017.3 in /usr/local/lib/python3.7/dist-packages (from pandas>=1.0.1->river) (2022.6)\n",
            "Requirement already satisfied: python-dateutil>=2.7.3 in /usr/local/lib/python3.7/dist-packages (from pandas>=1.0.1->river) (2.8.2)\n",
            "Requirement already satisfied: six>=1.5 in /usr/local/lib/python3.7/dist-packages (from python-dateutil>=2.7.3->pandas>=1.0.1->river) (1.15.0)\n"
          ]
        }
      ]
    },
    {
      "cell_type": "code",
      "source": [
        "import river\n",
        "from river import drift\n",
        "\n",
        "drift_detector = drift.ADWIN()\n",
        "drifts = []\n",
        "\n",
        "for i, val in enumerate(data_stream):\n",
        "    drift_detector.update(val)   # Data is processed one sample at a time\n",
        "    if drift_detector.change_detected:\n",
        "        # The drift detector indicates after each sample if there is a drift in the data\n",
        "        print(f'Change detected at index {i}')\n",
        "        drifts.append(i)\n",
        "        drift_detector.reset()   # As a best practice, we reset the detector\n",
        "\n",
        "plot_data(data_stream, drifts)"
      ],
      "metadata": {
        "colab": {
          "base_uri": "https://localhost:8080/",
          "height": 911
        },
        "id": "QS62yrrdVpp9",
        "outputId": "79063d43-b887-4b5b-f91f-9d84637a4cb1"
      },
      "execution_count": null,
      "outputs": [
        {
          "output_type": "stream",
          "name": "stdout",
          "text": [
            "Change detected at index 2399\n",
            "Change detected at index 2687\n",
            "Change detected at index 2879\n",
            "Change detected at index 3871\n",
            "Change detected at index 4223\n",
            "Change detected at index 5023\n",
            "Change detected at index 5407\n",
            "Change detected at index 6239\n",
            "Change detected at index 6623\n",
            "Change detected at index 7423\n",
            "Change detected at index 7743\n",
            "Change detected at index 8607\n",
            "Change detected at index 8895\n",
            "Change detected at index 9759\n",
            "Change detected at index 9951\n",
            "Change detected at index 10815\n",
            "Change detected at index 11039\n",
            "Change detected at index 11839\n",
            "Change detected at index 17247\n",
            "Change detected at index 22367\n",
            "Change detected at index 22815\n",
            "Change detected at index 25119\n",
            "Change detected at index 37407\n",
            "Change detected at index 39743\n",
            "Change detected at index 62911\n",
            "Change detected at index 72127\n",
            "Change detected at index 73951\n",
            "Change detected at index 80863\n",
            "Change detected at index 86815\n",
            "Change detected at index 87455\n",
            "Change detected at index 88415\n",
            "Change detected at index 88671\n",
            "Change detected at index 89535\n",
            "Change detected at index 89663\n",
            "Change detected at index 90111\n",
            "Change detected at index 90239\n",
            "Change detected at index 90783\n",
            "Change detected at index 91135\n",
            "Change detected at index 91423\n",
            "Change detected at index 91807\n"
          ]
        },
        {
          "output_type": "display_data",
          "data": {
            "text/plain": [
              "<Figure size 1008x216 with 2 Axes>"
            ],
            "image/png": "[encoded data removed]"
          },
          "metadata": {
            "needs_background": "light"
          }
        }
      ]
    },
    {
      "cell_type": "code",
      "source": [
        "data_stream2 = df_PSO[\"Label\"]"
      ],
      "metadata": {
        "id": "BqcAjHtoVtVB"
      },
      "execution_count": null,
      "outputs": []
    },
    {
      "cell_type": "code",
      "source": [
        "def plot_data(data_stream2, drifts=None):\n",
        "    fig = plt.figure(figsize=(20,6), tight_layout=True)\n",
        "    gs = gridspec.GridSpec(1, 2, width_ratios=[3, 1])\n",
        "    ax1, ax2 = plt.subplot(gs[0]), plt.subplot(gs[1])\n",
        "    ax1.grid()\n",
        "    ax1.plot(data_stream2, label='Stream')\n",
        "    ax2.grid(axis='y')\n",
        "    ax2.hist(data_stream2, label=r'$data_stream2$')\n",
        "    if drifts is not None:\n",
        "        for drift_detected in drifts:\n",
        "            ax1.axvline(drift_detected, color='red')\n",
        "    plt.show()\n",
        "\n",
        "plot_data(data_stream2)"
      ],
      "metadata": {
        "colab": {
          "base_uri": "https://localhost:8080/",
          "height": 430
        },
        "id": "_D7LBOJtWZPe",
        "outputId": "6d6ef941-d472-43fd-f7d5-07a1e66a27d9"
      },
      "execution_count": null,
      "outputs": [
        {
          "output_type": "display_data",
          "data": {
            "text/plain": [
              "<Figure size 1440x432 with 2 Axes>"
            ],
            "image/png": "[encoded data removed]"
          },
          "metadata": {
            "needs_background": "light"
          }
        }
      ]
    },
    {
      "cell_type": "code",
      "source": [
        "from river import drift\n",
        "\n",
        "drift_detector = drift.ADWIN()\n",
        "drifts = []\n",
        "\n",
        "for i, val in enumerate(data_stream2):\n",
        "    drift_detector.update(val)   # Data is processed one sample at a time\n",
        "    if drift_detector.change_detected:\n",
        "        # The drift detector indicates after each sample if there is a drift in the data\n",
        "        print(f'Change detected at index {i}')\n",
        "        drifts.append(i)\n",
        "        drift_detector.reset()   # As a best practice, we reset the detector\n",
        "\n",
        "plot_data(data_stream2, drifts)"
      ],
      "metadata": {
        "colab": {
          "base_uri": "https://localhost:8080/",
          "height": 1000
        },
        "id": "htHOHZ5xWbcM",
        "outputId": "cf8e1e86-9bf3-456d-c271-d460e6faf915"
      },
      "execution_count": null,
      "outputs": [
        {
          "output_type": "stream",
          "name": "stdout",
          "text": [
            "Change detected at index 2399\n",
            "Change detected at index 2687\n",
            "Change detected at index 2879\n",
            "Change detected at index 3871\n",
            "Change detected at index 4223\n",
            "Change detected at index 5023\n",
            "Change detected at index 5407\n",
            "Change detected at index 6239\n",
            "Change detected at index 6623\n",
            "Change detected at index 7423\n",
            "Change detected at index 7743\n",
            "Change detected at index 8607\n",
            "Change detected at index 8895\n",
            "Change detected at index 9759\n",
            "Change detected at index 9951\n",
            "Change detected at index 10815\n",
            "Change detected at index 11039\n",
            "Change detected at index 11839\n",
            "Change detected at index 17247\n",
            "Change detected at index 22367\n",
            "Change detected at index 22815\n",
            "Change detected at index 25119\n",
            "Change detected at index 37407\n",
            "Change detected at index 39743\n",
            "Change detected at index 62911\n",
            "Change detected at index 72127\n",
            "Change detected at index 73951\n",
            "Change detected at index 80863\n",
            "Change detected at index 86815\n",
            "Change detected at index 87455\n",
            "Change detected at index 88415\n",
            "Change detected at index 88671\n",
            "Change detected at index 89535\n",
            "Change detected at index 89663\n",
            "Change detected at index 90111\n",
            "Change detected at index 90239\n",
            "Change detected at index 90783\n",
            "Change detected at index 91135\n",
            "Change detected at index 91423\n",
            "Change detected at index 91807\n"
          ]
        },
        {
          "output_type": "display_data",
          "data": {
            "text/plain": [
              "<Figure size 1440x432 with 2 Axes>"
            ],
            "image/png": "[encoded data removed]"
          },
          "metadata": {
            "needs_background": "light"
          }
        }
      ]
    },
    {
      "cell_type": "markdown",
      "source": [
        "#New Things"
      ],
      "metadata": {
        "id": "jxzpzr9Ib2cA"
      }
    },
    {
      "cell_type": "code",
      "source": [
        "yes_dft=df_PSO.iloc[21000:41000,:]\n"
      ],
      "metadata": {
        "id": "vPFKWNqGb4tC"
      },
      "execution_count": null,
      "outputs": []
    },
    {
      "cell_type": "code",
      "source": [
        "yes_dft.shape"
      ],
      "metadata": {
        "colab": {
          "base_uri": "https://localhost:8080/"
        },
        "id": "2CxbO6tTdCD6",
        "outputId": "467fa55c-da7c-4ea7-bfbb-5b0754a9b5cc"
      },
      "execution_count": null,
      "outputs": [
        {
          "output_type": "execute_result",
          "data": {
            "text/plain": [
              "(20000, 47)"
            ]
          },
          "metadata": {},
          "execution_count": 108
        }
      ]
    },
    {
      "cell_type": "code",
      "source": [
        "yes_dft['Label'].value_counts().plot(kind='bar');"
      ],
      "metadata": {
        "colab": {
          "base_uri": "https://localhost:8080/",
          "height": 264
        },
        "id": "lsqkWniqhaHS",
        "outputId": "ebfc937f-60ff-4192-f811-04c68bae8cd0"
      },
      "execution_count": null,
      "outputs": [
        {
          "output_type": "display_data",
          "data": {
            "text/plain": [
              "<Figure size 432x288 with 1 Axes>"
            ],
            "image/png": "[encoded data removed]"
          },
          "metadata": {
            "needs_background": "light"
          }
        }
      ]
    },
    {
      "cell_type": "code",
      "source": [
        "no_dft=df_PSO.iloc[0:20000,:]"
      ],
      "metadata": {
        "id": "jogEgcpwdUx5"
      },
      "execution_count": null,
      "outputs": []
    },
    {
      "cell_type": "code",
      "source": [
        "no_dft['Label'].value_counts().plot(kind='bar');"
      ],
      "metadata": {
        "colab": {
          "base_uri": "https://localhost:8080/",
          "height": 264
        },
        "id": "HQcM0UnyiJYE",
        "outputId": "6096fc0b-81f6-41b0-a526-21b11307951d"
      },
      "execution_count": null,
      "outputs": [
        {
          "output_type": "display_data",
          "data": {
            "text/plain": [
              "<Figure size 432x288 with 1 Axes>"
            ],
            "image/png": "[encoded data removed]"
          },
          "metadata": {
            "needs_background": "light"
          }
        }
      ]
    },
    {
      "cell_type": "code",
      "source": [
        "no_dft.shape"
      ],
      "metadata": {
        "colab": {
          "base_uri": "https://localhost:8080/"
        },
        "id": "YOdsQKfMdfPg",
        "outputId": "70d05a3a-eca4-4c73-d5c8-ad3fc7c458e7"
      },
      "execution_count": null,
      "outputs": [
        {
          "output_type": "execute_result",
          "data": {
            "text/plain": [
              "(20000, 47)"
            ]
          },
          "metadata": {},
          "execution_count": 112
        }
      ]
    },
    {
      "cell_type": "markdown",
      "source": [
        "##USING TREE ALGORITHMS ON MORE DRIFT DF"
      ],
      "metadata": {
        "id": "2LKTFb3ugtP_"
      }
    },
    {
      "cell_type": "code",
      "source": [
        "Y = yes_dft.iloc[:, -1].values\n",
        "X = yes_dft.iloc[:,0:35].values\n",
        "from sklearn.model_selection import train_test_split\n",
        "X_Train, X_Test, Y_Train, Y_Test = train_test_split(X, Y, test_size = 0.25, random_state = 0)"
      ],
      "metadata": {
        "id": "ufkJ9ceqg51k"
      },
      "execution_count": null,
      "outputs": []
    },
    {
      "cell_type": "code",
      "source": [
        "# Feature Scaling\n",
        "from sklearn.preprocessing import StandardScaler\n",
        "sc_X = StandardScaler()\n",
        "X_Train = sc_X.fit_transform(X_Train)\n",
        "X_Test = sc_X.transform(X_Test)"
      ],
      "metadata": {
        "id": "Y4z6c0AShGj5"
      },
      "execution_count": null,
      "outputs": []
    },
    {
      "cell_type": "markdown",
      "metadata": {
        "id": "wZ-_jOTPOpLt"
      },
      "source": [
        "#### **RANDOM FOREST**"
      ]
    },
    {
      "cell_type": "code",
      "execution_count": null,
      "metadata": {
        "id": "M2WGgdHcOkdw",
        "colab": {
          "base_uri": "https://localhost:8080/"
        },
        "outputId": "1ce739c1-c5ab-4847-9390-97d9dba6641f"
      },
      "outputs": [
        {
          "output_type": "execute_result",
          "data": {
            "text/plain": [
              "RandomForestClassifier(criterion='entropy', n_estimators=50, random_state=0)"
            ]
          },
          "metadata": {},
          "execution_count": 115
        }
      ],
      "source": [
        "from sklearn.ensemble import RandomForestClassifier\n",
        "classifier = RandomForestClassifier(n_estimators = 50, criterion = 'entropy', random_state = 0)\n",
        "classifier.fit(X_Train,Y_Train)"
      ]
    },
    {
      "cell_type": "code",
      "execution_count": null,
      "metadata": {
        "id": "qgWBb937OtxO",
        "colab": {
          "base_uri": "https://localhost:8080/"
        },
        "outputId": "fae2b7f9-0947-482a-bc46-ca10a5278102"
      },
      "outputs": [
        {
          "output_type": "stream",
          "name": "stdout",
          "text": [
            "[[4409    1]\n",
            " [   7  583]]\n"
          ]
        }
      ],
      "source": [
        "Y_Pred = classifier.predict(X_Test)\n",
        "\n",
        "\n",
        "from sklearn.metrics import confusion_matrix\n",
        "cm = confusion_matrix(Y_Test, Y_Pred)\n",
        "print(cm)"
      ]
    },
    {
      "cell_type": "code",
      "execution_count": null,
      "metadata": {
        "id": "iFhOD2RuOvQP",
        "colab": {
          "base_uri": "https://localhost:8080/"
        },
        "outputId": "acf23f7e-fb94-4cb4-81b5-5a740fa61658"
      },
      "outputs": [
        {
          "output_type": "execute_result",
          "data": {
            "text/plain": [
              "<matplotlib.axes._subplots.AxesSubplot at 0x7f9ebc3787d0>"
            ]
          },
          "metadata": {},
          "execution_count": 117
        },
        {
          "output_type": "display_data",
          "data": {
            "text/plain": [
              "<Figure size 576x360 with 2 Axes>"
            ],
            "image/png": "[encoded data removed]"
          },
          "metadata": {
            "needs_background": "light"
          }
        }
      ],
      "source": [
        "import matplotlib.pyplot as plt\n",
        "import seaborn as sn\n",
        "\n",
        "conf_matrix=pd.DataFrame(data=cm,columns=['Predicted:0','Predicted:1'],index=['Actual:0','Actual:1'])\n",
        "plt.figure(figsize = (8,5))\n",
        "sn.heatmap(conf_matrix, annot=True,fmt='d')"
      ]
    },
    {
      "cell_type": "code",
      "execution_count": null,
      "metadata": {
        "id": "7_NXe1rPOxWj",
        "colab": {
          "base_uri": "https://localhost:8080/"
        },
        "outputId": "2538b62a-7c1b-4000-fda6-f295e9b09239"
      },
      "outputs": [
        {
          "output_type": "stream",
          "name": "stdout",
          "text": [
            "0.9984\n"
          ]
        }
      ],
      "source": [
        "#Accuracy\n",
        "import sklearn\n",
        "rf_acc=sklearn.metrics.accuracy_score(Y_Test, Y_Pred)\n",
        "print(rf_acc)"
      ]
    },
    {
      "cell_type": "markdown",
      "metadata": {
        "id": "ryWo0-BUO0eF"
      },
      "source": [
        "####**XG BOOSt**"
      ]
    },
    {
      "cell_type": "code",
      "execution_count": null,
      "metadata": {
        "id": "4GhVViSvO3wy",
        "colab": {
          "base_uri": "https://localhost:8080/"
        },
        "outputId": "1f9ef2ee-f36c-4759-ea3c-4355267b05b9"
      },
      "outputs": [
        {
          "output_type": "stream",
          "name": "stdout",
          "text": [
            "Looking in indexes: https://pypi.org/simple, https://us-python.pkg.dev/colab-wheels/public/simple/\n",
            "Requirement already satisfied: xgboost in /usr/local/lib/python3.7/dist-packages (0.90)\n",
            "Requirement already satisfied: numpy in /usr/local/lib/python3.7/dist-packages (from xgboost) (1.21.6)\n",
            "Requirement already satisfied: scipy in /usr/local/lib/python3.7/dist-packages (from xgboost) (1.7.3)\n"
          ]
        }
      ],
      "source": [
        "!pip install xgboost"
      ]
    },
    {
      "cell_type": "code",
      "execution_count": null,
      "metadata": {
        "id": "Mu1Hw4d9O5K5",
        "colab": {
          "base_uri": "https://localhost:8080/"
        },
        "outputId": "c7841cc5-7e1b-4e96-8aa3-2f2652e3ef56"
      },
      "outputs": [
        {
          "output_type": "execute_result",
          "data": {
            "text/plain": [
              "XGBClassifier()"
            ]
          },
          "metadata": {},
          "execution_count": 120
        }
      ],
      "source": [
        "# fit model no training data\n",
        "from xgboost import XGBClassifier\n",
        "model = XGBClassifier()\n",
        "model.fit(X_Train, Y_Train)"
      ]
    },
    {
      "cell_type": "code",
      "execution_count": null,
      "metadata": {
        "id": "wCW3niyKO7Rc"
      },
      "outputs": [],
      "source": [
        "# make predictions for test data\n",
        "y_pred = model.predict(X_Test)"
      ]
    },
    {
      "cell_type": "code",
      "execution_count": null,
      "metadata": {
        "id": "5Tvxef6lO8m0",
        "colab": {
          "base_uri": "https://localhost:8080/"
        },
        "outputId": "6a910e63-170b-4d2e-b5d0-6dcf59e2a18d"
      },
      "outputs": [
        {
          "output_type": "stream",
          "name": "stdout",
          "text": [
            "[[4410    0]\n",
            " [   6  584]]\n"
          ]
        }
      ],
      "source": [
        "cm = confusion_matrix(Y_Test, y_pred)\n",
        "print(cm)"
      ]
    },
    {
      "cell_type": "code",
      "execution_count": null,
      "metadata": {
        "id": "_7v9KaoWO95c",
        "colab": {
          "base_uri": "https://localhost:8080/"
        },
        "outputId": "6bf4a24b-2352-46cb-f4fa-573e03f47572"
      },
      "outputs": [
        {
          "output_type": "execute_result",
          "data": {
            "text/plain": [
              "<matplotlib.axes._subplots.AxesSubplot at 0x7f9ebc870d50>"
            ]
          },
          "metadata": {},
          "execution_count": 123
        },
        {
          "output_type": "display_data",
          "data": {
            "text/plain": [
              "<Figure size 576x360 with 2 Axes>"
            ],
            "image/png": "[encoded data removed]"
          },
          "metadata": {
            "needs_background": "light"
          }
        }
      ],
      "source": [
        "import matplotlib.pyplot as plt\n",
        "import seaborn as sn\n",
        "\n",
        "conf_matrix=pd.DataFrame(data=cm,columns=['Predicted:0','Predicted:1'],index=['Actual:0','Actual:1'])\n",
        "plt.figure(figsize = (8,5))\n",
        "sn.heatmap(conf_matrix, annot=True,fmt='d')"
      ]
    },
    {
      "cell_type": "code",
      "execution_count": null,
      "metadata": {
        "id": "imR5q7mQO_tC",
        "colab": {
          "base_uri": "https://localhost:8080/"
        },
        "outputId": "be2d375d-cdb8-4fe3-a1e7-23baa63166ef"
      },
      "outputs": [
        {
          "output_type": "stream",
          "name": "stdout",
          "text": [
            "0.9988\n"
          ]
        }
      ],
      "source": [
        "xg_acc=sklearn.metrics.accuracy_score(Y_Test,y_pred)\n",
        "print(xg_acc)"
      ]
    },
    {
      "cell_type": "markdown",
      "metadata": {
        "id": "vMd6g3MiPCwM"
      },
      "source": [
        "####**EXTRA TREE**"
      ]
    },
    {
      "cell_type": "code",
      "execution_count": null,
      "metadata": {
        "id": "FTOodg06PBgc"
      },
      "outputs": [],
      "source": [
        "from sklearn.ensemble import ExtraTreesClassifier\n",
        "clf = ExtraTreesClassifier(n_estimators=100)"
      ]
    },
    {
      "cell_type": "code",
      "execution_count": null,
      "metadata": {
        "id": "L621YXnVPNIe",
        "colab": {
          "base_uri": "https://localhost:8080/"
        },
        "outputId": "1d43a9dd-8893-425a-c4db-feebc558087a"
      },
      "outputs": [
        {
          "output_type": "execute_result",
          "data": {
            "text/plain": [
              "ExtraTreesClassifier()"
            ]
          },
          "metadata": {},
          "execution_count": 126
        }
      ],
      "source": [
        "clf.fit(X_Train, Y_Train)"
      ]
    },
    {
      "cell_type": "code",
      "execution_count": null,
      "metadata": {
        "id": "TLaJS0Q1PPAe"
      },
      "outputs": [],
      "source": [
        "ypredx = clf.predict(X_Test)"
      ]
    },
    {
      "cell_type": "code",
      "execution_count": null,
      "metadata": {
        "id": "Oum6ws8ZPQn9",
        "colab": {
          "base_uri": "https://localhost:8080/"
        },
        "outputId": "5b2afb4c-1050-4929-faf1-e4a0042cac03"
      },
      "outputs": [
        {
          "output_type": "stream",
          "name": "stdout",
          "text": [
            "[[4406    4]\n",
            " [   6  584]]\n"
          ]
        }
      ],
      "source": [
        "cm = confusion_matrix(Y_Test, ypredx)\n",
        "print(cm)"
      ]
    },
    {
      "cell_type": "code",
      "execution_count": null,
      "metadata": {
        "id": "gEWA0euEPSiu",
        "colab": {
          "base_uri": "https://localhost:8080/"
        },
        "outputId": "2e8e8ea7-da4a-4d21-c267-6d336eac6889"
      },
      "outputs": [
        {
          "output_type": "execute_result",
          "data": {
            "text/plain": [
              "<matplotlib.axes._subplots.AxesSubplot at 0x7f9ed18d2690>"
            ]
          },
          "metadata": {},
          "execution_count": 129
        },
        {
          "output_type": "display_data",
          "data": {
            "text/plain": [
              "<Figure size 576x360 with 2 Axes>"
            ],
            "image/png": "[encoded data removed]"
          },
          "metadata": {
            "needs_background": "light"
          }
        }
      ],
      "source": [
        "import matplotlib.pyplot as plt\n",
        "import seaborn as sn\n",
        "\n",
        "conf_matrix=pd.DataFrame(data=cm,columns=['Predicted:0','Predicted:1'],index=['Actual:0','Actual:1'])\n",
        "plt.figure(figsize = (8,5))\n",
        "sn.heatmap(conf_matrix, annot=True,fmt='d')"
      ]
    },
    {
      "cell_type": "code",
      "execution_count": null,
      "metadata": {
        "id": "zBqlqUDbPWz0",
        "colab": {
          "base_uri": "https://localhost:8080/"
        },
        "outputId": "d963233b-7fb8-49c7-96ff-e8c9f08e38db"
      },
      "outputs": [
        {
          "output_type": "stream",
          "name": "stdout",
          "text": [
            "0.998\n"
          ]
        }
      ],
      "source": [
        "et_acc=sklearn.metrics.accuracy_score(Y_Test,ypredx)\n",
        "print(et_acc)"
      ]
    },
    {
      "cell_type": "markdown",
      "metadata": {
        "id": "jrDCR7YdPZSr"
      },
      "source": [
        "####**CAT BOOST**"
      ]
    },
    {
      "cell_type": "code",
      "execution_count": null,
      "metadata": {
        "id": "fn4o1zt6PaW7",
        "colab": {
          "base_uri": "https://localhost:8080/"
        },
        "outputId": "82594eb5-fb36-4f7d-cdbc-393de2b9ba53"
      },
      "outputs": [
        {
          "output_type": "stream",
          "name": "stdout",
          "text": [
            "Looking in indexes: https://pypi.org/simple, https://us-python.pkg.dev/colab-wheels/public/simple/\n",
            "Requirement already satisfied: catboost in /usr/local/lib/python3.7/dist-packages (1.1.1)\n",
            "Requirement already satisfied: scipy in /usr/local/lib/python3.7/dist-packages (from catboost) (1.7.3)\n",
            "Requirement already satisfied: pandas>=0.24.0 in /usr/local/lib/python3.7/dist-packages (from catboost) (1.3.5)\n",
            "Requirement already satisfied: plotly in /usr/local/lib/python3.7/dist-packages (from catboost) (5.11.0)\n",
            "Requirement already satisfied: graphviz in /usr/local/lib/python3.7/dist-packages (from catboost) (0.10.1)\n",
            "Requirement already satisfied: numpy>=1.16.0 in /usr/local/lib/python3.7/dist-packages (from catboost) (1.21.6)\n",
            "Requirement already satisfied: six in /usr/local/lib/python3.7/dist-packages (from catboost) (1.15.0)\n",
            "Requirement already satisfied: matplotlib in /usr/local/lib/python3.7/dist-packages (from catboost) (3.2.2)\n",
            "Requirement already satisfied: python-dateutil>=2.7.3 in /usr/local/lib/python3.7/dist-packages (from pandas>=0.24.0->catboost) (2.8.2)\n",
            "Requirement already satisfied: pytz>=2017.3 in /usr/local/lib/python3.7/dist-packages (from pandas>=0.24.0->catboost) (2022.6)\n",
            "Requirement already satisfied: cycler>=0.10 in /usr/local/lib/python3.7/dist-packages (from matplotlib->catboost) (0.11.0)\n",
            "Requirement already satisfied: kiwisolver>=1.0.1 in /usr/local/lib/python3.7/dist-packages (from matplotlib->catboost) (1.4.4)\n",
            "Requirement already satisfied: pyparsing!=2.0.4,!=2.1.2,!=2.1.6,>=2.0.1 in /usr/local/lib/python3.7/dist-packages (from matplotlib->catboost) (3.0.9)\n",
            "Requirement already satisfied: typing-extensions in /usr/local/lib/python3.7/dist-packages (from kiwisolver>=1.0.1->matplotlib->catboost) (4.1.1)\n",
            "Requirement already satisfied: tenacity>=6.2.0 in /usr/local/lib/python3.7/dist-packages (from plotly->catboost) (8.1.0)\n"
          ]
        }
      ],
      "source": [
        "!pip install catboost"
      ]
    },
    {
      "cell_type": "code",
      "execution_count": null,
      "metadata": {
        "id": "xoCdFu59PkVZ"
      },
      "outputs": [],
      "source": [
        "import catboost as ctb\n",
        "model_CBC = ctb.CatBoostClassifier()"
      ]
    },
    {
      "cell_type": "code",
      "execution_count": null,
      "metadata": {
        "id": "TE0XyfszPn1h",
        "colab": {
          "base_uri": "https://localhost:8080/"
        },
        "outputId": "2dba5442-67f0-4c02-fbd0-ece88947b65a"
      },
      "outputs": [
        {
          "output_type": "stream",
          "name": "stdout",
          "text": [
            "Learning rate set to 0.032743\n",
            "0:\tlearn: 0.6047985\ttotal: 18.6ms\tremaining: 18.6s\n",
            "1:\tlearn: 0.5205126\ttotal: 33.3ms\tremaining: 16.6s\n",
            "2:\tlearn: 0.4453020\ttotal: 47.5ms\tremaining: 15.8s\n",
            "3:\tlearn: 0.3854360\ttotal: 61.6ms\tremaining: 15.3s\n",
            "4:\tlearn: 0.3333828\ttotal: 75.2ms\tremaining: 15s\n",
            "5:\tlearn: 0.2902353\ttotal: 88.3ms\tremaining: 14.6s\n",
            "6:\tlearn: 0.2551228\ttotal: 102ms\tremaining: 14.5s\n",
            "7:\tlearn: 0.2151618\ttotal: 116ms\tremaining: 14.4s\n",
            "8:\tlearn: 0.1885719\ttotal: 130ms\tremaining: 14.4s\n",
            "9:\tlearn: 0.1659183\ttotal: 144ms\tremaining: 14.3s\n",
            "10:\tlearn: 0.1476541\ttotal: 158ms\tremaining: 14.2s\n",
            "11:\tlearn: 0.1279453\ttotal: 172ms\tremaining: 14.2s\n",
            "12:\tlearn: 0.1106333\ttotal: 187ms\tremaining: 14.2s\n",
            "13:\tlearn: 0.0991832\ttotal: 210ms\tremaining: 14.8s\n",
            "14:\tlearn: 0.0863715\ttotal: 227ms\tremaining: 14.9s\n",
            "15:\tlearn: 0.0754257\ttotal: 245ms\tremaining: 15.1s\n",
            "16:\tlearn: 0.0660687\ttotal: 260ms\tremaining: 15s\n",
            "17:\tlearn: 0.0586622\ttotal: 275ms\tremaining: 15s\n",
            "18:\tlearn: 0.0519908\ttotal: 295ms\tremaining: 15.2s\n",
            "19:\tlearn: 0.0462358\ttotal: 309ms\tremaining: 15.1s\n",
            "20:\tlearn: 0.0416681\ttotal: 323ms\tremaining: 15.1s\n",
            "21:\tlearn: 0.0370749\ttotal: 338ms\tremaining: 15s\n",
            "22:\tlearn: 0.0332094\ttotal: 353ms\tremaining: 15s\n",
            "23:\tlearn: 0.0300207\ttotal: 369ms\tremaining: 15s\n",
            "24:\tlearn: 0.0277662\ttotal: 383ms\tremaining: 14.9s\n",
            "25:\tlearn: 0.0252828\ttotal: 402ms\tremaining: 15.1s\n",
            "26:\tlearn: 0.0229907\ttotal: 429ms\tremaining: 15.5s\n",
            "27:\tlearn: 0.0213544\ttotal: 446ms\tremaining: 15.5s\n",
            "28:\tlearn: 0.0202385\ttotal: 460ms\tremaining: 15.4s\n",
            "29:\tlearn: 0.0189371\ttotal: 474ms\tremaining: 15.3s\n",
            "30:\tlearn: 0.0176733\ttotal: 492ms\tremaining: 15.4s\n",
            "31:\tlearn: 0.0165252\ttotal: 507ms\tremaining: 15.3s\n",
            "32:\tlearn: 0.0157785\ttotal: 522ms\tremaining: 15.3s\n",
            "33:\tlearn: 0.0147729\ttotal: 537ms\tremaining: 15.3s\n",
            "34:\tlearn: 0.0139947\ttotal: 552ms\tremaining: 15.2s\n",
            "35:\tlearn: 0.0133600\ttotal: 569ms\tremaining: 15.2s\n",
            "36:\tlearn: 0.0128156\ttotal: 596ms\tremaining: 15.5s\n",
            "37:\tlearn: 0.0123510\ttotal: 612ms\tremaining: 15.5s\n",
            "38:\tlearn: 0.0118101\ttotal: 626ms\tremaining: 15.4s\n",
            "39:\tlearn: 0.0114068\ttotal: 643ms\tremaining: 15.4s\n",
            "40:\tlearn: 0.0109961\ttotal: 657ms\tremaining: 15.4s\n",
            "41:\tlearn: 0.0106520\ttotal: 671ms\tremaining: 15.3s\n",
            "42:\tlearn: 0.0103634\ttotal: 685ms\tremaining: 15.2s\n",
            "43:\tlearn: 0.0100079\ttotal: 699ms\tremaining: 15.2s\n",
            "44:\tlearn: 0.0097465\ttotal: 713ms\tremaining: 15.1s\n",
            "45:\tlearn: 0.0095630\ttotal: 726ms\tremaining: 15.1s\n",
            "46:\tlearn: 0.0092344\ttotal: 740ms\tremaining: 15s\n",
            "47:\tlearn: 0.0090587\ttotal: 753ms\tremaining: 14.9s\n",
            "48:\tlearn: 0.0088965\ttotal: 766ms\tremaining: 14.9s\n",
            "49:\tlearn: 0.0087783\ttotal: 780ms\tremaining: 14.8s\n",
            "50:\tlearn: 0.0086015\ttotal: 793ms\tremaining: 14.8s\n",
            "51:\tlearn: 0.0084725\ttotal: 806ms\tremaining: 14.7s\n",
            "52:\tlearn: 0.0083031\ttotal: 819ms\tremaining: 14.6s\n",
            "53:\tlearn: 0.0081581\ttotal: 844ms\tremaining: 14.8s\n",
            "54:\tlearn: 0.0080358\ttotal: 858ms\tremaining: 14.7s\n",
            "55:\tlearn: 0.0079282\ttotal: 872ms\tremaining: 14.7s\n",
            "56:\tlearn: 0.0077977\ttotal: 886ms\tremaining: 14.7s\n",
            "57:\tlearn: 0.0076937\ttotal: 901ms\tremaining: 14.6s\n",
            "58:\tlearn: 0.0075902\ttotal: 916ms\tremaining: 14.6s\n",
            "59:\tlearn: 0.0073906\ttotal: 930ms\tremaining: 14.6s\n",
            "60:\tlearn: 0.0072832\ttotal: 945ms\tremaining: 14.6s\n",
            "61:\tlearn: 0.0071875\ttotal: 959ms\tremaining: 14.5s\n",
            "62:\tlearn: 0.0070426\ttotal: 976ms\tremaining: 14.5s\n",
            "63:\tlearn: 0.0069284\ttotal: 991ms\tremaining: 14.5s\n",
            "64:\tlearn: 0.0068266\ttotal: 1s\tremaining: 14.5s\n",
            "65:\tlearn: 0.0067559\ttotal: 1.02s\tremaining: 14.4s\n",
            "66:\tlearn: 0.0066935\ttotal: 1.03s\tremaining: 14.4s\n",
            "67:\tlearn: 0.0066288\ttotal: 1.06s\tremaining: 14.5s\n",
            "68:\tlearn: 0.0065622\ttotal: 1.07s\tremaining: 14.4s\n",
            "69:\tlearn: 0.0064980\ttotal: 1.1s\tremaining: 14.6s\n",
            "70:\tlearn: 0.0063976\ttotal: 1.11s\tremaining: 14.6s\n",
            "71:\tlearn: 0.0063266\ttotal: 1.13s\tremaining: 14.6s\n",
            "72:\tlearn: 0.0062667\ttotal: 1.15s\tremaining: 14.5s\n",
            "73:\tlearn: 0.0061647\ttotal: 1.16s\tremaining: 14.5s\n",
            "74:\tlearn: 0.0061312\ttotal: 1.19s\tremaining: 14.7s\n",
            "75:\tlearn: 0.0060911\ttotal: 1.2s\tremaining: 14.6s\n",
            "76:\tlearn: 0.0059780\ttotal: 1.22s\tremaining: 14.6s\n",
            "77:\tlearn: 0.0059085\ttotal: 1.23s\tremaining: 14.6s\n",
            "78:\tlearn: 0.0058308\ttotal: 1.25s\tremaining: 14.6s\n",
            "79:\tlearn: 0.0058173\ttotal: 1.27s\tremaining: 14.6s\n",
            "80:\tlearn: 0.0058086\ttotal: 1.28s\tremaining: 14.5s\n",
            "81:\tlearn: 0.0057828\ttotal: 1.29s\tremaining: 14.5s\n",
            "82:\tlearn: 0.0057573\ttotal: 1.31s\tremaining: 14.5s\n",
            "83:\tlearn: 0.0057135\ttotal: 1.32s\tremaining: 14.4s\n",
            "84:\tlearn: 0.0056601\ttotal: 1.34s\tremaining: 14.4s\n",
            "85:\tlearn: 0.0055712\ttotal: 1.35s\tremaining: 14.4s\n",
            "86:\tlearn: 0.0055266\ttotal: 1.36s\tremaining: 14.3s\n",
            "87:\tlearn: 0.0054776\ttotal: 1.38s\tremaining: 14.3s\n",
            "88:\tlearn: 0.0054657\ttotal: 1.39s\tremaining: 14.3s\n",
            "89:\tlearn: 0.0054288\ttotal: 1.41s\tremaining: 14.2s\n",
            "90:\tlearn: 0.0054052\ttotal: 1.43s\tremaining: 14.2s\n",
            "91:\tlearn: 0.0053777\ttotal: 1.44s\tremaining: 14.2s\n",
            "92:\tlearn: 0.0053549\ttotal: 1.45s\tremaining: 14.1s\n",
            "93:\tlearn: 0.0052846\ttotal: 1.46s\tremaining: 14.1s\n",
            "94:\tlearn: 0.0052661\ttotal: 1.48s\tremaining: 14.1s\n",
            "95:\tlearn: 0.0052388\ttotal: 1.49s\tremaining: 14s\n",
            "96:\tlearn: 0.0052154\ttotal: 1.5s\tremaining: 14s\n",
            "97:\tlearn: 0.0051828\ttotal: 1.52s\tremaining: 14s\n",
            "98:\tlearn: 0.0051722\ttotal: 1.53s\tremaining: 13.9s\n",
            "99:\tlearn: 0.0051654\ttotal: 1.54s\tremaining: 13.9s\n",
            "100:\tlearn: 0.0051279\ttotal: 1.55s\tremaining: 13.8s\n",
            "101:\tlearn: 0.0050958\ttotal: 1.58s\tremaining: 14s\n",
            "102:\tlearn: 0.0050892\ttotal: 1.6s\tremaining: 13.9s\n",
            "103:\tlearn: 0.0050807\ttotal: 1.61s\tremaining: 13.9s\n",
            "104:\tlearn: 0.0050766\ttotal: 1.62s\tremaining: 13.8s\n",
            "105:\tlearn: 0.0050568\ttotal: 1.64s\tremaining: 13.8s\n",
            "106:\tlearn: 0.0049893\ttotal: 1.65s\tremaining: 13.8s\n",
            "107:\tlearn: 0.0049448\ttotal: 1.66s\tremaining: 13.7s\n",
            "108:\tlearn: 0.0049376\ttotal: 1.68s\tremaining: 13.7s\n",
            "109:\tlearn: 0.0049056\ttotal: 1.7s\tremaining: 13.7s\n",
            "110:\tlearn: 0.0048801\ttotal: 1.71s\tremaining: 13.7s\n",
            "111:\tlearn: 0.0048337\ttotal: 1.72s\tremaining: 13.6s\n",
            "112:\tlearn: 0.0048250\ttotal: 1.74s\tremaining: 13.6s\n",
            "113:\tlearn: 0.0048135\ttotal: 1.75s\tremaining: 13.6s\n",
            "114:\tlearn: 0.0047364\ttotal: 1.77s\tremaining: 13.6s\n",
            "115:\tlearn: 0.0047271\ttotal: 1.78s\tremaining: 13.6s\n",
            "116:\tlearn: 0.0047237\ttotal: 1.79s\tremaining: 13.5s\n",
            "117:\tlearn: 0.0047160\ttotal: 1.81s\tremaining: 13.5s\n",
            "118:\tlearn: 0.0047037\ttotal: 1.82s\tremaining: 13.5s\n",
            "119:\tlearn: 0.0046943\ttotal: 1.83s\tremaining: 13.4s\n",
            "120:\tlearn: 0.0046872\ttotal: 1.85s\tremaining: 13.5s\n",
            "121:\tlearn: 0.0046671\ttotal: 1.87s\tremaining: 13.5s\n",
            "122:\tlearn: 0.0046603\ttotal: 1.89s\tremaining: 13.5s\n",
            "123:\tlearn: 0.0046565\ttotal: 1.9s\tremaining: 13.4s\n",
            "124:\tlearn: 0.0046295\ttotal: 1.92s\tremaining: 13.4s\n",
            "125:\tlearn: 0.0045835\ttotal: 1.93s\tremaining: 13.4s\n",
            "126:\tlearn: 0.0045594\ttotal: 1.94s\tremaining: 13.4s\n",
            "127:\tlearn: 0.0045331\ttotal: 1.96s\tremaining: 13.3s\n",
            "128:\tlearn: 0.0044850\ttotal: 1.97s\tremaining: 13.3s\n",
            "129:\tlearn: 0.0044628\ttotal: 1.98s\tremaining: 13.3s\n",
            "130:\tlearn: 0.0044541\ttotal: 1.99s\tremaining: 13.2s\n",
            "131:\tlearn: 0.0044490\ttotal: 2.01s\tremaining: 13.2s\n",
            "132:\tlearn: 0.0044064\ttotal: 2.02s\tremaining: 13.2s\n",
            "133:\tlearn: 0.0043675\ttotal: 2.03s\tremaining: 13.1s\n",
            "134:\tlearn: 0.0043420\ttotal: 2.05s\tremaining: 13.1s\n",
            "135:\tlearn: 0.0043290\ttotal: 2.06s\tremaining: 13.1s\n",
            "136:\tlearn: 0.0043137\ttotal: 2.08s\tremaining: 13.1s\n",
            "137:\tlearn: 0.0043095\ttotal: 2.09s\tremaining: 13.1s\n",
            "138:\tlearn: 0.0042555\ttotal: 2.11s\tremaining: 13.1s\n",
            "139:\tlearn: 0.0042487\ttotal: 2.12s\tremaining: 13s\n",
            "140:\tlearn: 0.0042410\ttotal: 2.13s\tremaining: 13s\n",
            "141:\tlearn: 0.0042321\ttotal: 2.14s\tremaining: 13s\n",
            "142:\tlearn: 0.0041957\ttotal: 2.16s\tremaining: 12.9s\n",
            "143:\tlearn: 0.0041566\ttotal: 2.17s\tremaining: 12.9s\n",
            "144:\tlearn: 0.0041524\ttotal: 2.19s\tremaining: 12.9s\n",
            "145:\tlearn: 0.0041433\ttotal: 2.2s\tremaining: 12.9s\n",
            "146:\tlearn: 0.0041355\ttotal: 2.21s\tremaining: 12.8s\n",
            "147:\tlearn: 0.0041031\ttotal: 2.23s\tremaining: 12.8s\n",
            "148:\tlearn: 0.0040965\ttotal: 2.24s\tremaining: 12.8s\n",
            "149:\tlearn: 0.0040702\ttotal: 2.25s\tremaining: 12.8s\n",
            "150:\tlearn: 0.0040598\ttotal: 2.26s\tremaining: 12.7s\n",
            "151:\tlearn: 0.0040546\ttotal: 2.28s\tremaining: 12.7s\n",
            "152:\tlearn: 0.0040299\ttotal: 2.29s\tremaining: 12.7s\n",
            "153:\tlearn: 0.0040236\ttotal: 2.31s\tremaining: 12.7s\n",
            "154:\tlearn: 0.0039994\ttotal: 2.32s\tremaining: 12.6s\n",
            "155:\tlearn: 0.0039431\ttotal: 2.33s\tremaining: 12.6s\n",
            "156:\tlearn: 0.0038918\ttotal: 2.35s\tremaining: 12.6s\n",
            "157:\tlearn: 0.0038732\ttotal: 2.36s\tremaining: 12.6s\n",
            "158:\tlearn: 0.0038689\ttotal: 2.37s\tremaining: 12.5s\n",
            "159:\tlearn: 0.0038497\ttotal: 2.38s\tremaining: 12.5s\n",
            "160:\tlearn: 0.0038362\ttotal: 2.4s\tremaining: 12.5s\n",
            "161:\tlearn: 0.0038154\ttotal: 2.41s\tremaining: 12.5s\n",
            "162:\tlearn: 0.0037838\ttotal: 2.42s\tremaining: 12.4s\n",
            "163:\tlearn: 0.0037780\ttotal: 2.44s\tremaining: 12.4s\n",
            "164:\tlearn: 0.0037769\ttotal: 2.45s\tremaining: 12.4s\n",
            "165:\tlearn: 0.0037443\ttotal: 2.46s\tremaining: 12.4s\n",
            "166:\tlearn: 0.0037412\ttotal: 2.47s\tremaining: 12.3s\n",
            "167:\tlearn: 0.0037226\ttotal: 2.49s\tremaining: 12.3s\n",
            "168:\tlearn: 0.0036904\ttotal: 2.5s\tremaining: 12.3s\n",
            "169:\tlearn: 0.0036883\ttotal: 2.52s\tremaining: 12.3s\n",
            "170:\tlearn: 0.0036788\ttotal: 2.53s\tremaining: 12.3s\n",
            "171:\tlearn: 0.0036744\ttotal: 2.54s\tremaining: 12.2s\n",
            "172:\tlearn: 0.0036517\ttotal: 2.56s\tremaining: 12.2s\n",
            "173:\tlearn: 0.0036301\ttotal: 2.59s\tremaining: 12.3s\n",
            "174:\tlearn: 0.0036202\ttotal: 2.6s\tremaining: 12.3s\n",
            "175:\tlearn: 0.0036070\ttotal: 2.62s\tremaining: 12.3s\n",
            "176:\tlearn: 0.0035743\ttotal: 2.63s\tremaining: 12.2s\n",
            "177:\tlearn: 0.0035477\ttotal: 2.64s\tremaining: 12.2s\n",
            "178:\tlearn: 0.0035065\ttotal: 2.66s\tremaining: 12.2s\n",
            "179:\tlearn: 0.0035045\ttotal: 2.67s\tremaining: 12.2s\n",
            "180:\tlearn: 0.0035025\ttotal: 2.68s\tremaining: 12.1s\n",
            "181:\tlearn: 0.0035024\ttotal: 2.69s\tremaining: 12.1s\n",
            "182:\tlearn: 0.0034976\ttotal: 2.71s\tremaining: 12.1s\n",
            "183:\tlearn: 0.0034743\ttotal: 2.72s\tremaining: 12.1s\n",
            "184:\tlearn: 0.0034680\ttotal: 2.74s\tremaining: 12.1s\n",
            "185:\tlearn: 0.0034679\ttotal: 2.75s\tremaining: 12s\n",
            "186:\tlearn: 0.0034394\ttotal: 2.77s\tremaining: 12s\n",
            "187:\tlearn: 0.0034254\ttotal: 2.79s\tremaining: 12s\n",
            "188:\tlearn: 0.0034062\ttotal: 2.81s\tremaining: 12.1s\n",
            "189:\tlearn: 0.0034062\ttotal: 2.83s\tremaining: 12.1s\n",
            "190:\tlearn: 0.0033845\ttotal: 2.87s\tremaining: 12.1s\n",
            "191:\tlearn: 0.0033542\ttotal: 2.89s\tremaining: 12.2s\n",
            "192:\tlearn: 0.0033315\ttotal: 2.92s\tremaining: 12.2s\n",
            "193:\tlearn: 0.0033077\ttotal: 2.96s\tremaining: 12.3s\n",
            "194:\tlearn: 0.0032973\ttotal: 2.99s\tremaining: 12.3s\n",
            "195:\tlearn: 0.0032788\ttotal: 3.02s\tremaining: 12.4s\n",
            "196:\tlearn: 0.0032772\ttotal: 3.06s\tremaining: 12.5s\n",
            "197:\tlearn: 0.0032737\ttotal: 3.09s\tremaining: 12.5s\n",
            "198:\tlearn: 0.0032724\ttotal: 3.13s\tremaining: 12.6s\n",
            "199:\tlearn: 0.0032705\ttotal: 3.15s\tremaining: 12.6s\n",
            "200:\tlearn: 0.0032421\ttotal: 3.17s\tremaining: 12.6s\n",
            "201:\tlearn: 0.0032166\ttotal: 3.2s\tremaining: 12.7s\n",
            "202:\tlearn: 0.0032047\ttotal: 3.23s\tremaining: 12.7s\n",
            "203:\tlearn: 0.0031977\ttotal: 3.27s\tremaining: 12.8s\n",
            "204:\tlearn: 0.0031749\ttotal: 3.31s\tremaining: 12.9s\n",
            "205:\tlearn: 0.0031654\ttotal: 3.35s\tremaining: 12.9s\n",
            "206:\tlearn: 0.0031522\ttotal: 3.36s\tremaining: 12.9s\n",
            "207:\tlearn: 0.0031473\ttotal: 3.38s\tremaining: 12.9s\n",
            "208:\tlearn: 0.0031324\ttotal: 3.39s\tremaining: 12.8s\n",
            "209:\tlearn: 0.0031287\ttotal: 3.41s\tremaining: 12.8s\n",
            "210:\tlearn: 0.0031272\ttotal: 3.44s\tremaining: 12.9s\n",
            "211:\tlearn: 0.0031179\ttotal: 3.47s\tremaining: 12.9s\n",
            "212:\tlearn: 0.0031164\ttotal: 3.5s\tremaining: 12.9s\n",
            "213:\tlearn: 0.0031022\ttotal: 3.53s\tremaining: 13s\n",
            "214:\tlearn: 0.0030752\ttotal: 3.59s\tremaining: 13.1s\n",
            "215:\tlearn: 0.0030540\ttotal: 3.62s\tremaining: 13.1s\n",
            "216:\tlearn: 0.0030516\ttotal: 3.66s\tremaining: 13.2s\n",
            "217:\tlearn: 0.0030374\ttotal: 3.71s\tremaining: 13.3s\n",
            "218:\tlearn: 0.0030374\ttotal: 3.74s\tremaining: 13.3s\n",
            "219:\tlearn: 0.0030364\ttotal: 3.78s\tremaining: 13.4s\n",
            "220:\tlearn: 0.0030330\ttotal: 3.81s\tremaining: 13.4s\n",
            "221:\tlearn: 0.0030317\ttotal: 3.83s\tremaining: 13.4s\n",
            "222:\tlearn: 0.0030317\ttotal: 3.85s\tremaining: 13.4s\n",
            "223:\tlearn: 0.0030149\ttotal: 3.89s\tremaining: 13.5s\n",
            "224:\tlearn: 0.0030008\ttotal: 3.92s\tremaining: 13.5s\n",
            "225:\tlearn: 0.0029741\ttotal: 3.93s\tremaining: 13.5s\n",
            "226:\tlearn: 0.0029590\ttotal: 3.95s\tremaining: 13.4s\n",
            "227:\tlearn: 0.0029491\ttotal: 3.96s\tremaining: 13.4s\n",
            "228:\tlearn: 0.0029397\ttotal: 3.99s\tremaining: 13.4s\n",
            "229:\tlearn: 0.0029140\ttotal: 4.01s\tremaining: 13.4s\n",
            "230:\tlearn: 0.0029130\ttotal: 4.03s\tremaining: 13.4s\n",
            "231:\tlearn: 0.0029037\ttotal: 4.05s\tremaining: 13.4s\n",
            "232:\tlearn: 0.0028925\ttotal: 4.06s\tremaining: 13.4s\n",
            "233:\tlearn: 0.0028794\ttotal: 4.08s\tremaining: 13.4s\n",
            "234:\tlearn: 0.0028664\ttotal: 4.1s\tremaining: 13.3s\n",
            "235:\tlearn: 0.0028555\ttotal: 4.12s\tremaining: 13.3s\n",
            "236:\tlearn: 0.0028436\ttotal: 4.14s\tremaining: 13.3s\n",
            "237:\tlearn: 0.0028342\ttotal: 4.17s\tremaining: 13.3s\n",
            "238:\tlearn: 0.0028073\ttotal: 4.18s\tremaining: 13.3s\n",
            "239:\tlearn: 0.0028065\ttotal: 4.22s\tremaining: 13.4s\n",
            "240:\tlearn: 0.0027897\ttotal: 4.27s\tremaining: 13.4s\n",
            "241:\tlearn: 0.0027897\ttotal: 4.31s\tremaining: 13.5s\n",
            "242:\tlearn: 0.0027859\ttotal: 4.36s\tremaining: 13.6s\n",
            "243:\tlearn: 0.0027654\ttotal: 4.38s\tremaining: 13.6s\n",
            "244:\tlearn: 0.0027584\ttotal: 4.39s\tremaining: 13.5s\n",
            "245:\tlearn: 0.0027483\ttotal: 4.43s\tremaining: 13.6s\n",
            "246:\tlearn: 0.0027311\ttotal: 4.48s\tremaining: 13.7s\n",
            "247:\tlearn: 0.0027311\ttotal: 4.5s\tremaining: 13.7s\n",
            "248:\tlearn: 0.0027311\ttotal: 4.55s\tremaining: 13.7s\n",
            "249:\tlearn: 0.0027214\ttotal: 4.61s\tremaining: 13.8s\n",
            "250:\tlearn: 0.0027207\ttotal: 4.68s\tremaining: 14s\n",
            "251:\tlearn: 0.0027088\ttotal: 4.71s\tremaining: 14s\n",
            "252:\tlearn: 0.0027054\ttotal: 4.74s\tremaining: 14s\n",
            "253:\tlearn: 0.0027026\ttotal: 4.75s\tremaining: 14s\n",
            "254:\tlearn: 0.0026943\ttotal: 4.77s\tremaining: 13.9s\n",
            "255:\tlearn: 0.0026920\ttotal: 4.79s\tremaining: 13.9s\n",
            "256:\tlearn: 0.0026894\ttotal: 4.81s\tremaining: 13.9s\n",
            "257:\tlearn: 0.0026829\ttotal: 4.83s\tremaining: 13.9s\n",
            "258:\tlearn: 0.0026723\ttotal: 4.84s\tremaining: 13.9s\n",
            "259:\tlearn: 0.0026586\ttotal: 4.86s\tremaining: 13.8s\n",
            "260:\tlearn: 0.0026522\ttotal: 4.87s\tremaining: 13.8s\n",
            "261:\tlearn: 0.0026418\ttotal: 4.91s\tremaining: 13.8s\n",
            "262:\tlearn: 0.0026306\ttotal: 4.92s\tremaining: 13.8s\n",
            "263:\tlearn: 0.0026292\ttotal: 4.98s\tremaining: 13.9s\n",
            "264:\tlearn: 0.0026220\ttotal: 4.99s\tremaining: 13.9s\n",
            "265:\tlearn: 0.0026142\ttotal: 5.01s\tremaining: 13.8s\n",
            "266:\tlearn: 0.0026142\ttotal: 5.02s\tremaining: 13.8s\n",
            "267:\tlearn: 0.0026069\ttotal: 5.06s\tremaining: 13.8s\n",
            "268:\tlearn: 0.0026069\ttotal: 5.08s\tremaining: 13.8s\n",
            "269:\tlearn: 0.0026045\ttotal: 5.09s\tremaining: 13.8s\n",
            "270:\tlearn: 0.0026040\ttotal: 5.11s\tremaining: 13.7s\n",
            "271:\tlearn: 0.0025973\ttotal: 5.12s\tremaining: 13.7s\n",
            "272:\tlearn: 0.0025782\ttotal: 5.15s\tremaining: 13.7s\n",
            "273:\tlearn: 0.0025780\ttotal: 5.17s\tremaining: 13.7s\n",
            "274:\tlearn: 0.0025756\ttotal: 5.2s\tremaining: 13.7s\n",
            "275:\tlearn: 0.0025556\ttotal: 5.25s\tremaining: 13.8s\n",
            "276:\tlearn: 0.0025415\ttotal: 5.29s\tremaining: 13.8s\n",
            "277:\tlearn: 0.0025227\ttotal: 5.33s\tremaining: 13.8s\n",
            "278:\tlearn: 0.0025119\ttotal: 5.36s\tremaining: 13.8s\n",
            "279:\tlearn: 0.0024954\ttotal: 5.39s\tremaining: 13.9s\n",
            "280:\tlearn: 0.0024954\ttotal: 5.43s\tremaining: 13.9s\n",
            "281:\tlearn: 0.0024855\ttotal: 5.47s\tremaining: 13.9s\n",
            "282:\tlearn: 0.0024855\ttotal: 5.5s\tremaining: 13.9s\n",
            "283:\tlearn: 0.0024786\ttotal: 5.54s\tremaining: 14s\n",
            "284:\tlearn: 0.0024786\ttotal: 5.56s\tremaining: 13.9s\n",
            "285:\tlearn: 0.0024599\ttotal: 5.58s\tremaining: 13.9s\n",
            "286:\tlearn: 0.0024587\ttotal: 5.6s\tremaining: 13.9s\n",
            "287:\tlearn: 0.0024587\ttotal: 5.62s\tremaining: 13.9s\n",
            "288:\tlearn: 0.0024586\ttotal: 5.63s\tremaining: 13.9s\n",
            "289:\tlearn: 0.0024586\ttotal: 5.65s\tremaining: 13.8s\n",
            "290:\tlearn: 0.0024515\ttotal: 5.67s\tremaining: 13.8s\n",
            "291:\tlearn: 0.0024508\ttotal: 5.7s\tremaining: 13.8s\n",
            "292:\tlearn: 0.0024355\ttotal: 5.71s\tremaining: 13.8s\n",
            "293:\tlearn: 0.0024223\ttotal: 5.77s\tremaining: 13.9s\n",
            "294:\tlearn: 0.0024223\ttotal: 5.78s\tremaining: 13.8s\n",
            "295:\tlearn: 0.0024196\ttotal: 5.8s\tremaining: 13.8s\n",
            "296:\tlearn: 0.0024196\ttotal: 5.82s\tremaining: 13.8s\n",
            "297:\tlearn: 0.0024196\ttotal: 5.86s\tremaining: 13.8s\n",
            "298:\tlearn: 0.0023995\ttotal: 5.91s\tremaining: 13.9s\n",
            "299:\tlearn: 0.0023995\ttotal: 5.95s\tremaining: 13.9s\n",
            "300:\tlearn: 0.0023875\ttotal: 5.98s\tremaining: 13.9s\n",
            "301:\tlearn: 0.0023733\ttotal: 6s\tremaining: 13.9s\n",
            "302:\tlearn: 0.0023726\ttotal: 6.04s\tremaining: 13.9s\n",
            "303:\tlearn: 0.0023706\ttotal: 6.09s\tremaining: 13.9s\n",
            "304:\tlearn: 0.0023698\ttotal: 6.1s\tremaining: 13.9s\n",
            "305:\tlearn: 0.0023529\ttotal: 6.12s\tremaining: 13.9s\n",
            "306:\tlearn: 0.0023523\ttotal: 6.14s\tremaining: 13.9s\n",
            "307:\tlearn: 0.0023505\ttotal: 6.15s\tremaining: 13.8s\n",
            "308:\tlearn: 0.0023505\ttotal: 6.17s\tremaining: 13.8s\n",
            "309:\tlearn: 0.0023398\ttotal: 6.18s\tremaining: 13.8s\n",
            "310:\tlearn: 0.0023305\ttotal: 6.2s\tremaining: 13.7s\n",
            "311:\tlearn: 0.0023203\ttotal: 6.22s\tremaining: 13.7s\n",
            "312:\tlearn: 0.0023175\ttotal: 6.23s\tremaining: 13.7s\n",
            "313:\tlearn: 0.0023108\ttotal: 6.29s\tremaining: 13.7s\n",
            "314:\tlearn: 0.0023108\ttotal: 6.32s\tremaining: 13.7s\n",
            "315:\tlearn: 0.0023108\ttotal: 6.35s\tremaining: 13.8s\n",
            "316:\tlearn: 0.0022954\ttotal: 6.39s\tremaining: 13.8s\n",
            "317:\tlearn: 0.0022954\ttotal: 6.43s\tremaining: 13.8s\n",
            "318:\tlearn: 0.0022807\ttotal: 6.46s\tremaining: 13.8s\n",
            "319:\tlearn: 0.0022806\ttotal: 6.5s\tremaining: 13.8s\n",
            "320:\tlearn: 0.0022806\ttotal: 6.54s\tremaining: 13.8s\n",
            "321:\tlearn: 0.0022806\ttotal: 6.56s\tremaining: 13.8s\n",
            "322:\tlearn: 0.0022796\ttotal: 6.59s\tremaining: 13.8s\n",
            "323:\tlearn: 0.0022678\ttotal: 6.63s\tremaining: 13.8s\n",
            "324:\tlearn: 0.0022678\ttotal: 6.66s\tremaining: 13.8s\n",
            "325:\tlearn: 0.0022678\ttotal: 6.69s\tremaining: 13.8s\n",
            "326:\tlearn: 0.0022579\ttotal: 6.72s\tremaining: 13.8s\n",
            "327:\tlearn: 0.0022579\ttotal: 6.75s\tremaining: 13.8s\n",
            "328:\tlearn: 0.0022569\ttotal: 6.79s\tremaining: 13.8s\n",
            "329:\tlearn: 0.0022568\ttotal: 6.82s\tremaining: 13.8s\n",
            "330:\tlearn: 0.0022568\ttotal: 6.85s\tremaining: 13.8s\n",
            "331:\tlearn: 0.0022471\ttotal: 6.88s\tremaining: 13.8s\n",
            "332:\tlearn: 0.0022466\ttotal: 6.91s\tremaining: 13.8s\n",
            "333:\tlearn: 0.0022318\ttotal: 6.92s\tremaining: 13.8s\n",
            "334:\tlearn: 0.0022318\ttotal: 6.93s\tremaining: 13.8s\n",
            "335:\tlearn: 0.0022318\ttotal: 6.96s\tremaining: 13.7s\n",
            "336:\tlearn: 0.0022318\ttotal: 6.98s\tremaining: 13.7s\n",
            "337:\tlearn: 0.0022318\ttotal: 6.99s\tremaining: 13.7s\n",
            "338:\tlearn: 0.0022318\ttotal: 7.01s\tremaining: 13.7s\n",
            "339:\tlearn: 0.0022234\ttotal: 7.04s\tremaining: 13.7s\n",
            "340:\tlearn: 0.0022229\ttotal: 7.07s\tremaining: 13.7s\n",
            "341:\tlearn: 0.0022180\ttotal: 7.08s\tremaining: 13.6s\n",
            "342:\tlearn: 0.0022180\ttotal: 7.1s\tremaining: 13.6s\n",
            "343:\tlearn: 0.0022115\ttotal: 7.15s\tremaining: 13.6s\n",
            "344:\tlearn: 0.0021972\ttotal: 7.18s\tremaining: 13.6s\n",
            "345:\tlearn: 0.0021804\ttotal: 7.23s\tremaining: 13.7s\n",
            "346:\tlearn: 0.0021766\ttotal: 7.26s\tremaining: 13.7s\n",
            "347:\tlearn: 0.0021754\ttotal: 7.3s\tremaining: 13.7s\n",
            "348:\tlearn: 0.0021754\ttotal: 7.34s\tremaining: 13.7s\n",
            "349:\tlearn: 0.0021685\ttotal: 7.4s\tremaining: 13.7s\n",
            "350:\tlearn: 0.0021679\ttotal: 7.43s\tremaining: 13.7s\n",
            "351:\tlearn: 0.0021570\ttotal: 7.47s\tremaining: 13.7s\n",
            "352:\tlearn: 0.0021570\ttotal: 7.49s\tremaining: 13.7s\n",
            "353:\tlearn: 0.0021517\ttotal: 7.52s\tremaining: 13.7s\n",
            "354:\tlearn: 0.0021415\ttotal: 7.54s\tremaining: 13.7s\n",
            "355:\tlearn: 0.0021406\ttotal: 7.55s\tremaining: 13.7s\n",
            "356:\tlearn: 0.0021301\ttotal: 7.57s\tremaining: 13.6s\n",
            "357:\tlearn: 0.0021295\ttotal: 7.58s\tremaining: 13.6s\n",
            "358:\tlearn: 0.0021290\ttotal: 7.6s\tremaining: 13.6s\n",
            "359:\tlearn: 0.0021248\ttotal: 7.62s\tremaining: 13.5s\n",
            "360:\tlearn: 0.0021244\ttotal: 7.63s\tremaining: 13.5s\n",
            "361:\tlearn: 0.0021239\ttotal: 7.66s\tremaining: 13.5s\n",
            "362:\tlearn: 0.0021190\ttotal: 7.68s\tremaining: 13.5s\n",
            "363:\tlearn: 0.0021151\ttotal: 7.69s\tremaining: 13.4s\n",
            "364:\tlearn: 0.0021145\ttotal: 7.74s\tremaining: 13.5s\n",
            "365:\tlearn: 0.0021024\ttotal: 7.79s\tremaining: 13.5s\n",
            "366:\tlearn: 0.0020909\ttotal: 7.83s\tremaining: 13.5s\n",
            "367:\tlearn: 0.0020909\ttotal: 7.86s\tremaining: 13.5s\n",
            "368:\tlearn: 0.0020800\ttotal: 7.9s\tremaining: 13.5s\n",
            "369:\tlearn: 0.0020800\ttotal: 7.93s\tremaining: 13.5s\n",
            "370:\tlearn: 0.0020764\ttotal: 7.96s\tremaining: 13.5s\n",
            "371:\tlearn: 0.0020652\ttotal: 8s\tremaining: 13.5s\n",
            "372:\tlearn: 0.0020571\ttotal: 8.04s\tremaining: 13.5s\n",
            "373:\tlearn: 0.0020536\ttotal: 8.08s\tremaining: 13.5s\n",
            "374:\tlearn: 0.0020536\ttotal: 8.11s\tremaining: 13.5s\n",
            "375:\tlearn: 0.0020442\ttotal: 8.14s\tremaining: 13.5s\n",
            "376:\tlearn: 0.0020434\ttotal: 8.18s\tremaining: 13.5s\n",
            "377:\tlearn: 0.0020431\ttotal: 8.21s\tremaining: 13.5s\n",
            "378:\tlearn: 0.0020345\ttotal: 8.27s\tremaining: 13.6s\n",
            "379:\tlearn: 0.0020254\ttotal: 8.3s\tremaining: 13.5s\n",
            "380:\tlearn: 0.0020138\ttotal: 8.35s\tremaining: 13.6s\n",
            "381:\tlearn: 0.0020067\ttotal: 8.41s\tremaining: 13.6s\n",
            "382:\tlearn: 0.0020062\ttotal: 8.48s\tremaining: 13.7s\n",
            "383:\tlearn: 0.0020062\ttotal: 8.53s\tremaining: 13.7s\n",
            "384:\tlearn: 0.0019988\ttotal: 8.6s\tremaining: 13.7s\n",
            "385:\tlearn: 0.0019910\ttotal: 8.68s\tremaining: 13.8s\n",
            "386:\tlearn: 0.0019906\ttotal: 8.71s\tremaining: 13.8s\n",
            "387:\tlearn: 0.0019906\ttotal: 8.74s\tremaining: 13.8s\n",
            "388:\tlearn: 0.0019838\ttotal: 8.78s\tremaining: 13.8s\n",
            "389:\tlearn: 0.0019749\ttotal: 8.82s\tremaining: 13.8s\n",
            "390:\tlearn: 0.0019746\ttotal: 8.86s\tremaining: 13.8s\n",
            "391:\tlearn: 0.0019721\ttotal: 8.9s\tremaining: 13.8s\n",
            "392:\tlearn: 0.0019624\ttotal: 8.94s\tremaining: 13.8s\n",
            "393:\tlearn: 0.0019548\ttotal: 8.98s\tremaining: 13.8s\n",
            "394:\tlearn: 0.0019544\ttotal: 9s\tremaining: 13.8s\n",
            "395:\tlearn: 0.0019523\ttotal: 9.02s\tremaining: 13.8s\n",
            "396:\tlearn: 0.0019516\ttotal: 9.06s\tremaining: 13.8s\n",
            "397:\tlearn: 0.0019492\ttotal: 9.08s\tremaining: 13.7s\n",
            "398:\tlearn: 0.0019415\ttotal: 9.1s\tremaining: 13.7s\n",
            "399:\tlearn: 0.0019415\ttotal: 9.14s\tremaining: 13.7s\n",
            "400:\tlearn: 0.0019384\ttotal: 9.18s\tremaining: 13.7s\n",
            "401:\tlearn: 0.0019269\ttotal: 9.22s\tremaining: 13.7s\n",
            "402:\tlearn: 0.0019200\ttotal: 9.26s\tremaining: 13.7s\n",
            "403:\tlearn: 0.0019141\ttotal: 9.3s\tremaining: 13.7s\n",
            "404:\tlearn: 0.0019073\ttotal: 9.34s\tremaining: 13.7s\n",
            "405:\tlearn: 0.0019053\ttotal: 9.37s\tremaining: 13.7s\n",
            "406:\tlearn: 0.0019053\ttotal: 9.39s\tremaining: 13.7s\n",
            "407:\tlearn: 0.0019033\ttotal: 9.42s\tremaining: 13.7s\n",
            "408:\tlearn: 0.0019014\ttotal: 9.46s\tremaining: 13.7s\n",
            "409:\tlearn: 0.0018986\ttotal: 9.49s\tremaining: 13.7s\n",
            "410:\tlearn: 0.0018922\ttotal: 9.52s\tremaining: 13.6s\n",
            "411:\tlearn: 0.0018826\ttotal: 9.57s\tremaining: 13.7s\n",
            "412:\tlearn: 0.0018826\ttotal: 9.6s\tremaining: 13.6s\n",
            "413:\tlearn: 0.0018743\ttotal: 9.65s\tremaining: 13.7s\n",
            "414:\tlearn: 0.0018719\ttotal: 9.69s\tremaining: 13.7s\n",
            "415:\tlearn: 0.0018657\ttotal: 9.72s\tremaining: 13.7s\n",
            "416:\tlearn: 0.0018559\ttotal: 9.76s\tremaining: 13.6s\n",
            "417:\tlearn: 0.0018533\ttotal: 9.81s\tremaining: 13.7s\n",
            "418:\tlearn: 0.0018443\ttotal: 9.84s\tremaining: 13.6s\n",
            "419:\tlearn: 0.0018418\ttotal: 9.87s\tremaining: 13.6s\n",
            "420:\tlearn: 0.0018415\ttotal: 9.91s\tremaining: 13.6s\n",
            "421:\tlearn: 0.0018346\ttotal: 9.95s\tremaining: 13.6s\n",
            "422:\tlearn: 0.0018344\ttotal: 9.99s\tremaining: 13.6s\n",
            "423:\tlearn: 0.0018286\ttotal: 10s\tremaining: 13.6s\n",
            "424:\tlearn: 0.0018198\ttotal: 10.1s\tremaining: 13.6s\n",
            "425:\tlearn: 0.0018179\ttotal: 10.1s\tremaining: 13.6s\n",
            "426:\tlearn: 0.0018099\ttotal: 10.1s\tremaining: 13.6s\n",
            "427:\tlearn: 0.0018019\ttotal: 10.2s\tremaining: 13.6s\n",
            "428:\tlearn: 0.0017996\ttotal: 10.2s\tremaining: 13.6s\n",
            "429:\tlearn: 0.0017936\ttotal: 10.3s\tremaining: 13.6s\n",
            "430:\tlearn: 0.0017914\ttotal: 10.3s\tremaining: 13.6s\n",
            "431:\tlearn: 0.0017892\ttotal: 10.3s\tremaining: 13.6s\n",
            "432:\tlearn: 0.0017802\ttotal: 10.4s\tremaining: 13.6s\n",
            "433:\tlearn: 0.0017729\ttotal: 10.4s\tremaining: 13.6s\n",
            "434:\tlearn: 0.0017646\ttotal: 10.4s\tremaining: 13.6s\n",
            "435:\tlearn: 0.0017559\ttotal: 10.5s\tremaining: 13.6s\n",
            "436:\tlearn: 0.0017538\ttotal: 10.5s\tremaining: 13.6s\n",
            "437:\tlearn: 0.0017486\ttotal: 10.6s\tremaining: 13.6s\n",
            "438:\tlearn: 0.0017470\ttotal: 10.6s\tremaining: 13.5s\n",
            "439:\tlearn: 0.0017400\ttotal: 10.6s\tremaining: 13.5s\n",
            "440:\tlearn: 0.0017381\ttotal: 10.6s\tremaining: 13.5s\n",
            "441:\tlearn: 0.0017333\ttotal: 10.7s\tremaining: 13.5s\n",
            "442:\tlearn: 0.0017253\ttotal: 10.7s\tremaining: 13.4s\n",
            "443:\tlearn: 0.0017233\ttotal: 10.7s\tremaining: 13.4s\n",
            "444:\tlearn: 0.0017215\ttotal: 10.7s\tremaining: 13.4s\n",
            "445:\tlearn: 0.0017154\ttotal: 10.8s\tremaining: 13.4s\n",
            "446:\tlearn: 0.0017140\ttotal: 10.8s\tremaining: 13.3s\n",
            "447:\tlearn: 0.0017090\ttotal: 10.8s\tremaining: 13.3s\n",
            "448:\tlearn: 0.0017022\ttotal: 10.9s\tremaining: 13.3s\n",
            "449:\tlearn: 0.0016941\ttotal: 10.9s\tremaining: 13.3s\n",
            "450:\tlearn: 0.0016928\ttotal: 10.9s\tremaining: 13.3s\n",
            "451:\tlearn: 0.0016852\ttotal: 10.9s\tremaining: 13.2s\n",
            "452:\tlearn: 0.0016788\ttotal: 10.9s\tremaining: 13.2s\n",
            "453:\tlearn: 0.0016775\ttotal: 11s\tremaining: 13.2s\n",
            "454:\tlearn: 0.0016774\ttotal: 11s\tremaining: 13.2s\n",
            "455:\tlearn: 0.0016695\ttotal: 11.1s\tremaining: 13.2s\n",
            "456:\tlearn: 0.0016679\ttotal: 11.1s\tremaining: 13.2s\n",
            "457:\tlearn: 0.0016616\ttotal: 11.1s\tremaining: 13.1s\n",
            "458:\tlearn: 0.0016604\ttotal: 11.2s\tremaining: 13.1s\n",
            "459:\tlearn: 0.0016535\ttotal: 11.2s\tremaining: 13.2s\n",
            "460:\tlearn: 0.0016477\ttotal: 11.3s\tremaining: 13.2s\n",
            "461:\tlearn: 0.0016404\ttotal: 11.3s\tremaining: 13.2s\n",
            "462:\tlearn: 0.0016387\ttotal: 11.4s\tremaining: 13.2s\n",
            "463:\tlearn: 0.0016371\ttotal: 11.4s\tremaining: 13.2s\n",
            "464:\tlearn: 0.0016355\ttotal: 11.4s\tremaining: 13.1s\n",
            "465:\tlearn: 0.0016340\ttotal: 11.4s\tremaining: 13.1s\n",
            "466:\tlearn: 0.0016268\ttotal: 11.4s\tremaining: 13.1s\n",
            "467:\tlearn: 0.0016201\ttotal: 11.5s\tremaining: 13s\n",
            "468:\tlearn: 0.0016146\ttotal: 11.6s\tremaining: 13.1s\n",
            "469:\tlearn: 0.0016135\ttotal: 11.6s\tremaining: 13.1s\n",
            "470:\tlearn: 0.0016080\ttotal: 11.6s\tremaining: 13.1s\n",
            "471:\tlearn: 0.0016027\ttotal: 11.7s\tremaining: 13.1s\n",
            "472:\tlearn: 0.0015958\ttotal: 11.7s\tremaining: 13s\n",
            "473:\tlearn: 0.0015868\ttotal: 11.7s\tremaining: 13s\n",
            "474:\tlearn: 0.0015854\ttotal: 11.7s\tremaining: 13s\n",
            "475:\tlearn: 0.0015854\ttotal: 11.7s\tremaining: 12.9s\n",
            "476:\tlearn: 0.0015840\ttotal: 11.7s\tremaining: 12.9s\n",
            "477:\tlearn: 0.0015790\ttotal: 11.8s\tremaining: 12.9s\n",
            "478:\tlearn: 0.0015790\ttotal: 11.8s\tremaining: 12.9s\n",
            "479:\tlearn: 0.0015776\ttotal: 11.8s\tremaining: 12.8s\n",
            "480:\tlearn: 0.0015723\ttotal: 11.9s\tremaining: 12.8s\n",
            "481:\tlearn: 0.0015713\ttotal: 11.9s\tremaining: 12.8s\n",
            "482:\tlearn: 0.0015713\ttotal: 11.9s\tremaining: 12.7s\n",
            "483:\tlearn: 0.0015700\ttotal: 11.9s\tremaining: 12.7s\n",
            "484:\tlearn: 0.0015646\ttotal: 11.9s\tremaining: 12.7s\n",
            "485:\tlearn: 0.0015587\ttotal: 12s\tremaining: 12.7s\n",
            "486:\tlearn: 0.0015575\ttotal: 12s\tremaining: 12.6s\n",
            "487:\tlearn: 0.0015517\ttotal: 12s\tremaining: 12.6s\n",
            "488:\tlearn: 0.0015517\ttotal: 12s\tremaining: 12.6s\n",
            "489:\tlearn: 0.0015467\ttotal: 12.1s\tremaining: 12.6s\n",
            "490:\tlearn: 0.0015457\ttotal: 12.1s\tremaining: 12.5s\n",
            "491:\tlearn: 0.0015448\ttotal: 12.1s\tremaining: 12.5s\n",
            "492:\tlearn: 0.0015395\ttotal: 12.1s\tremaining: 12.5s\n",
            "493:\tlearn: 0.0015372\ttotal: 12.2s\tremaining: 12.4s\n",
            "494:\tlearn: 0.0015326\ttotal: 12.2s\tremaining: 12.4s\n",
            "495:\tlearn: 0.0015264\ttotal: 12.2s\tremaining: 12.4s\n",
            "496:\tlearn: 0.0015215\ttotal: 12.2s\tremaining: 12.4s\n",
            "497:\tlearn: 0.0015206\ttotal: 12.3s\tremaining: 12.4s\n",
            "498:\tlearn: 0.0015159\ttotal: 12.3s\tremaining: 12.3s\n",
            "499:\tlearn: 0.0015112\ttotal: 12.3s\tremaining: 12.3s\n",
            "500:\tlearn: 0.0015076\ttotal: 12.3s\tremaining: 12.3s\n",
            "501:\tlearn: 0.0015068\ttotal: 12.3s\tremaining: 12.2s\n",
            "502:\tlearn: 0.0014987\ttotal: 12.4s\tremaining: 12.2s\n",
            "503:\tlearn: 0.0014986\ttotal: 12.4s\tremaining: 12.2s\n",
            "504:\tlearn: 0.0014928\ttotal: 12.4s\tremaining: 12.1s\n",
            "505:\tlearn: 0.0014885\ttotal: 12.4s\tremaining: 12.1s\n",
            "506:\tlearn: 0.0014838\ttotal: 12.4s\tremaining: 12.1s\n",
            "507:\tlearn: 0.0014827\ttotal: 12.4s\tremaining: 12.1s\n",
            "508:\tlearn: 0.0014819\ttotal: 12.5s\tremaining: 12s\n",
            "509:\tlearn: 0.0014811\ttotal: 12.5s\tremaining: 12s\n",
            "510:\tlearn: 0.0014733\ttotal: 12.5s\tremaining: 12s\n",
            "511:\tlearn: 0.0014733\ttotal: 12.5s\tremaining: 11.9s\n",
            "512:\tlearn: 0.0014725\ttotal: 12.6s\tremaining: 11.9s\n",
            "513:\tlearn: 0.0014718\ttotal: 12.6s\tremaining: 11.9s\n",
            "514:\tlearn: 0.0014718\ttotal: 12.6s\tremaining: 11.9s\n",
            "515:\tlearn: 0.0014628\ttotal: 12.6s\tremaining: 11.9s\n",
            "516:\tlearn: 0.0014621\ttotal: 12.7s\tremaining: 11.9s\n",
            "517:\tlearn: 0.0014576\ttotal: 12.7s\tremaining: 11.8s\n",
            "518:\tlearn: 0.0014576\ttotal: 12.7s\tremaining: 11.8s\n",
            "519:\tlearn: 0.0014569\ttotal: 12.8s\tremaining: 11.8s\n",
            "520:\tlearn: 0.0014486\ttotal: 12.8s\tremaining: 11.8s\n",
            "521:\tlearn: 0.0014443\ttotal: 12.9s\tremaining: 11.8s\n",
            "522:\tlearn: 0.0014399\ttotal: 12.9s\tremaining: 11.8s\n",
            "523:\tlearn: 0.0014325\ttotal: 12.9s\tremaining: 11.8s\n",
            "524:\tlearn: 0.0014325\ttotal: 13s\tremaining: 11.7s\n",
            "525:\tlearn: 0.0014276\ttotal: 13s\tremaining: 11.7s\n",
            "526:\tlearn: 0.0014274\ttotal: 13s\tremaining: 11.7s\n",
            "527:\tlearn: 0.0014231\ttotal: 13.1s\tremaining: 11.7s\n",
            "528:\tlearn: 0.0014228\ttotal: 13.1s\tremaining: 11.7s\n",
            "529:\tlearn: 0.0014221\ttotal: 13.1s\tremaining: 11.7s\n",
            "530:\tlearn: 0.0014187\ttotal: 13.2s\tremaining: 11.6s\n",
            "531:\tlearn: 0.0014187\ttotal: 13.2s\tremaining: 11.6s\n",
            "532:\tlearn: 0.0014139\ttotal: 13.2s\tremaining: 11.6s\n",
            "533:\tlearn: 0.0014136\ttotal: 13.3s\tremaining: 11.6s\n",
            "534:\tlearn: 0.0014097\ttotal: 13.3s\tremaining: 11.5s\n",
            "535:\tlearn: 0.0014055\ttotal: 13.3s\tremaining: 11.5s\n",
            "536:\tlearn: 0.0014055\ttotal: 13.3s\tremaining: 11.5s\n",
            "537:\tlearn: 0.0014055\ttotal: 13.3s\tremaining: 11.4s\n",
            "538:\tlearn: 0.0014055\ttotal: 13.3s\tremaining: 11.4s\n",
            "539:\tlearn: 0.0014004\ttotal: 13.4s\tremaining: 11.4s\n",
            "540:\tlearn: 0.0013973\ttotal: 13.4s\tremaining: 11.3s\n",
            "541:\tlearn: 0.0013941\ttotal: 13.4s\tremaining: 11.3s\n",
            "542:\tlearn: 0.0013932\ttotal: 13.4s\tremaining: 11.3s\n",
            "543:\tlearn: 0.0013932\ttotal: 13.4s\tremaining: 11.3s\n",
            "544:\tlearn: 0.0013892\ttotal: 13.5s\tremaining: 11.3s\n",
            "545:\tlearn: 0.0013890\ttotal: 13.5s\tremaining: 11.2s\n",
            "546:\tlearn: 0.0013883\ttotal: 13.6s\tremaining: 11.2s\n",
            "547:\tlearn: 0.0013840\ttotal: 13.6s\tremaining: 11.2s\n",
            "548:\tlearn: 0.0013837\ttotal: 13.6s\tremaining: 11.2s\n",
            "549:\tlearn: 0.0013835\ttotal: 13.7s\tremaining: 11.2s\n",
            "550:\tlearn: 0.0013835\ttotal: 13.7s\tremaining: 11.2s\n",
            "551:\tlearn: 0.0013834\ttotal: 13.8s\tremaining: 11.2s\n",
            "552:\tlearn: 0.0013834\ttotal: 13.8s\tremaining: 11.2s\n",
            "553:\tlearn: 0.0013783\ttotal: 13.9s\tremaining: 11.2s\n",
            "554:\tlearn: 0.0013708\ttotal: 13.9s\tremaining: 11.2s\n",
            "555:\tlearn: 0.0013701\ttotal: 14s\tremaining: 11.2s\n",
            "556:\tlearn: 0.0013656\ttotal: 14s\tremaining: 11.1s\n",
            "557:\tlearn: 0.0013656\ttotal: 14s\tremaining: 11.1s\n",
            "558:\tlearn: 0.0013656\ttotal: 14s\tremaining: 11.1s\n",
            "559:\tlearn: 0.0013655\ttotal: 14.1s\tremaining: 11.1s\n",
            "560:\tlearn: 0.0013655\ttotal: 14.1s\tremaining: 11s\n",
            "561:\tlearn: 0.0013655\ttotal: 14.2s\tremaining: 11s\n",
            "562:\tlearn: 0.0013655\ttotal: 14.2s\tremaining: 11s\n",
            "563:\tlearn: 0.0013655\ttotal: 14.2s\tremaining: 11s\n",
            "564:\tlearn: 0.0013655\ttotal: 14.2s\tremaining: 10.9s\n",
            "565:\tlearn: 0.0013584\ttotal: 14.2s\tremaining: 10.9s\n",
            "566:\tlearn: 0.0013584\ttotal: 14.3s\tremaining: 10.9s\n",
            "567:\tlearn: 0.0013583\ttotal: 14.3s\tremaining: 10.8s\n",
            "568:\tlearn: 0.0013583\ttotal: 14.3s\tremaining: 10.8s\n",
            "569:\tlearn: 0.0013546\ttotal: 14.3s\tremaining: 10.8s\n",
            "570:\tlearn: 0.0013544\ttotal: 14.3s\tremaining: 10.8s\n",
            "571:\tlearn: 0.0013501\ttotal: 14.4s\tremaining: 10.8s\n",
            "572:\tlearn: 0.0013495\ttotal: 14.4s\tremaining: 10.7s\n",
            "573:\tlearn: 0.0013495\ttotal: 14.4s\tremaining: 10.7s\n",
            "574:\tlearn: 0.0013495\ttotal: 14.5s\tremaining: 10.7s\n",
            "575:\tlearn: 0.0013495\ttotal: 14.5s\tremaining: 10.7s\n",
            "576:\tlearn: 0.0013495\ttotal: 14.5s\tremaining: 10.7s\n",
            "577:\tlearn: 0.0013495\ttotal: 14.6s\tremaining: 10.6s\n",
            "578:\tlearn: 0.0013494\ttotal: 14.6s\tremaining: 10.6s\n",
            "579:\tlearn: 0.0013494\ttotal: 14.6s\tremaining: 10.6s\n",
            "580:\tlearn: 0.0013494\ttotal: 14.7s\tremaining: 10.6s\n",
            "581:\tlearn: 0.0013494\ttotal: 14.7s\tremaining: 10.6s\n",
            "582:\tlearn: 0.0013494\ttotal: 14.7s\tremaining: 10.5s\n",
            "583:\tlearn: 0.0013426\ttotal: 14.8s\tremaining: 10.5s\n",
            "584:\tlearn: 0.0013426\ttotal: 14.8s\tremaining: 10.5s\n",
            "585:\tlearn: 0.0013376\ttotal: 14.8s\tremaining: 10.5s\n",
            "586:\tlearn: 0.0013376\ttotal: 14.9s\tremaining: 10.5s\n",
            "587:\tlearn: 0.0013370\ttotal: 14.9s\tremaining: 10.4s\n",
            "588:\tlearn: 0.0013370\ttotal: 14.9s\tremaining: 10.4s\n",
            "589:\tlearn: 0.0013370\ttotal: 14.9s\tremaining: 10.4s\n",
            "590:\tlearn: 0.0013370\ttotal: 14.9s\tremaining: 10.3s\n",
            "591:\tlearn: 0.0013370\ttotal: 14.9s\tremaining: 10.3s\n",
            "592:\tlearn: 0.0013370\ttotal: 15s\tremaining: 10.3s\n",
            "593:\tlearn: 0.0013326\ttotal: 15s\tremaining: 10.3s\n",
            "594:\tlearn: 0.0013262\ttotal: 15s\tremaining: 10.2s\n",
            "595:\tlearn: 0.0013261\ttotal: 15s\tremaining: 10.2s\n",
            "596:\tlearn: 0.0013226\ttotal: 15.1s\tremaining: 10.2s\n",
            "597:\tlearn: 0.0013192\ttotal: 15.1s\tremaining: 10.1s\n",
            "598:\tlearn: 0.0013192\ttotal: 15.1s\tremaining: 10.1s\n",
            "599:\tlearn: 0.0013192\ttotal: 15.1s\tremaining: 10.1s\n",
            "600:\tlearn: 0.0013192\ttotal: 15.2s\tremaining: 10.1s\n",
            "601:\tlearn: 0.0013192\ttotal: 15.2s\tremaining: 10.1s\n",
            "602:\tlearn: 0.0013192\ttotal: 15.2s\tremaining: 10s\n",
            "603:\tlearn: 0.0013192\ttotal: 15.3s\tremaining: 10s\n",
            "604:\tlearn: 0.0013192\ttotal: 15.3s\tremaining: 9.98s\n",
            "605:\tlearn: 0.0013192\ttotal: 15.3s\tremaining: 9.95s\n",
            "606:\tlearn: 0.0013192\ttotal: 15.3s\tremaining: 9.92s\n",
            "607:\tlearn: 0.0013192\ttotal: 15.3s\tremaining: 9.88s\n",
            "608:\tlearn: 0.0013192\ttotal: 15.3s\tremaining: 9.85s\n",
            "609:\tlearn: 0.0013192\ttotal: 15.4s\tremaining: 9.82s\n",
            "610:\tlearn: 0.0013192\ttotal: 15.4s\tremaining: 9.83s\n",
            "611:\tlearn: 0.0013186\ttotal: 15.5s\tremaining: 9.82s\n",
            "612:\tlearn: 0.0013180\ttotal: 15.5s\tremaining: 9.79s\n",
            "613:\tlearn: 0.0013117\ttotal: 15.5s\tremaining: 9.77s\n",
            "614:\tlearn: 0.0013117\ttotal: 15.6s\tremaining: 9.74s\n",
            "615:\tlearn: 0.0013117\ttotal: 15.6s\tremaining: 9.74s\n",
            "616:\tlearn: 0.0013117\ttotal: 15.7s\tremaining: 9.72s\n",
            "617:\tlearn: 0.0013116\ttotal: 15.7s\tremaining: 9.7s\n",
            "618:\tlearn: 0.0013116\ttotal: 15.7s\tremaining: 9.69s\n",
            "619:\tlearn: 0.0013116\ttotal: 15.8s\tremaining: 9.67s\n",
            "620:\tlearn: 0.0013116\ttotal: 15.8s\tremaining: 9.64s\n",
            "621:\tlearn: 0.0013116\ttotal: 15.8s\tremaining: 9.61s\n",
            "622:\tlearn: 0.0013116\ttotal: 15.8s\tremaining: 9.58s\n",
            "623:\tlearn: 0.0013116\ttotal: 15.9s\tremaining: 9.56s\n",
            "624:\tlearn: 0.0013116\ttotal: 15.9s\tremaining: 9.53s\n",
            "625:\tlearn: 0.0013116\ttotal: 15.9s\tremaining: 9.51s\n",
            "626:\tlearn: 0.0013116\ttotal: 16s\tremaining: 9.49s\n",
            "627:\tlearn: 0.0013110\ttotal: 16s\tremaining: 9.47s\n",
            "628:\tlearn: 0.0013110\ttotal: 16s\tremaining: 9.46s\n",
            "629:\tlearn: 0.0013110\ttotal: 16.1s\tremaining: 9.44s\n",
            "630:\tlearn: 0.0013110\ttotal: 16.1s\tremaining: 9.42s\n",
            "631:\tlearn: 0.0013110\ttotal: 16.1s\tremaining: 9.4s\n",
            "632:\tlearn: 0.0013110\ttotal: 16.2s\tremaining: 9.38s\n",
            "633:\tlearn: 0.0013110\ttotal: 16.2s\tremaining: 9.36s\n",
            "634:\tlearn: 0.0013110\ttotal: 16.2s\tremaining: 9.34s\n",
            "635:\tlearn: 0.0013061\ttotal: 16.3s\tremaining: 9.32s\n",
            "636:\tlearn: 0.0013061\ttotal: 16.3s\tremaining: 9.3s\n",
            "637:\tlearn: 0.0013061\ttotal: 16.4s\tremaining: 9.28s\n",
            "638:\tlearn: 0.0013061\ttotal: 16.4s\tremaining: 9.25s\n",
            "639:\tlearn: 0.0013061\ttotal: 16.4s\tremaining: 9.22s\n",
            "640:\tlearn: 0.0013061\ttotal: 16.4s\tremaining: 9.2s\n",
            "641:\tlearn: 0.0013061\ttotal: 16.5s\tremaining: 9.18s\n",
            "642:\tlearn: 0.0013061\ttotal: 16.5s\tremaining: 9.16s\n",
            "643:\tlearn: 0.0013061\ttotal: 16.5s\tremaining: 9.13s\n",
            "644:\tlearn: 0.0013061\ttotal: 16.5s\tremaining: 9.1s\n",
            "645:\tlearn: 0.0013060\ttotal: 16.5s\tremaining: 9.07s\n",
            "646:\tlearn: 0.0013060\ttotal: 16.6s\tremaining: 9.04s\n",
            "647:\tlearn: 0.0013060\ttotal: 16.6s\tremaining: 9.01s\n",
            "648:\tlearn: 0.0013060\ttotal: 16.6s\tremaining: 8.97s\n",
            "649:\tlearn: 0.0013060\ttotal: 16.6s\tremaining: 8.94s\n",
            "650:\tlearn: 0.0013060\ttotal: 16.6s\tremaining: 8.91s\n",
            "651:\tlearn: 0.0013054\ttotal: 16.6s\tremaining: 8.88s\n",
            "652:\tlearn: 0.0013054\ttotal: 16.7s\tremaining: 8.85s\n",
            "653:\tlearn: 0.0013054\ttotal: 16.7s\tremaining: 8.82s\n",
            "654:\tlearn: 0.0013054\ttotal: 16.7s\tremaining: 8.81s\n",
            "655:\tlearn: 0.0013054\ttotal: 16.8s\tremaining: 8.79s\n",
            "656:\tlearn: 0.0013053\ttotal: 16.8s\tremaining: 8.77s\n",
            "657:\tlearn: 0.0013053\ttotal: 16.8s\tremaining: 8.75s\n",
            "658:\tlearn: 0.0013053\ttotal: 16.9s\tremaining: 8.74s\n",
            "659:\tlearn: 0.0013053\ttotal: 16.9s\tremaining: 8.73s\n",
            "660:\tlearn: 0.0013053\ttotal: 17s\tremaining: 8.71s\n",
            "661:\tlearn: 0.0013053\ttotal: 17s\tremaining: 8.7s\n",
            "662:\tlearn: 0.0013053\ttotal: 17.1s\tremaining: 8.68s\n",
            "663:\tlearn: 0.0013053\ttotal: 17.1s\tremaining: 8.66s\n",
            "664:\tlearn: 0.0013048\ttotal: 17.1s\tremaining: 8.64s\n",
            "665:\tlearn: 0.0013042\ttotal: 17.2s\tremaining: 8.62s\n",
            "666:\tlearn: 0.0013042\ttotal: 17.2s\tremaining: 8.59s\n",
            "667:\tlearn: 0.0013042\ttotal: 17.2s\tremaining: 8.56s\n",
            "668:\tlearn: 0.0013042\ttotal: 17.2s\tremaining: 8.53s\n",
            "669:\tlearn: 0.0013042\ttotal: 17.3s\tremaining: 8.5s\n",
            "670:\tlearn: 0.0013042\ttotal: 17.3s\tremaining: 8.47s\n",
            "671:\tlearn: 0.0012980\ttotal: 17.3s\tremaining: 8.45s\n",
            "672:\tlearn: 0.0012933\ttotal: 17.3s\tremaining: 8.42s\n",
            "673:\tlearn: 0.0012886\ttotal: 17.4s\tremaining: 8.4s\n",
            "674:\tlearn: 0.0012886\ttotal: 17.4s\tremaining: 8.39s\n",
            "675:\tlearn: 0.0012886\ttotal: 17.4s\tremaining: 8.36s\n",
            "676:\tlearn: 0.0012886\ttotal: 17.5s\tremaining: 8.34s\n",
            "677:\tlearn: 0.0012846\ttotal: 17.5s\tremaining: 8.32s\n",
            "678:\tlearn: 0.0012844\ttotal: 17.5s\tremaining: 8.29s\n",
            "679:\tlearn: 0.0012799\ttotal: 17.5s\tremaining: 8.26s\n",
            "680:\tlearn: 0.0012797\ttotal: 17.6s\tremaining: 8.23s\n",
            "681:\tlearn: 0.0012797\ttotal: 17.6s\tremaining: 8.2s\n",
            "682:\tlearn: 0.0012797\ttotal: 17.6s\tremaining: 8.18s\n",
            "683:\tlearn: 0.0012797\ttotal: 17.6s\tremaining: 8.15s\n",
            "684:\tlearn: 0.0012797\ttotal: 17.7s\tremaining: 8.12s\n",
            "685:\tlearn: 0.0012797\ttotal: 17.7s\tremaining: 8.1s\n",
            "686:\tlearn: 0.0012760\ttotal: 17.7s\tremaining: 8.08s\n",
            "687:\tlearn: 0.0012760\ttotal: 17.8s\tremaining: 8.07s\n",
            "688:\tlearn: 0.0012699\ttotal: 17.8s\tremaining: 8.04s\n",
            "689:\tlearn: 0.0012699\ttotal: 17.9s\tremaining: 8.02s\n",
            "690:\tlearn: 0.0012698\ttotal: 17.9s\tremaining: 8s\n",
            "691:\tlearn: 0.0012698\ttotal: 17.9s\tremaining: 7.97s\n",
            "692:\tlearn: 0.0012642\ttotal: 17.9s\tremaining: 7.94s\n",
            "693:\tlearn: 0.0012641\ttotal: 18s\tremaining: 7.92s\n",
            "694:\tlearn: 0.0012597\ttotal: 18s\tremaining: 7.89s\n",
            "695:\tlearn: 0.0012590\ttotal: 18s\tremaining: 7.86s\n",
            "696:\tlearn: 0.0012590\ttotal: 18s\tremaining: 7.83s\n",
            "697:\tlearn: 0.0012590\ttotal: 18s\tremaining: 7.8s\n",
            "698:\tlearn: 0.0012590\ttotal: 18s\tremaining: 7.77s\n",
            "699:\tlearn: 0.0012590\ttotal: 18.1s\tremaining: 7.74s\n",
            "700:\tlearn: 0.0012590\ttotal: 18.1s\tremaining: 7.71s\n",
            "701:\tlearn: 0.0012590\ttotal: 18.1s\tremaining: 7.68s\n",
            "702:\tlearn: 0.0012590\ttotal: 18.1s\tremaining: 7.65s\n",
            "703:\tlearn: 0.0012590\ttotal: 18.1s\tremaining: 7.62s\n",
            "704:\tlearn: 0.0012590\ttotal: 18.1s\tremaining: 7.59s\n",
            "705:\tlearn: 0.0012590\ttotal: 18.2s\tremaining: 7.56s\n",
            "706:\tlearn: 0.0012590\ttotal: 18.2s\tremaining: 7.53s\n",
            "707:\tlearn: 0.0012531\ttotal: 18.2s\tremaining: 7.5s\n",
            "708:\tlearn: 0.0012526\ttotal: 18.2s\tremaining: 7.48s\n",
            "709:\tlearn: 0.0012488\ttotal: 18.2s\tremaining: 7.45s\n",
            "710:\tlearn: 0.0012488\ttotal: 18.3s\tremaining: 7.43s\n",
            "711:\tlearn: 0.0012458\ttotal: 18.3s\tremaining: 7.42s\n",
            "712:\tlearn: 0.0012458\ttotal: 18.4s\tremaining: 7.39s\n",
            "713:\tlearn: 0.0012453\ttotal: 18.4s\tremaining: 7.38s\n",
            "714:\tlearn: 0.0012422\ttotal: 18.4s\tremaining: 7.35s\n",
            "715:\tlearn: 0.0012420\ttotal: 18.5s\tremaining: 7.33s\n",
            "716:\tlearn: 0.0012420\ttotal: 18.5s\tremaining: 7.31s\n",
            "717:\tlearn: 0.0012420\ttotal: 18.6s\tremaining: 7.29s\n",
            "718:\tlearn: 0.0012420\ttotal: 18.6s\tremaining: 7.27s\n",
            "719:\tlearn: 0.0012384\ttotal: 18.6s\tremaining: 7.24s\n",
            "720:\tlearn: 0.0012384\ttotal: 18.7s\tremaining: 7.22s\n",
            "721:\tlearn: 0.0012379\ttotal: 18.7s\tremaining: 7.2s\n",
            "722:\tlearn: 0.0012379\ttotal: 18.7s\tremaining: 7.17s\n",
            "723:\tlearn: 0.0012379\ttotal: 18.8s\tremaining: 7.16s\n",
            "724:\tlearn: 0.0012379\ttotal: 18.8s\tremaining: 7.13s\n",
            "725:\tlearn: 0.0012379\ttotal: 18.8s\tremaining: 7.11s\n",
            "726:\tlearn: 0.0012379\ttotal: 18.9s\tremaining: 7.08s\n",
            "727:\tlearn: 0.0012355\ttotal: 18.9s\tremaining: 7.06s\n",
            "728:\tlearn: 0.0012354\ttotal: 18.9s\tremaining: 7.04s\n",
            "729:\tlearn: 0.0012324\ttotal: 19s\tremaining: 7.02s\n",
            "730:\tlearn: 0.0012324\ttotal: 19s\tremaining: 6.99s\n",
            "731:\tlearn: 0.0012320\ttotal: 19s\tremaining: 6.97s\n",
            "732:\tlearn: 0.0012318\ttotal: 19.1s\tremaining: 6.95s\n",
            "733:\tlearn: 0.0012318\ttotal: 19.1s\tremaining: 6.92s\n",
            "734:\tlearn: 0.0012318\ttotal: 19.1s\tremaining: 6.9s\n",
            "735:\tlearn: 0.0012318\ttotal: 19.2s\tremaining: 6.88s\n",
            "736:\tlearn: 0.0012318\ttotal: 19.2s\tremaining: 6.86s\n",
            "737:\tlearn: 0.0012318\ttotal: 19.2s\tremaining: 6.83s\n",
            "738:\tlearn: 0.0012318\ttotal: 19.3s\tremaining: 6.81s\n",
            "739:\tlearn: 0.0012318\ttotal: 19.3s\tremaining: 6.79s\n",
            "740:\tlearn: 0.0012318\ttotal: 19.4s\tremaining: 6.78s\n",
            "741:\tlearn: 0.0012318\ttotal: 19.4s\tremaining: 6.76s\n",
            "742:\tlearn: 0.0012318\ttotal: 19.4s\tremaining: 6.73s\n",
            "743:\tlearn: 0.0012318\ttotal: 19.5s\tremaining: 6.71s\n",
            "744:\tlearn: 0.0012318\ttotal: 19.5s\tremaining: 6.68s\n",
            "745:\tlearn: 0.0012318\ttotal: 19.5s\tremaining: 6.65s\n",
            "746:\tlearn: 0.0012318\ttotal: 19.6s\tremaining: 6.63s\n",
            "747:\tlearn: 0.0012318\ttotal: 19.6s\tremaining: 6.6s\n",
            "748:\tlearn: 0.0012318\ttotal: 19.6s\tremaining: 6.57s\n",
            "749:\tlearn: 0.0012318\ttotal: 19.6s\tremaining: 6.54s\n",
            "750:\tlearn: 0.0012318\ttotal: 19.7s\tremaining: 6.52s\n",
            "751:\tlearn: 0.0012318\ttotal: 19.7s\tremaining: 6.49s\n",
            "752:\tlearn: 0.0012318\ttotal: 19.7s\tremaining: 6.46s\n",
            "753:\tlearn: 0.0012318\ttotal: 19.7s\tremaining: 6.43s\n",
            "754:\tlearn: 0.0012318\ttotal: 19.7s\tremaining: 6.41s\n",
            "755:\tlearn: 0.0012318\ttotal: 19.8s\tremaining: 6.38s\n",
            "756:\tlearn: 0.0012318\ttotal: 19.8s\tremaining: 6.37s\n",
            "757:\tlearn: 0.0012318\ttotal: 19.9s\tremaining: 6.35s\n",
            "758:\tlearn: 0.0012318\ttotal: 19.9s\tremaining: 6.33s\n",
            "759:\tlearn: 0.0012318\ttotal: 20s\tremaining: 6.31s\n",
            "760:\tlearn: 0.0012318\ttotal: 20s\tremaining: 6.29s\n",
            "761:\tlearn: 0.0012318\ttotal: 20.1s\tremaining: 6.27s\n",
            "762:\tlearn: 0.0012318\ttotal: 20.1s\tremaining: 6.25s\n",
            "763:\tlearn: 0.0012318\ttotal: 20.1s\tremaining: 6.22s\n",
            "764:\tlearn: 0.0012318\ttotal: 20.2s\tremaining: 6.2s\n",
            "765:\tlearn: 0.0012318\ttotal: 20.2s\tremaining: 6.18s\n",
            "766:\tlearn: 0.0012318\ttotal: 20.3s\tremaining: 6.16s\n",
            "767:\tlearn: 0.0012318\ttotal: 20.3s\tremaining: 6.13s\n",
            "768:\tlearn: 0.0012318\ttotal: 20.3s\tremaining: 6.11s\n",
            "769:\tlearn: 0.0012318\ttotal: 20.4s\tremaining: 6.09s\n",
            "770:\tlearn: 0.0012318\ttotal: 20.4s\tremaining: 6.06s\n",
            "771:\tlearn: 0.0012318\ttotal: 20.4s\tremaining: 6.03s\n",
            "772:\tlearn: 0.0012318\ttotal: 20.4s\tremaining: 6s\n",
            "773:\tlearn: 0.0012318\ttotal: 20.5s\tremaining: 5.98s\n",
            "774:\tlearn: 0.0012318\ttotal: 20.5s\tremaining: 5.95s\n",
            "775:\tlearn: 0.0012318\ttotal: 20.5s\tremaining: 5.92s\n",
            "776:\tlearn: 0.0012318\ttotal: 20.5s\tremaining: 5.89s\n",
            "777:\tlearn: 0.0012318\ttotal: 20.5s\tremaining: 5.86s\n",
            "778:\tlearn: 0.0012318\ttotal: 20.5s\tremaining: 5.83s\n",
            "779:\tlearn: 0.0012318\ttotal: 20.6s\tremaining: 5.8s\n",
            "780:\tlearn: 0.0012317\ttotal: 20.6s\tremaining: 5.77s\n",
            "781:\tlearn: 0.0012294\ttotal: 20.6s\tremaining: 5.75s\n",
            "782:\tlearn: 0.0012257\ttotal: 20.7s\tremaining: 5.72s\n",
            "783:\tlearn: 0.0012205\ttotal: 20.7s\tremaining: 5.7s\n",
            "784:\tlearn: 0.0012204\ttotal: 20.7s\tremaining: 5.67s\n",
            "785:\tlearn: 0.0012204\ttotal: 20.7s\tremaining: 5.64s\n",
            "786:\tlearn: 0.0012204\ttotal: 20.7s\tremaining: 5.61s\n",
            "787:\tlearn: 0.0012204\ttotal: 20.8s\tremaining: 5.59s\n",
            "788:\tlearn: 0.0012204\ttotal: 20.8s\tremaining: 5.56s\n",
            "789:\tlearn: 0.0012204\ttotal: 20.8s\tremaining: 5.53s\n",
            "790:\tlearn: 0.0012203\ttotal: 20.8s\tremaining: 5.5s\n",
            "791:\tlearn: 0.0012203\ttotal: 20.9s\tremaining: 5.48s\n",
            "792:\tlearn: 0.0012203\ttotal: 20.9s\tremaining: 5.45s\n",
            "793:\tlearn: 0.0012203\ttotal: 20.9s\tremaining: 5.43s\n",
            "794:\tlearn: 0.0012203\ttotal: 21s\tremaining: 5.4s\n",
            "795:\tlearn: 0.0012203\ttotal: 21s\tremaining: 5.38s\n",
            "796:\tlearn: 0.0012203\ttotal: 21s\tremaining: 5.35s\n",
            "797:\tlearn: 0.0012203\ttotal: 21s\tremaining: 5.33s\n",
            "798:\tlearn: 0.0012203\ttotal: 21.1s\tremaining: 5.3s\n",
            "799:\tlearn: 0.0012203\ttotal: 21.1s\tremaining: 5.28s\n",
            "800:\tlearn: 0.0012203\ttotal: 21.1s\tremaining: 5.25s\n",
            "801:\tlearn: 0.0012203\ttotal: 21.2s\tremaining: 5.23s\n",
            "802:\tlearn: 0.0012203\ttotal: 21.2s\tremaining: 5.2s\n",
            "803:\tlearn: 0.0012203\ttotal: 21.2s\tremaining: 5.18s\n",
            "804:\tlearn: 0.0012203\ttotal: 21.3s\tremaining: 5.15s\n",
            "805:\tlearn: 0.0012203\ttotal: 21.3s\tremaining: 5.13s\n",
            "806:\tlearn: 0.0012203\ttotal: 21.4s\tremaining: 5.11s\n",
            "807:\tlearn: 0.0012203\ttotal: 21.4s\tremaining: 5.09s\n",
            "808:\tlearn: 0.0012203\ttotal: 21.5s\tremaining: 5.07s\n",
            "809:\tlearn: 0.0012203\ttotal: 21.5s\tremaining: 5.05s\n",
            "810:\tlearn: 0.0012203\ttotal: 21.6s\tremaining: 5.02s\n",
            "811:\tlearn: 0.0012203\ttotal: 21.6s\tremaining: 5s\n",
            "812:\tlearn: 0.0012203\ttotal: 21.7s\tremaining: 4.98s\n",
            "813:\tlearn: 0.0012203\ttotal: 21.7s\tremaining: 4.96s\n",
            "814:\tlearn: 0.0012203\ttotal: 21.8s\tremaining: 4.94s\n",
            "815:\tlearn: 0.0012203\ttotal: 21.8s\tremaining: 4.92s\n",
            "816:\tlearn: 0.0012203\ttotal: 21.9s\tremaining: 4.89s\n",
            "817:\tlearn: 0.0012203\ttotal: 21.9s\tremaining: 4.87s\n",
            "818:\tlearn: 0.0012203\ttotal: 21.9s\tremaining: 4.84s\n",
            "819:\tlearn: 0.0012203\ttotal: 21.9s\tremaining: 4.81s\n",
            "820:\tlearn: 0.0012203\ttotal: 22s\tremaining: 4.79s\n",
            "821:\tlearn: 0.0012203\ttotal: 22s\tremaining: 4.76s\n",
            "822:\tlearn: 0.0012203\ttotal: 22s\tremaining: 4.73s\n",
            "823:\tlearn: 0.0012203\ttotal: 22s\tremaining: 4.71s\n",
            "824:\tlearn: 0.0012203\ttotal: 22.1s\tremaining: 4.68s\n",
            "825:\tlearn: 0.0012203\ttotal: 22.1s\tremaining: 4.65s\n",
            "826:\tlearn: 0.0012203\ttotal: 22.1s\tremaining: 4.63s\n",
            "827:\tlearn: 0.0012203\ttotal: 22.1s\tremaining: 4.6s\n",
            "828:\tlearn: 0.0012203\ttotal: 22.2s\tremaining: 4.57s\n",
            "829:\tlearn: 0.0012164\ttotal: 22.2s\tremaining: 4.54s\n",
            "830:\tlearn: 0.0012162\ttotal: 22.2s\tremaining: 4.51s\n",
            "831:\tlearn: 0.0012132\ttotal: 22.2s\tremaining: 4.48s\n",
            "832:\tlearn: 0.0012132\ttotal: 22.2s\tremaining: 4.45s\n",
            "833:\tlearn: 0.0012132\ttotal: 22.2s\tremaining: 4.42s\n",
            "834:\tlearn: 0.0012132\ttotal: 22.3s\tremaining: 4.4s\n",
            "835:\tlearn: 0.0012132\ttotal: 22.3s\tremaining: 4.37s\n",
            "836:\tlearn: 0.0012132\ttotal: 22.3s\tremaining: 4.34s\n",
            "837:\tlearn: 0.0012132\ttotal: 22.3s\tremaining: 4.31s\n",
            "838:\tlearn: 0.0012132\ttotal: 22.3s\tremaining: 4.28s\n",
            "839:\tlearn: 0.0012132\ttotal: 22.3s\tremaining: 4.25s\n",
            "840:\tlearn: 0.0012132\ttotal: 22.4s\tremaining: 4.22s\n",
            "841:\tlearn: 0.0012132\ttotal: 22.4s\tremaining: 4.2s\n",
            "842:\tlearn: 0.0012132\ttotal: 22.4s\tremaining: 4.17s\n",
            "843:\tlearn: 0.0012132\ttotal: 22.5s\tremaining: 4.15s\n",
            "844:\tlearn: 0.0012132\ttotal: 22.5s\tremaining: 4.13s\n",
            "845:\tlearn: 0.0012132\ttotal: 22.5s\tremaining: 4.1s\n",
            "846:\tlearn: 0.0012132\ttotal: 22.6s\tremaining: 4.08s\n",
            "847:\tlearn: 0.0012132\ttotal: 22.6s\tremaining: 4.05s\n",
            "848:\tlearn: 0.0012132\ttotal: 22.6s\tremaining: 4.02s\n",
            "849:\tlearn: 0.0012132\ttotal: 22.7s\tremaining: 4s\n",
            "850:\tlearn: 0.0012132\ttotal: 22.7s\tremaining: 3.97s\n",
            "851:\tlearn: 0.0012132\ttotal: 22.7s\tremaining: 3.95s\n",
            "852:\tlearn: 0.0012132\ttotal: 22.8s\tremaining: 3.92s\n",
            "853:\tlearn: 0.0012132\ttotal: 22.8s\tremaining: 3.9s\n",
            "854:\tlearn: 0.0012132\ttotal: 22.8s\tremaining: 3.87s\n",
            "855:\tlearn: 0.0012132\ttotal: 22.9s\tremaining: 3.85s\n",
            "856:\tlearn: 0.0012132\ttotal: 22.9s\tremaining: 3.82s\n",
            "857:\tlearn: 0.0012132\ttotal: 22.9s\tremaining: 3.79s\n",
            "858:\tlearn: 0.0012132\ttotal: 23s\tremaining: 3.77s\n",
            "859:\tlearn: 0.0012132\ttotal: 23s\tremaining: 3.74s\n",
            "860:\tlearn: 0.0012132\ttotal: 23s\tremaining: 3.72s\n",
            "861:\tlearn: 0.0012132\ttotal: 23.1s\tremaining: 3.69s\n",
            "862:\tlearn: 0.0012132\ttotal: 23.1s\tremaining: 3.67s\n",
            "863:\tlearn: 0.0012132\ttotal: 23.1s\tremaining: 3.64s\n",
            "864:\tlearn: 0.0012132\ttotal: 23.2s\tremaining: 3.62s\n",
            "865:\tlearn: 0.0012132\ttotal: 23.2s\tremaining: 3.59s\n",
            "866:\tlearn: 0.0012132\ttotal: 23.2s\tremaining: 3.56s\n",
            "867:\tlearn: 0.0012132\ttotal: 23.3s\tremaining: 3.54s\n",
            "868:\tlearn: 0.0012132\ttotal: 23.3s\tremaining: 3.51s\n",
            "869:\tlearn: 0.0012132\ttotal: 23.3s\tremaining: 3.48s\n",
            "870:\tlearn: 0.0012132\ttotal: 23.4s\tremaining: 3.46s\n",
            "871:\tlearn: 0.0012132\ttotal: 23.4s\tremaining: 3.43s\n",
            "872:\tlearn: 0.0012132\ttotal: 23.4s\tremaining: 3.4s\n",
            "873:\tlearn: 0.0012132\ttotal: 23.4s\tremaining: 3.37s\n",
            "874:\tlearn: 0.0012132\ttotal: 23.4s\tremaining: 3.34s\n",
            "875:\tlearn: 0.0012132\ttotal: 23.4s\tremaining: 3.31s\n",
            "876:\tlearn: 0.0012132\ttotal: 23.4s\tremaining: 3.29s\n",
            "877:\tlearn: 0.0012132\ttotal: 23.4s\tremaining: 3.26s\n",
            "878:\tlearn: 0.0012132\ttotal: 23.5s\tremaining: 3.23s\n",
            "879:\tlearn: 0.0012132\ttotal: 23.5s\tremaining: 3.2s\n",
            "880:\tlearn: 0.0012132\ttotal: 23.5s\tremaining: 3.17s\n",
            "881:\tlearn: 0.0012132\ttotal: 23.5s\tremaining: 3.14s\n",
            "882:\tlearn: 0.0012132\ttotal: 23.5s\tremaining: 3.12s\n",
            "883:\tlearn: 0.0012132\ttotal: 23.5s\tremaining: 3.09s\n",
            "884:\tlearn: 0.0012132\ttotal: 23.6s\tremaining: 3.06s\n",
            "885:\tlearn: 0.0012131\ttotal: 23.6s\tremaining: 3.03s\n",
            "886:\tlearn: 0.0012127\ttotal: 23.6s\tremaining: 3.01s\n",
            "887:\tlearn: 0.0012127\ttotal: 23.7s\tremaining: 2.98s\n",
            "888:\tlearn: 0.0012127\ttotal: 23.7s\tremaining: 2.96s\n",
            "889:\tlearn: 0.0012126\ttotal: 23.7s\tremaining: 2.93s\n",
            "890:\tlearn: 0.0012126\ttotal: 23.7s\tremaining: 2.9s\n",
            "891:\tlearn: 0.0012126\ttotal: 23.7s\tremaining: 2.87s\n",
            "892:\tlearn: 0.0012098\ttotal: 23.7s\tremaining: 2.84s\n",
            "893:\tlearn: 0.0012097\ttotal: 23.8s\tremaining: 2.82s\n",
            "894:\tlearn: 0.0012092\ttotal: 23.8s\tremaining: 2.79s\n",
            "895:\tlearn: 0.0012043\ttotal: 23.8s\tremaining: 2.76s\n",
            "896:\tlearn: 0.0012021\ttotal: 23.8s\tremaining: 2.73s\n",
            "897:\tlearn: 0.0012020\ttotal: 23.8s\tremaining: 2.71s\n",
            "898:\tlearn: 0.0012020\ttotal: 23.9s\tremaining: 2.68s\n",
            "899:\tlearn: 0.0012020\ttotal: 23.9s\tremaining: 2.65s\n",
            "900:\tlearn: 0.0012020\ttotal: 23.9s\tremaining: 2.63s\n",
            "901:\tlearn: 0.0012020\ttotal: 23.9s\tremaining: 2.6s\n",
            "902:\tlearn: 0.0012020\ttotal: 24s\tremaining: 2.58s\n",
            "903:\tlearn: 0.0012020\ttotal: 24s\tremaining: 2.55s\n",
            "904:\tlearn: 0.0012020\ttotal: 24s\tremaining: 2.52s\n",
            "905:\tlearn: 0.0012020\ttotal: 24s\tremaining: 2.49s\n",
            "906:\tlearn: 0.0011982\ttotal: 24.1s\tremaining: 2.47s\n",
            "907:\tlearn: 0.0011978\ttotal: 24.1s\tremaining: 2.44s\n",
            "908:\tlearn: 0.0011978\ttotal: 24.1s\tremaining: 2.41s\n",
            "909:\tlearn: 0.0011978\ttotal: 24.1s\tremaining: 2.39s\n",
            "910:\tlearn: 0.0011924\ttotal: 24.2s\tremaining: 2.37s\n",
            "911:\tlearn: 0.0011922\ttotal: 24.3s\tremaining: 2.34s\n",
            "912:\tlearn: 0.0011900\ttotal: 24.3s\tremaining: 2.32s\n",
            "913:\tlearn: 0.0011862\ttotal: 24.4s\tremaining: 2.3s\n",
            "914:\tlearn: 0.0011862\ttotal: 24.5s\tremaining: 2.27s\n",
            "915:\tlearn: 0.0011861\ttotal: 24.5s\tremaining: 2.25s\n",
            "916:\tlearn: 0.0011823\ttotal: 24.6s\tremaining: 2.22s\n",
            "917:\tlearn: 0.0011802\ttotal: 24.6s\tremaining: 2.2s\n",
            "918:\tlearn: 0.0011776\ttotal: 24.7s\tremaining: 2.17s\n",
            "919:\tlearn: 0.0011741\ttotal: 24.7s\tremaining: 2.15s\n",
            "920:\tlearn: 0.0011713\ttotal: 24.7s\tremaining: 2.12s\n",
            "921:\tlearn: 0.0011688\ttotal: 24.8s\tremaining: 2.09s\n",
            "922:\tlearn: 0.0011647\ttotal: 24.8s\tremaining: 2.07s\n",
            "923:\tlearn: 0.0011645\ttotal: 24.8s\tremaining: 2.04s\n",
            "924:\tlearn: 0.0011645\ttotal: 24.8s\tremaining: 2.01s\n",
            "925:\tlearn: 0.0011645\ttotal: 24.9s\tremaining: 1.99s\n",
            "926:\tlearn: 0.0011626\ttotal: 24.9s\tremaining: 1.96s\n",
            "927:\tlearn: 0.0011626\ttotal: 24.9s\tremaining: 1.93s\n",
            "928:\tlearn: 0.0011607\ttotal: 24.9s\tremaining: 1.91s\n",
            "929:\tlearn: 0.0011607\ttotal: 24.9s\tremaining: 1.88s\n",
            "930:\tlearn: 0.0011533\ttotal: 25s\tremaining: 1.85s\n",
            "931:\tlearn: 0.0011533\ttotal: 25s\tremaining: 1.82s\n",
            "932:\tlearn: 0.0011529\ttotal: 25s\tremaining: 1.8s\n",
            "933:\tlearn: 0.0011527\ttotal: 25.1s\tremaining: 1.77s\n",
            "934:\tlearn: 0.0011501\ttotal: 25.1s\tremaining: 1.75s\n",
            "935:\tlearn: 0.0011450\ttotal: 25.2s\tremaining: 1.72s\n",
            "936:\tlearn: 0.0011449\ttotal: 25.2s\tremaining: 1.69s\n",
            "937:\tlearn: 0.0011448\ttotal: 25.2s\tremaining: 1.67s\n",
            "938:\tlearn: 0.0011416\ttotal: 25.3s\tremaining: 1.64s\n",
            "939:\tlearn: 0.0011391\ttotal: 25.3s\tremaining: 1.62s\n",
            "940:\tlearn: 0.0011390\ttotal: 25.4s\tremaining: 1.59s\n",
            "941:\tlearn: 0.0011364\ttotal: 25.4s\tremaining: 1.56s\n",
            "942:\tlearn: 0.0011363\ttotal: 25.4s\tremaining: 1.53s\n",
            "943:\tlearn: 0.0011359\ttotal: 25.4s\tremaining: 1.51s\n",
            "944:\tlearn: 0.0011355\ttotal: 25.4s\tremaining: 1.48s\n",
            "945:\tlearn: 0.0011355\ttotal: 25.5s\tremaining: 1.45s\n",
            "946:\tlearn: 0.0011355\ttotal: 25.5s\tremaining: 1.43s\n",
            "947:\tlearn: 0.0011355\ttotal: 25.5s\tremaining: 1.4s\n",
            "948:\tlearn: 0.0011355\ttotal: 25.5s\tremaining: 1.37s\n",
            "949:\tlearn: 0.0011355\ttotal: 25.5s\tremaining: 1.34s\n",
            "950:\tlearn: 0.0011355\ttotal: 25.5s\tremaining: 1.31s\n",
            "951:\tlearn: 0.0011354\ttotal: 25.6s\tremaining: 1.29s\n",
            "952:\tlearn: 0.0011329\ttotal: 25.6s\tremaining: 1.26s\n",
            "953:\tlearn: 0.0011328\ttotal: 25.6s\tremaining: 1.24s\n",
            "954:\tlearn: 0.0011328\ttotal: 25.7s\tremaining: 1.21s\n",
            "955:\tlearn: 0.0011324\ttotal: 25.7s\tremaining: 1.18s\n",
            "956:\tlearn: 0.0011305\ttotal: 25.8s\tremaining: 1.16s\n",
            "957:\tlearn: 0.0011283\ttotal: 25.8s\tremaining: 1.13s\n",
            "958:\tlearn: 0.0011283\ttotal: 25.8s\tremaining: 1.1s\n",
            "959:\tlearn: 0.0011283\ttotal: 25.9s\tremaining: 1.08s\n",
            "960:\tlearn: 0.0011283\ttotal: 25.9s\tremaining: 1.05s\n",
            "961:\tlearn: 0.0011283\ttotal: 25.9s\tremaining: 1.02s\n",
            "962:\tlearn: 0.0011283\ttotal: 26s\tremaining: 998ms\n",
            "963:\tlearn: 0.0011283\ttotal: 26s\tremaining: 971ms\n",
            "964:\tlearn: 0.0011283\ttotal: 26s\tremaining: 944ms\n",
            "965:\tlearn: 0.0011283\ttotal: 26.1s\tremaining: 918ms\n",
            "966:\tlearn: 0.0011283\ttotal: 26.1s\tremaining: 890ms\n",
            "967:\tlearn: 0.0011283\ttotal: 26.1s\tremaining: 864ms\n",
            "968:\tlearn: 0.0011283\ttotal: 26.2s\tremaining: 837ms\n",
            "969:\tlearn: 0.0011283\ttotal: 26.2s\tremaining: 810ms\n",
            "970:\tlearn: 0.0011283\ttotal: 26.3s\tremaining: 784ms\n",
            "971:\tlearn: 0.0011282\ttotal: 26.3s\tremaining: 758ms\n",
            "972:\tlearn: 0.0011283\ttotal: 26.3s\tremaining: 731ms\n",
            "973:\tlearn: 0.0011283\ttotal: 26.4s\tremaining: 704ms\n",
            "974:\tlearn: 0.0011282\ttotal: 26.4s\tremaining: 677ms\n",
            "975:\tlearn: 0.0011282\ttotal: 26.4s\tremaining: 650ms\n",
            "976:\tlearn: 0.0011282\ttotal: 26.5s\tremaining: 624ms\n",
            "977:\tlearn: 0.0011282\ttotal: 26.5s\tremaining: 597ms\n",
            "978:\tlearn: 0.0011282\ttotal: 26.6s\tremaining: 570ms\n",
            "979:\tlearn: 0.0011282\ttotal: 26.6s\tremaining: 543ms\n",
            "980:\tlearn: 0.0011282\ttotal: 26.6s\tremaining: 516ms\n",
            "981:\tlearn: 0.0011282\ttotal: 26.7s\tremaining: 489ms\n",
            "982:\tlearn: 0.0011282\ttotal: 26.7s\tremaining: 462ms\n",
            "983:\tlearn: 0.0011282\ttotal: 26.7s\tremaining: 435ms\n",
            "984:\tlearn: 0.0011282\ttotal: 26.8s\tremaining: 408ms\n",
            "985:\tlearn: 0.0011282\ttotal: 26.8s\tremaining: 381ms\n",
            "986:\tlearn: 0.0011282\ttotal: 26.8s\tremaining: 354ms\n",
            "987:\tlearn: 0.0011282\ttotal: 26.9s\tremaining: 327ms\n",
            "988:\tlearn: 0.0011282\ttotal: 27s\tremaining: 300ms\n",
            "989:\tlearn: 0.0011278\ttotal: 27s\tremaining: 273ms\n",
            "990:\tlearn: 0.0011278\ttotal: 27.1s\tremaining: 246ms\n",
            "991:\tlearn: 0.0011278\ttotal: 27.1s\tremaining: 219ms\n",
            "992:\tlearn: 0.0011278\ttotal: 27.2s\tremaining: 191ms\n",
            "993:\tlearn: 0.0011278\ttotal: 27.2s\tremaining: 164ms\n",
            "994:\tlearn: 0.0011278\ttotal: 27.3s\tremaining: 137ms\n",
            "995:\tlearn: 0.0011278\ttotal: 27.3s\tremaining: 110ms\n",
            "996:\tlearn: 0.0011278\ttotal: 27.3s\tremaining: 82.3ms\n",
            "997:\tlearn: 0.0011278\ttotal: 27.4s\tremaining: 54.9ms\n",
            "998:\tlearn: 0.0011278\ttotal: 27.4s\tremaining: 27.4ms\n",
            "999:\tlearn: 0.0011278\ttotal: 27.4s\tremaining: 0us\n"
          ]
        },
        {
          "output_type": "execute_result",
          "data": {
            "text/plain": [
              "<catboost.core.CatBoostClassifier at 0x7f9ed19d5d50>"
            ]
          },
          "metadata": {},
          "execution_count": 133
        }
      ],
      "source": [
        "model_CBC.fit(X_Train, Y_Train)"
      ]
    },
    {
      "cell_type": "code",
      "execution_count": null,
      "metadata": {
        "id": "IOBPCVSfPpqz"
      },
      "outputs": [],
      "source": [
        "predicted_y = model_CBC.predict(X_Test)"
      ]
    },
    {
      "cell_type": "code",
      "execution_count": null,
      "metadata": {
        "id": "De4t8VZkPuPg",
        "colab": {
          "base_uri": "https://localhost:8080/"
        },
        "outputId": "dc20b916-02f7-48a9-d9fc-1c046ce15018"
      },
      "outputs": [
        {
          "output_type": "stream",
          "name": "stdout",
          "text": [
            "[[4409    1]\n",
            " [   5  585]]\n"
          ]
        }
      ],
      "source": [
        "cm = confusion_matrix(Y_Test, predicted_y)\n",
        "print(cm)"
      ]
    },
    {
      "cell_type": "code",
      "execution_count": null,
      "metadata": {
        "id": "tXECwpBlPv6Q",
        "colab": {
          "base_uri": "https://localhost:8080/",
          "height": 341
        },
        "outputId": "cb6ad0b0-6611-495b-c008-b26067accdde"
      },
      "outputs": [
        {
          "output_type": "execute_result",
          "data": {
            "text/plain": [
              "<matplotlib.axes._subplots.AxesSubplot at 0x7f9ed1a6a1d0>"
            ]
          },
          "metadata": {},
          "execution_count": 136
        },
        {
          "output_type": "display_data",
          "data": {
            "text/plain": [
              "<Figure size 576x360 with 2 Axes>"
            ],
            "image/png": "[encoded data removed]"
          },
          "metadata": {
            "needs_background": "light"
          }
        }
      ],
      "source": [
        "import matplotlib.pyplot as plt\n",
        "import seaborn as sn\n",
        "\n",
        "conf_matrix=pd.DataFrame(data=cm,columns=['Predicted:0','Predicted:1'],index=['Actual:0','Actual:1'])\n",
        "plt.figure(figsize = (8,5))\n",
        "sn.heatmap(conf_matrix, annot=True,fmt='d')"
      ]
    },
    {
      "cell_type": "code",
      "execution_count": null,
      "metadata": {
        "id": "JaTIOF8HPx7U",
        "colab": {
          "base_uri": "https://localhost:8080/"
        },
        "outputId": "67f82c0a-9a63-4a2e-d2a5-0e1367e0d075"
      },
      "outputs": [
        {
          "output_type": "stream",
          "name": "stdout",
          "text": [
            "0.9988\n"
          ]
        }
      ],
      "source": [
        "cat_acc=sklearn.metrics.accuracy_score(Y_Test,predicted_y)\n",
        "print(cat_acc)"
      ]
    },
    {
      "cell_type": "code",
      "execution_count": null,
      "metadata": {
        "id": "GDGnrX5IPz8U",
        "colab": {
          "base_uri": "https://localhost:8080/",
          "height": 269
        },
        "outputId": "9e0fcfe6-b670-4aac-b381-3454828c9eeb"
      },
      "outputs": [
        {
          "output_type": "display_data",
          "data": {
            "text/plain": [
              "<Figure size 432x288 with 1 Axes>"
            ],
            "image/png": "[encoded data removed]"
          },
          "metadata": {
            "needs_background": "light"
          }
        }
      ],
      "source": [
        "ypoints = np.array([xg_acc*100,et_acc*100,rf_acc*100,cat_acc*100])\n",
        "xpoints=np.array([\"XG Boost\",\"Extra Tree\",\"Random Forest\",\"Cat Boost\"])\n",
        "plt.plot(xpoints,ypoints,'o-r')\n",
        "plt.show()"
      ]
    },
    {
      "cell_type": "markdown",
      "source": [
        "##USING TREE ALGORITHMS ON LESS DRIFT DATAFRAME"
      ],
      "metadata": {
        "id": "Trr9c9NB1zSc"
      }
    },
    {
      "cell_type": "code",
      "source": [
        "Y = no_dft.iloc[:, -1].values\n",
        "X = no_dft.iloc[:,0:35].values\n",
        "from sklearn.model_selection import train_test_split\n",
        "X_Train, X_Test, Y_Train, Y_Test = train_test_split(X, Y, test_size = 0.25, random_state = 0)"
      ],
      "metadata": {
        "id": "aRhCGN7o1zSe"
      },
      "execution_count": null,
      "outputs": []
    },
    {
      "cell_type": "code",
      "source": [
        "# Feature Scaling\n",
        "from sklearn.preprocessing import StandardScaler\n",
        "sc_X = StandardScaler()\n",
        "X_Train = sc_X.fit_transform(X_Train)\n",
        "X_Test = sc_X.transform(X_Test)"
      ],
      "metadata": {
        "id": "GHTnZDnm1zSf"
      },
      "execution_count": null,
      "outputs": []
    },
    {
      "cell_type": "markdown",
      "metadata": {
        "id": "79Ud2x6L1zSf"
      },
      "source": [
        "#### **RANDOM FOREST**"
      ]
    },
    {
      "cell_type": "code",
      "execution_count": null,
      "metadata": {
        "colab": {
          "base_uri": "https://localhost:8080/"
        },
        "outputId": "be71e42a-561a-420c-815a-5ea2bb131146",
        "id": "GzosVVBa1zSf"
      },
      "outputs": [
        {
          "output_type": "execute_result",
          "data": {
            "text/plain": [
              "RandomForestClassifier(criterion='entropy', n_estimators=50, random_state=0)"
            ]
          },
          "metadata": {},
          "execution_count": 141
        }
      ],
      "source": [
        "from sklearn.ensemble import RandomForestClassifier\n",
        "classifier = RandomForestClassifier(n_estimators = 50, criterion = 'entropy', random_state = 0)\n",
        "classifier.fit(X_Train,Y_Train)"
      ]
    },
    {
      "cell_type": "code",
      "execution_count": null,
      "metadata": {
        "colab": {
          "base_uri": "https://localhost:8080/"
        },
        "outputId": "e8881dee-67e3-4a74-b4aa-9325c144bb7f",
        "id": "HhE7QpTq1zSg"
      },
      "outputs": [
        {
          "output_type": "stream",
          "name": "stdout",
          "text": [
            "[[3240    0]\n",
            " [   0 1760]]\n"
          ]
        }
      ],
      "source": [
        "Y_Pred = classifier.predict(X_Test)\n",
        "\n",
        "\n",
        "from sklearn.metrics import confusion_matrix\n",
        "cm = confusion_matrix(Y_Test, Y_Pred)\n",
        "print(cm)"
      ]
    },
    {
      "cell_type": "code",
      "execution_count": null,
      "metadata": {
        "colab": {
          "base_uri": "https://localhost:8080/"
        },
        "outputId": "7e7fadb5-8c3a-4ecb-c92f-f6f522e7c7c1",
        "id": "dUIggeGa1zSg"
      },
      "outputs": [
        {
          "output_type": "execute_result",
          "data": {
            "text/plain": [
              "<matplotlib.axes._subplots.AxesSubplot at 0x7f9ed1c07b50>"
            ]
          },
          "metadata": {},
          "execution_count": 143
        },
        {
          "output_type": "display_data",
          "data": {
            "text/plain": [
              "<Figure size 576x360 with 2 Axes>"
            ],
            "image/png": "[encoded data removed]"
          },
          "metadata": {
            "needs_background": "light"
          }
        }
      ],
      "source": [
        "import matplotlib.pyplot as plt\n",
        "import seaborn as sn\n",
        "\n",
        "conf_matrix=pd.DataFrame(data=cm,columns=['Predicted:0','Predicted:1'],index=['Actual:0','Actual:1'])\n",
        "plt.figure(figsize = (8,5))\n",
        "sn.heatmap(conf_matrix, annot=True,fmt='d')"
      ]
    },
    {
      "cell_type": "code",
      "execution_count": null,
      "metadata": {
        "colab": {
          "base_uri": "https://localhost:8080/"
        },
        "outputId": "82fdb857-7bd4-4cdb-8a36-9a7f179a6200",
        "id": "EfG6EcW41zSh"
      },
      "outputs": [
        {
          "output_type": "stream",
          "name": "stdout",
          "text": [
            "1.0\n"
          ]
        }
      ],
      "source": [
        "#Accuracy\n",
        "import sklearn\n",
        "rf_acc=sklearn.metrics.accuracy_score(Y_Test, Y_Pred)\n",
        "print(rf_acc)"
      ]
    },
    {
      "cell_type": "markdown",
      "metadata": {
        "id": "3uyRVEnv1zSh"
      },
      "source": [
        "####**XG BOOSt**"
      ]
    },
    {
      "cell_type": "code",
      "execution_count": null,
      "metadata": {
        "colab": {
          "base_uri": "https://localhost:8080/"
        },
        "outputId": "ca24801c-7ca5-4113-a74e-d73237fa71c1",
        "id": "Q5x5eF8L1zSh"
      },
      "outputs": [
        {
          "output_type": "stream",
          "name": "stdout",
          "text": [
            "Looking in indexes: https://pypi.org/simple, https://us-python.pkg.dev/colab-wheels/public/simple/\n",
            "Requirement already satisfied: xgboost in /usr/local/lib/python3.7/dist-packages (0.90)\n",
            "Requirement already satisfied: scipy in /usr/local/lib/python3.7/dist-packages (from xgboost) (1.7.3)\n",
            "Requirement already satisfied: numpy in /usr/local/lib/python3.7/dist-packages (from xgboost) (1.21.6)\n"
          ]
        }
      ],
      "source": [
        "!pip install xgboost"
      ]
    },
    {
      "cell_type": "code",
      "execution_count": null,
      "metadata": {
        "colab": {
          "base_uri": "https://localhost:8080/"
        },
        "outputId": "4259a838-5644-4b80-980e-1232f01cf8b2",
        "id": "tGD5onnL1zSh"
      },
      "outputs": [
        {
          "output_type": "execute_result",
          "data": {
            "text/plain": [
              "XGBClassifier()"
            ]
          },
          "metadata": {},
          "execution_count": 146
        }
      ],
      "source": [
        "# fit model no training data\n",
        "from xgboost import XGBClassifier\n",
        "model = XGBClassifier()\n",
        "model.fit(X_Train, Y_Train)"
      ]
    },
    {
      "cell_type": "code",
      "execution_count": null,
      "metadata": {
        "id": "Lzpthkdw1zSh"
      },
      "outputs": [],
      "source": [
        "# make predictions for test data\n",
        "y_pred = model.predict(X_Test)"
      ]
    },
    {
      "cell_type": "code",
      "execution_count": null,
      "metadata": {
        "colab": {
          "base_uri": "https://localhost:8080/"
        },
        "outputId": "46ffa876-3379-44d0-b700-ec3e348fd9c3",
        "id": "NRQpXlIE1zSh"
      },
      "outputs": [
        {
          "output_type": "stream",
          "name": "stdout",
          "text": [
            "[[3239    1]\n",
            " [   0 1760]]\n"
          ]
        }
      ],
      "source": [
        "cm = confusion_matrix(Y_Test, y_pred)\n",
        "print(cm)"
      ]
    },
    {
      "cell_type": "code",
      "execution_count": null,
      "metadata": {
        "colab": {
          "base_uri": "https://localhost:8080/"
        },
        "outputId": "7f9262d0-fba1-44b8-e2b7-a43d2b39aff3",
        "id": "lAuLFKPE1zSh"
      },
      "outputs": [
        {
          "output_type": "execute_result",
          "data": {
            "text/plain": [
              "<matplotlib.axes._subplots.AxesSubplot at 0x7f9ed1d16b50>"
            ]
          },
          "metadata": {},
          "execution_count": 149
        },
        {
          "output_type": "display_data",
          "data": {
            "text/plain": [
              "<Figure size 576x360 with 2 Axes>"
            ],
            "image/png": "[encoded data removed]"
          },
          "metadata": {
            "needs_background": "light"
          }
        }
      ],
      "source": [
        "import matplotlib.pyplot as plt\n",
        "import seaborn as sn\n",
        "\n",
        "conf_matrix=pd.DataFrame(data=cm,columns=['Predicted:0','Predicted:1'],index=['Actual:0','Actual:1'])\n",
        "plt.figure(figsize = (8,5))\n",
        "sn.heatmap(conf_matrix, annot=True,fmt='d')"
      ]
    },
    {
      "cell_type": "code",
      "execution_count": null,
      "metadata": {
        "colab": {
          "base_uri": "https://localhost:8080/"
        },
        "outputId": "429dfa05-2eac-42d1-fe15-ce0c61bfbe91",
        "id": "RZcwFVSt1zSi"
      },
      "outputs": [
        {
          "output_type": "stream",
          "name": "stdout",
          "text": [
            "0.9998\n"
          ]
        }
      ],
      "source": [
        "xg_acc=sklearn.metrics.accuracy_score(Y_Test,y_pred)\n",
        "print(xg_acc)"
      ]
    },
    {
      "cell_type": "markdown",
      "metadata": {
        "id": "4o3_pIfz1zSi"
      },
      "source": [
        "####**EXTRA TREE**"
      ]
    },
    {
      "cell_type": "code",
      "execution_count": null,
      "metadata": {
        "id": "ikBlN4Rv1zSi"
      },
      "outputs": [],
      "source": [
        "from sklearn.ensemble import ExtraTreesClassifier\n",
        "clf = ExtraTreesClassifier(n_estimators=100)"
      ]
    },
    {
      "cell_type": "code",
      "execution_count": null,
      "metadata": {
        "colab": {
          "base_uri": "https://localhost:8080/"
        },
        "outputId": "298acbea-3fe9-495a-e34c-3aafc59e46fa",
        "id": "OxnquWA-1zSi"
      },
      "outputs": [
        {
          "output_type": "execute_result",
          "data": {
            "text/plain": [
              "ExtraTreesClassifier()"
            ]
          },
          "metadata": {},
          "execution_count": 152
        }
      ],
      "source": [
        "clf.fit(X_Train, Y_Train)"
      ]
    },
    {
      "cell_type": "code",
      "execution_count": null,
      "metadata": {
        "id": "kAdszdm41zSi"
      },
      "outputs": [],
      "source": [
        "ypredx = clf.predict(X_Test)"
      ]
    },
    {
      "cell_type": "code",
      "execution_count": null,
      "metadata": {
        "colab": {
          "base_uri": "https://localhost:8080/"
        },
        "outputId": "6bc0f54a-886f-4843-ed87-80752e2d7771",
        "id": "JlBCwpGV1zSi"
      },
      "outputs": [
        {
          "output_type": "stream",
          "name": "stdout",
          "text": [
            "[[3239    1]\n",
            " [   1 1759]]\n"
          ]
        }
      ],
      "source": [
        "cm = confusion_matrix(Y_Test, ypredx)\n",
        "print(cm)"
      ]
    },
    {
      "cell_type": "code",
      "execution_count": null,
      "metadata": {
        "colab": {
          "base_uri": "https://localhost:8080/"
        },
        "outputId": "ca645627-a825-4f30-ab0c-8bda14981e80",
        "id": "ZIEouAUe1zSi"
      },
      "outputs": [
        {
          "output_type": "execute_result",
          "data": {
            "text/plain": [
              "<matplotlib.axes._subplots.AxesSubplot at 0x7f9ed19c0810>"
            ]
          },
          "metadata": {},
          "execution_count": 155
        },
        {
          "output_type": "display_data",
          "data": {
            "text/plain": [
              "<Figure size 576x360 with 2 Axes>"
            ],
            "image/png": "[encoded data removed]"
          },
          "metadata": {
            "needs_background": "light"
          }
        }
      ],
      "source": [
        "import matplotlib.pyplot as plt\n",
        "import seaborn as sn\n",
        "\n",
        "conf_matrix=pd.DataFrame(data=cm,columns=['Predicted:0','Predicted:1'],index=['Actual:0','Actual:1'])\n",
        "plt.figure(figsize = (8,5))\n",
        "sn.heatmap(conf_matrix, annot=True,fmt='d')"
      ]
    },
    {
      "cell_type": "code",
      "execution_count": null,
      "metadata": {
        "colab": {
          "base_uri": "https://localhost:8080/"
        },
        "outputId": "06e9eb23-5df8-4336-f458-d0216d745904",
        "id": "m4CSFwgO1zSj"
      },
      "outputs": [
        {
          "output_type": "stream",
          "name": "stdout",
          "text": [
            "0.9996\n"
          ]
        }
      ],
      "source": [
        "et_acc=sklearn.metrics.accuracy_score(Y_Test,ypredx)\n",
        "print(et_acc)"
      ]
    },
    {
      "cell_type": "markdown",
      "metadata": {
        "id": "z0BbqPi01zSj"
      },
      "source": [
        "####**CAT BOOST**"
      ]
    },
    {
      "cell_type": "code",
      "execution_count": null,
      "metadata": {
        "colab": {
          "base_uri": "https://localhost:8080/"
        },
        "outputId": "9ce823c3-b590-4059-ee60-f6f95297a5ee",
        "id": "LKb7Uavt1zSj"
      },
      "outputs": [
        {
          "output_type": "stream",
          "name": "stdout",
          "text": [
            "Looking in indexes: https://pypi.org/simple, https://us-python.pkg.dev/colab-wheels/public/simple/\n",
            "Requirement already satisfied: catboost in /usr/local/lib/python3.7/dist-packages (1.1.1)\n",
            "Requirement already satisfied: scipy in /usr/local/lib/python3.7/dist-packages (from catboost) (1.7.3)\n",
            "Requirement already satisfied: six in /usr/local/lib/python3.7/dist-packages (from catboost) (1.15.0)\n",
            "Requirement already satisfied: matplotlib in /usr/local/lib/python3.7/dist-packages (from catboost) (3.2.2)\n",
            "Requirement already satisfied: numpy>=1.16.0 in /usr/local/lib/python3.7/dist-packages (from catboost) (1.21.6)\n",
            "Requirement already satisfied: pandas>=0.24.0 in /usr/local/lib/python3.7/dist-packages (from catboost) (1.3.5)\n",
            "Requirement already satisfied: graphviz in /usr/local/lib/python3.7/dist-packages (from catboost) (0.10.1)\n",
            "Requirement already satisfied: plotly in /usr/local/lib/python3.7/dist-packages (from catboost) (5.11.0)\n",
            "Requirement already satisfied: pytz>=2017.3 in /usr/local/lib/python3.7/dist-packages (from pandas>=0.24.0->catboost) (2022.6)\n",
            "Requirement already satisfied: python-dateutil>=2.7.3 in /usr/local/lib/python3.7/dist-packages (from pandas>=0.24.0->catboost) (2.8.2)\n",
            "Requirement already satisfied: cycler>=0.10 in /usr/local/lib/python3.7/dist-packages (from matplotlib->catboost) (0.11.0)\n",
            "Requirement already satisfied: pyparsing!=2.0.4,!=2.1.2,!=2.1.6,>=2.0.1 in /usr/local/lib/python3.7/dist-packages (from matplotlib->catboost) (3.0.9)\n",
            "Requirement already satisfied: kiwisolver>=1.0.1 in /usr/local/lib/python3.7/dist-packages (from matplotlib->catboost) (1.4.4)\n",
            "Requirement already satisfied: typing-extensions in /usr/local/lib/python3.7/dist-packages (from kiwisolver>=1.0.1->matplotlib->catboost) (4.1.1)\n",
            "Requirement already satisfied: tenacity>=6.2.0 in /usr/local/lib/python3.7/dist-packages (from plotly->catboost) (8.1.0)\n"
          ]
        }
      ],
      "source": [
        "!pip install catboost"
      ]
    },
    {
      "cell_type": "code",
      "execution_count": null,
      "metadata": {
        "id": "oC_A6_kD1zSj"
      },
      "outputs": [],
      "source": [
        "import catboost as ctb\n",
        "model_CBC = ctb.CatBoostClassifier()"
      ]
    },
    {
      "cell_type": "code",
      "execution_count": null,
      "metadata": {
        "colab": {
          "base_uri": "https://localhost:8080/"
        },
        "outputId": "6be1d72a-cf5c-4183-ec75-1083fa556c4b",
        "id": "gyeCBu3n1zSj"
      },
      "outputs": [
        {
          "output_type": "stream",
          "name": "stdout",
          "text": [
            "Learning rate set to 0.032743\n",
            "0:\tlearn: 0.6036617\ttotal: 16.7ms\tremaining: 16.7s\n",
            "1:\tlearn: 0.5133784\ttotal: 30.6ms\tremaining: 15.3s\n",
            "2:\tlearn: 0.4522836\ttotal: 46.1ms\tremaining: 15.3s\n",
            "3:\tlearn: 0.3890841\ttotal: 59.6ms\tremaining: 14.8s\n",
            "4:\tlearn: 0.3357219\ttotal: 74.8ms\tremaining: 14.9s\n",
            "5:\tlearn: 0.2920787\ttotal: 103ms\tremaining: 17s\n",
            "6:\tlearn: 0.2523423\ttotal: 118ms\tremaining: 16.8s\n",
            "7:\tlearn: 0.2171402\ttotal: 132ms\tremaining: 16.4s\n",
            "8:\tlearn: 0.1887470\ttotal: 151ms\tremaining: 16.7s\n",
            "9:\tlearn: 0.1638272\ttotal: 197ms\tremaining: 19.5s\n",
            "10:\tlearn: 0.1424807\ttotal: 213ms\tremaining: 19.2s\n",
            "11:\tlearn: 0.1237777\ttotal: 231ms\tremaining: 19s\n",
            "12:\tlearn: 0.1080142\ttotal: 247ms\tremaining: 18.7s\n",
            "13:\tlearn: 0.0960486\ttotal: 261ms\tremaining: 18.4s\n",
            "14:\tlearn: 0.0854331\ttotal: 277ms\tremaining: 18.2s\n",
            "15:\tlearn: 0.0752618\ttotal: 294ms\tremaining: 18.1s\n",
            "16:\tlearn: 0.0663945\ttotal: 311ms\tremaining: 18s\n",
            "17:\tlearn: 0.0595972\ttotal: 325ms\tremaining: 17.7s\n",
            "18:\tlearn: 0.0533475\ttotal: 340ms\tremaining: 17.6s\n",
            "19:\tlearn: 0.0475426\ttotal: 355ms\tremaining: 17.4s\n",
            "20:\tlearn: 0.0429750\ttotal: 369ms\tremaining: 17.2s\n",
            "21:\tlearn: 0.0392622\ttotal: 385ms\tremaining: 17.1s\n",
            "22:\tlearn: 0.0359395\ttotal: 407ms\tremaining: 17.3s\n",
            "23:\tlearn: 0.0323246\ttotal: 421ms\tremaining: 17.1s\n",
            "24:\tlearn: 0.0298469\ttotal: 435ms\tremaining: 17s\n",
            "25:\tlearn: 0.0276419\ttotal: 452ms\tremaining: 16.9s\n",
            "26:\tlearn: 0.0257681\ttotal: 466ms\tremaining: 16.8s\n",
            "27:\tlearn: 0.0238484\ttotal: 483ms\tremaining: 16.8s\n",
            "28:\tlearn: 0.0221956\ttotal: 497ms\tremaining: 16.6s\n",
            "29:\tlearn: 0.0206922\ttotal: 512ms\tremaining: 16.5s\n",
            "30:\tlearn: 0.0191195\ttotal: 527ms\tremaining: 16.5s\n",
            "31:\tlearn: 0.0180925\ttotal: 547ms\tremaining: 16.6s\n",
            "32:\tlearn: 0.0169495\ttotal: 562ms\tremaining: 16.5s\n",
            "33:\tlearn: 0.0161608\ttotal: 576ms\tremaining: 16.4s\n",
            "34:\tlearn: 0.0151797\ttotal: 592ms\tremaining: 16.3s\n",
            "35:\tlearn: 0.0143941\ttotal: 612ms\tremaining: 16.4s\n",
            "36:\tlearn: 0.0138656\ttotal: 625ms\tremaining: 16.3s\n",
            "37:\tlearn: 0.0131692\ttotal: 640ms\tremaining: 16.2s\n",
            "38:\tlearn: 0.0127013\ttotal: 654ms\tremaining: 16.1s\n",
            "39:\tlearn: 0.0120544\ttotal: 669ms\tremaining: 16.1s\n",
            "40:\tlearn: 0.0113456\ttotal: 683ms\tremaining: 16s\n",
            "41:\tlearn: 0.0108667\ttotal: 699ms\tremaining: 15.9s\n",
            "42:\tlearn: 0.0105308\ttotal: 720ms\tremaining: 16s\n",
            "43:\tlearn: 0.0102404\ttotal: 736ms\tremaining: 16s\n",
            "44:\tlearn: 0.0100468\ttotal: 759ms\tremaining: 16.1s\n",
            "45:\tlearn: 0.0095166\ttotal: 773ms\tremaining: 16s\n",
            "46:\tlearn: 0.0092742\ttotal: 788ms\tremaining: 16s\n",
            "47:\tlearn: 0.0090475\ttotal: 803ms\tremaining: 15.9s\n",
            "48:\tlearn: 0.0089147\ttotal: 825ms\tremaining: 16s\n",
            "49:\tlearn: 0.0086032\ttotal: 856ms\tremaining: 16.3s\n",
            "50:\tlearn: 0.0084064\ttotal: 870ms\tremaining: 16.2s\n",
            "51:\tlearn: 0.0081662\ttotal: 886ms\tremaining: 16.1s\n",
            "52:\tlearn: 0.0080408\ttotal: 908ms\tremaining: 16.2s\n",
            "53:\tlearn: 0.0078734\ttotal: 921ms\tremaining: 16.1s\n",
            "54:\tlearn: 0.0076687\ttotal: 935ms\tremaining: 16.1s\n",
            "55:\tlearn: 0.0074702\ttotal: 949ms\tremaining: 16s\n",
            "56:\tlearn: 0.0073169\ttotal: 962ms\tremaining: 15.9s\n",
            "57:\tlearn: 0.0070644\ttotal: 975ms\tremaining: 15.8s\n",
            "58:\tlearn: 0.0068062\ttotal: 988ms\tremaining: 15.8s\n",
            "59:\tlearn: 0.0066326\ttotal: 1s\tremaining: 15.7s\n",
            "60:\tlearn: 0.0064765\ttotal: 1.01s\tremaining: 15.6s\n",
            "61:\tlearn: 0.0063759\ttotal: 1.03s\tremaining: 15.6s\n",
            "62:\tlearn: 0.0062274\ttotal: 1.04s\tremaining: 15.5s\n",
            "63:\tlearn: 0.0061353\ttotal: 1.06s\tremaining: 15.4s\n",
            "64:\tlearn: 0.0060209\ttotal: 1.07s\tremaining: 15.4s\n",
            "65:\tlearn: 0.0059198\ttotal: 1.08s\tremaining: 15.3s\n",
            "66:\tlearn: 0.0058196\ttotal: 1.09s\tremaining: 15.3s\n",
            "67:\tlearn: 0.0057476\ttotal: 1.11s\tremaining: 15.2s\n",
            "68:\tlearn: 0.0055961\ttotal: 1.12s\tremaining: 15.2s\n",
            "69:\tlearn: 0.0054451\ttotal: 1.16s\tremaining: 15.3s\n",
            "70:\tlearn: 0.0053215\ttotal: 1.19s\tremaining: 15.6s\n",
            "71:\tlearn: 0.0052619\ttotal: 1.22s\tremaining: 15.8s\n",
            "72:\tlearn: 0.0052368\ttotal: 1.26s\tremaining: 16s\n",
            "73:\tlearn: 0.0051317\ttotal: 1.29s\tremaining: 16.2s\n",
            "74:\tlearn: 0.0050351\ttotal: 1.33s\tremaining: 16.4s\n",
            "75:\tlearn: 0.0049648\ttotal: 1.37s\tremaining: 16.6s\n",
            "76:\tlearn: 0.0048873\ttotal: 1.41s\tremaining: 16.9s\n",
            "77:\tlearn: 0.0048719\ttotal: 1.44s\tremaining: 17s\n",
            "78:\tlearn: 0.0048651\ttotal: 1.46s\tremaining: 17.1s\n",
            "79:\tlearn: 0.0047630\ttotal: 1.48s\tremaining: 17s\n",
            "80:\tlearn: 0.0047260\ttotal: 1.49s\tremaining: 16.9s\n",
            "81:\tlearn: 0.0046390\ttotal: 1.51s\tremaining: 16.9s\n",
            "82:\tlearn: 0.0046315\ttotal: 1.52s\tremaining: 16.8s\n",
            "83:\tlearn: 0.0045323\ttotal: 1.53s\tremaining: 16.7s\n",
            "84:\tlearn: 0.0045160\ttotal: 1.55s\tremaining: 16.7s\n",
            "85:\tlearn: 0.0044398\ttotal: 1.56s\tremaining: 16.6s\n",
            "86:\tlearn: 0.0044156\ttotal: 1.57s\tremaining: 16.5s\n",
            "87:\tlearn: 0.0043404\ttotal: 1.58s\tremaining: 16.4s\n",
            "88:\tlearn: 0.0042908\ttotal: 1.6s\tremaining: 16.3s\n",
            "89:\tlearn: 0.0042163\ttotal: 1.61s\tremaining: 16.3s\n",
            "90:\tlearn: 0.0041552\ttotal: 1.62s\tremaining: 16.2s\n",
            "91:\tlearn: 0.0041355\ttotal: 1.63s\tremaining: 16.1s\n",
            "92:\tlearn: 0.0041023\ttotal: 1.65s\tremaining: 16.1s\n",
            "93:\tlearn: 0.0040760\ttotal: 1.66s\tremaining: 16s\n",
            "94:\tlearn: 0.0040572\ttotal: 1.67s\tremaining: 15.9s\n",
            "95:\tlearn: 0.0040266\ttotal: 1.69s\tremaining: 15.9s\n",
            "96:\tlearn: 0.0040081\ttotal: 1.7s\tremaining: 15.8s\n",
            "97:\tlearn: 0.0039687\ttotal: 1.71s\tremaining: 15.8s\n",
            "98:\tlearn: 0.0038759\ttotal: 1.73s\tremaining: 15.7s\n",
            "99:\tlearn: 0.0038479\ttotal: 1.74s\tremaining: 15.6s\n",
            "100:\tlearn: 0.0038479\ttotal: 1.75s\tremaining: 15.6s\n",
            "101:\tlearn: 0.0038166\ttotal: 1.76s\tremaining: 15.5s\n",
            "102:\tlearn: 0.0037606\ttotal: 1.77s\tremaining: 15.5s\n",
            "103:\tlearn: 0.0037386\ttotal: 1.79s\tremaining: 15.4s\n",
            "104:\tlearn: 0.0037386\ttotal: 1.8s\tremaining: 15.3s\n",
            "105:\tlearn: 0.0037197\ttotal: 1.81s\tremaining: 15.3s\n",
            "106:\tlearn: 0.0037060\ttotal: 1.83s\tremaining: 15.3s\n",
            "107:\tlearn: 0.0036970\ttotal: 1.86s\tremaining: 15.4s\n",
            "108:\tlearn: 0.0036183\ttotal: 1.87s\tremaining: 15.3s\n",
            "109:\tlearn: 0.0035498\ttotal: 1.89s\tremaining: 15.3s\n",
            "110:\tlearn: 0.0035498\ttotal: 1.9s\tremaining: 15.2s\n",
            "111:\tlearn: 0.0035451\ttotal: 1.91s\tremaining: 15.2s\n",
            "112:\tlearn: 0.0035451\ttotal: 1.92s\tremaining: 15.1s\n",
            "113:\tlearn: 0.0035346\ttotal: 1.94s\tremaining: 15s\n",
            "114:\tlearn: 0.0035280\ttotal: 1.95s\tremaining: 15s\n",
            "115:\tlearn: 0.0035280\ttotal: 1.96s\tremaining: 14.9s\n",
            "116:\tlearn: 0.0034979\ttotal: 1.97s\tremaining: 14.9s\n",
            "117:\tlearn: 0.0034928\ttotal: 1.99s\tremaining: 14.9s\n",
            "118:\tlearn: 0.0034545\ttotal: 2s\tremaining: 14.8s\n",
            "119:\tlearn: 0.0034375\ttotal: 2.01s\tremaining: 14.8s\n",
            "120:\tlearn: 0.0034248\ttotal: 2.02s\tremaining: 14.7s\n",
            "121:\tlearn: 0.0033970\ttotal: 2.04s\tremaining: 14.7s\n",
            "122:\tlearn: 0.0033877\ttotal: 2.05s\tremaining: 14.6s\n",
            "123:\tlearn: 0.0033877\ttotal: 2.07s\tremaining: 14.6s\n",
            "124:\tlearn: 0.0033668\ttotal: 2.08s\tremaining: 14.6s\n",
            "125:\tlearn: 0.0033071\ttotal: 2.09s\tremaining: 14.5s\n",
            "126:\tlearn: 0.0032727\ttotal: 2.11s\tremaining: 14.5s\n",
            "127:\tlearn: 0.0032078\ttotal: 2.13s\tremaining: 14.5s\n",
            "128:\tlearn: 0.0032040\ttotal: 2.14s\tremaining: 14.4s\n",
            "129:\tlearn: 0.0031772\ttotal: 2.15s\tremaining: 14.4s\n",
            "130:\tlearn: 0.0031550\ttotal: 2.16s\tremaining: 14.4s\n",
            "131:\tlearn: 0.0031310\ttotal: 2.18s\tremaining: 14.3s\n",
            "132:\tlearn: 0.0031134\ttotal: 2.19s\tremaining: 14.3s\n",
            "133:\tlearn: 0.0031134\ttotal: 2.2s\tremaining: 14.2s\n",
            "134:\tlearn: 0.0030902\ttotal: 2.21s\tremaining: 14.2s\n",
            "135:\tlearn: 0.0030308\ttotal: 2.23s\tremaining: 14.1s\n",
            "136:\tlearn: 0.0030034\ttotal: 2.24s\tremaining: 14.1s\n",
            "137:\tlearn: 0.0029958\ttotal: 2.25s\tremaining: 14.1s\n",
            "138:\tlearn: 0.0029827\ttotal: 2.26s\tremaining: 14s\n",
            "139:\tlearn: 0.0029568\ttotal: 2.28s\tremaining: 14s\n",
            "140:\tlearn: 0.0029485\ttotal: 2.29s\tremaining: 14s\n",
            "141:\tlearn: 0.0029404\ttotal: 2.31s\tremaining: 13.9s\n",
            "142:\tlearn: 0.0029115\ttotal: 2.32s\tremaining: 13.9s\n",
            "143:\tlearn: 0.0029062\ttotal: 2.34s\tremaining: 13.9s\n",
            "144:\tlearn: 0.0028567\ttotal: 2.35s\tremaining: 13.9s\n",
            "145:\tlearn: 0.0028425\ttotal: 2.36s\tremaining: 13.8s\n",
            "146:\tlearn: 0.0028110\ttotal: 2.37s\tremaining: 13.8s\n",
            "147:\tlearn: 0.0027917\ttotal: 2.39s\tremaining: 13.7s\n",
            "148:\tlearn: 0.0027822\ttotal: 2.4s\tremaining: 13.7s\n",
            "149:\tlearn: 0.0027665\ttotal: 2.41s\tremaining: 13.7s\n",
            "150:\tlearn: 0.0027527\ttotal: 2.42s\tremaining: 13.6s\n",
            "151:\tlearn: 0.0027406\ttotal: 2.44s\tremaining: 13.6s\n",
            "152:\tlearn: 0.0026986\ttotal: 2.45s\tremaining: 13.6s\n",
            "153:\tlearn: 0.0026767\ttotal: 2.46s\tremaining: 13.5s\n",
            "154:\tlearn: 0.0026427\ttotal: 2.48s\tremaining: 13.5s\n",
            "155:\tlearn: 0.0026144\ttotal: 2.5s\tremaining: 13.5s\n",
            "156:\tlearn: 0.0026093\ttotal: 2.51s\tremaining: 13.5s\n",
            "157:\tlearn: 0.0026049\ttotal: 2.52s\tremaining: 13.5s\n",
            "158:\tlearn: 0.0026049\ttotal: 2.54s\tremaining: 13.4s\n",
            "159:\tlearn: 0.0025902\ttotal: 2.55s\tremaining: 13.4s\n",
            "160:\tlearn: 0.0025642\ttotal: 2.56s\tremaining: 13.3s\n",
            "161:\tlearn: 0.0025418\ttotal: 2.57s\tremaining: 13.3s\n",
            "162:\tlearn: 0.0025158\ttotal: 2.59s\tremaining: 13.3s\n",
            "163:\tlearn: 0.0025043\ttotal: 2.6s\tremaining: 13.3s\n",
            "164:\tlearn: 0.0024803\ttotal: 2.61s\tremaining: 13.2s\n",
            "165:\tlearn: 0.0024497\ttotal: 2.63s\tremaining: 13.2s\n",
            "166:\tlearn: 0.0024404\ttotal: 2.64s\tremaining: 13.2s\n",
            "167:\tlearn: 0.0024344\ttotal: 2.65s\tremaining: 13.1s\n",
            "168:\tlearn: 0.0024264\ttotal: 2.66s\tremaining: 13.1s\n",
            "169:\tlearn: 0.0024122\ttotal: 2.68s\tremaining: 13.1s\n",
            "170:\tlearn: 0.0023957\ttotal: 2.69s\tremaining: 13.1s\n",
            "171:\tlearn: 0.0023957\ttotal: 2.7s\tremaining: 13s\n",
            "172:\tlearn: 0.0023785\ttotal: 2.72s\tremaining: 13s\n",
            "173:\tlearn: 0.0023664\ttotal: 2.74s\tremaining: 13s\n",
            "174:\tlearn: 0.0023593\ttotal: 2.75s\tremaining: 13s\n",
            "175:\tlearn: 0.0023259\ttotal: 2.77s\tremaining: 12.9s\n",
            "176:\tlearn: 0.0023155\ttotal: 2.78s\tremaining: 12.9s\n",
            "177:\tlearn: 0.0022795\ttotal: 2.79s\tremaining: 12.9s\n",
            "178:\tlearn: 0.0022662\ttotal: 2.8s\tremaining: 12.9s\n",
            "179:\tlearn: 0.0022568\ttotal: 2.82s\tremaining: 12.8s\n",
            "180:\tlearn: 0.0022568\ttotal: 2.84s\tremaining: 12.8s\n",
            "181:\tlearn: 0.0022238\ttotal: 2.85s\tremaining: 12.8s\n",
            "182:\tlearn: 0.0021922\ttotal: 2.87s\tremaining: 12.8s\n",
            "183:\tlearn: 0.0021741\ttotal: 2.89s\tremaining: 12.8s\n",
            "184:\tlearn: 0.0021474\ttotal: 2.9s\tremaining: 12.8s\n",
            "185:\tlearn: 0.0021374\ttotal: 2.91s\tremaining: 12.8s\n",
            "186:\tlearn: 0.0021028\ttotal: 2.93s\tremaining: 12.7s\n",
            "187:\tlearn: 0.0020883\ttotal: 2.94s\tremaining: 12.7s\n",
            "188:\tlearn: 0.0020883\ttotal: 2.95s\tremaining: 12.7s\n",
            "189:\tlearn: 0.0020632\ttotal: 2.97s\tremaining: 12.7s\n",
            "190:\tlearn: 0.0020541\ttotal: 2.99s\tremaining: 12.7s\n",
            "191:\tlearn: 0.0020541\ttotal: 3s\tremaining: 12.6s\n",
            "192:\tlearn: 0.0020468\ttotal: 3.02s\tremaining: 12.6s\n",
            "193:\tlearn: 0.0020191\ttotal: 3.03s\tremaining: 12.6s\n",
            "194:\tlearn: 0.0020059\ttotal: 3.05s\tremaining: 12.6s\n",
            "195:\tlearn: 0.0019917\ttotal: 3.06s\tremaining: 12.6s\n",
            "196:\tlearn: 0.0019706\ttotal: 3.08s\tremaining: 12.5s\n",
            "197:\tlearn: 0.0019706\ttotal: 3.1s\tremaining: 12.5s\n",
            "198:\tlearn: 0.0019492\ttotal: 3.11s\tremaining: 12.5s\n",
            "199:\tlearn: 0.0019314\ttotal: 3.12s\tremaining: 12.5s\n",
            "200:\tlearn: 0.0019042\ttotal: 3.14s\tremaining: 12.5s\n",
            "201:\tlearn: 0.0018974\ttotal: 3.15s\tremaining: 12.5s\n",
            "202:\tlearn: 0.0018835\ttotal: 3.17s\tremaining: 12.4s\n",
            "203:\tlearn: 0.0018710\ttotal: 3.18s\tremaining: 12.4s\n",
            "204:\tlearn: 0.0018710\ttotal: 3.2s\tremaining: 12.4s\n",
            "205:\tlearn: 0.0018641\ttotal: 3.21s\tremaining: 12.4s\n",
            "206:\tlearn: 0.0018562\ttotal: 3.23s\tremaining: 12.4s\n",
            "207:\tlearn: 0.0018562\ttotal: 3.24s\tremaining: 12.3s\n",
            "208:\tlearn: 0.0018440\ttotal: 3.25s\tremaining: 12.3s\n",
            "209:\tlearn: 0.0018440\ttotal: 3.27s\tremaining: 12.3s\n",
            "210:\tlearn: 0.0018395\ttotal: 3.28s\tremaining: 12.3s\n",
            "211:\tlearn: 0.0018287\ttotal: 3.3s\tremaining: 12.3s\n",
            "212:\tlearn: 0.0018139\ttotal: 3.31s\tremaining: 12.2s\n",
            "213:\tlearn: 0.0018139\ttotal: 3.33s\tremaining: 12.2s\n",
            "214:\tlearn: 0.0018139\ttotal: 3.34s\tremaining: 12.2s\n",
            "215:\tlearn: 0.0018049\ttotal: 3.35s\tremaining: 12.2s\n",
            "216:\tlearn: 0.0017800\ttotal: 3.37s\tremaining: 12.2s\n",
            "217:\tlearn: 0.0017654\ttotal: 3.4s\tremaining: 12.2s\n",
            "218:\tlearn: 0.0017654\ttotal: 3.41s\tremaining: 12.2s\n",
            "219:\tlearn: 0.0017474\ttotal: 3.43s\tremaining: 12.1s\n",
            "220:\tlearn: 0.0017474\ttotal: 3.44s\tremaining: 12.1s\n",
            "221:\tlearn: 0.0017212\ttotal: 3.46s\tremaining: 12.1s\n",
            "222:\tlearn: 0.0017103\ttotal: 3.47s\tremaining: 12.1s\n",
            "223:\tlearn: 0.0017103\ttotal: 3.48s\tremaining: 12.1s\n",
            "224:\tlearn: 0.0017103\ttotal: 3.5s\tremaining: 12.1s\n",
            "225:\tlearn: 0.0017035\ttotal: 3.51s\tremaining: 12s\n",
            "226:\tlearn: 0.0016935\ttotal: 3.53s\tremaining: 12s\n",
            "227:\tlearn: 0.0016935\ttotal: 3.54s\tremaining: 12s\n",
            "228:\tlearn: 0.0016875\ttotal: 3.56s\tremaining: 12s\n",
            "229:\tlearn: 0.0016762\ttotal: 3.57s\tremaining: 12s\n",
            "230:\tlearn: 0.0016556\ttotal: 3.58s\tremaining: 11.9s\n",
            "231:\tlearn: 0.0016556\ttotal: 3.6s\tremaining: 11.9s\n",
            "232:\tlearn: 0.0016556\ttotal: 3.61s\tremaining: 11.9s\n",
            "233:\tlearn: 0.0016556\ttotal: 3.63s\tremaining: 11.9s\n",
            "234:\tlearn: 0.0016556\ttotal: 3.64s\tremaining: 11.8s\n",
            "235:\tlearn: 0.0016556\ttotal: 3.65s\tremaining: 11.8s\n",
            "236:\tlearn: 0.0016556\ttotal: 3.67s\tremaining: 11.8s\n",
            "237:\tlearn: 0.0016556\ttotal: 3.68s\tremaining: 11.8s\n",
            "238:\tlearn: 0.0016556\ttotal: 3.69s\tremaining: 11.8s\n",
            "239:\tlearn: 0.0016313\ttotal: 3.71s\tremaining: 11.8s\n",
            "240:\tlearn: 0.0016314\ttotal: 3.73s\tremaining: 11.7s\n",
            "241:\tlearn: 0.0016212\ttotal: 3.74s\tremaining: 11.7s\n",
            "242:\tlearn: 0.0016132\ttotal: 3.75s\tremaining: 11.7s\n",
            "243:\tlearn: 0.0016132\ttotal: 3.77s\tremaining: 11.7s\n",
            "244:\tlearn: 0.0016132\ttotal: 3.78s\tremaining: 11.6s\n",
            "245:\tlearn: 0.0016084\ttotal: 3.79s\tremaining: 11.6s\n",
            "246:\tlearn: 0.0015991\ttotal: 3.81s\tremaining: 11.6s\n",
            "247:\tlearn: 0.0015991\ttotal: 3.84s\tremaining: 11.6s\n",
            "248:\tlearn: 0.0015990\ttotal: 3.85s\tremaining: 11.6s\n",
            "249:\tlearn: 0.0015909\ttotal: 3.86s\tremaining: 11.6s\n",
            "250:\tlearn: 0.0015910\ttotal: 3.88s\tremaining: 11.6s\n",
            "251:\tlearn: 0.0015698\ttotal: 3.89s\tremaining: 11.6s\n",
            "252:\tlearn: 0.0015590\ttotal: 3.9s\tremaining: 11.5s\n",
            "253:\tlearn: 0.0015552\ttotal: 3.93s\tremaining: 11.5s\n",
            "254:\tlearn: 0.0015552\ttotal: 3.94s\tremaining: 11.5s\n",
            "255:\tlearn: 0.0015143\ttotal: 3.95s\tremaining: 11.5s\n",
            "256:\tlearn: 0.0014986\ttotal: 3.97s\tremaining: 11.5s\n",
            "257:\tlearn: 0.0014865\ttotal: 3.98s\tremaining: 11.5s\n",
            "258:\tlearn: 0.0014698\ttotal: 4s\tremaining: 11.4s\n",
            "259:\tlearn: 0.0014468\ttotal: 4.01s\tremaining: 11.4s\n",
            "260:\tlearn: 0.0014468\ttotal: 4.03s\tremaining: 11.4s\n",
            "261:\tlearn: 0.0014412\ttotal: 4.04s\tremaining: 11.4s\n",
            "262:\tlearn: 0.0014412\ttotal: 4.06s\tremaining: 11.4s\n",
            "263:\tlearn: 0.0014412\ttotal: 4.09s\tremaining: 11.4s\n",
            "264:\tlearn: 0.0014412\ttotal: 4.12s\tremaining: 11.4s\n",
            "265:\tlearn: 0.0014363\ttotal: 4.14s\tremaining: 11.4s\n",
            "266:\tlearn: 0.0014363\ttotal: 4.16s\tremaining: 11.4s\n",
            "267:\tlearn: 0.0014306\ttotal: 4.18s\tremaining: 11.4s\n",
            "268:\tlearn: 0.0014159\ttotal: 4.2s\tremaining: 11.4s\n",
            "269:\tlearn: 0.0014042\ttotal: 4.21s\tremaining: 11.4s\n",
            "270:\tlearn: 0.0013873\ttotal: 4.23s\tremaining: 11.4s\n",
            "271:\tlearn: 0.0013873\ttotal: 4.25s\tremaining: 11.4s\n",
            "272:\tlearn: 0.0013872\ttotal: 4.29s\tremaining: 11.4s\n",
            "273:\tlearn: 0.0013741\ttotal: 4.31s\tremaining: 11.4s\n",
            "274:\tlearn: 0.0013741\ttotal: 4.33s\tremaining: 11.4s\n",
            "275:\tlearn: 0.0013607\ttotal: 4.35s\tremaining: 11.4s\n",
            "276:\tlearn: 0.0013607\ttotal: 4.37s\tremaining: 11.4s\n",
            "277:\tlearn: 0.0013607\ttotal: 4.38s\tremaining: 11.4s\n",
            "278:\tlearn: 0.0013607\ttotal: 4.4s\tremaining: 11.4s\n",
            "279:\tlearn: 0.0013607\ttotal: 4.42s\tremaining: 11.4s\n",
            "280:\tlearn: 0.0013447\ttotal: 4.46s\tremaining: 11.4s\n",
            "281:\tlearn: 0.0013447\ttotal: 4.49s\tremaining: 11.4s\n",
            "282:\tlearn: 0.0013447\ttotal: 4.53s\tremaining: 11.5s\n",
            "283:\tlearn: 0.0013447\ttotal: 4.57s\tremaining: 11.5s\n",
            "284:\tlearn: 0.0013447\ttotal: 4.59s\tremaining: 11.5s\n",
            "285:\tlearn: 0.0013342\ttotal: 4.61s\tremaining: 11.5s\n",
            "286:\tlearn: 0.0013342\ttotal: 4.62s\tremaining: 11.5s\n",
            "287:\tlearn: 0.0013342\ttotal: 4.64s\tremaining: 11.5s\n",
            "288:\tlearn: 0.0013342\ttotal: 4.65s\tremaining: 11.4s\n",
            "289:\tlearn: 0.0013342\ttotal: 4.66s\tremaining: 11.4s\n",
            "290:\tlearn: 0.0013342\ttotal: 4.68s\tremaining: 11.4s\n",
            "291:\tlearn: 0.0013342\ttotal: 4.69s\tremaining: 11.4s\n",
            "292:\tlearn: 0.0013342\ttotal: 4.71s\tremaining: 11.4s\n",
            "293:\tlearn: 0.0013342\ttotal: 4.72s\tremaining: 11.3s\n",
            "294:\tlearn: 0.0013342\ttotal: 4.73s\tremaining: 11.3s\n",
            "295:\tlearn: 0.0013342\ttotal: 4.75s\tremaining: 11.3s\n",
            "296:\tlearn: 0.0013342\ttotal: 4.77s\tremaining: 11.3s\n",
            "297:\tlearn: 0.0013342\ttotal: 4.78s\tremaining: 11.3s\n",
            "298:\tlearn: 0.0013342\ttotal: 4.81s\tremaining: 11.3s\n",
            "299:\tlearn: 0.0013342\ttotal: 4.83s\tremaining: 11.3s\n",
            "300:\tlearn: 0.0013342\ttotal: 4.85s\tremaining: 11.3s\n",
            "301:\tlearn: 0.0013342\ttotal: 4.86s\tremaining: 11.2s\n",
            "302:\tlearn: 0.0013342\ttotal: 4.87s\tremaining: 11.2s\n",
            "303:\tlearn: 0.0013342\ttotal: 4.88s\tremaining: 11.2s\n",
            "304:\tlearn: 0.0013342\ttotal: 4.9s\tremaining: 11.2s\n",
            "305:\tlearn: 0.0013342\ttotal: 4.91s\tremaining: 11.1s\n",
            "306:\tlearn: 0.0013342\ttotal: 4.92s\tremaining: 11.1s\n",
            "307:\tlearn: 0.0013342\ttotal: 4.95s\tremaining: 11.1s\n",
            "308:\tlearn: 0.0013342\ttotal: 4.97s\tremaining: 11.1s\n",
            "309:\tlearn: 0.0013342\ttotal: 4.99s\tremaining: 11.1s\n",
            "310:\tlearn: 0.0013342\ttotal: 5s\tremaining: 11.1s\n",
            "311:\tlearn: 0.0013342\ttotal: 5.01s\tremaining: 11.1s\n",
            "312:\tlearn: 0.0013342\ttotal: 5.03s\tremaining: 11s\n",
            "313:\tlearn: 0.0013341\ttotal: 5.04s\tremaining: 11s\n",
            "314:\tlearn: 0.0013342\ttotal: 5.06s\tremaining: 11s\n",
            "315:\tlearn: 0.0013287\ttotal: 5.07s\tremaining: 11s\n",
            "316:\tlearn: 0.0013287\ttotal: 5.08s\tremaining: 11s\n",
            "317:\tlearn: 0.0013250\ttotal: 5.1s\tremaining: 10.9s\n",
            "318:\tlearn: 0.0013250\ttotal: 5.11s\tremaining: 10.9s\n",
            "319:\tlearn: 0.0013249\ttotal: 5.12s\tremaining: 10.9s\n",
            "320:\tlearn: 0.0013249\ttotal: 5.14s\tremaining: 10.9s\n",
            "321:\tlearn: 0.0013249\ttotal: 5.16s\tremaining: 10.9s\n",
            "322:\tlearn: 0.0013249\ttotal: 5.17s\tremaining: 10.8s\n",
            "323:\tlearn: 0.0013249\ttotal: 5.18s\tremaining: 10.8s\n",
            "324:\tlearn: 0.0013250\ttotal: 5.2s\tremaining: 10.8s\n",
            "325:\tlearn: 0.0013249\ttotal: 5.21s\tremaining: 10.8s\n",
            "326:\tlearn: 0.0013249\ttotal: 5.22s\tremaining: 10.8s\n",
            "327:\tlearn: 0.0013249\ttotal: 5.24s\tremaining: 10.7s\n",
            "328:\tlearn: 0.0013249\ttotal: 5.25s\tremaining: 10.7s\n",
            "329:\tlearn: 0.0013249\ttotal: 5.27s\tremaining: 10.7s\n",
            "330:\tlearn: 0.0013249\ttotal: 5.29s\tremaining: 10.7s\n",
            "331:\tlearn: 0.0013249\ttotal: 5.3s\tremaining: 10.7s\n",
            "332:\tlearn: 0.0013249\ttotal: 5.31s\tremaining: 10.6s\n",
            "333:\tlearn: 0.0013249\ttotal: 5.33s\tremaining: 10.6s\n",
            "334:\tlearn: 0.0013249\ttotal: 5.34s\tremaining: 10.6s\n",
            "335:\tlearn: 0.0013249\ttotal: 5.35s\tremaining: 10.6s\n",
            "336:\tlearn: 0.0013249\ttotal: 5.37s\tremaining: 10.6s\n",
            "337:\tlearn: 0.0013249\ttotal: 5.38s\tremaining: 10.5s\n",
            "338:\tlearn: 0.0013249\ttotal: 5.39s\tremaining: 10.5s\n",
            "339:\tlearn: 0.0013249\ttotal: 5.4s\tremaining: 10.5s\n",
            "340:\tlearn: 0.0013249\ttotal: 5.42s\tremaining: 10.5s\n",
            "341:\tlearn: 0.0013249\ttotal: 5.43s\tremaining: 10.4s\n",
            "342:\tlearn: 0.0013249\ttotal: 5.44s\tremaining: 10.4s\n",
            "343:\tlearn: 0.0013249\ttotal: 5.46s\tremaining: 10.4s\n",
            "344:\tlearn: 0.0013249\ttotal: 5.47s\tremaining: 10.4s\n",
            "345:\tlearn: 0.0013249\ttotal: 5.48s\tremaining: 10.4s\n",
            "346:\tlearn: 0.0013249\ttotal: 5.49s\tremaining: 10.3s\n",
            "347:\tlearn: 0.0013249\ttotal: 5.51s\tremaining: 10.3s\n",
            "348:\tlearn: 0.0013249\ttotal: 5.52s\tremaining: 10.3s\n",
            "349:\tlearn: 0.0013249\ttotal: 5.53s\tremaining: 10.3s\n",
            "350:\tlearn: 0.0013200\ttotal: 5.55s\tremaining: 10.3s\n",
            "351:\tlearn: 0.0013200\ttotal: 5.58s\tremaining: 10.3s\n",
            "352:\tlearn: 0.0013200\ttotal: 5.59s\tremaining: 10.2s\n",
            "353:\tlearn: 0.0013200\ttotal: 5.61s\tremaining: 10.2s\n",
            "354:\tlearn: 0.0013200\ttotal: 5.62s\tremaining: 10.2s\n",
            "355:\tlearn: 0.0013200\ttotal: 5.63s\tremaining: 10.2s\n",
            "356:\tlearn: 0.0013200\ttotal: 5.64s\tremaining: 10.2s\n",
            "357:\tlearn: 0.0013200\ttotal: 5.66s\tremaining: 10.1s\n",
            "358:\tlearn: 0.0013200\ttotal: 5.68s\tremaining: 10.1s\n",
            "359:\tlearn: 0.0013200\ttotal: 5.7s\tremaining: 10.1s\n",
            "360:\tlearn: 0.0013200\ttotal: 5.71s\tremaining: 10.1s\n",
            "361:\tlearn: 0.0013200\ttotal: 5.73s\tremaining: 10.1s\n",
            "362:\tlearn: 0.0013200\ttotal: 5.74s\tremaining: 10.1s\n",
            "363:\tlearn: 0.0013146\ttotal: 5.76s\tremaining: 10.1s\n",
            "364:\tlearn: 0.0013146\ttotal: 5.78s\tremaining: 10.1s\n",
            "365:\tlearn: 0.0013146\ttotal: 5.8s\tremaining: 10s\n",
            "366:\tlearn: 0.0013146\ttotal: 5.82s\tremaining: 10s\n",
            "367:\tlearn: 0.0013146\ttotal: 5.84s\tremaining: 10s\n",
            "368:\tlearn: 0.0013146\ttotal: 5.85s\tremaining: 10s\n",
            "369:\tlearn: 0.0013146\ttotal: 5.86s\tremaining: 9.98s\n",
            "370:\tlearn: 0.0013146\ttotal: 5.88s\tremaining: 9.96s\n",
            "371:\tlearn: 0.0013086\ttotal: 5.89s\tremaining: 9.94s\n",
            "372:\tlearn: 0.0013086\ttotal: 5.9s\tremaining: 9.92s\n",
            "373:\tlearn: 0.0013086\ttotal: 5.92s\tremaining: 9.9s\n",
            "374:\tlearn: 0.0013086\ttotal: 5.93s\tremaining: 9.88s\n",
            "375:\tlearn: 0.0013086\ttotal: 5.94s\tremaining: 9.86s\n",
            "376:\tlearn: 0.0013081\ttotal: 5.96s\tremaining: 9.84s\n",
            "377:\tlearn: 0.0013081\ttotal: 5.97s\tremaining: 9.83s\n",
            "378:\tlearn: 0.0013081\ttotal: 5.99s\tremaining: 9.81s\n",
            "379:\tlearn: 0.0013081\ttotal: 6s\tremaining: 9.79s\n",
            "380:\tlearn: 0.0013081\ttotal: 6.01s\tremaining: 9.77s\n",
            "381:\tlearn: 0.0013081\ttotal: 6.02s\tremaining: 9.75s\n",
            "382:\tlearn: 0.0013081\ttotal: 6.04s\tremaining: 9.72s\n",
            "383:\tlearn: 0.0013080\ttotal: 6.05s\tremaining: 9.7s\n",
            "384:\tlearn: 0.0013080\ttotal: 6.06s\tremaining: 9.69s\n",
            "385:\tlearn: 0.0013080\ttotal: 6.08s\tremaining: 9.67s\n",
            "386:\tlearn: 0.0013080\ttotal: 6.09s\tremaining: 9.65s\n",
            "387:\tlearn: 0.0013080\ttotal: 6.1s\tremaining: 9.63s\n",
            "388:\tlearn: 0.0013080\ttotal: 6.12s\tremaining: 9.61s\n",
            "389:\tlearn: 0.0013080\ttotal: 6.13s\tremaining: 9.59s\n",
            "390:\tlearn: 0.0013080\ttotal: 6.14s\tremaining: 9.57s\n",
            "391:\tlearn: 0.0013080\ttotal: 6.16s\tremaining: 9.56s\n",
            "392:\tlearn: 0.0013080\ttotal: 6.18s\tremaining: 9.54s\n",
            "393:\tlearn: 0.0013080\ttotal: 6.19s\tremaining: 9.52s\n",
            "394:\tlearn: 0.0013080\ttotal: 6.2s\tremaining: 9.5s\n",
            "395:\tlearn: 0.0013080\ttotal: 6.22s\tremaining: 9.48s\n",
            "396:\tlearn: 0.0013080\ttotal: 6.23s\tremaining: 9.46s\n",
            "397:\tlearn: 0.0013080\ttotal: 6.24s\tremaining: 9.44s\n",
            "398:\tlearn: 0.0013080\ttotal: 6.26s\tremaining: 9.43s\n",
            "399:\tlearn: 0.0013080\ttotal: 6.27s\tremaining: 9.41s\n",
            "400:\tlearn: 0.0013080\ttotal: 6.29s\tremaining: 9.39s\n",
            "401:\tlearn: 0.0013077\ttotal: 6.3s\tremaining: 9.37s\n",
            "402:\tlearn: 0.0013077\ttotal: 6.31s\tremaining: 9.35s\n",
            "403:\tlearn: 0.0013070\ttotal: 6.33s\tremaining: 9.33s\n",
            "404:\tlearn: 0.0013070\ttotal: 6.34s\tremaining: 9.31s\n",
            "405:\tlearn: 0.0013070\ttotal: 6.35s\tremaining: 9.29s\n",
            "406:\tlearn: 0.0013070\ttotal: 6.36s\tremaining: 9.27s\n",
            "407:\tlearn: 0.0013070\ttotal: 6.38s\tremaining: 9.26s\n",
            "408:\tlearn: 0.0013059\ttotal: 6.4s\tremaining: 9.25s\n",
            "409:\tlearn: 0.0013059\ttotal: 6.41s\tremaining: 9.22s\n",
            "410:\tlearn: 0.0013059\ttotal: 6.42s\tremaining: 9.21s\n",
            "411:\tlearn: 0.0013059\ttotal: 6.44s\tremaining: 9.19s\n",
            "412:\tlearn: 0.0013059\ttotal: 6.45s\tremaining: 9.17s\n",
            "413:\tlearn: 0.0013059\ttotal: 6.46s\tremaining: 9.15s\n",
            "414:\tlearn: 0.0013059\ttotal: 6.47s\tremaining: 9.13s\n",
            "415:\tlearn: 0.0013059\ttotal: 6.49s\tremaining: 9.11s\n",
            "416:\tlearn: 0.0013059\ttotal: 6.5s\tremaining: 9.09s\n",
            "417:\tlearn: 0.0013059\ttotal: 6.52s\tremaining: 9.07s\n",
            "418:\tlearn: 0.0013059\ttotal: 6.53s\tremaining: 9.05s\n",
            "419:\tlearn: 0.0013059\ttotal: 6.54s\tremaining: 9.04s\n",
            "420:\tlearn: 0.0013059\ttotal: 6.55s\tremaining: 9.02s\n",
            "421:\tlearn: 0.0013059\ttotal: 6.57s\tremaining: 9s\n",
            "422:\tlearn: 0.0013059\ttotal: 6.59s\tremaining: 8.99s\n",
            "423:\tlearn: 0.0013059\ttotal: 6.6s\tremaining: 8.97s\n",
            "424:\tlearn: 0.0013058\ttotal: 6.61s\tremaining: 8.95s\n",
            "425:\tlearn: 0.0013058\ttotal: 6.63s\tremaining: 8.94s\n",
            "426:\tlearn: 0.0013058\ttotal: 6.65s\tremaining: 8.92s\n",
            "427:\tlearn: 0.0013058\ttotal: 6.66s\tremaining: 8.9s\n",
            "428:\tlearn: 0.0013058\ttotal: 6.67s\tremaining: 8.88s\n",
            "429:\tlearn: 0.0013058\ttotal: 6.69s\tremaining: 8.86s\n",
            "430:\tlearn: 0.0013058\ttotal: 6.7s\tremaining: 8.84s\n",
            "431:\tlearn: 0.0013058\ttotal: 6.71s\tremaining: 8.82s\n",
            "432:\tlearn: 0.0013058\ttotal: 6.72s\tremaining: 8.8s\n",
            "433:\tlearn: 0.0013058\ttotal: 6.74s\tremaining: 8.79s\n",
            "434:\tlearn: 0.0013047\ttotal: 6.75s\tremaining: 8.77s\n",
            "435:\tlearn: 0.0013047\ttotal: 6.76s\tremaining: 8.75s\n",
            "436:\tlearn: 0.0013047\ttotal: 6.78s\tremaining: 8.74s\n",
            "437:\tlearn: 0.0013047\ttotal: 6.81s\tremaining: 8.74s\n",
            "438:\tlearn: 0.0013041\ttotal: 6.83s\tremaining: 8.73s\n",
            "439:\tlearn: 0.0013041\ttotal: 6.84s\tremaining: 8.71s\n",
            "440:\tlearn: 0.0013041\ttotal: 6.86s\tremaining: 8.69s\n",
            "441:\tlearn: 0.0013041\ttotal: 6.87s\tremaining: 8.67s\n",
            "442:\tlearn: 0.0013041\ttotal: 6.88s\tremaining: 8.65s\n",
            "443:\tlearn: 0.0013041\ttotal: 6.91s\tremaining: 8.65s\n",
            "444:\tlearn: 0.0013041\ttotal: 6.92s\tremaining: 8.63s\n",
            "445:\tlearn: 0.0013041\ttotal: 6.94s\tremaining: 8.62s\n",
            "446:\tlearn: 0.0013041\ttotal: 6.95s\tremaining: 8.6s\n",
            "447:\tlearn: 0.0013041\ttotal: 6.97s\tremaining: 8.58s\n",
            "448:\tlearn: 0.0013041\ttotal: 6.98s\tremaining: 8.57s\n",
            "449:\tlearn: 0.0013041\ttotal: 6.99s\tremaining: 8.55s\n",
            "450:\tlearn: 0.0013041\ttotal: 7.01s\tremaining: 8.53s\n",
            "451:\tlearn: 0.0013041\ttotal: 7.03s\tremaining: 8.52s\n",
            "452:\tlearn: 0.0013040\ttotal: 7.04s\tremaining: 8.5s\n",
            "453:\tlearn: 0.0013040\ttotal: 7.05s\tremaining: 8.48s\n",
            "454:\tlearn: 0.0013040\ttotal: 7.06s\tremaining: 8.46s\n",
            "455:\tlearn: 0.0013040\ttotal: 7.08s\tremaining: 8.44s\n",
            "456:\tlearn: 0.0013040\ttotal: 7.09s\tremaining: 8.43s\n",
            "457:\tlearn: 0.0013040\ttotal: 7.1s\tremaining: 8.41s\n",
            "458:\tlearn: 0.0013040\ttotal: 7.12s\tremaining: 8.39s\n",
            "459:\tlearn: 0.0013040\ttotal: 7.13s\tremaining: 8.37s\n",
            "460:\tlearn: 0.0013040\ttotal: 7.14s\tremaining: 8.35s\n",
            "461:\tlearn: 0.0013040\ttotal: 7.15s\tremaining: 8.33s\n",
            "462:\tlearn: 0.0013040\ttotal: 7.17s\tremaining: 8.31s\n",
            "463:\tlearn: 0.0013040\ttotal: 7.18s\tremaining: 8.29s\n",
            "464:\tlearn: 0.0013040\ttotal: 7.19s\tremaining: 8.28s\n",
            "465:\tlearn: 0.0013040\ttotal: 7.21s\tremaining: 8.26s\n",
            "466:\tlearn: 0.0013040\ttotal: 7.22s\tremaining: 8.25s\n",
            "467:\tlearn: 0.0013040\ttotal: 7.24s\tremaining: 8.23s\n",
            "468:\tlearn: 0.0013040\ttotal: 7.25s\tremaining: 8.21s\n",
            "469:\tlearn: 0.0013040\ttotal: 7.26s\tremaining: 8.19s\n",
            "470:\tlearn: 0.0013040\ttotal: 7.28s\tremaining: 8.17s\n",
            "471:\tlearn: 0.0013040\ttotal: 7.29s\tremaining: 8.15s\n",
            "472:\tlearn: 0.0013040\ttotal: 7.3s\tremaining: 8.14s\n",
            "473:\tlearn: 0.0013040\ttotal: 7.32s\tremaining: 8.12s\n",
            "474:\tlearn: 0.0013039\ttotal: 7.33s\tremaining: 8.1s\n",
            "475:\tlearn: 0.0013039\ttotal: 7.34s\tremaining: 8.08s\n",
            "476:\tlearn: 0.0013039\ttotal: 7.35s\tremaining: 8.06s\n",
            "477:\tlearn: 0.0013039\ttotal: 7.37s\tremaining: 8.04s\n",
            "478:\tlearn: 0.0013039\ttotal: 7.38s\tremaining: 8.03s\n",
            "479:\tlearn: 0.0013039\ttotal: 7.39s\tremaining: 8.01s\n",
            "480:\tlearn: 0.0013039\ttotal: 7.4s\tremaining: 7.99s\n",
            "481:\tlearn: 0.0013039\ttotal: 7.42s\tremaining: 7.97s\n",
            "482:\tlearn: 0.0013039\ttotal: 7.43s\tremaining: 7.96s\n",
            "483:\tlearn: 0.0013039\ttotal: 7.45s\tremaining: 7.94s\n",
            "484:\tlearn: 0.0013039\ttotal: 7.46s\tremaining: 7.92s\n",
            "485:\tlearn: 0.0013039\ttotal: 7.47s\tremaining: 7.91s\n",
            "486:\tlearn: 0.0013039\ttotal: 7.49s\tremaining: 7.89s\n",
            "487:\tlearn: 0.0013039\ttotal: 7.5s\tremaining: 7.87s\n",
            "488:\tlearn: 0.0013039\ttotal: 7.51s\tremaining: 7.85s\n",
            "489:\tlearn: 0.0013039\ttotal: 7.53s\tremaining: 7.83s\n",
            "490:\tlearn: 0.0013039\ttotal: 7.54s\tremaining: 7.82s\n",
            "491:\tlearn: 0.0013039\ttotal: 7.56s\tremaining: 7.8s\n",
            "492:\tlearn: 0.0013039\ttotal: 7.57s\tremaining: 7.79s\n",
            "493:\tlearn: 0.0013039\ttotal: 7.58s\tremaining: 7.77s\n",
            "494:\tlearn: 0.0013039\ttotal: 7.6s\tremaining: 7.75s\n",
            "495:\tlearn: 0.0013039\ttotal: 7.61s\tremaining: 7.73s\n",
            "496:\tlearn: 0.0013039\ttotal: 7.62s\tremaining: 7.71s\n",
            "497:\tlearn: 0.0013039\ttotal: 7.64s\tremaining: 7.7s\n",
            "498:\tlearn: 0.0013038\ttotal: 7.69s\tremaining: 7.72s\n",
            "499:\tlearn: 0.0013038\ttotal: 7.73s\tremaining: 7.73s\n",
            "500:\tlearn: 0.0013038\ttotal: 7.79s\tremaining: 7.76s\n",
            "501:\tlearn: 0.0013038\ttotal: 7.85s\tremaining: 7.79s\n",
            "502:\tlearn: 0.0013038\ttotal: 7.88s\tremaining: 7.79s\n",
            "503:\tlearn: 0.0013034\ttotal: 7.91s\tremaining: 7.78s\n",
            "504:\tlearn: 0.0013034\ttotal: 7.92s\tremaining: 7.77s\n",
            "505:\tlearn: 0.0013034\ttotal: 7.94s\tremaining: 7.75s\n",
            "506:\tlearn: 0.0013034\ttotal: 7.98s\tremaining: 7.76s\n",
            "507:\tlearn: 0.0013034\ttotal: 8.02s\tremaining: 7.76s\n",
            "508:\tlearn: 0.0013034\ttotal: 8.04s\tremaining: 7.76s\n",
            "509:\tlearn: 0.0013034\ttotal: 8.08s\tremaining: 7.77s\n",
            "510:\tlearn: 0.0013034\ttotal: 8.11s\tremaining: 7.76s\n",
            "511:\tlearn: 0.0013034\ttotal: 8.13s\tremaining: 7.75s\n",
            "512:\tlearn: 0.0013034\ttotal: 8.17s\tremaining: 7.76s\n",
            "513:\tlearn: 0.0013034\ttotal: 8.2s\tremaining: 7.75s\n",
            "514:\tlearn: 0.0013034\ttotal: 8.23s\tremaining: 7.75s\n",
            "515:\tlearn: 0.0013034\ttotal: 8.27s\tremaining: 7.76s\n",
            "516:\tlearn: 0.0013034\ttotal: 8.3s\tremaining: 7.75s\n",
            "517:\tlearn: 0.0013034\ttotal: 8.34s\tremaining: 7.76s\n",
            "518:\tlearn: 0.0013034\ttotal: 8.37s\tremaining: 7.76s\n",
            "519:\tlearn: 0.0013034\ttotal: 8.39s\tremaining: 7.74s\n",
            "520:\tlearn: 0.0013034\ttotal: 8.4s\tremaining: 7.73s\n",
            "521:\tlearn: 0.0013034\ttotal: 8.42s\tremaining: 7.71s\n",
            "522:\tlearn: 0.0013034\ttotal: 8.44s\tremaining: 7.7s\n",
            "523:\tlearn: 0.0013034\ttotal: 8.46s\tremaining: 7.68s\n",
            "524:\tlearn: 0.0013034\ttotal: 8.49s\tremaining: 7.68s\n",
            "525:\tlearn: 0.0013034\ttotal: 8.51s\tremaining: 7.67s\n",
            "526:\tlearn: 0.0013034\ttotal: 8.53s\tremaining: 7.66s\n",
            "527:\tlearn: 0.0013034\ttotal: 8.55s\tremaining: 7.64s\n",
            "528:\tlearn: 0.0013034\ttotal: 8.57s\tremaining: 7.63s\n",
            "529:\tlearn: 0.0013028\ttotal: 8.58s\tremaining: 7.61s\n",
            "530:\tlearn: 0.0013028\ttotal: 8.6s\tremaining: 7.6s\n",
            "531:\tlearn: 0.0013028\ttotal: 8.63s\tremaining: 7.59s\n",
            "532:\tlearn: 0.0013028\ttotal: 8.71s\tremaining: 7.63s\n",
            "533:\tlearn: 0.0013028\ttotal: 8.74s\tremaining: 7.63s\n",
            "534:\tlearn: 0.0013028\ttotal: 8.79s\tremaining: 7.64s\n",
            "535:\tlearn: 0.0013028\ttotal: 8.82s\tremaining: 7.64s\n",
            "536:\tlearn: 0.0013028\ttotal: 8.86s\tremaining: 7.63s\n",
            "537:\tlearn: 0.0013028\ttotal: 8.89s\tremaining: 7.64s\n",
            "538:\tlearn: 0.0013028\ttotal: 8.93s\tremaining: 7.64s\n",
            "539:\tlearn: 0.0013028\ttotal: 8.97s\tremaining: 7.64s\n",
            "540:\tlearn: 0.0013028\ttotal: 9s\tremaining: 7.64s\n",
            "541:\tlearn: 0.0013028\ttotal: 9.04s\tremaining: 7.63s\n",
            "542:\tlearn: 0.0013028\ttotal: 9.05s\tremaining: 7.62s\n",
            "543:\tlearn: 0.0013028\ttotal: 9.06s\tremaining: 7.6s\n",
            "544:\tlearn: 0.0013028\ttotal: 9.09s\tremaining: 7.59s\n",
            "545:\tlearn: 0.0013028\ttotal: 9.14s\tremaining: 7.6s\n",
            "546:\tlearn: 0.0013028\ttotal: 9.17s\tremaining: 7.59s\n",
            "547:\tlearn: 0.0013028\ttotal: 9.2s\tremaining: 7.59s\n",
            "548:\tlearn: 0.0013028\ttotal: 9.23s\tremaining: 7.58s\n",
            "549:\tlearn: 0.0013028\ttotal: 9.26s\tremaining: 7.58s\n",
            "550:\tlearn: 0.0013028\ttotal: 9.29s\tremaining: 7.57s\n",
            "551:\tlearn: 0.0013028\ttotal: 9.32s\tremaining: 7.56s\n",
            "552:\tlearn: 0.0013028\ttotal: 9.36s\tremaining: 7.56s\n",
            "553:\tlearn: 0.0013028\ttotal: 9.38s\tremaining: 7.55s\n",
            "554:\tlearn: 0.0013028\ttotal: 9.39s\tremaining: 7.53s\n",
            "555:\tlearn: 0.0013028\ttotal: 9.41s\tremaining: 7.51s\n",
            "556:\tlearn: 0.0013028\ttotal: 9.44s\tremaining: 7.5s\n",
            "557:\tlearn: 0.0013028\ttotal: 9.48s\tremaining: 7.51s\n",
            "558:\tlearn: 0.0013028\ttotal: 9.5s\tremaining: 7.49s\n",
            "559:\tlearn: 0.0013028\ttotal: 9.51s\tremaining: 7.47s\n",
            "560:\tlearn: 0.0013028\ttotal: 9.53s\tremaining: 7.46s\n",
            "561:\tlearn: 0.0013028\ttotal: 9.57s\tremaining: 7.46s\n",
            "562:\tlearn: 0.0013028\ttotal: 9.58s\tremaining: 7.44s\n",
            "563:\tlearn: 0.0013028\ttotal: 9.6s\tremaining: 7.42s\n",
            "564:\tlearn: 0.0013028\ttotal: 9.61s\tremaining: 7.4s\n",
            "565:\tlearn: 0.0013028\ttotal: 9.63s\tremaining: 7.38s\n",
            "566:\tlearn: 0.0013028\ttotal: 9.67s\tremaining: 7.38s\n",
            "567:\tlearn: 0.0013028\ttotal: 9.72s\tremaining: 7.39s\n",
            "568:\tlearn: 0.0013028\ttotal: 9.77s\tremaining: 7.4s\n",
            "569:\tlearn: 0.0013028\ttotal: 9.81s\tremaining: 7.4s\n",
            "570:\tlearn: 0.0013028\ttotal: 9.85s\tremaining: 7.4s\n",
            "571:\tlearn: 0.0013028\ttotal: 9.87s\tremaining: 7.39s\n",
            "572:\tlearn: 0.0013028\ttotal: 9.92s\tremaining: 7.39s\n",
            "573:\tlearn: 0.0013028\ttotal: 9.93s\tremaining: 7.37s\n",
            "574:\tlearn: 0.0013028\ttotal: 9.95s\tremaining: 7.35s\n",
            "575:\tlearn: 0.0013028\ttotal: 9.96s\tremaining: 7.33s\n",
            "576:\tlearn: 0.0013028\ttotal: 9.99s\tremaining: 7.32s\n",
            "577:\tlearn: 0.0013028\ttotal: 10s\tremaining: 7.3s\n",
            "578:\tlearn: 0.0013028\ttotal: 10s\tremaining: 7.28s\n",
            "579:\tlearn: 0.0013028\ttotal: 10s\tremaining: 7.26s\n",
            "580:\tlearn: 0.0013028\ttotal: 10.1s\tremaining: 7.25s\n",
            "581:\tlearn: 0.0013027\ttotal: 10.1s\tremaining: 7.25s\n",
            "582:\tlearn: 0.0013027\ttotal: 10.1s\tremaining: 7.24s\n",
            "583:\tlearn: 0.0013028\ttotal: 10.1s\tremaining: 7.23s\n",
            "584:\tlearn: 0.0013027\ttotal: 10.2s\tremaining: 7.22s\n",
            "585:\tlearn: 0.0013027\ttotal: 10.2s\tremaining: 7.2s\n",
            "586:\tlearn: 0.0013028\ttotal: 10.2s\tremaining: 7.18s\n",
            "587:\tlearn: 0.0013027\ttotal: 10.2s\tremaining: 7.18s\n",
            "588:\tlearn: 0.0013027\ttotal: 10.3s\tremaining: 7.18s\n",
            "589:\tlearn: 0.0013027\ttotal: 10.3s\tremaining: 7.16s\n",
            "590:\tlearn: 0.0013027\ttotal: 10.3s\tremaining: 7.14s\n",
            "591:\tlearn: 0.0013027\ttotal: 10.3s\tremaining: 7.12s\n",
            "592:\tlearn: 0.0013027\ttotal: 10.3s\tremaining: 7.1s\n",
            "593:\tlearn: 0.0013027\ttotal: 10.4s\tremaining: 7.08s\n",
            "594:\tlearn: 0.0013027\ttotal: 10.4s\tremaining: 7.08s\n",
            "595:\tlearn: 0.0013027\ttotal: 10.4s\tremaining: 7.08s\n",
            "596:\tlearn: 0.0013027\ttotal: 10.5s\tremaining: 7.08s\n",
            "597:\tlearn: 0.0013027\ttotal: 10.5s\tremaining: 7.07s\n",
            "598:\tlearn: 0.0013027\ttotal: 10.5s\tremaining: 7.05s\n",
            "599:\tlearn: 0.0013027\ttotal: 10.6s\tremaining: 7.04s\n",
            "600:\tlearn: 0.0013027\ttotal: 10.6s\tremaining: 7.03s\n",
            "601:\tlearn: 0.0013027\ttotal: 10.6s\tremaining: 7.03s\n",
            "602:\tlearn: 0.0013027\ttotal: 10.7s\tremaining: 7.01s\n",
            "603:\tlearn: 0.0013027\ttotal: 10.7s\tremaining: 7s\n",
            "604:\tlearn: 0.0013027\ttotal: 10.7s\tremaining: 6.98s\n",
            "605:\tlearn: 0.0013027\ttotal: 10.7s\tremaining: 6.96s\n",
            "606:\tlearn: 0.0013027\ttotal: 10.7s\tremaining: 6.94s\n",
            "607:\tlearn: 0.0013027\ttotal: 10.7s\tremaining: 6.92s\n",
            "608:\tlearn: 0.0013027\ttotal: 10.7s\tremaining: 6.9s\n",
            "609:\tlearn: 0.0013027\ttotal: 10.8s\tremaining: 6.89s\n",
            "610:\tlearn: 0.0013027\ttotal: 10.8s\tremaining: 6.88s\n",
            "611:\tlearn: 0.0013027\ttotal: 10.8s\tremaining: 6.86s\n",
            "612:\tlearn: 0.0013027\ttotal: 10.8s\tremaining: 6.84s\n",
            "613:\tlearn: 0.0013027\ttotal: 10.9s\tremaining: 6.82s\n",
            "614:\tlearn: 0.0013027\ttotal: 10.9s\tremaining: 6.82s\n",
            "615:\tlearn: 0.0013026\ttotal: 10.9s\tremaining: 6.8s\n",
            "616:\tlearn: 0.0013026\ttotal: 10.9s\tremaining: 6.78s\n",
            "617:\tlearn: 0.0013026\ttotal: 10.9s\tremaining: 6.76s\n",
            "618:\tlearn: 0.0013026\ttotal: 11s\tremaining: 6.75s\n",
            "619:\tlearn: 0.0013026\ttotal: 11s\tremaining: 6.76s\n",
            "620:\tlearn: 0.0013026\ttotal: 11.1s\tremaining: 6.76s\n",
            "621:\tlearn: 0.0013026\ttotal: 11.1s\tremaining: 6.75s\n",
            "622:\tlearn: 0.0013026\ttotal: 11.1s\tremaining: 6.74s\n",
            "623:\tlearn: 0.0013026\ttotal: 11.2s\tremaining: 6.74s\n",
            "624:\tlearn: 0.0013026\ttotal: 11.2s\tremaining: 6.73s\n",
            "625:\tlearn: 0.0013026\ttotal: 11.3s\tremaining: 6.72s\n",
            "626:\tlearn: 0.0013026\ttotal: 11.3s\tremaining: 6.71s\n",
            "627:\tlearn: 0.0013026\ttotal: 11.4s\tremaining: 6.73s\n",
            "628:\tlearn: 0.0013026\ttotal: 11.4s\tremaining: 6.73s\n",
            "629:\tlearn: 0.0013026\ttotal: 11.5s\tremaining: 6.73s\n",
            "630:\tlearn: 0.0013026\ttotal: 11.5s\tremaining: 6.71s\n",
            "631:\tlearn: 0.0013026\ttotal: 11.5s\tremaining: 6.69s\n",
            "632:\tlearn: 0.0013026\ttotal: 11.5s\tremaining: 6.67s\n",
            "633:\tlearn: 0.0013026\ttotal: 11.5s\tremaining: 6.66s\n",
            "634:\tlearn: 0.0013026\ttotal: 11.6s\tremaining: 6.65s\n",
            "635:\tlearn: 0.0013026\ttotal: 11.6s\tremaining: 6.64s\n",
            "636:\tlearn: 0.0013026\ttotal: 11.6s\tremaining: 6.62s\n",
            "637:\tlearn: 0.0013026\ttotal: 11.6s\tremaining: 6.61s\n",
            "638:\tlearn: 0.0013026\ttotal: 11.7s\tremaining: 6.61s\n",
            "639:\tlearn: 0.0013026\ttotal: 11.7s\tremaining: 6.6s\n",
            "640:\tlearn: 0.0013026\ttotal: 11.8s\tremaining: 6.6s\n",
            "641:\tlearn: 0.0013026\ttotal: 11.8s\tremaining: 6.59s\n",
            "642:\tlearn: 0.0013026\ttotal: 11.9s\tremaining: 6.58s\n",
            "643:\tlearn: 0.0013026\ttotal: 11.9s\tremaining: 6.58s\n",
            "644:\tlearn: 0.0013026\ttotal: 11.9s\tremaining: 6.58s\n",
            "645:\tlearn: 0.0013026\ttotal: 12s\tremaining: 6.57s\n",
            "646:\tlearn: 0.0013026\ttotal: 12s\tremaining: 6.56s\n",
            "647:\tlearn: 0.0013026\ttotal: 12s\tremaining: 6.53s\n",
            "648:\tlearn: 0.0013026\ttotal: 12s\tremaining: 6.51s\n",
            "649:\tlearn: 0.0013026\ttotal: 12.1s\tremaining: 6.5s\n",
            "650:\tlearn: 0.0013026\ttotal: 12.1s\tremaining: 6.49s\n",
            "651:\tlearn: 0.0013026\ttotal: 12.1s\tremaining: 6.48s\n",
            "652:\tlearn: 0.0013026\ttotal: 12.2s\tremaining: 6.47s\n",
            "653:\tlearn: 0.0013026\ttotal: 12.2s\tremaining: 6.46s\n",
            "654:\tlearn: 0.0013026\ttotal: 12.2s\tremaining: 6.45s\n",
            "655:\tlearn: 0.0013025\ttotal: 12.3s\tremaining: 6.43s\n",
            "656:\tlearn: 0.0013025\ttotal: 12.3s\tremaining: 6.41s\n",
            "657:\tlearn: 0.0013025\ttotal: 12.3s\tremaining: 6.4s\n",
            "658:\tlearn: 0.0013025\ttotal: 12.3s\tremaining: 6.38s\n",
            "659:\tlearn: 0.0013025\ttotal: 12.4s\tremaining: 6.36s\n",
            "660:\tlearn: 0.0013025\ttotal: 12.4s\tremaining: 6.34s\n",
            "661:\tlearn: 0.0013025\ttotal: 12.4s\tremaining: 6.33s\n",
            "662:\tlearn: 0.0013025\ttotal: 12.4s\tremaining: 6.31s\n",
            "663:\tlearn: 0.0013025\ttotal: 12.4s\tremaining: 6.29s\n",
            "664:\tlearn: 0.0013025\ttotal: 12.4s\tremaining: 6.27s\n",
            "665:\tlearn: 0.0013025\ttotal: 12.5s\tremaining: 6.25s\n",
            "666:\tlearn: 0.0013025\ttotal: 12.5s\tremaining: 6.24s\n",
            "667:\tlearn: 0.0013025\ttotal: 12.5s\tremaining: 6.23s\n",
            "668:\tlearn: 0.0013025\ttotal: 12.6s\tremaining: 6.21s\n",
            "669:\tlearn: 0.0013025\ttotal: 12.6s\tremaining: 6.19s\n",
            "670:\tlearn: 0.0013025\ttotal: 12.6s\tremaining: 6.17s\n",
            "671:\tlearn: 0.0013025\ttotal: 12.6s\tremaining: 6.15s\n",
            "672:\tlearn: 0.0013025\ttotal: 12.6s\tremaining: 6.14s\n",
            "673:\tlearn: 0.0013025\ttotal: 12.6s\tremaining: 6.12s\n",
            "674:\tlearn: 0.0013025\ttotal: 12.7s\tremaining: 6.1s\n",
            "675:\tlearn: 0.0013025\ttotal: 12.7s\tremaining: 6.08s\n",
            "676:\tlearn: 0.0013025\ttotal: 12.7s\tremaining: 6.07s\n",
            "677:\tlearn: 0.0013025\ttotal: 12.8s\tremaining: 6.06s\n",
            "678:\tlearn: 0.0013025\ttotal: 12.8s\tremaining: 6.04s\n",
            "679:\tlearn: 0.0013025\ttotal: 12.8s\tremaining: 6.03s\n",
            "680:\tlearn: 0.0013025\ttotal: 12.9s\tremaining: 6.02s\n",
            "681:\tlearn: 0.0013025\ttotal: 12.9s\tremaining: 6.01s\n",
            "682:\tlearn: 0.0013025\ttotal: 12.9s\tremaining: 6s\n",
            "683:\tlearn: 0.0013025\ttotal: 13s\tremaining: 5.99s\n",
            "684:\tlearn: 0.0013025\ttotal: 13s\tremaining: 5.97s\n",
            "685:\tlearn: 0.0013025\ttotal: 13s\tremaining: 5.96s\n",
            "686:\tlearn: 0.0013025\ttotal: 13.1s\tremaining: 5.95s\n",
            "687:\tlearn: 0.0013025\ttotal: 13.1s\tremaining: 5.93s\n",
            "688:\tlearn: 0.0013025\ttotal: 13.1s\tremaining: 5.92s\n",
            "689:\tlearn: 0.0013025\ttotal: 13.2s\tremaining: 5.91s\n",
            "690:\tlearn: 0.0013025\ttotal: 13.2s\tremaining: 5.9s\n",
            "691:\tlearn: 0.0013025\ttotal: 13.2s\tremaining: 5.89s\n",
            "692:\tlearn: 0.0013025\ttotal: 13.3s\tremaining: 5.88s\n",
            "693:\tlearn: 0.0013025\ttotal: 13.3s\tremaining: 5.86s\n",
            "694:\tlearn: 0.0013025\ttotal: 13.3s\tremaining: 5.86s\n",
            "695:\tlearn: 0.0013025\ttotal: 13.4s\tremaining: 5.85s\n",
            "696:\tlearn: 0.0013025\ttotal: 13.4s\tremaining: 5.83s\n",
            "697:\tlearn: 0.0013025\ttotal: 13.5s\tremaining: 5.82s\n",
            "698:\tlearn: 0.0013025\ttotal: 13.5s\tremaining: 5.8s\n",
            "699:\tlearn: 0.0013025\ttotal: 13.5s\tremaining: 5.79s\n",
            "700:\tlearn: 0.0013025\ttotal: 13.5s\tremaining: 5.78s\n",
            "701:\tlearn: 0.0013025\ttotal: 13.6s\tremaining: 5.76s\n",
            "702:\tlearn: 0.0013025\ttotal: 13.6s\tremaining: 5.75s\n",
            "703:\tlearn: 0.0013025\ttotal: 13.6s\tremaining: 5.73s\n",
            "704:\tlearn: 0.0013025\ttotal: 13.6s\tremaining: 5.71s\n",
            "705:\tlearn: 0.0013025\ttotal: 13.7s\tremaining: 5.69s\n",
            "706:\tlearn: 0.0013025\ttotal: 13.7s\tremaining: 5.67s\n",
            "707:\tlearn: 0.0013024\ttotal: 13.7s\tremaining: 5.66s\n",
            "708:\tlearn: 0.0013024\ttotal: 13.7s\tremaining: 5.64s\n",
            "709:\tlearn: 0.0013024\ttotal: 13.8s\tremaining: 5.63s\n",
            "710:\tlearn: 0.0013025\ttotal: 13.8s\tremaining: 5.62s\n",
            "711:\tlearn: 0.0013024\ttotal: 13.8s\tremaining: 5.6s\n",
            "712:\tlearn: 0.0013024\ttotal: 13.9s\tremaining: 5.58s\n",
            "713:\tlearn: 0.0013024\ttotal: 13.9s\tremaining: 5.56s\n",
            "714:\tlearn: 0.0013024\ttotal: 13.9s\tremaining: 5.54s\n",
            "715:\tlearn: 0.0013024\ttotal: 13.9s\tremaining: 5.51s\n",
            "716:\tlearn: 0.0013024\ttotal: 13.9s\tremaining: 5.49s\n",
            "717:\tlearn: 0.0013024\ttotal: 13.9s\tremaining: 5.47s\n",
            "718:\tlearn: 0.0013024\ttotal: 14s\tremaining: 5.45s\n",
            "719:\tlearn: 0.0013024\ttotal: 14s\tremaining: 5.44s\n",
            "720:\tlearn: 0.0013024\ttotal: 14s\tremaining: 5.42s\n",
            "721:\tlearn: 0.0013024\ttotal: 14s\tremaining: 5.4s\n",
            "722:\tlearn: 0.0013024\ttotal: 14s\tremaining: 5.38s\n",
            "723:\tlearn: 0.0013024\ttotal: 14.1s\tremaining: 5.36s\n",
            "724:\tlearn: 0.0013024\ttotal: 14.1s\tremaining: 5.35s\n",
            "725:\tlearn: 0.0013024\ttotal: 14.1s\tremaining: 5.34s\n",
            "726:\tlearn: 0.0013024\ttotal: 14.2s\tremaining: 5.32s\n",
            "727:\tlearn: 0.0013024\ttotal: 14.2s\tremaining: 5.29s\n",
            "728:\tlearn: 0.0013024\ttotal: 14.2s\tremaining: 5.28s\n",
            "729:\tlearn: 0.0013024\ttotal: 14.2s\tremaining: 5.26s\n",
            "730:\tlearn: 0.0013024\ttotal: 14.3s\tremaining: 5.25s\n",
            "731:\tlearn: 0.0013024\ttotal: 14.3s\tremaining: 5.24s\n",
            "732:\tlearn: 0.0013024\ttotal: 14.3s\tremaining: 5.22s\n",
            "733:\tlearn: 0.0013024\ttotal: 14.4s\tremaining: 5.21s\n",
            "734:\tlearn: 0.0013024\ttotal: 14.4s\tremaining: 5.18s\n",
            "735:\tlearn: 0.0013024\ttotal: 14.4s\tremaining: 5.16s\n",
            "736:\tlearn: 0.0013024\ttotal: 14.4s\tremaining: 5.14s\n",
            "737:\tlearn: 0.0013024\ttotal: 14.4s\tremaining: 5.12s\n",
            "738:\tlearn: 0.0013024\ttotal: 14.4s\tremaining: 5.1s\n",
            "739:\tlearn: 0.0013024\ttotal: 14.5s\tremaining: 5.08s\n",
            "740:\tlearn: 0.0013024\ttotal: 14.5s\tremaining: 5.07s\n",
            "741:\tlearn: 0.0013024\ttotal: 14.5s\tremaining: 5.05s\n",
            "742:\tlearn: 0.0013024\ttotal: 14.5s\tremaining: 5.03s\n",
            "743:\tlearn: 0.0013024\ttotal: 14.6s\tremaining: 5.01s\n",
            "744:\tlearn: 0.0013024\ttotal: 14.6s\tremaining: 4.99s\n",
            "745:\tlearn: 0.0013024\ttotal: 14.6s\tremaining: 4.97s\n",
            "746:\tlearn: 0.0013024\ttotal: 14.6s\tremaining: 4.95s\n",
            "747:\tlearn: 0.0013024\ttotal: 14.6s\tremaining: 4.93s\n",
            "748:\tlearn: 0.0013024\ttotal: 14.6s\tremaining: 4.91s\n",
            "749:\tlearn: 0.0013024\ttotal: 14.7s\tremaining: 4.89s\n",
            "750:\tlearn: 0.0013024\ttotal: 14.7s\tremaining: 4.87s\n",
            "751:\tlearn: 0.0013024\ttotal: 14.7s\tremaining: 4.86s\n",
            "752:\tlearn: 0.0013024\ttotal: 14.7s\tremaining: 4.84s\n",
            "753:\tlearn: 0.0013024\ttotal: 14.8s\tremaining: 4.82s\n",
            "754:\tlearn: 0.0013024\ttotal: 14.8s\tremaining: 4.79s\n",
            "755:\tlearn: 0.0013024\ttotal: 14.8s\tremaining: 4.77s\n",
            "756:\tlearn: 0.0013024\ttotal: 14.8s\tremaining: 4.75s\n",
            "757:\tlearn: 0.0013024\ttotal: 14.8s\tremaining: 4.73s\n",
            "758:\tlearn: 0.0013024\ttotal: 14.8s\tremaining: 4.71s\n",
            "759:\tlearn: 0.0013024\ttotal: 14.9s\tremaining: 4.69s\n",
            "760:\tlearn: 0.0013024\ttotal: 14.9s\tremaining: 4.67s\n",
            "761:\tlearn: 0.0013024\ttotal: 14.9s\tremaining: 4.65s\n",
            "762:\tlearn: 0.0013024\ttotal: 14.9s\tremaining: 4.63s\n",
            "763:\tlearn: 0.0013024\ttotal: 14.9s\tremaining: 4.61s\n",
            "764:\tlearn: 0.0013024\ttotal: 15s\tremaining: 4.6s\n",
            "765:\tlearn: 0.0013024\ttotal: 15s\tremaining: 4.58s\n",
            "766:\tlearn: 0.0013024\ttotal: 15s\tremaining: 4.56s\n",
            "767:\tlearn: 0.0013024\ttotal: 15s\tremaining: 4.54s\n",
            "768:\tlearn: 0.0013024\ttotal: 15s\tremaining: 4.52s\n",
            "769:\tlearn: 0.0013024\ttotal: 15.1s\tremaining: 4.51s\n",
            "770:\tlearn: 0.0013024\ttotal: 15.1s\tremaining: 4.49s\n",
            "771:\tlearn: 0.0013024\ttotal: 15.1s\tremaining: 4.47s\n",
            "772:\tlearn: 0.0013024\ttotal: 15.2s\tremaining: 4.45s\n",
            "773:\tlearn: 0.0013024\ttotal: 15.2s\tremaining: 4.43s\n",
            "774:\tlearn: 0.0013024\ttotal: 15.2s\tremaining: 4.42s\n",
            "775:\tlearn: 0.0013024\ttotal: 15.3s\tremaining: 4.41s\n",
            "776:\tlearn: 0.0013023\ttotal: 15.3s\tremaining: 4.39s\n",
            "777:\tlearn: 0.0013024\ttotal: 15.3s\tremaining: 4.38s\n",
            "778:\tlearn: 0.0013023\ttotal: 15.4s\tremaining: 4.37s\n",
            "779:\tlearn: 0.0013023\ttotal: 15.4s\tremaining: 4.35s\n",
            "780:\tlearn: 0.0013023\ttotal: 15.5s\tremaining: 4.33s\n",
            "781:\tlearn: 0.0013023\ttotal: 15.5s\tremaining: 4.32s\n",
            "782:\tlearn: 0.0013023\ttotal: 15.5s\tremaining: 4.3s\n",
            "783:\tlearn: 0.0013023\ttotal: 15.6s\tremaining: 4.29s\n",
            "784:\tlearn: 0.0013023\ttotal: 15.6s\tremaining: 4.27s\n",
            "785:\tlearn: 0.0013023\ttotal: 15.6s\tremaining: 4.25s\n",
            "786:\tlearn: 0.0013023\ttotal: 15.7s\tremaining: 4.24s\n",
            "787:\tlearn: 0.0013023\ttotal: 15.7s\tremaining: 4.23s\n",
            "788:\tlearn: 0.0013023\ttotal: 15.7s\tremaining: 4.21s\n",
            "789:\tlearn: 0.0013023\ttotal: 15.7s\tremaining: 4.18s\n",
            "790:\tlearn: 0.0013023\ttotal: 15.8s\tremaining: 4.16s\n",
            "791:\tlearn: 0.0013023\ttotal: 15.8s\tremaining: 4.15s\n",
            "792:\tlearn: 0.0013023\ttotal: 15.8s\tremaining: 4.13s\n",
            "793:\tlearn: 0.0013023\ttotal: 15.8s\tremaining: 4.1s\n",
            "794:\tlearn: 0.0013023\ttotal: 15.8s\tremaining: 4.08s\n",
            "795:\tlearn: 0.0013023\ttotal: 15.8s\tremaining: 4.06s\n",
            "796:\tlearn: 0.0013023\ttotal: 15.9s\tremaining: 4.04s\n",
            "797:\tlearn: 0.0013023\ttotal: 15.9s\tremaining: 4.02s\n",
            "798:\tlearn: 0.0013023\ttotal: 15.9s\tremaining: 4s\n",
            "799:\tlearn: 0.0013023\ttotal: 16s\tremaining: 3.99s\n",
            "800:\tlearn: 0.0013023\ttotal: 16s\tremaining: 3.97s\n",
            "801:\tlearn: 0.0013023\ttotal: 16s\tremaining: 3.96s\n",
            "802:\tlearn: 0.0013023\ttotal: 16.1s\tremaining: 3.94s\n",
            "803:\tlearn: 0.0013023\ttotal: 16.1s\tremaining: 3.93s\n",
            "804:\tlearn: 0.0013023\ttotal: 16.2s\tremaining: 3.92s\n",
            "805:\tlearn: 0.0013023\ttotal: 16.2s\tremaining: 3.9s\n",
            "806:\tlearn: 0.0013023\ttotal: 16.2s\tremaining: 3.88s\n",
            "807:\tlearn: 0.0013023\ttotal: 16.3s\tremaining: 3.87s\n",
            "808:\tlearn: 0.0013023\ttotal: 16.3s\tremaining: 3.86s\n",
            "809:\tlearn: 0.0013023\ttotal: 16.4s\tremaining: 3.84s\n",
            "810:\tlearn: 0.0013023\ttotal: 16.4s\tremaining: 3.82s\n",
            "811:\tlearn: 0.0013023\ttotal: 16.4s\tremaining: 3.81s\n",
            "812:\tlearn: 0.0013023\ttotal: 16.5s\tremaining: 3.79s\n",
            "813:\tlearn: 0.0013022\ttotal: 16.5s\tremaining: 3.77s\n",
            "814:\tlearn: 0.0013023\ttotal: 16.5s\tremaining: 3.75s\n",
            "815:\tlearn: 0.0013022\ttotal: 16.5s\tremaining: 3.73s\n",
            "816:\tlearn: 0.0013022\ttotal: 16.5s\tremaining: 3.71s\n",
            "817:\tlearn: 0.0013022\ttotal: 16.6s\tremaining: 3.68s\n",
            "818:\tlearn: 0.0013022\ttotal: 16.6s\tremaining: 3.66s\n",
            "819:\tlearn: 0.0013022\ttotal: 16.6s\tremaining: 3.64s\n",
            "820:\tlearn: 0.0013022\ttotal: 16.6s\tremaining: 3.62s\n",
            "821:\tlearn: 0.0013022\ttotal: 16.7s\tremaining: 3.61s\n",
            "822:\tlearn: 0.0013022\ttotal: 16.7s\tremaining: 3.59s\n",
            "823:\tlearn: 0.0013022\ttotal: 16.8s\tremaining: 3.58s\n",
            "824:\tlearn: 0.0013022\ttotal: 16.8s\tremaining: 3.56s\n",
            "825:\tlearn: 0.0013022\ttotal: 16.8s\tremaining: 3.55s\n",
            "826:\tlearn: 0.0013022\ttotal: 16.9s\tremaining: 3.53s\n",
            "827:\tlearn: 0.0013022\ttotal: 16.9s\tremaining: 3.51s\n",
            "828:\tlearn: 0.0013022\ttotal: 16.9s\tremaining: 3.5s\n",
            "829:\tlearn: 0.0013022\ttotal: 17s\tremaining: 3.48s\n",
            "830:\tlearn: 0.0013022\ttotal: 17s\tremaining: 3.46s\n",
            "831:\tlearn: 0.0013022\ttotal: 17s\tremaining: 3.44s\n",
            "832:\tlearn: 0.0013022\ttotal: 17s\tremaining: 3.42s\n",
            "833:\tlearn: 0.0013022\ttotal: 17.1s\tremaining: 3.39s\n",
            "834:\tlearn: 0.0013022\ttotal: 17.1s\tremaining: 3.37s\n",
            "835:\tlearn: 0.0013022\ttotal: 17.1s\tremaining: 3.35s\n",
            "836:\tlearn: 0.0013022\ttotal: 17.1s\tremaining: 3.33s\n",
            "837:\tlearn: 0.0013022\ttotal: 17.1s\tremaining: 3.31s\n",
            "838:\tlearn: 0.0013022\ttotal: 17.1s\tremaining: 3.29s\n",
            "839:\tlearn: 0.0013022\ttotal: 17.2s\tremaining: 3.27s\n",
            "840:\tlearn: 0.0013022\ttotal: 17.2s\tremaining: 3.25s\n",
            "841:\tlearn: 0.0013022\ttotal: 17.2s\tremaining: 3.23s\n",
            "842:\tlearn: 0.0013022\ttotal: 17.2s\tremaining: 3.21s\n",
            "843:\tlearn: 0.0013022\ttotal: 17.3s\tremaining: 3.19s\n",
            "844:\tlearn: 0.0013022\ttotal: 17.3s\tremaining: 3.18s\n",
            "845:\tlearn: 0.0013022\ttotal: 17.4s\tremaining: 3.16s\n",
            "846:\tlearn: 0.0013022\ttotal: 17.4s\tremaining: 3.15s\n",
            "847:\tlearn: 0.0013022\ttotal: 17.4s\tremaining: 3.13s\n",
            "848:\tlearn: 0.0013022\ttotal: 17.5s\tremaining: 3.11s\n",
            "849:\tlearn: 0.0013022\ttotal: 17.5s\tremaining: 3.09s\n",
            "850:\tlearn: 0.0013022\ttotal: 17.5s\tremaining: 3.06s\n",
            "851:\tlearn: 0.0013022\ttotal: 17.5s\tremaining: 3.05s\n",
            "852:\tlearn: 0.0013022\ttotal: 17.6s\tremaining: 3.03s\n",
            "853:\tlearn: 0.0013022\ttotal: 17.6s\tremaining: 3.01s\n",
            "854:\tlearn: 0.0013022\ttotal: 17.6s\tremaining: 2.99s\n",
            "855:\tlearn: 0.0013022\ttotal: 17.7s\tremaining: 2.97s\n",
            "856:\tlearn: 0.0013022\ttotal: 17.7s\tremaining: 2.95s\n",
            "857:\tlearn: 0.0013022\ttotal: 17.7s\tremaining: 2.93s\n",
            "858:\tlearn: 0.0013022\ttotal: 17.7s\tremaining: 2.91s\n",
            "859:\tlearn: 0.0013022\ttotal: 17.7s\tremaining: 2.88s\n",
            "860:\tlearn: 0.0013022\ttotal: 17.7s\tremaining: 2.86s\n",
            "861:\tlearn: 0.0013022\ttotal: 17.8s\tremaining: 2.84s\n",
            "862:\tlearn: 0.0013022\ttotal: 17.8s\tremaining: 2.82s\n",
            "863:\tlearn: 0.0013022\ttotal: 17.8s\tremaining: 2.8s\n",
            "864:\tlearn: 0.0013022\ttotal: 17.8s\tremaining: 2.78s\n",
            "865:\tlearn: 0.0013022\ttotal: 17.9s\tremaining: 2.76s\n",
            "866:\tlearn: 0.0013022\ttotal: 17.9s\tremaining: 2.75s\n",
            "867:\tlearn: 0.0013022\ttotal: 17.9s\tremaining: 2.73s\n",
            "868:\tlearn: 0.0013022\ttotal: 18s\tremaining: 2.71s\n",
            "869:\tlearn: 0.0013022\ttotal: 18s\tremaining: 2.69s\n",
            "870:\tlearn: 0.0013022\ttotal: 18s\tremaining: 2.67s\n",
            "871:\tlearn: 0.0013022\ttotal: 18s\tremaining: 2.65s\n",
            "872:\tlearn: 0.0013022\ttotal: 18.1s\tremaining: 2.63s\n",
            "873:\tlearn: 0.0013022\ttotal: 18.1s\tremaining: 2.61s\n",
            "874:\tlearn: 0.0013022\ttotal: 18.2s\tremaining: 2.59s\n",
            "875:\tlearn: 0.0013022\ttotal: 18.2s\tremaining: 2.58s\n",
            "876:\tlearn: 0.0013022\ttotal: 18.2s\tremaining: 2.56s\n",
            "877:\tlearn: 0.0013021\ttotal: 18.3s\tremaining: 2.54s\n",
            "878:\tlearn: 0.0013021\ttotal: 18.3s\tremaining: 2.52s\n",
            "879:\tlearn: 0.0013021\ttotal: 18.3s\tremaining: 2.5s\n",
            "880:\tlearn: 0.0013021\ttotal: 18.4s\tremaining: 2.48s\n",
            "881:\tlearn: 0.0013021\ttotal: 18.4s\tremaining: 2.46s\n",
            "882:\tlearn: 0.0013021\ttotal: 18.4s\tremaining: 2.44s\n",
            "883:\tlearn: 0.0013021\ttotal: 18.5s\tremaining: 2.42s\n",
            "884:\tlearn: 0.0013021\ttotal: 18.5s\tremaining: 2.41s\n",
            "885:\tlearn: 0.0013022\ttotal: 18.6s\tremaining: 2.39s\n",
            "886:\tlearn: 0.0013021\ttotal: 18.6s\tremaining: 2.37s\n",
            "887:\tlearn: 0.0013021\ttotal: 18.6s\tremaining: 2.35s\n",
            "888:\tlearn: 0.0013021\ttotal: 18.7s\tremaining: 2.33s\n",
            "889:\tlearn: 0.0013021\ttotal: 18.7s\tremaining: 2.31s\n",
            "890:\tlearn: 0.0013021\ttotal: 18.7s\tremaining: 2.29s\n",
            "891:\tlearn: 0.0013021\ttotal: 18.7s\tremaining: 2.27s\n",
            "892:\tlearn: 0.0013021\ttotal: 18.8s\tremaining: 2.25s\n",
            "893:\tlearn: 0.0013021\ttotal: 18.8s\tremaining: 2.23s\n",
            "894:\tlearn: 0.0013021\ttotal: 18.8s\tremaining: 2.21s\n",
            "895:\tlearn: 0.0013021\ttotal: 18.9s\tremaining: 2.19s\n",
            "896:\tlearn: 0.0013021\ttotal: 18.9s\tremaining: 2.17s\n",
            "897:\tlearn: 0.0013021\ttotal: 18.9s\tremaining: 2.15s\n",
            "898:\tlearn: 0.0013021\ttotal: 18.9s\tremaining: 2.12s\n",
            "899:\tlearn: 0.0013021\ttotal: 18.9s\tremaining: 2.1s\n",
            "900:\tlearn: 0.0013021\ttotal: 18.9s\tremaining: 2.08s\n",
            "901:\tlearn: 0.0013021\ttotal: 18.9s\tremaining: 2.06s\n",
            "902:\tlearn: 0.0013021\ttotal: 19s\tremaining: 2.04s\n",
            "903:\tlearn: 0.0013021\ttotal: 19s\tremaining: 2.02s\n",
            "904:\tlearn: 0.0013021\ttotal: 19.1s\tremaining: 2s\n",
            "905:\tlearn: 0.0013021\ttotal: 19.1s\tremaining: 1.98s\n",
            "906:\tlearn: 0.0013021\ttotal: 19.1s\tremaining: 1.96s\n",
            "907:\tlearn: 0.0013021\ttotal: 19.1s\tremaining: 1.94s\n",
            "908:\tlearn: 0.0013021\ttotal: 19.1s\tremaining: 1.92s\n",
            "909:\tlearn: 0.0013021\ttotal: 19.2s\tremaining: 1.9s\n",
            "910:\tlearn: 0.0013021\ttotal: 19.2s\tremaining: 1.87s\n",
            "911:\tlearn: 0.0013021\ttotal: 19.2s\tremaining: 1.85s\n",
            "912:\tlearn: 0.0013021\ttotal: 19.2s\tremaining: 1.83s\n",
            "913:\tlearn: 0.0013021\ttotal: 19.2s\tremaining: 1.81s\n",
            "914:\tlearn: 0.0013021\ttotal: 19.3s\tremaining: 1.79s\n",
            "915:\tlearn: 0.0013021\ttotal: 19.3s\tremaining: 1.77s\n",
            "916:\tlearn: 0.0013021\ttotal: 19.3s\tremaining: 1.75s\n",
            "917:\tlearn: 0.0013021\ttotal: 19.3s\tremaining: 1.73s\n",
            "918:\tlearn: 0.0013021\ttotal: 19.4s\tremaining: 1.71s\n",
            "919:\tlearn: 0.0013021\ttotal: 19.4s\tremaining: 1.69s\n",
            "920:\tlearn: 0.0013021\ttotal: 19.5s\tremaining: 1.67s\n",
            "921:\tlearn: 0.0013021\ttotal: 19.5s\tremaining: 1.65s\n",
            "922:\tlearn: 0.0013021\ttotal: 19.5s\tremaining: 1.63s\n",
            "923:\tlearn: 0.0013021\ttotal: 19.6s\tremaining: 1.61s\n",
            "924:\tlearn: 0.0013021\ttotal: 19.6s\tremaining: 1.59s\n",
            "925:\tlearn: 0.0013021\ttotal: 19.6s\tremaining: 1.57s\n",
            "926:\tlearn: 0.0013021\ttotal: 19.7s\tremaining: 1.55s\n",
            "927:\tlearn: 0.0013021\ttotal: 19.7s\tremaining: 1.53s\n",
            "928:\tlearn: 0.0013021\ttotal: 19.7s\tremaining: 1.51s\n",
            "929:\tlearn: 0.0013021\ttotal: 19.7s\tremaining: 1.48s\n",
            "930:\tlearn: 0.0013021\ttotal: 19.7s\tremaining: 1.46s\n",
            "931:\tlearn: 0.0013021\ttotal: 19.8s\tremaining: 1.44s\n",
            "932:\tlearn: 0.0013021\ttotal: 19.8s\tremaining: 1.42s\n",
            "933:\tlearn: 0.0013021\ttotal: 19.8s\tremaining: 1.4s\n",
            "934:\tlearn: 0.0013021\ttotal: 19.8s\tremaining: 1.38s\n",
            "935:\tlearn: 0.0013021\ttotal: 19.8s\tremaining: 1.36s\n",
            "936:\tlearn: 0.0013021\ttotal: 19.9s\tremaining: 1.33s\n",
            "937:\tlearn: 0.0013021\ttotal: 19.9s\tremaining: 1.31s\n",
            "938:\tlearn: 0.0013021\ttotal: 19.9s\tremaining: 1.29s\n",
            "939:\tlearn: 0.0013020\ttotal: 19.9s\tremaining: 1.27s\n",
            "940:\tlearn: 0.0013021\ttotal: 20s\tremaining: 1.25s\n",
            "941:\tlearn: 0.0013021\ttotal: 20s\tremaining: 1.23s\n",
            "942:\tlearn: 0.0013020\ttotal: 20s\tremaining: 1.21s\n",
            "943:\tlearn: 0.0013021\ttotal: 20s\tremaining: 1.19s\n",
            "944:\tlearn: 0.0013020\ttotal: 20.1s\tremaining: 1.17s\n",
            "945:\tlearn: 0.0013020\ttotal: 20.1s\tremaining: 1.15s\n",
            "946:\tlearn: 0.0013020\ttotal: 20.1s\tremaining: 1.13s\n",
            "947:\tlearn: 0.0013020\ttotal: 20.2s\tremaining: 1.11s\n",
            "948:\tlearn: 0.0013020\ttotal: 20.2s\tremaining: 1.09s\n",
            "949:\tlearn: 0.0013020\ttotal: 20.3s\tremaining: 1.07s\n",
            "950:\tlearn: 0.0013020\ttotal: 20.3s\tremaining: 1.05s\n",
            "951:\tlearn: 0.0013020\ttotal: 20.4s\tremaining: 1.03s\n",
            "952:\tlearn: 0.0013020\ttotal: 20.4s\tremaining: 1.01s\n",
            "953:\tlearn: 0.0013020\ttotal: 20.5s\tremaining: 987ms\n",
            "954:\tlearn: 0.0013020\ttotal: 20.5s\tremaining: 965ms\n",
            "955:\tlearn: 0.0013020\ttotal: 20.5s\tremaining: 943ms\n",
            "956:\tlearn: 0.0013020\ttotal: 20.5s\tremaining: 921ms\n",
            "957:\tlearn: 0.0013020\ttotal: 20.5s\tremaining: 900ms\n",
            "958:\tlearn: 0.0013020\ttotal: 20.5s\tremaining: 879ms\n",
            "959:\tlearn: 0.0013020\ttotal: 20.6s\tremaining: 857ms\n",
            "960:\tlearn: 0.0013020\ttotal: 20.6s\tremaining: 837ms\n",
            "961:\tlearn: 0.0013020\ttotal: 20.7s\tremaining: 816ms\n",
            "962:\tlearn: 0.0013020\ttotal: 20.7s\tremaining: 795ms\n",
            "963:\tlearn: 0.0013020\ttotal: 20.7s\tremaining: 774ms\n",
            "964:\tlearn: 0.0013020\ttotal: 20.7s\tremaining: 752ms\n",
            "965:\tlearn: 0.0013020\ttotal: 20.8s\tremaining: 731ms\n",
            "966:\tlearn: 0.0013020\ttotal: 20.8s\tremaining: 709ms\n",
            "967:\tlearn: 0.0013020\ttotal: 20.8s\tremaining: 687ms\n",
            "968:\tlearn: 0.0013020\ttotal: 20.8s\tremaining: 666ms\n",
            "969:\tlearn: 0.0013020\ttotal: 20.8s\tremaining: 644ms\n",
            "970:\tlearn: 0.0013020\ttotal: 20.8s\tremaining: 623ms\n",
            "971:\tlearn: 0.0013020\ttotal: 20.9s\tremaining: 601ms\n",
            "972:\tlearn: 0.0013020\ttotal: 20.9s\tremaining: 580ms\n",
            "973:\tlearn: 0.0013020\ttotal: 20.9s\tremaining: 559ms\n",
            "974:\tlearn: 0.0013020\ttotal: 20.9s\tremaining: 537ms\n",
            "975:\tlearn: 0.0013020\ttotal: 21s\tremaining: 516ms\n",
            "976:\tlearn: 0.0013020\ttotal: 21s\tremaining: 494ms\n",
            "977:\tlearn: 0.0013020\ttotal: 21s\tremaining: 473ms\n",
            "978:\tlearn: 0.0013020\ttotal: 21.1s\tremaining: 452ms\n",
            "979:\tlearn: 0.0013019\ttotal: 21.1s\tremaining: 430ms\n",
            "980:\tlearn: 0.0013020\ttotal: 21.1s\tremaining: 408ms\n",
            "981:\tlearn: 0.0013019\ttotal: 21.1s\tremaining: 387ms\n",
            "982:\tlearn: 0.0013019\ttotal: 21.2s\tremaining: 366ms\n",
            "983:\tlearn: 0.0013019\ttotal: 21.2s\tremaining: 345ms\n",
            "984:\tlearn: 0.0013019\ttotal: 21.2s\tremaining: 323ms\n",
            "985:\tlearn: 0.0013019\ttotal: 21.3s\tremaining: 302ms\n",
            "986:\tlearn: 0.0013019\ttotal: 21.3s\tremaining: 281ms\n",
            "987:\tlearn: 0.0013019\ttotal: 21.4s\tremaining: 259ms\n",
            "988:\tlearn: 0.0013019\ttotal: 21.4s\tremaining: 238ms\n",
            "989:\tlearn: 0.0013019\ttotal: 21.4s\tremaining: 216ms\n",
            "990:\tlearn: 0.0013019\ttotal: 21.4s\tremaining: 194ms\n",
            "991:\tlearn: 0.0013019\ttotal: 21.4s\tremaining: 173ms\n",
            "992:\tlearn: 0.0013019\ttotal: 21.4s\tremaining: 151ms\n",
            "993:\tlearn: 0.0013019\ttotal: 21.5s\tremaining: 130ms\n",
            "994:\tlearn: 0.0013019\ttotal: 21.5s\tremaining: 108ms\n",
            "995:\tlearn: 0.0013019\ttotal: 21.5s\tremaining: 86.4ms\n",
            "996:\tlearn: 0.0013019\ttotal: 21.5s\tremaining: 64.8ms\n",
            "997:\tlearn: 0.0013019\ttotal: 21.6s\tremaining: 43.2ms\n",
            "998:\tlearn: 0.0013019\ttotal: 21.6s\tremaining: 21.6ms\n",
            "999:\tlearn: 0.0013019\ttotal: 21.6s\tremaining: 0us\n"
          ]
        },
        {
          "output_type": "execute_result",
          "data": {
            "text/plain": [
              "<catboost.core.CatBoostClassifier at 0x7f9ed1c21cd0>"
            ]
          },
          "metadata": {},
          "execution_count": 159
        }
      ],
      "source": [
        "model_CBC.fit(X_Train, Y_Train)"
      ]
    },
    {
      "cell_type": "code",
      "execution_count": null,
      "metadata": {
        "id": "1_11_xli1zSj"
      },
      "outputs": [],
      "source": [
        "predicted_y = model_CBC.predict(X_Test)"
      ]
    },
    {
      "cell_type": "code",
      "execution_count": null,
      "metadata": {
        "colab": {
          "base_uri": "https://localhost:8080/"
        },
        "outputId": "16c50ca4-fc60-4310-a224-2a944abec58a",
        "id": "2Up_uhPE1zSj"
      },
      "outputs": [
        {
          "output_type": "stream",
          "name": "stdout",
          "text": [
            "[[3240    0]\n",
            " [   1 1759]]\n"
          ]
        }
      ],
      "source": [
        "cm = confusion_matrix(Y_Test, predicted_y)\n",
        "print(cm)"
      ]
    },
    {
      "cell_type": "code",
      "execution_count": null,
      "metadata": {
        "colab": {
          "base_uri": "https://localhost:8080/",
          "height": 341
        },
        "outputId": "0fc14bec-1a97-4660-caed-ad5a569a075d",
        "id": "BFSs4FUv1zSk"
      },
      "outputs": [
        {
          "output_type": "execute_result",
          "data": {
            "text/plain": [
              "<matplotlib.axes._subplots.AxesSubplot at 0x7f9ed1907990>"
            ]
          },
          "metadata": {},
          "execution_count": 162
        },
        {
          "output_type": "display_data",
          "data": {
            "text/plain": [
              "<Figure size 576x360 with 2 Axes>"
            ],
            "image/png": "[encoded data removed]"
          },
          "metadata": {
            "needs_background": "light"
          }
        }
      ],
      "source": [
        "import matplotlib.pyplot as plt\n",
        "import seaborn as sn\n",
        "\n",
        "conf_matrix=pd.DataFrame(data=cm,columns=['Predicted:0','Predicted:1'],index=['Actual:0','Actual:1'])\n",
        "plt.figure(figsize = (8,5))\n",
        "sn.heatmap(conf_matrix, annot=True,fmt='d')"
      ]
    },
    {
      "cell_type": "code",
      "execution_count": null,
      "metadata": {
        "colab": {
          "base_uri": "https://localhost:8080/"
        },
        "outputId": "ea34d04e-d446-45bf-eef3-3ee69dbf5cea",
        "id": "ygZeUzHZ1zSk"
      },
      "outputs": [
        {
          "output_type": "stream",
          "name": "stdout",
          "text": [
            "0.9998\n"
          ]
        }
      ],
      "source": [
        "cat_acc=sklearn.metrics.accuracy_score(Y_Test,predicted_y)\n",
        "print(cat_acc)"
      ]
    },
    {
      "cell_type": "code",
      "execution_count": null,
      "metadata": {
        "colab": {
          "base_uri": "https://localhost:8080/",
          "height": 269
        },
        "outputId": "5ef04119-857e-4947-f5ac-b657287f4aa2",
        "id": "5apZ33d81zSk"
      },
      "outputs": [
        {
          "output_type": "display_data",
          "data": {
            "text/plain": [
              "<Figure size 432x288 with 1 Axes>"
            ],
            "image/png": "[encoded data removed]"
          },
          "metadata": {
            "needs_background": "light"
          }
        }
      ],
      "source": [
        "ypoints = np.array([xg_acc*100,et_acc*100,rf_acc*100,cat_acc*100])\n",
        "xpoints=np.array([\"XG Boost\",\"Extra Tree\",\"Random Forest\",\"Cat Boost\"])\n",
        "plt.plot(xpoints,ypoints,'o-r')\n",
        "plt.show()"
      ]
    }
  ]
}